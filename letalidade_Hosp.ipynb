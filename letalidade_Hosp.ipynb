{
 "cells": [
  {
   "cell_type": "code",
   "execution_count": 1,
   "metadata": {},
   "outputs": [],
   "source": [
    "import pandas as pd\n",
    "import numpy as np\n",
    "import matplotlib.pyplot as plt\n",
    "import datetime as dt\n",
    "import seaborn as sns"
   ]
  },
  {
   "cell_type": "code",
   "execution_count": 2,
   "metadata": {},
   "outputs": [],
   "source": [
    "dados = pd.read_excel('Banco SIVEP 22_09_2022 07_32_38.xlsx')"
   ]
  },
  {
   "cell_type": "code",
   "execution_count": 3,
   "metadata": {},
   "outputs": [],
   "source": [
    "dados['pos_pcrflu'] = dados['pos_pcrflu'].map({1:'Sim',2:'Nao',9:'Ignorado'})"
   ]
  },
  {
   "cell_type": "code",
   "execution_count": 4,
   "metadata": {},
   "outputs": [],
   "source": [
    "dados['tp_flu_pcr'] = dados['tp_flu_pcr'].map({1:'Influenza',2:'Influenza'})"
   ]
  },
  {
   "cell_type": "code",
   "execution_count": 5,
   "metadata": {},
   "outputs": [],
   "source": [
    "dados['pcr_fluasu'] = dados['pcr_fluasu'].map({1:'Influenza A(H1N1)pdm09',2:'Influenza A(H3N2)',3:'Influenza A nao subtipado',\n",
    "4:'Influenza A nao subtipavel',5:'Inconclusivo',6:'Outro'})"
   ]
  },
  {
   "cell_type": "code",
   "execution_count": 19,
   "metadata": {},
   "outputs": [],
   "source": [
    "filtro = dados[['Competencia Evolucao','Houve internacao','Classificacao final','Evolucao','pos_pcrflu','tp_flu_pcr','pcr_fluasu',\"pcr_vsr\"]]"
   ]
  },
  {
   "cell_type": "code",
   "execution_count": 18,
   "metadata": {},
   "outputs": [
    {
     "data": {
      "text/html": [
       "<div>\n",
       "<style scoped>\n",
       "    .dataframe tbody tr th:only-of-type {\n",
       "        vertical-align: middle;\n",
       "    }\n",
       "\n",
       "    .dataframe tbody tr th {\n",
       "        vertical-align: top;\n",
       "    }\n",
       "\n",
       "    .dataframe thead th {\n",
       "        text-align: right;\n",
       "    }\n",
       "</style>\n",
       "<table border=\"1\" class=\"dataframe\">\n",
       "  <thead>\n",
       "    <tr style=\"text-align: right;\">\n",
       "      <th></th>\n",
       "      <th>Houve internacao</th>\n",
       "      <th>Classificacao final</th>\n",
       "      <th>Evolucao</th>\n",
       "      <th>pos_pcrflu</th>\n",
       "      <th>tp_flu_pcr</th>\n",
       "      <th>pcr_fluasu</th>\n",
       "      <th>pcr_vsr</th>\n",
       "      <th>Calculo</th>\n",
       "    </tr>\n",
       "    <tr>\n",
       "      <th>Competencia Evolucao</th>\n",
       "      <th></th>\n",
       "      <th></th>\n",
       "      <th></th>\n",
       "      <th></th>\n",
       "      <th></th>\n",
       "      <th></th>\n",
       "      <th></th>\n",
       "      <th></th>\n",
       "    </tr>\n",
       "  </thead>\n",
       "  <tbody>\n",
       "    <tr>\n",
       "      <th>2020_01</th>\n",
       "      <td>17</td>\n",
       "      <td>17</td>\n",
       "      <td>17</td>\n",
       "      <td>1</td>\n",
       "      <td>1</td>\n",
       "      <td>0</td>\n",
       "      <td>0</td>\n",
       "      <td>1</td>\n",
       "    </tr>\n",
       "    <tr>\n",
       "      <th>2020_02</th>\n",
       "      <td>17</td>\n",
       "      <td>17</td>\n",
       "      <td>17</td>\n",
       "      <td>0</td>\n",
       "      <td>0</td>\n",
       "      <td>0</td>\n",
       "      <td>0</td>\n",
       "      <td>0</td>\n",
       "    </tr>\n",
       "    <tr>\n",
       "      <th>2020_03</th>\n",
       "      <td>97</td>\n",
       "      <td>97</td>\n",
       "      <td>97</td>\n",
       "      <td>4</td>\n",
       "      <td>1</td>\n",
       "      <td>1</td>\n",
       "      <td>0</td>\n",
       "      <td>4</td>\n",
       "    </tr>\n",
       "    <tr>\n",
       "      <th>2020_04</th>\n",
       "      <td>363</td>\n",
       "      <td>363</td>\n",
       "      <td>363</td>\n",
       "      <td>20</td>\n",
       "      <td>0</td>\n",
       "      <td>0</td>\n",
       "      <td>0</td>\n",
       "      <td>20</td>\n",
       "    </tr>\n",
       "    <tr>\n",
       "      <th>2020_05</th>\n",
       "      <td>656</td>\n",
       "      <td>656</td>\n",
       "      <td>656</td>\n",
       "      <td>56</td>\n",
       "      <td>0</td>\n",
       "      <td>0</td>\n",
       "      <td>1</td>\n",
       "      <td>57</td>\n",
       "    </tr>\n",
       "  </tbody>\n",
       "</table>\n",
       "</div>"
      ],
      "text/plain": [
       "                      Houve internacao  Classificacao final  Evolucao  \\\n",
       "Competencia Evolucao                                                    \n",
       "2020_01                             17                   17        17   \n",
       "2020_02                             17                   17        17   \n",
       "2020_03                             97                   97        97   \n",
       "2020_04                            363                  363       363   \n",
       "2020_05                            656                  656       656   \n",
       "\n",
       "                      pos_pcrflu  tp_flu_pcr  pcr_fluasu  pcr_vsr  Calculo  \n",
       "Competencia Evolucao                                                        \n",
       "2020_01                        1           1           0        0        1  \n",
       "2020_02                        0           0           0        0        0  \n",
       "2020_03                        4           1           1        0        4  \n",
       "2020_04                       20           0           0        0       20  \n",
       "2020_05                       56           0           0        1       57  "
      ]
     },
     "execution_count": 18,
     "metadata": {},
     "output_type": "execute_result"
    }
   ],
   "source": [
    "numerador = filtro.loc[filtro['Evolucao']=='Óbito']\n",
    "numerador = numerador.loc[numerador['Houve internacao']=='Sim']\n",
    "numerador = numerador.groupby('Competencia Evolucao').count()\n",
    "numerador['Calculo'] = numerador['pos_pcrflu'] + numerador['pcr_vsr']\n",
    "numerador.head()"
   ]
  },
  {
   "cell_type": "code",
   "execution_count": 20,
   "metadata": {},
   "outputs": [
    {
     "name": "stderr",
     "output_type": "stream",
     "text": [
      "C:\\Users\\ryan-rosa\\AppData\\Local\\Temp\\ipykernel_47256\\3704925247.py:2: SettingWithCopyWarning: \n",
      "A value is trying to be set on a copy of a slice from a DataFrame.\n",
      "Try using .loc[row_indexer,col_indexer] = value instead\n",
      "\n",
      "See the caveats in the documentation: https://pandas.pydata.org/pandas-docs/stable/user_guide/indexing.html#returning-a-view-versus-a-copy\n",
      "  denominador['Evolucao'] = denominador['Evolucao'].map({'Óbito':'Óbito/Cura','Cura':'Óbito/Cura'}) #Vai substituir onde esta Óbito ou Cura por Óbito/Cura, para dps podermos pegar so as linhas que interessam\n"
     ]
    },
    {
     "data": {
      "text/html": [
       "<div>\n",
       "<style scoped>\n",
       "    .dataframe tbody tr th:only-of-type {\n",
       "        vertical-align: middle;\n",
       "    }\n",
       "\n",
       "    .dataframe tbody tr th {\n",
       "        vertical-align: top;\n",
       "    }\n",
       "\n",
       "    .dataframe thead th {\n",
       "        text-align: right;\n",
       "    }\n",
       "</style>\n",
       "<table border=\"1\" class=\"dataframe\">\n",
       "  <thead>\n",
       "    <tr style=\"text-align: right;\">\n",
       "      <th></th>\n",
       "      <th>Houve internacao</th>\n",
       "      <th>Classificacao final</th>\n",
       "      <th>Evolucao</th>\n",
       "      <th>pos_pcrflu</th>\n",
       "      <th>tp_flu_pcr</th>\n",
       "      <th>pcr_fluasu</th>\n",
       "      <th>pcr_vsr</th>\n",
       "      <th>Calculo</th>\n",
       "    </tr>\n",
       "    <tr>\n",
       "      <th>Competencia Evolucao</th>\n",
       "      <th></th>\n",
       "      <th></th>\n",
       "      <th></th>\n",
       "      <th></th>\n",
       "      <th></th>\n",
       "      <th></th>\n",
       "      <th></th>\n",
       "      <th></th>\n",
       "    </tr>\n",
       "  </thead>\n",
       "  <tbody>\n",
       "    <tr>\n",
       "      <th>2020_01</th>\n",
       "      <td>57</td>\n",
       "      <td>57</td>\n",
       "      <td>57</td>\n",
       "      <td>4</td>\n",
       "      <td>4</td>\n",
       "      <td>1</td>\n",
       "      <td>0</td>\n",
       "      <td>4</td>\n",
       "    </tr>\n",
       "    <tr>\n",
       "      <th>2020_02</th>\n",
       "      <td>82</td>\n",
       "      <td>82</td>\n",
       "      <td>82</td>\n",
       "      <td>5</td>\n",
       "      <td>4</td>\n",
       "      <td>3</td>\n",
       "      <td>0</td>\n",
       "      <td>5</td>\n",
       "    </tr>\n",
       "    <tr>\n",
       "      <th>2020_03</th>\n",
       "      <td>557</td>\n",
       "      <td>557</td>\n",
       "      <td>557</td>\n",
       "      <td>29</td>\n",
       "      <td>3</td>\n",
       "      <td>3</td>\n",
       "      <td>0</td>\n",
       "      <td>29</td>\n",
       "    </tr>\n",
       "    <tr>\n",
       "      <th>2020_04</th>\n",
       "      <td>2187</td>\n",
       "      <td>2187</td>\n",
       "      <td>2187</td>\n",
       "      <td>150</td>\n",
       "      <td>1</td>\n",
       "      <td>0</td>\n",
       "      <td>2</td>\n",
       "      <td>152</td>\n",
       "    </tr>\n",
       "    <tr>\n",
       "      <th>2020_05</th>\n",
       "      <td>3202</td>\n",
       "      <td>3202</td>\n",
       "      <td>3202</td>\n",
       "      <td>317</td>\n",
       "      <td>1</td>\n",
       "      <td>0</td>\n",
       "      <td>1</td>\n",
       "      <td>318</td>\n",
       "    </tr>\n",
       "  </tbody>\n",
       "</table>\n",
       "</div>"
      ],
      "text/plain": [
       "                      Houve internacao  Classificacao final  Evolucao  \\\n",
       "Competencia Evolucao                                                    \n",
       "2020_01                             57                   57        57   \n",
       "2020_02                             82                   82        82   \n",
       "2020_03                            557                  557       557   \n",
       "2020_04                           2187                 2187      2187   \n",
       "2020_05                           3202                 3202      3202   \n",
       "\n",
       "                      pos_pcrflu  tp_flu_pcr  pcr_fluasu  pcr_vsr  Calculo  \n",
       "Competencia Evolucao                                                        \n",
       "2020_01                        4           4           1        0        4  \n",
       "2020_02                        5           4           3        0        5  \n",
       "2020_03                       29           3           3        0       29  \n",
       "2020_04                      150           1           0        2      152  \n",
       "2020_05                      317           1           0        1      318  "
      ]
     },
     "execution_count": 20,
     "metadata": {},
     "output_type": "execute_result"
    }
   ],
   "source": [
    "denominador = filtro\n",
    "denominador['Evolucao'] = denominador['Evolucao'].map({'Óbito':'Óbito/Cura','Cura':'Óbito/Cura'}) #Vai substituir onde esta Óbito ou Cura por Óbito/Cura, para dps podermos pegar so as linhas que interessam\n",
    "denominador = denominador.loc[denominador['Evolucao']=='Óbito/Cura']\n",
    "denominador = denominador.loc[denominador['Houve internacao']=='Sim']\n",
    "denominador = denominador.groupby('Competencia Evolucao').count()\n",
    "denominador['Calculo'] = denominador['pos_pcrflu'] + denominador['pcr_vsr']\n",
    "denominador.head()"
   ]
  },
  {
   "cell_type": "code",
   "execution_count": 22,
   "metadata": {},
   "outputs": [
    {
     "data": {
      "text/html": [
       "<div>\n",
       "<style scoped>\n",
       "    .dataframe tbody tr th:only-of-type {\n",
       "        vertical-align: middle;\n",
       "    }\n",
       "\n",
       "    .dataframe tbody tr th {\n",
       "        vertical-align: top;\n",
       "    }\n",
       "\n",
       "    .dataframe thead th {\n",
       "        text-align: right;\n",
       "    }\n",
       "</style>\n",
       "<table border=\"1\" class=\"dataframe\">\n",
       "  <thead>\n",
       "    <tr style=\"text-align: right;\">\n",
       "      <th></th>\n",
       "      <th>Competencia Evolucao</th>\n",
       "      <th>Calculo</th>\n",
       "    </tr>\n",
       "  </thead>\n",
       "  <tbody>\n",
       "    <tr>\n",
       "      <th>0</th>\n",
       "      <td>2020_01</td>\n",
       "      <td>25.000000</td>\n",
       "    </tr>\n",
       "    <tr>\n",
       "      <th>1</th>\n",
       "      <td>2020_02</td>\n",
       "      <td>0.000000</td>\n",
       "    </tr>\n",
       "    <tr>\n",
       "      <th>2</th>\n",
       "      <td>2020_03</td>\n",
       "      <td>13.793103</td>\n",
       "    </tr>\n",
       "    <tr>\n",
       "      <th>3</th>\n",
       "      <td>2020_04</td>\n",
       "      <td>13.157895</td>\n",
       "    </tr>\n",
       "    <tr>\n",
       "      <th>4</th>\n",
       "      <td>2020_05</td>\n",
       "      <td>17.924528</td>\n",
       "    </tr>\n",
       "  </tbody>\n",
       "</table>\n",
       "</div>"
      ],
      "text/plain": [
       "  Competencia Evolucao    Calculo\n",
       "0              2020_01  25.000000\n",
       "1              2020_02   0.000000\n",
       "2              2020_03  13.793103\n",
       "3              2020_04  13.157895\n",
       "4              2020_05  17.924528"
      ]
     },
     "execution_count": 22,
     "metadata": {},
     "output_type": "execute_result"
    }
   ],
   "source": [
    "calculo = numerador['Calculo']/denominador['Calculo']*100\n",
    "calculo = calculo.to_frame()\n",
    "calculo = calculo.reset_index()\n",
    "calculo.head()"
   ]
  },
  {
   "cell_type": "code",
   "execution_count": 24,
   "metadata": {},
   "outputs": [],
   "source": [
    "semana = calculo['Competencia Evolucao']"
   ]
  },
  {
   "cell_type": "code",
   "execution_count": 26,
   "metadata": {},
   "outputs": [],
   "source": [
    "eixo_y = calculo['Calculo']"
   ]
  },
  {
   "cell_type": "code",
   "execution_count": 27,
   "metadata": {},
   "outputs": [
    {
     "data": {
      "text/plain": [
       "[Text(0, 0, '0%'),\n",
       " Text(0, 10, '10%'),\n",
       " Text(0, 20, '20%'),\n",
       " Text(0, 30, '30%'),\n",
       " Text(0, 40, '40%'),\n",
       " Text(0, 50, '50%'),\n",
       " Text(0, 60, '60%'),\n",
       " Text(0, 70, '70%')]"
      ]
     },
     "execution_count": 27,
     "metadata": {},
     "output_type": "execute_result"
    },
    {
     "data": {
      "image/png": "[encoded data removed]",
      "text/plain": [
       "<Figure size 2160x720 with 1 Axes>"
      ]
     },
     "metadata": {
      "needs_background": "light"
     },
     "output_type": "display_data"
    }
   ],
   "source": [
    "plt.figure(figsize=(30,10))\n",
    "plt.bar(semana,eixo_y,color='#8a3e4b',edgecolor='#000000')\n",
    "sns.despine()\n",
    "plt.xticks(rotation=90,fontsize=20)\n",
    "plt.yticks(np.arange(0,80,10),fontsize=20)\n",
    "plt.xlabel('Mês da evolução',fontsize=25,labelpad=25)\n",
    "plt.ylabel('Letalidade hospitalar',fontsize=25,labelpad=25)\n",
    "plt.gca().set_yticklabels(['{:.0f}%'.format(x*1) for x in plt.gca().get_yticks()])\n",
    "#plt.savefig(f'Z:/Graficos Boletim_Python/{ultima_pasta}/Slide8.png',dpi=720,bbox_inches='tight')"
   ]
  }
 ],
 "metadata": {
  "kernelspec": {
   "display_name": "Python 3.10.0 64-bit",
   "language": "python",
   "name": "python3"
  },
  "language_info": {
   "codemirror_mode": {
    "name": "ipython",
    "version": 3
   },
   "file_extension": ".py",
   "mimetype": "text/x-python",
   "name": "python",
   "nbconvert_exporter": "python",
   "pygments_lexer": "ipython3",
   "version": "3.10.0"
  },
  "orig_nbformat": 4,
  "vscode": {
   "interpreter": {
    "hash": "bab64de6913f9d892cab042fb55157f5f55bf59b9a4c4b73d499c1b88080ca0d"
   }
  }
 },
 "nbformat": 4,
 "nbformat_minor": 2
}
