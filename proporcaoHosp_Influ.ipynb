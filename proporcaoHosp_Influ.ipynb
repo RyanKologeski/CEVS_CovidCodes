{
 "cells": [
  {
   "cell_type": "code",
   "execution_count": 1,
   "metadata": {},
   "outputs": [],
   "source": [
    "import pandas as pd\n",
    "from pandas import DataFrame\n",
    "import matplotlib.pyplot as plt\n",
    "import numpy as np\n",
    "import os\n",
    "from datetime import date\n",
    "import datetime\n",
    "from pathlib import Path\n",
    "import seaborn as sns"
   ]
  },
  {
   "cell_type": "code",
   "execution_count": 2,
   "metadata": {},
   "outputs": [
    {
     "data": {
      "text/plain": [
       "'Banco SIVEP 21_11_2022 07_32_59.xlsx'"
      ]
     },
     "execution_count": 2,
     "metadata": {},
     "output_type": "execute_result"
    }
   ],
   "source": [
    "caminho = r'Z:\\Banco SIVEP Exportação'\n",
    "lista_arquivos = os.listdir(caminho)\n",
    "lista_datas = []\n",
    "\n",
    "for arquivo in lista_arquivos:\n",
    "    #Descobrir a data desse arquivo\n",
    "    data = os.path.getmtime(f'{caminho}/{arquivo}')\n",
    "    lista_datas.append((data,arquivo))\n",
    "\n",
    "lista_datas.sort(reverse=True) #Vai ordenar a lista em ordem decrescente com reverse=True Obs: Ele ordena sempre com o primeiro valor, por isso colocamos data antes de arquivo\n",
    "ultimo_arquivo = lista_datas[0][1] #Pega o ultimo arquivo\n",
    "ultimo_arquivo"
   ]
  },
  {
   "cell_type": "code",
   "execution_count": 3,
   "metadata": {},
   "outputs": [],
   "source": [
    "if not os.path.exists(f'Z:\\Graficos Boletim_Python/Gráficos {date.today().day}_{date.today().month}_{date.today().year}'):\n",
    "    os.makedirs(f'Z:\\Graficos Boletim_Python/Gráficos {date.today().day}_{date.today().month}_{date.today().year}')"
   ]
  },
  {
   "cell_type": "code",
   "execution_count": 4,
   "metadata": {},
   "outputs": [],
   "source": [
    "dados = pd.read_excel(f'{caminho}/{ultimo_arquivo}')\n",
    "#dados = pd.read_excel('Z:/Banco SIVEP Exportação/Banco SIVEP 30_05_2022 09_48_25.xlsx')"
   ]
  },
  {
   "cell_type": "code",
   "execution_count": 5,
   "metadata": {},
   "outputs": [],
   "source": [
    "dados['pos_pcrflu'] = dados['pos_pcrflu'].map({1:'Sim',2:'Nao',9:'Ignorado'})"
   ]
  },
  {
   "cell_type": "code",
   "execution_count": 6,
   "metadata": {},
   "outputs": [],
   "source": [
    "dados['tp_flu_pcr'] = dados['tp_flu_pcr'].map({1:'Influenza',2:'Influenza'})"
   ]
  },
  {
   "cell_type": "code",
   "execution_count": 7,
   "metadata": {},
   "outputs": [],
   "source": [
    "dados['pcr_fluasu'] = dados['pcr_fluasu'].map({1:'Influenza A(H1N1)pdm09',2:'Influenza A(H3N2)',3:'Influenza A nao subtipado',\n",
    "4:'Influenza A nao subtipavel',5:'Inconclusivo',6:'Outro'})"
   ]
  },
  {
   "cell_type": "code",
   "execution_count": 8,
   "metadata": {},
   "outputs": [
    {
     "name": "stderr",
     "output_type": "stream",
     "text": [
      "C:\\Users\\ryan-rosa\\AppData\\Local\\Temp\\ipykernel_23516\\3845840120.py:2: SettingWithCopyWarning: \n",
      "A value is trying to be set on a copy of a slice from a DataFrame.\n",
      "Try using .loc[row_indexer,col_indexer] = value instead\n",
      "\n",
      "See the caveats in the documentation: https://pandas.pydata.org/pandas-docs/stable/user_guide/indexing.html#returning-a-view-versus-a-copy\n",
      "  filtro['Idade'] = filtro['Idade'].fillna(0)\n"
     ]
    },
    {
     "data": {
      "text/html": [
       "<div>\n",
       "<style scoped>\n",
       "    .dataframe tbody tr th:only-of-type {\n",
       "        vertical-align: middle;\n",
       "    }\n",
       "\n",
       "    .dataframe tbody tr th {\n",
       "        vertical-align: top;\n",
       "    }\n",
       "\n",
       "    .dataframe thead th {\n",
       "        text-align: right;\n",
       "    }\n",
       "</style>\n",
       "<table border=\"1\" class=\"dataframe\">\n",
       "  <thead>\n",
       "    <tr style=\"text-align: right;\">\n",
       "      <th></th>\n",
       "      <th>Competencia Internacao</th>\n",
       "      <th>Houve internacao</th>\n",
       "      <th>Classificacao final</th>\n",
       "      <th>Faixa Etaria</th>\n",
       "      <th>Idade</th>\n",
       "      <th>pos_pcrflu</th>\n",
       "      <th>tp_flu_pcr</th>\n",
       "      <th>pcr_fluasu</th>\n",
       "      <th>pcr_vsr</th>\n",
       "    </tr>\n",
       "  </thead>\n",
       "  <tbody>\n",
       "    <tr>\n",
       "      <th>0</th>\n",
       "      <td>2021_12</td>\n",
       "      <td>Sim</td>\n",
       "      <td>Não Informado</td>\n",
       "      <td>20-29 anos</td>\n",
       "      <td>22.0</td>\n",
       "      <td>NaN</td>\n",
       "      <td>NaN</td>\n",
       "      <td>NaN</td>\n",
       "      <td>NaN</td>\n",
       "    </tr>\n",
       "    <tr>\n",
       "      <th>1</th>\n",
       "      <td>2021_07</td>\n",
       "      <td>Sim</td>\n",
       "      <td>Não Informado</td>\n",
       "      <td>60-69 anos</td>\n",
       "      <td>69.0</td>\n",
       "      <td>NaN</td>\n",
       "      <td>NaN</td>\n",
       "      <td>NaN</td>\n",
       "      <td>NaN</td>\n",
       "    </tr>\n",
       "    <tr>\n",
       "      <th>2</th>\n",
       "      <td>NaN</td>\n",
       "      <td>Não Informado</td>\n",
       "      <td>Não Informado</td>\n",
       "      <td>60-69 anos</td>\n",
       "      <td>65.0</td>\n",
       "      <td>NaN</td>\n",
       "      <td>NaN</td>\n",
       "      <td>NaN</td>\n",
       "      <td>NaN</td>\n",
       "    </tr>\n",
       "    <tr>\n",
       "      <th>3</th>\n",
       "      <td>2021_02</td>\n",
       "      <td>Sim</td>\n",
       "      <td>COVID-19</td>\n",
       "      <td>50-59 anos</td>\n",
       "      <td>58.0</td>\n",
       "      <td>NaN</td>\n",
       "      <td>NaN</td>\n",
       "      <td>NaN</td>\n",
       "      <td>NaN</td>\n",
       "    </tr>\n",
       "    <tr>\n",
       "      <th>4</th>\n",
       "      <td>NaN</td>\n",
       "      <td>Não</td>\n",
       "      <td>COVID-19</td>\n",
       "      <td>80 e mais anos</td>\n",
       "      <td>91.0</td>\n",
       "      <td>NaN</td>\n",
       "      <td>NaN</td>\n",
       "      <td>NaN</td>\n",
       "      <td>NaN</td>\n",
       "    </tr>\n",
       "    <tr>\n",
       "      <th>...</th>\n",
       "      <td>...</td>\n",
       "      <td>...</td>\n",
       "      <td>...</td>\n",
       "      <td>...</td>\n",
       "      <td>...</td>\n",
       "      <td>...</td>\n",
       "      <td>...</td>\n",
       "      <td>...</td>\n",
       "      <td>...</td>\n",
       "    </tr>\n",
       "    <tr>\n",
       "      <th>184431</th>\n",
       "      <td>2021_02</td>\n",
       "      <td>Sim</td>\n",
       "      <td>COVID-19</td>\n",
       "      <td>80 e mais anos</td>\n",
       "      <td>85.0</td>\n",
       "      <td>Nao</td>\n",
       "      <td>NaN</td>\n",
       "      <td>NaN</td>\n",
       "      <td>NaN</td>\n",
       "    </tr>\n",
       "    <tr>\n",
       "      <th>184432</th>\n",
       "      <td>2021_09</td>\n",
       "      <td>Sim</td>\n",
       "      <td>COVID-19</td>\n",
       "      <td>40-49 anos</td>\n",
       "      <td>46.0</td>\n",
       "      <td>NaN</td>\n",
       "      <td>NaN</td>\n",
       "      <td>NaN</td>\n",
       "      <td>NaN</td>\n",
       "    </tr>\n",
       "    <tr>\n",
       "      <th>184433</th>\n",
       "      <td>2021_03</td>\n",
       "      <td>Sim</td>\n",
       "      <td>COVID-19</td>\n",
       "      <td>50-59 anos</td>\n",
       "      <td>56.0</td>\n",
       "      <td>NaN</td>\n",
       "      <td>NaN</td>\n",
       "      <td>NaN</td>\n",
       "      <td>NaN</td>\n",
       "    </tr>\n",
       "    <tr>\n",
       "      <th>184434</th>\n",
       "      <td>2020_07</td>\n",
       "      <td>Sim</td>\n",
       "      <td>SRAG não especificado</td>\n",
       "      <td>80 e mais anos</td>\n",
       "      <td>85.0</td>\n",
       "      <td>NaN</td>\n",
       "      <td>NaN</td>\n",
       "      <td>NaN</td>\n",
       "      <td>NaN</td>\n",
       "    </tr>\n",
       "    <tr>\n",
       "      <th>184435</th>\n",
       "      <td>NaN</td>\n",
       "      <td>NaN</td>\n",
       "      <td>NaN</td>\n",
       "      <td>NaN</td>\n",
       "      <td>0.0</td>\n",
       "      <td>NaN</td>\n",
       "      <td>NaN</td>\n",
       "      <td>NaN</td>\n",
       "      <td>NaN</td>\n",
       "    </tr>\n",
       "  </tbody>\n",
       "</table>\n",
       "<p>184436 rows × 9 columns</p>\n",
       "</div>"
      ],
      "text/plain": [
       "       Competencia Internacao Houve internacao    Classificacao final  \\\n",
       "0                     2021_12              Sim          Não Informado   \n",
       "1                     2021_07              Sim          Não Informado   \n",
       "2                         NaN    Não Informado          Não Informado   \n",
       "3                     2021_02              Sim               COVID-19   \n",
       "4                         NaN              Não               COVID-19   \n",
       "...                       ...              ...                    ...   \n",
       "184431                2021_02              Sim               COVID-19   \n",
       "184432                2021_09              Sim               COVID-19   \n",
       "184433                2021_03              Sim               COVID-19   \n",
       "184434                2020_07              Sim  SRAG não especificado   \n",
       "184435                    NaN              NaN                    NaN   \n",
       "\n",
       "          Faixa Etaria  Idade pos_pcrflu tp_flu_pcr pcr_fluasu  pcr_vsr  \n",
       "0           20-29 anos   22.0        NaN        NaN        NaN      NaN  \n",
       "1           60-69 anos   69.0        NaN        NaN        NaN      NaN  \n",
       "2           60-69 anos   65.0        NaN        NaN        NaN      NaN  \n",
       "3           50-59 anos   58.0        NaN        NaN        NaN      NaN  \n",
       "4       80 e mais anos   91.0        NaN        NaN        NaN      NaN  \n",
       "...                ...    ...        ...        ...        ...      ...  \n",
       "184431  80 e mais anos   85.0        Nao        NaN        NaN      NaN  \n",
       "184432      40-49 anos   46.0        NaN        NaN        NaN      NaN  \n",
       "184433      50-59 anos   56.0        NaN        NaN        NaN      NaN  \n",
       "184434  80 e mais anos   85.0        NaN        NaN        NaN      NaN  \n",
       "184435             NaN    0.0        NaN        NaN        NaN      NaN  \n",
       "\n",
       "[184436 rows x 9 columns]"
      ]
     },
     "execution_count": 8,
     "metadata": {},
     "output_type": "execute_result"
    }
   ],
   "source": [
    "filtro = dados[['Competencia Internacao','Houve internacao','Classificacao final','Faixa Etaria','Idade','pos_pcrflu','tp_flu_pcr','pcr_fluasu',\"pcr_vsr\"]]\n",
    "filtro['Idade'] = filtro['Idade'].fillna(0)\n",
    "filtro"
   ]
  },
  {
   "cell_type": "code",
   "execution_count": 9,
   "metadata": {},
   "outputs": [
    {
     "name": "stderr",
     "output_type": "stream",
     "text": [
      "C:\\Users\\ryan-rosa\\AppData\\Local\\Temp\\ipykernel_23516\\307549151.py:1: SettingWithCopyWarning: \n",
      "A value is trying to be set on a copy of a slice from a DataFrame.\n",
      "Try using .loc[row_indexer,col_indexer] = value instead\n",
      "\n",
      "See the caveats in the documentation: https://pandas.pydata.org/pandas-docs/stable/user_guide/indexing.html#returning-a-view-versus-a-copy\n",
      "  filtro['Idade'] = filtro['Idade'].astype(int)\n"
     ]
    },
    {
     "data": {
      "text/html": [
       "<div>\n",
       "<style scoped>\n",
       "    .dataframe tbody tr th:only-of-type {\n",
       "        vertical-align: middle;\n",
       "    }\n",
       "\n",
       "    .dataframe tbody tr th {\n",
       "        vertical-align: top;\n",
       "    }\n",
       "\n",
       "    .dataframe thead th {\n",
       "        text-align: right;\n",
       "    }\n",
       "</style>\n",
       "<table border=\"1\" class=\"dataframe\">\n",
       "  <thead>\n",
       "    <tr style=\"text-align: right;\">\n",
       "      <th></th>\n",
       "      <th>Competencia Internacao</th>\n",
       "      <th>Houve internacao</th>\n",
       "      <th>Classificacao final</th>\n",
       "      <th>Faixa Etaria</th>\n",
       "      <th>Idade</th>\n",
       "      <th>pos_pcrflu</th>\n",
       "      <th>tp_flu_pcr</th>\n",
       "      <th>pcr_fluasu</th>\n",
       "      <th>pcr_vsr</th>\n",
       "    </tr>\n",
       "  </thead>\n",
       "  <tbody>\n",
       "    <tr>\n",
       "      <th>0</th>\n",
       "      <td>2021_12</td>\n",
       "      <td>Sim</td>\n",
       "      <td>Não Informado</td>\n",
       "      <td>20-29 anos</td>\n",
       "      <td>22</td>\n",
       "      <td>NaN</td>\n",
       "      <td>NaN</td>\n",
       "      <td>NaN</td>\n",
       "      <td>NaN</td>\n",
       "    </tr>\n",
       "    <tr>\n",
       "      <th>1</th>\n",
       "      <td>2021_07</td>\n",
       "      <td>Sim</td>\n",
       "      <td>Não Informado</td>\n",
       "      <td>60-69 anos</td>\n",
       "      <td>69</td>\n",
       "      <td>NaN</td>\n",
       "      <td>NaN</td>\n",
       "      <td>NaN</td>\n",
       "      <td>NaN</td>\n",
       "    </tr>\n",
       "    <tr>\n",
       "      <th>2</th>\n",
       "      <td>NaN</td>\n",
       "      <td>Não Informado</td>\n",
       "      <td>Não Informado</td>\n",
       "      <td>60-69 anos</td>\n",
       "      <td>65</td>\n",
       "      <td>NaN</td>\n",
       "      <td>NaN</td>\n",
       "      <td>NaN</td>\n",
       "      <td>NaN</td>\n",
       "    </tr>\n",
       "    <tr>\n",
       "      <th>3</th>\n",
       "      <td>2021_02</td>\n",
       "      <td>Sim</td>\n",
       "      <td>COVID-19</td>\n",
       "      <td>50-59 anos</td>\n",
       "      <td>58</td>\n",
       "      <td>NaN</td>\n",
       "      <td>NaN</td>\n",
       "      <td>NaN</td>\n",
       "      <td>NaN</td>\n",
       "    </tr>\n",
       "    <tr>\n",
       "      <th>4</th>\n",
       "      <td>NaN</td>\n",
       "      <td>Não</td>\n",
       "      <td>COVID-19</td>\n",
       "      <td>80 e mais anos</td>\n",
       "      <td>91</td>\n",
       "      <td>NaN</td>\n",
       "      <td>NaN</td>\n",
       "      <td>NaN</td>\n",
       "      <td>NaN</td>\n",
       "    </tr>\n",
       "  </tbody>\n",
       "</table>\n",
       "</div>"
      ],
      "text/plain": [
       "  Competencia Internacao Houve internacao Classificacao final    Faixa Etaria  \\\n",
       "0                2021_12              Sim       Não Informado      20-29 anos   \n",
       "1                2021_07              Sim       Não Informado      60-69 anos   \n",
       "2                    NaN    Não Informado       Não Informado      60-69 anos   \n",
       "3                2021_02              Sim            COVID-19      50-59 anos   \n",
       "4                    NaN              Não            COVID-19  80 e mais anos   \n",
       "\n",
       "   Idade pos_pcrflu tp_flu_pcr pcr_fluasu  pcr_vsr  \n",
       "0     22        NaN        NaN        NaN      NaN  \n",
       "1     69        NaN        NaN        NaN      NaN  \n",
       "2     65        NaN        NaN        NaN      NaN  \n",
       "3     58        NaN        NaN        NaN      NaN  \n",
       "4     91        NaN        NaN        NaN      NaN  "
      ]
     },
     "execution_count": 9,
     "metadata": {},
     "output_type": "execute_result"
    }
   ],
   "source": [
    "filtro['Idade'] = filtro['Idade'].astype(int)\n",
    "filtro.head()"
   ]
  },
  {
   "cell_type": "code",
   "execution_count": 10,
   "metadata": {},
   "outputs": [
    {
     "name": "stderr",
     "output_type": "stream",
     "text": [
      "C:\\Users\\ryan-rosa\\AppData\\Local\\Temp\\ipykernel_23516\\4269199503.py:7: SettingWithCopyWarning: \n",
      "A value is trying to be set on a copy of a slice from a DataFrame.\n",
      "Try using .loc[row_indexer,col_indexer] = value instead\n",
      "\n",
      "See the caveats in the documentation: https://pandas.pydata.org/pandas-docs/stable/user_guide/indexing.html#returning-a-view-versus-a-copy\n",
      "  filtro.loc[index,'Idade'] = '20-39 anos'\n"
     ]
    }
   ],
   "source": [
    "for index, idade in filtro.iterrows():\n",
    "    if idade['Idade'] < 12:\n",
    "        filtro.loc[index,'Idade'] = '0-11 anos'\n",
    "    elif idade['Idade'] < 20:\n",
    "        filtro.loc[index,'Idade'] = '12-19 anos'\n",
    "    elif idade['Idade'] < 40:\n",
    "        filtro.loc[index,'Idade'] = '20-39 anos'\n",
    "    elif idade['Idade'] < 60:\n",
    "        filtro.loc[index,'Idade'] = '40-59 anos'\n",
    "    elif idade['Idade'] < 80:\n",
    "        filtro.loc[index,'Idade'] = '60-79 anos'\n",
    "    elif idade['Idade'] < 150:\n",
    "        filtro.loc[index,'Idade'] = '80 e mais'"
   ]
  },
  {
   "cell_type": "code",
   "execution_count": 11,
   "metadata": {},
   "outputs": [
    {
     "data": {
      "text/html": [
       "<div>\n",
       "<style scoped>\n",
       "    .dataframe tbody tr th:only-of-type {\n",
       "        vertical-align: middle;\n",
       "    }\n",
       "\n",
       "    .dataframe tbody tr th {\n",
       "        vertical-align: top;\n",
       "    }\n",
       "\n",
       "    .dataframe thead th {\n",
       "        text-align: right;\n",
       "    }\n",
       "</style>\n",
       "<table border=\"1\" class=\"dataframe\">\n",
       "  <thead>\n",
       "    <tr style=\"text-align: right;\">\n",
       "      <th></th>\n",
       "      <th>Competencia Internacao</th>\n",
       "      <th>Houve internacao</th>\n",
       "      <th>Classificacao final</th>\n",
       "      <th>Faixa Etaria</th>\n",
       "      <th>Idade</th>\n",
       "      <th>pos_pcrflu</th>\n",
       "      <th>tp_flu_pcr</th>\n",
       "      <th>pcr_fluasu</th>\n",
       "      <th>pcr_vsr</th>\n",
       "    </tr>\n",
       "  </thead>\n",
       "  <tbody>\n",
       "    <tr>\n",
       "      <th>493</th>\n",
       "      <td>2022_01</td>\n",
       "      <td>Sim</td>\n",
       "      <td>SRAG por influenza</td>\n",
       "      <td>60-69 anos</td>\n",
       "      <td>60-79 anos</td>\n",
       "      <td>Sim</td>\n",
       "      <td>Influenza</td>\n",
       "      <td>Influenza A(H3N2)</td>\n",
       "      <td>NaN</td>\n",
       "    </tr>\n",
       "    <tr>\n",
       "      <th>1332</th>\n",
       "      <td>2022_05</td>\n",
       "      <td>Sim</td>\n",
       "      <td>SRAG por influenza</td>\n",
       "      <td>80 e mais anos</td>\n",
       "      <td>80 e mais</td>\n",
       "      <td>Sim</td>\n",
       "      <td>Influenza</td>\n",
       "      <td>Influenza A(H3N2)</td>\n",
       "      <td>NaN</td>\n",
       "    </tr>\n",
       "    <tr>\n",
       "      <th>1368</th>\n",
       "      <td>2022_01</td>\n",
       "      <td>Sim</td>\n",
       "      <td>SRAG por influenza</td>\n",
       "      <td>80 e mais anos</td>\n",
       "      <td>80 e mais</td>\n",
       "      <td>Sim</td>\n",
       "      <td>Influenza</td>\n",
       "      <td>Influenza A nao subtipado</td>\n",
       "      <td>NaN</td>\n",
       "    </tr>\n",
       "    <tr>\n",
       "      <th>1864</th>\n",
       "      <td>2022_01</td>\n",
       "      <td>Sim</td>\n",
       "      <td>COVID-19</td>\n",
       "      <td>70-79 anos</td>\n",
       "      <td>60-79 anos</td>\n",
       "      <td>Sim</td>\n",
       "      <td>Influenza</td>\n",
       "      <td>Influenza A(H3N2)</td>\n",
       "      <td>NaN</td>\n",
       "    </tr>\n",
       "    <tr>\n",
       "      <th>2147</th>\n",
       "      <td>2022_01</td>\n",
       "      <td>Sim</td>\n",
       "      <td>SRAG por influenza</td>\n",
       "      <td>70-79 anos</td>\n",
       "      <td>60-79 anos</td>\n",
       "      <td>Sim</td>\n",
       "      <td>Influenza</td>\n",
       "      <td>Influenza A(H3N2)</td>\n",
       "      <td>NaN</td>\n",
       "    </tr>\n",
       "  </tbody>\n",
       "</table>\n",
       "</div>"
      ],
      "text/plain": [
       "     Competencia Internacao Houve internacao Classificacao final  \\\n",
       "493                 2022_01              Sim  SRAG por influenza   \n",
       "1332                2022_05              Sim  SRAG por influenza   \n",
       "1368                2022_01              Sim  SRAG por influenza   \n",
       "1864                2022_01              Sim            COVID-19   \n",
       "2147                2022_01              Sim  SRAG por influenza   \n",
       "\n",
       "        Faixa Etaria       Idade pos_pcrflu tp_flu_pcr  \\\n",
       "493       60-69 anos  60-79 anos        Sim  Influenza   \n",
       "1332  80 e mais anos   80 e mais        Sim  Influenza   \n",
       "1368  80 e mais anos   80 e mais        Sim  Influenza   \n",
       "1864      70-79 anos  60-79 anos        Sim  Influenza   \n",
       "2147      70-79 anos  60-79 anos        Sim  Influenza   \n",
       "\n",
       "                     pcr_fluasu  pcr_vsr  \n",
       "493           Influenza A(H3N2)      NaN  \n",
       "1332          Influenza A(H3N2)      NaN  \n",
       "1368  Influenza A nao subtipado      NaN  \n",
       "1864          Influenza A(H3N2)      NaN  \n",
       "2147          Influenza A(H3N2)      NaN  "
      ]
     },
     "execution_count": 11,
     "metadata": {},
     "output_type": "execute_result"
    }
   ],
   "source": [
    "filtro = filtro.loc[filtro['Houve internacao']=='Sim']\n",
    "filtro = filtro.loc[filtro['pos_pcrflu']=='Sim']\n",
    "filtro.head()"
   ]
  },
  {
   "cell_type": "code",
   "execution_count": 12,
   "metadata": {},
   "outputs": [
    {
     "data": {
      "text/html": [
       "<div>\n",
       "<style scoped>\n",
       "    .dataframe tbody tr th:only-of-type {\n",
       "        vertical-align: middle;\n",
       "    }\n",
       "\n",
       "    .dataframe tbody tr th {\n",
       "        vertical-align: top;\n",
       "    }\n",
       "\n",
       "    .dataframe thead th {\n",
       "        text-align: right;\n",
       "    }\n",
       "</style>\n",
       "<table border=\"1\" class=\"dataframe\">\n",
       "  <thead>\n",
       "    <tr style=\"text-align: right;\">\n",
       "      <th></th>\n",
       "      <th>Houve internacao</th>\n",
       "      <th>Classificacao final</th>\n",
       "      <th>Faixa Etaria</th>\n",
       "      <th>Idade</th>\n",
       "      <th>pos_pcrflu</th>\n",
       "      <th>tp_flu_pcr</th>\n",
       "      <th>pcr_fluasu</th>\n",
       "      <th>pcr_vsr</th>\n",
       "    </tr>\n",
       "    <tr>\n",
       "      <th>Competencia Internacao</th>\n",
       "      <th></th>\n",
       "      <th></th>\n",
       "      <th></th>\n",
       "      <th></th>\n",
       "      <th></th>\n",
       "      <th></th>\n",
       "      <th></th>\n",
       "      <th></th>\n",
       "    </tr>\n",
       "  </thead>\n",
       "  <tbody>\n",
       "    <tr>\n",
       "      <th>2020_01</th>\n",
       "      <td>4</td>\n",
       "      <td>4</td>\n",
       "      <td>4</td>\n",
       "      <td>4</td>\n",
       "      <td>4</td>\n",
       "      <td>4</td>\n",
       "      <td>1</td>\n",
       "      <td>0</td>\n",
       "    </tr>\n",
       "    <tr>\n",
       "      <th>2020_02</th>\n",
       "      <td>5</td>\n",
       "      <td>5</td>\n",
       "      <td>5</td>\n",
       "      <td>5</td>\n",
       "      <td>5</td>\n",
       "      <td>5</td>\n",
       "      <td>4</td>\n",
       "      <td>0</td>\n",
       "    </tr>\n",
       "    <tr>\n",
       "      <th>2020_05</th>\n",
       "      <td>1</td>\n",
       "      <td>1</td>\n",
       "      <td>1</td>\n",
       "      <td>1</td>\n",
       "      <td>1</td>\n",
       "      <td>1</td>\n",
       "      <td>0</td>\n",
       "      <td>0</td>\n",
       "    </tr>\n",
       "    <tr>\n",
       "      <th>2020_06</th>\n",
       "      <td>1</td>\n",
       "      <td>1</td>\n",
       "      <td>1</td>\n",
       "      <td>1</td>\n",
       "      <td>1</td>\n",
       "      <td>1</td>\n",
       "      <td>0</td>\n",
       "      <td>0</td>\n",
       "    </tr>\n",
       "    <tr>\n",
       "      <th>2020_10</th>\n",
       "      <td>1</td>\n",
       "      <td>1</td>\n",
       "      <td>1</td>\n",
       "      <td>1</td>\n",
       "      <td>1</td>\n",
       "      <td>1</td>\n",
       "      <td>0</td>\n",
       "      <td>0</td>\n",
       "    </tr>\n",
       "  </tbody>\n",
       "</table>\n",
       "</div>"
      ],
      "text/plain": [
       "                        Houve internacao  Classificacao final  Faixa Etaria  \\\n",
       "Competencia Internacao                                                        \n",
       "2020_01                                4                    4             4   \n",
       "2020_02                                5                    5             5   \n",
       "2020_05                                1                    1             1   \n",
       "2020_06                                1                    1             1   \n",
       "2020_10                                1                    1             1   \n",
       "\n",
       "                        Idade  pos_pcrflu  tp_flu_pcr  pcr_fluasu  pcr_vsr  \n",
       "Competencia Internacao                                                      \n",
       "2020_01                     4           4           4           1        0  \n",
       "2020_02                     5           5           5           4        0  \n",
       "2020_05                     1           1           1           0        0  \n",
       "2020_06                     1           1           1           0        0  \n",
       "2020_10                     1           1           1           0        0  "
      ]
     },
     "execution_count": 12,
     "metadata": {},
     "output_type": "execute_result"
    }
   ],
   "source": [
    "totalHospitalizacoes = filtro.groupby('Competencia Internacao').count()\n",
    "totalHospitalizacoes = totalHospitalizacoes.drop('2020_03')\n",
    "totalHospitalizacoes.head()"
   ]
  },
  {
   "cell_type": "code",
   "execution_count": 13,
   "metadata": {},
   "outputs": [
    {
     "data": {
      "text/html": [
       "<div>\n",
       "<style scoped>\n",
       "    .dataframe tbody tr th:only-of-type {\n",
       "        vertical-align: middle;\n",
       "    }\n",
       "\n",
       "    .dataframe tbody tr th {\n",
       "        vertical-align: top;\n",
       "    }\n",
       "\n",
       "    .dataframe thead th {\n",
       "        text-align: right;\n",
       "    }\n",
       "</style>\n",
       "<table border=\"1\" class=\"dataframe\">\n",
       "  <thead>\n",
       "    <tr style=\"text-align: right;\">\n",
       "      <th></th>\n",
       "      <th></th>\n",
       "      <th>Houve internacao</th>\n",
       "      <th>Classificacao final</th>\n",
       "      <th>Faixa Etaria</th>\n",
       "      <th>pos_pcrflu</th>\n",
       "      <th>tp_flu_pcr</th>\n",
       "      <th>pcr_fluasu</th>\n",
       "      <th>pcr_vsr</th>\n",
       "    </tr>\n",
       "    <tr>\n",
       "      <th>Idade</th>\n",
       "      <th>Competencia Internacao</th>\n",
       "      <th></th>\n",
       "      <th></th>\n",
       "      <th></th>\n",
       "      <th></th>\n",
       "      <th></th>\n",
       "      <th></th>\n",
       "      <th></th>\n",
       "    </tr>\n",
       "  </thead>\n",
       "  <tbody>\n",
       "    <tr>\n",
       "      <th rowspan=\"5\" valign=\"top\">0-11 anos</th>\n",
       "      <th>2020_01</th>\n",
       "      <td>3</td>\n",
       "      <td>3</td>\n",
       "      <td>3</td>\n",
       "      <td>3</td>\n",
       "      <td>3</td>\n",
       "      <td>0</td>\n",
       "      <td>0</td>\n",
       "    </tr>\n",
       "    <tr>\n",
       "      <th>2020_02</th>\n",
       "      <td>1</td>\n",
       "      <td>1</td>\n",
       "      <td>1</td>\n",
       "      <td>1</td>\n",
       "      <td>1</td>\n",
       "      <td>0</td>\n",
       "      <td>0</td>\n",
       "    </tr>\n",
       "    <tr>\n",
       "      <th>2021_06</th>\n",
       "      <td>1</td>\n",
       "      <td>1</td>\n",
       "      <td>1</td>\n",
       "      <td>1</td>\n",
       "      <td>1</td>\n",
       "      <td>1</td>\n",
       "      <td>1</td>\n",
       "    </tr>\n",
       "    <tr>\n",
       "      <th>2021_11</th>\n",
       "      <td>1</td>\n",
       "      <td>1</td>\n",
       "      <td>1</td>\n",
       "      <td>1</td>\n",
       "      <td>1</td>\n",
       "      <td>1</td>\n",
       "      <td>1</td>\n",
       "    </tr>\n",
       "    <tr>\n",
       "      <th>2021_12</th>\n",
       "      <td>6</td>\n",
       "      <td>6</td>\n",
       "      <td>6</td>\n",
       "      <td>6</td>\n",
       "      <td>6</td>\n",
       "      <td>6</td>\n",
       "      <td>0</td>\n",
       "    </tr>\n",
       "  </tbody>\n",
       "</table>\n",
       "</div>"
      ],
      "text/plain": [
       "                                  Houve internacao  Classificacao final  \\\n",
       "Idade     Competencia Internacao                                          \n",
       "0-11 anos 2020_01                                3                    3   \n",
       "          2020_02                                1                    1   \n",
       "          2021_06                                1                    1   \n",
       "          2021_11                                1                    1   \n",
       "          2021_12                                6                    6   \n",
       "\n",
       "                                  Faixa Etaria  pos_pcrflu  tp_flu_pcr  \\\n",
       "Idade     Competencia Internacao                                         \n",
       "0-11 anos 2020_01                            3           3           3   \n",
       "          2020_02                            1           1           1   \n",
       "          2021_06                            1           1           1   \n",
       "          2021_11                            1           1           1   \n",
       "          2021_12                            6           6           6   \n",
       "\n",
       "                                  pcr_fluasu  pcr_vsr  \n",
       "Idade     Competencia Internacao                       \n",
       "0-11 anos 2020_01                          0        0  \n",
       "          2020_02                          0        0  \n",
       "          2021_06                          1        1  \n",
       "          2021_11                          1        1  \n",
       "          2021_12                          6        0  "
      ]
     },
     "execution_count": 13,
     "metadata": {},
     "output_type": "execute_result"
    }
   ],
   "source": [
    "separaIdade = filtro.groupby(['Idade','Competencia Internacao']).count()\n",
    "separaIdade.head()"
   ]
  },
  {
   "cell_type": "code",
   "execution_count": 14,
   "metadata": {},
   "outputs": [
    {
     "data": {
      "text/plain": [
       "Competencia Internacao\n",
       "2022_03    35.000000\n",
       "2022_04    17.460317\n",
       "2022_05    14.492754\n",
       "2022_06    15.789474\n",
       "2022_07    22.222222\n",
       "2022_08    33.333333\n",
       "2022_10    42.857143\n",
       "2022_11     0.000000\n",
       "Name: Proporcao, dtype: float64"
      ]
     },
     "execution_count": 14,
     "metadata": {},
     "output_type": "execute_result"
    }
   ],
   "source": [
    "idade11 = separaIdade.reset_index()\n",
    "idade11 = idade11.loc[idade11['Idade']=='0-11 anos']\n",
    "idade11 = idade11.set_index('Competencia Internacao')\n",
    "idade11['Proporcao'] = idade11['Houve internacao']/totalHospitalizacoes['Houve internacao']*100\n",
    "idade11 = idade11.merge(totalHospitalizacoes,how='outer',right_index=True, left_index=True)\n",
    "idade11= idade11.fillna(0)\n",
    "idade11 = idade11['2021_12':]\n",
    "idade11 = idade11['Proporcao']\n",
    "idade11.tail(8)"
   ]
  },
  {
   "cell_type": "code",
   "execution_count": 15,
   "metadata": {},
   "outputs": [
    {
     "data": {
      "text/plain": [
       "Competencia Internacao\n",
       "2022_03     0.000000\n",
       "2022_04     1.587302\n",
       "2022_05     3.623188\n",
       "2022_06     4.385965\n",
       "2022_07     0.000000\n",
       "2022_08     0.000000\n",
       "2022_10     0.000000\n",
       "2022_11    25.000000\n",
       "Name: Proporcao, dtype: float64"
      ]
     },
     "execution_count": 15,
     "metadata": {},
     "output_type": "execute_result"
    }
   ],
   "source": [
    "idade19 = separaIdade.reset_index()\n",
    "idade19 = idade19.loc[idade19['Idade']=='12-19 anos']\n",
    "idade19 = idade19.set_index('Competencia Internacao')\n",
    "idade19['Proporcao'] = idade19['Houve internacao']/totalHospitalizacoes['Houve internacao']*100\n",
    "idade19 = idade19.merge(totalHospitalizacoes,how='outer',right_index=True, left_index=True)\n",
    "idade19['Proporcao'] = idade19['Proporcao'].fillna(0)\n",
    "idade19 = idade19['2021_12':]\n",
    "idade19 = idade19['Proporcao']\n",
    "idade19.tail(8)"
   ]
  },
  {
   "cell_type": "code",
   "execution_count": 16,
   "metadata": {},
   "outputs": [
    {
     "data": {
      "text/plain": [
       "Competencia Internacao\n",
       "2022_03    10.000000\n",
       "2022_04    14.285714\n",
       "2022_05    10.869565\n",
       "2022_06     7.894737\n",
       "2022_07     8.333333\n",
       "2022_08    33.333333\n",
       "2022_10     0.000000\n",
       "2022_11     0.000000\n",
       "Name: Proporcao, dtype: float64"
      ]
     },
     "execution_count": 16,
     "metadata": {},
     "output_type": "execute_result"
    }
   ],
   "source": [
    "idade39 = separaIdade.reset_index()\n",
    "idade39 = idade39.loc[idade39['Idade']=='20-39 anos']\n",
    "idade39 = idade39.set_index('Competencia Internacao')\n",
    "idade39['Proporcao'] = idade39['Houve internacao']/totalHospitalizacoes['Houve internacao']*100\n",
    "idade39 = idade39.merge(totalHospitalizacoes,how='outer',right_index=True, left_index=True)\n",
    "idade39['Proporcao'] = idade39['Proporcao'].fillna(0)\n",
    "idade39 = idade39.drop(['2020_03'])\n",
    "idade39= idade39.fillna(0)\n",
    "idade39 = idade39['2021_12':]\n",
    "idade39 = idade39['Proporcao']\n",
    "idade39.tail(8)"
   ]
  },
  {
   "cell_type": "code",
   "execution_count": 17,
   "metadata": {},
   "outputs": [
    {
     "data": {
      "text/plain": [
       "Competencia Internacao\n",
       "2021_12    18.390805\n",
       "2022_01    13.186813\n",
       "2022_02     9.090909\n",
       "2022_03    20.000000\n",
       "2022_04    15.873016\n",
       "2022_05    17.391304\n",
       "2022_06     9.649123\n",
       "2022_07    11.111111\n",
       "Name: Proporcao, dtype: float64"
      ]
     },
     "execution_count": 17,
     "metadata": {},
     "output_type": "execute_result"
    }
   ],
   "source": [
    "idade59 = separaIdade.reset_index()\n",
    "idade59 = idade59.loc[idade59['Idade']=='40-59 anos']\n",
    "idade59 = idade59.set_index('Competencia Internacao')\n",
    "idade59['Proporcao'] = idade59['Houve internacao']/totalHospitalizacoes['Houve internacao']*100\n",
    "idade59 = idade59.merge(totalHospitalizacoes,how='outer',right_index=True, left_index=True)\n",
    "idade59 = idade59.drop(['2020_03'])\n",
    "idade59= idade59.fillna(0)\n",
    "idade59 = idade59['2021_12':]\n",
    "idade59 = idade59['Proporcao']\n",
    "idade59.head(8)"
   ]
  },
  {
   "cell_type": "code",
   "execution_count": 18,
   "metadata": {},
   "outputs": [
    {
     "data": {
      "text/plain": [
       "Competencia Internacao\n",
       "2021_12    37.931034\n",
       "2022_01    46.153846\n",
       "2022_02    31.818182\n",
       "2022_03    25.000000\n",
       "2022_04    36.507937\n",
       "2022_05    34.782609\n",
       "2022_06    39.473684\n",
       "2022_07    41.666667\n",
       "Name: Proporcao, dtype: float64"
      ]
     },
     "execution_count": 18,
     "metadata": {},
     "output_type": "execute_result"
    }
   ],
   "source": [
    "idade79 = separaIdade.reset_index()\n",
    "idade79 = idade79.loc[idade79['Idade']=='60-79 anos']\n",
    "idade79 = idade79.set_index('Competencia Internacao')\n",
    "idade79['Proporcao'] = idade79['Houve internacao']/totalHospitalizacoes['Houve internacao']*100\n",
    "idade79 = idade79.merge(totalHospitalizacoes,how='outer',right_index=True, left_index=True)\n",
    "idade79= idade79.fillna(0)\n",
    "idade79 = idade79['2021_12':]\n",
    "idade79 = idade79['Proporcao']\n",
    "idade79.head(8)"
   ]
  },
  {
   "cell_type": "code",
   "execution_count": 19,
   "metadata": {},
   "outputs": [
    {
     "data": {
      "text/plain": [
       "Competencia Internacao\n",
       "2022_03    10.000000\n",
       "2022_04    14.285714\n",
       "2022_05    18.840580\n",
       "2022_06    22.807018\n",
       "2022_07    16.666667\n",
       "2022_08     0.000000\n",
       "2022_10    14.285714\n",
       "2022_11    25.000000\n",
       "Name: Proporcao, dtype: float64"
      ]
     },
     "execution_count": 19,
     "metadata": {},
     "output_type": "execute_result"
    }
   ],
   "source": [
    "idade80 = separaIdade.reset_index()\n",
    "idade80 = idade80.loc[idade80['Idade']=='80 e mais']\n",
    "idade80 = idade80.set_index('Competencia Internacao')\n",
    "idade80['Proporcao'] = idade80['Houve internacao']/totalHospitalizacoes['Houve internacao']*100\n",
    "idade80 = idade80.merge(totalHospitalizacoes,how='outer',right_index=True, left_index=True)\n",
    "idade80= idade80.fillna(0)\n",
    "idade80 = idade80['2021_12':]\n",
    "idade80 = idade80['Proporcao']\n",
    "idade80.tail(8)"
   ]
  },
  {
   "cell_type": "code",
   "execution_count": 20,
   "metadata": {},
   "outputs": [
    {
     "data": {
      "text/plain": [
       "6     2022_06\n",
       "7     2022_07\n",
       "8     2022_08\n",
       "9     2022_10\n",
       "10    2022_11\n",
       "Name: Competencia Internacao, dtype: object"
      ]
     },
     "execution_count": 20,
     "metadata": {},
     "output_type": "execute_result"
    }
   ],
   "source": [
    "competencia = idade80.to_frame()\n",
    "competencia = competencia.reset_index()\n",
    "competencia = competencia['Competencia Internacao']\n",
    "competencia.tail()"
   ]
  },
  {
   "cell_type": "code",
   "execution_count": 21,
   "metadata": {},
   "outputs": [],
   "source": [
    "legenda = pd.DataFrame(columns=['0-11','12-19','20-39','40-59','60-79','80 e mais'])"
   ]
  },
  {
   "cell_type": "code",
   "execution_count": 22,
   "metadata": {},
   "outputs": [
    {
     "data": {
      "text/plain": [
       "'Gráficos 21_11_2022'"
      ]
     },
     "execution_count": 22,
     "metadata": {},
     "output_type": "execute_result"
    }
   ],
   "source": [
    "pasta = r'Z:\\Graficos Boletim_Python'\n",
    "lista_arquivos = os.listdir(pasta)\n",
    "lista_datas = []\n",
    "\n",
    "for arquivo in lista_arquivos:\n",
    "    #Descobrir a data desse arquivo\n",
    "    data = os.path.getmtime(f'{pasta}/{arquivo}')\n",
    "    lista_datas.append((data,arquivo))\n",
    "\n",
    "lista_datas.sort(reverse=True) #Vai ordenar a lista em ordem decrescente com reverse=True Obs: Ele ordena sempre com o primeiro valor, por isso colocamos data antes de arquivo\n",
    "ultima_pasta = lista_datas[0][1] #Pega o ultimo arquivo\n",
    "ultima_pasta"
   ]
  },
  {
   "cell_type": "code",
   "execution_count": 23,
   "metadata": {},
   "outputs": [
    {
     "data": {
      "image/png": "[encoded data removed]",
      "text/plain": [
       "<Figure size 2160x720 with 1 Axes>"
      ]
     },
     "metadata": {
      "needs_background": "light"
     },
     "output_type": "display_data"
    }
   ],
   "source": [
    "plt.figure(figsize=(30,10))\n",
    "plt.bar(competencia,idade11, color='#d8a878',edgecolor='#000000')\n",
    "plt.bar(competencia,idade19, bottom=idade11, color=\"#e7e79d\",edgecolor='#000000')\n",
    "plt.bar(competencia,idade39, bottom=idade11 + idade19, color='#c0d890',edgecolor='#000000')\n",
    "plt.bar(competencia,idade59, bottom=np.array(idade11) + np.array(idade19) + np.array(idade39), color='#78a890',edgecolor='#000000')\n",
    "plt.bar(competencia,idade79, bottom=idade11 + idade19 + idade39 + idade59, color='#606078',edgecolor='#000000')\n",
    "plt.bar(competencia,idade80, bottom=idade11 + idade19 + idade39 + idade59 + idade79, color='#7890a8',edgecolor='#000000')\n",
    "sns.despine()\n",
    "plt.xticks(rotation=90,fontsize=25)\n",
    "plt.xlabel('Mês da hospitalização',fontsize=30,labelpad=18)\n",
    "plt.yticks(np.arange(0,110,10),fontsize=25)\n",
    "plt.ylabel('Proporção de casos de SRAG confirmados para Influenza',fontsize=30,labelpad=20)\n",
    "plt.gca().set_yticklabels(['{:.0f}%'.format(x*1) for x in plt.gca().get_yticks()])\n",
    "plt.legend(legenda,loc='upper center',fancybox=True,bbox_to_anchor=(1.08,1.03),fontsize=30,shadow=True)\n",
    "plt.savefig(f'Z:/Graficos Boletim_Python/{ultima_pasta}/prporcaoHosp_Influ.jpeg',dpi=720,bbox_inches='tight')"
   ]
  },
  {
   "cell_type": "code",
   "execution_count": null,
   "metadata": {},
   "outputs": [],
   "source": []
  }
 ],
 "metadata": {
  "kernelspec": {
   "display_name": "Python 3.10.0 64-bit",
   "language": "python",
   "name": "python3"
  },
  "language_info": {
   "codemirror_mode": {
    "name": "ipython",
    "version": 3
   },
   "file_extension": ".py",
   "mimetype": "text/x-python",
   "name": "python",
   "nbconvert_exporter": "python",
   "pygments_lexer": "ipython3",
   "version": "3.10.0 (tags/v3.10.0:b494f59, Oct  4 2021, 19:00:18) [MSC v.1929 64 bit (AMD64)]"
  },
  "orig_nbformat": 4,
  "vscode": {
   "interpreter": {
    "hash": "bab64de6913f9d892cab042fb55157f5f55bf59b9a4c4b73d499c1b88080ca0d"
   }
  }
 },
 "nbformat": 4,
 "nbformat_minor": 2
}
