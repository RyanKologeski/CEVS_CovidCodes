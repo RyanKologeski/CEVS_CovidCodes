{
 "cells": [
  {
   "cell_type": "code",
   "execution_count": 1,
   "metadata": {},
   "outputs": [],
   "source": [
    "import pandas as pd\n",
    "from pandas import DataFrame\n",
    "import matplotlib.pyplot as plt\n",
    "import numpy as np\n",
    "import os\n",
    "from datetime import date\n",
    "import datetime\n",
    "from pathlib import Path\n",
    "import seaborn as sns"
   ]
  },
  {
   "cell_type": "code",
   "execution_count": 2,
   "metadata": {},
   "outputs": [
    {
     "data": {
      "text/plain": [
       "'Banco SIVEP 21_11_2022 07_32_59.xlsx'"
      ]
     },
     "execution_count": 2,
     "metadata": {},
     "output_type": "execute_result"
    }
   ],
   "source": [
    "caminho = r'Z:\\Banco SIVEP Exportação'\n",
    "lista_arquivos = os.listdir(caminho)\n",
    "lista_datas = []\n",
    "\n",
    "for arquivo in lista_arquivos:\n",
    "    #Descobrir a data desse arquivo\n",
    "    data = os.path.getmtime(f'{caminho}/{arquivo}')\n",
    "    lista_datas.append((data,arquivo))\n",
    "\n",
    "lista_datas.sort(reverse=True) #Vai ordenar a lista em ordem decrescente com reverse=True Obs: Ele ordena sempre com o primeiro valor, por isso colocamos data antes de arquivo\n",
    "ultimo_arquivo = lista_datas[0][1] #Pega o ultimo arquivo\n",
    "ultimo_arquivo"
   ]
  },
  {
   "cell_type": "code",
   "execution_count": 3,
   "metadata": {},
   "outputs": [],
   "source": [
    "if not os.path.exists(f'Z:\\Graficos Boletim_Python/Gráficos {date.today().day}_{date.today().month}_{date.today().year}'):\n",
    "    os.makedirs(f'Z:\\Graficos Boletim_Python/Gráficos {date.today().day}_{date.today().month}_{date.today().year}')"
   ]
  },
  {
   "cell_type": "code",
   "execution_count": 4,
   "metadata": {},
   "outputs": [],
   "source": [
    "dados = pd.read_excel(f'{caminho}/{ultimo_arquivo}')\n",
    "#dados = pd.read_excel('Z:/Banco SIVEP Exportação/Banco SIVEP 29_09_2022 02_33_00.xlsx')"
   ]
  },
  {
   "cell_type": "code",
   "execution_count": 5,
   "metadata": {},
   "outputs": [
    {
     "data": {
      "text/html": [
       "<div>\n",
       "<style scoped>\n",
       "    .dataframe tbody tr th:only-of-type {\n",
       "        vertical-align: middle;\n",
       "    }\n",
       "\n",
       "    .dataframe tbody tr th {\n",
       "        vertical-align: top;\n",
       "    }\n",
       "\n",
       "    .dataframe thead th {\n",
       "        text-align: right;\n",
       "    }\n",
       "</style>\n",
       "<table border=\"1\" class=\"dataframe\">\n",
       "  <thead>\n",
       "    <tr style=\"text-align: right;\">\n",
       "      <th></th>\n",
       "      <th>Competencia Evolucao</th>\n",
       "      <th>Classificacao final</th>\n",
       "      <th>Evolucao</th>\n",
       "      <th>Idade</th>\n",
       "    </tr>\n",
       "  </thead>\n",
       "  <tbody>\n",
       "    <tr>\n",
       "      <th>0</th>\n",
       "      <td>NaN</td>\n",
       "      <td>Não Informado</td>\n",
       "      <td>Segue Internado</td>\n",
       "      <td>22.0</td>\n",
       "    </tr>\n",
       "    <tr>\n",
       "      <th>1</th>\n",
       "      <td>NaN</td>\n",
       "      <td>Não Informado</td>\n",
       "      <td>Segue Internado</td>\n",
       "      <td>69.0</td>\n",
       "    </tr>\n",
       "    <tr>\n",
       "      <th>2</th>\n",
       "      <td>NaN</td>\n",
       "      <td>Não Informado</td>\n",
       "      <td>Segue Internado</td>\n",
       "      <td>65.0</td>\n",
       "    </tr>\n",
       "    <tr>\n",
       "      <th>3</th>\n",
       "      <td>NaN</td>\n",
       "      <td>COVID-19</td>\n",
       "      <td>Segue Internado</td>\n",
       "      <td>58.0</td>\n",
       "    </tr>\n",
       "    <tr>\n",
       "      <th>4</th>\n",
       "      <td>2021_05</td>\n",
       "      <td>COVID-19</td>\n",
       "      <td>Óbito</td>\n",
       "      <td>91.0</td>\n",
       "    </tr>\n",
       "    <tr>\n",
       "      <th>...</th>\n",
       "      <td>...</td>\n",
       "      <td>...</td>\n",
       "      <td>...</td>\n",
       "      <td>...</td>\n",
       "    </tr>\n",
       "    <tr>\n",
       "      <th>184431</th>\n",
       "      <td>2021_02</td>\n",
       "      <td>COVID-19</td>\n",
       "      <td>Óbito</td>\n",
       "      <td>85.0</td>\n",
       "    </tr>\n",
       "    <tr>\n",
       "      <th>184432</th>\n",
       "      <td>2021_09</td>\n",
       "      <td>COVID-19</td>\n",
       "      <td>Cura</td>\n",
       "      <td>46.0</td>\n",
       "    </tr>\n",
       "    <tr>\n",
       "      <th>184433</th>\n",
       "      <td>2021_04</td>\n",
       "      <td>COVID-19</td>\n",
       "      <td>Óbito</td>\n",
       "      <td>56.0</td>\n",
       "    </tr>\n",
       "    <tr>\n",
       "      <th>184434</th>\n",
       "      <td>2020_07</td>\n",
       "      <td>SRAG não especificado</td>\n",
       "      <td>Cura</td>\n",
       "      <td>85.0</td>\n",
       "    </tr>\n",
       "    <tr>\n",
       "      <th>184435</th>\n",
       "      <td>NaN</td>\n",
       "      <td>NaN</td>\n",
       "      <td>NaN</td>\n",
       "      <td>NaN</td>\n",
       "    </tr>\n",
       "  </tbody>\n",
       "</table>\n",
       "<p>184436 rows × 4 columns</p>\n",
       "</div>"
      ],
      "text/plain": [
       "       Competencia Evolucao    Classificacao final         Evolucao  Idade\n",
       "0                       NaN          Não Informado  Segue Internado   22.0\n",
       "1                       NaN          Não Informado  Segue Internado   69.0\n",
       "2                       NaN          Não Informado  Segue Internado   65.0\n",
       "3                       NaN               COVID-19  Segue Internado   58.0\n",
       "4                   2021_05               COVID-19            Óbito   91.0\n",
       "...                     ...                    ...              ...    ...\n",
       "184431              2021_02               COVID-19            Óbito   85.0\n",
       "184432              2021_09               COVID-19             Cura   46.0\n",
       "184433              2021_04               COVID-19            Óbito   56.0\n",
       "184434              2020_07  SRAG não especificado             Cura   85.0\n",
       "184435                  NaN                    NaN              NaN    NaN\n",
       "\n",
       "[184436 rows x 4 columns]"
      ]
     },
     "execution_count": 5,
     "metadata": {},
     "output_type": "execute_result"
    }
   ],
   "source": [
    "filtrado = dados[['Competencia Evolucao','Classificacao final','Evolucao','Idade']]\n",
    "filtrado"
   ]
  },
  {
   "cell_type": "code",
   "execution_count": 6,
   "metadata": {},
   "outputs": [
    {
     "name": "stderr",
     "output_type": "stream",
     "text": [
      "c:\\Users\\ryan-rosa\\Anaconda3\\lib\\site-packages\\pandas\\core\\indexing.py:1817: SettingWithCopyWarning: \n",
      "A value is trying to be set on a copy of a slice from a DataFrame.\n",
      "Try using .loc[row_indexer,col_indexer] = value instead\n",
      "\n",
      "See the caveats in the documentation: https://pandas.pydata.org/pandas-docs/stable/user_guide/indexing.html#returning-a-view-versus-a-copy\n",
      "  self._setitem_single_column(loc, value, pi)\n"
     ]
    }
   ],
   "source": [
    "for index, idade in filtrado.iterrows():\n",
    "    if idade['Idade'] < 12:\n",
    "        filtrado.loc[index,'Idade'] = '0-11 anos'\n",
    "    elif idade['Idade'] < 20:\n",
    "        filtrado.loc[index,'Idade'] = '12-19 anos'\n",
    "    elif idade['Idade'] < 40:\n",
    "        filtrado.loc[index,'Idade'] = '20-39 anos'\n",
    "    elif idade['Idade'] < 60:\n",
    "        filtrado.loc[index,'Idade'] = '40-59 anos'\n",
    "    elif idade['Idade'] < 80:\n",
    "        filtrado.loc[index,'Idade'] = '60-79 anos'\n",
    "    elif idade['Idade'] < 150:\n",
    "        filtrado.loc[index,'Idade'] = '80 e mais'"
   ]
  },
  {
   "cell_type": "code",
   "execution_count": 7,
   "metadata": {},
   "outputs": [
    {
     "data": {
      "text/html": [
       "<div>\n",
       "<style scoped>\n",
       "    .dataframe tbody tr th:only-of-type {\n",
       "        vertical-align: middle;\n",
       "    }\n",
       "\n",
       "    .dataframe tbody tr th {\n",
       "        vertical-align: top;\n",
       "    }\n",
       "\n",
       "    .dataframe thead th {\n",
       "        text-align: right;\n",
       "    }\n",
       "</style>\n",
       "<table border=\"1\" class=\"dataframe\">\n",
       "  <thead>\n",
       "    <tr style=\"text-align: right;\">\n",
       "      <th></th>\n",
       "      <th>Competencia Evolucao</th>\n",
       "      <th>Classificacao final</th>\n",
       "      <th>Evolucao</th>\n",
       "      <th>Idade</th>\n",
       "    </tr>\n",
       "  </thead>\n",
       "  <tbody>\n",
       "    <tr>\n",
       "      <th>4</th>\n",
       "      <td>2021_05</td>\n",
       "      <td>COVID-19</td>\n",
       "      <td>Óbito</td>\n",
       "      <td>80 e mais</td>\n",
       "    </tr>\n",
       "    <tr>\n",
       "      <th>6</th>\n",
       "      <td>2022_02</td>\n",
       "      <td>COVID-19</td>\n",
       "      <td>Óbito</td>\n",
       "      <td>80 e mais</td>\n",
       "    </tr>\n",
       "    <tr>\n",
       "      <th>7</th>\n",
       "      <td>2021_03</td>\n",
       "      <td>COVID-19</td>\n",
       "      <td>Óbito</td>\n",
       "      <td>40-59 anos</td>\n",
       "    </tr>\n",
       "    <tr>\n",
       "      <th>8</th>\n",
       "      <td>2021_03</td>\n",
       "      <td>COVID-19</td>\n",
       "      <td>Óbito</td>\n",
       "      <td>40-59 anos</td>\n",
       "    </tr>\n",
       "    <tr>\n",
       "      <th>10</th>\n",
       "      <td>2021_03</td>\n",
       "      <td>COVID-19</td>\n",
       "      <td>Óbito</td>\n",
       "      <td>60-79 anos</td>\n",
       "    </tr>\n",
       "    <tr>\n",
       "      <th>...</th>\n",
       "      <td>...</td>\n",
       "      <td>...</td>\n",
       "      <td>...</td>\n",
       "      <td>...</td>\n",
       "    </tr>\n",
       "    <tr>\n",
       "      <th>184425</th>\n",
       "      <td>2021_05</td>\n",
       "      <td>COVID-19</td>\n",
       "      <td>Óbito</td>\n",
       "      <td>60-79 anos</td>\n",
       "    </tr>\n",
       "    <tr>\n",
       "      <th>184428</th>\n",
       "      <td>2021_03</td>\n",
       "      <td>COVID-19</td>\n",
       "      <td>Óbito</td>\n",
       "      <td>40-59 anos</td>\n",
       "    </tr>\n",
       "    <tr>\n",
       "      <th>184430</th>\n",
       "      <td>2021_07</td>\n",
       "      <td>COVID-19</td>\n",
       "      <td>Óbito</td>\n",
       "      <td>20-39 anos</td>\n",
       "    </tr>\n",
       "    <tr>\n",
       "      <th>184431</th>\n",
       "      <td>2021_02</td>\n",
       "      <td>COVID-19</td>\n",
       "      <td>Óbito</td>\n",
       "      <td>80 e mais</td>\n",
       "    </tr>\n",
       "    <tr>\n",
       "      <th>184433</th>\n",
       "      <td>2021_04</td>\n",
       "      <td>COVID-19</td>\n",
       "      <td>Óbito</td>\n",
       "      <td>40-59 anos</td>\n",
       "    </tr>\n",
       "  </tbody>\n",
       "</table>\n",
       "<p>41225 rows × 4 columns</p>\n",
       "</div>"
      ],
      "text/plain": [
       "       Competencia Evolucao Classificacao final Evolucao       Idade\n",
       "4                   2021_05            COVID-19    Óbito   80 e mais\n",
       "6                   2022_02            COVID-19    Óbito   80 e mais\n",
       "7                   2021_03            COVID-19    Óbito  40-59 anos\n",
       "8                   2021_03            COVID-19    Óbito  40-59 anos\n",
       "10                  2021_03            COVID-19    Óbito  60-79 anos\n",
       "...                     ...                 ...      ...         ...\n",
       "184425              2021_05            COVID-19    Óbito  60-79 anos\n",
       "184428              2021_03            COVID-19    Óbito  40-59 anos\n",
       "184430              2021_07            COVID-19    Óbito  20-39 anos\n",
       "184431              2021_02            COVID-19    Óbito   80 e mais\n",
       "184433              2021_04            COVID-19    Óbito  40-59 anos\n",
       "\n",
       "[41225 rows x 4 columns]"
      ]
     },
     "execution_count": 7,
     "metadata": {},
     "output_type": "execute_result"
    }
   ],
   "source": [
    "filtrado = filtrado.loc[filtrado['Classificacao final']=='COVID-19']\n",
    "filtrado = filtrado.loc[filtrado['Evolucao']=='Óbito']\n",
    "filtrado"
   ]
  },
  {
   "cell_type": "code",
   "execution_count": 8,
   "metadata": {},
   "outputs": [
    {
     "data": {
      "text/html": [
       "<div>\n",
       "<style scoped>\n",
       "    .dataframe tbody tr th:only-of-type {\n",
       "        vertical-align: middle;\n",
       "    }\n",
       "\n",
       "    .dataframe tbody tr th {\n",
       "        vertical-align: top;\n",
       "    }\n",
       "\n",
       "    .dataframe thead th {\n",
       "        text-align: right;\n",
       "    }\n",
       "</style>\n",
       "<table border=\"1\" class=\"dataframe\">\n",
       "  <thead>\n",
       "    <tr style=\"text-align: right;\">\n",
       "      <th></th>\n",
       "      <th>Classificacao final</th>\n",
       "      <th>Evolucao</th>\n",
       "      <th>Idade</th>\n",
       "    </tr>\n",
       "    <tr>\n",
       "      <th>Competencia Evolucao</th>\n",
       "      <th></th>\n",
       "      <th></th>\n",
       "      <th></th>\n",
       "    </tr>\n",
       "  </thead>\n",
       "  <tbody>\n",
       "    <tr>\n",
       "      <th>2020_04</th>\n",
       "      <td>60</td>\n",
       "      <td>60</td>\n",
       "      <td>60</td>\n",
       "    </tr>\n",
       "    <tr>\n",
       "      <th>2020_05</th>\n",
       "      <td>182</td>\n",
       "      <td>182</td>\n",
       "      <td>182</td>\n",
       "    </tr>\n",
       "    <tr>\n",
       "      <th>2020_06</th>\n",
       "      <td>440</td>\n",
       "      <td>440</td>\n",
       "      <td>440</td>\n",
       "    </tr>\n",
       "    <tr>\n",
       "      <th>2020_07</th>\n",
       "      <td>1391</td>\n",
       "      <td>1391</td>\n",
       "      <td>1391</td>\n",
       "    </tr>\n",
       "    <tr>\n",
       "      <th>2020_08</th>\n",
       "      <td>1605</td>\n",
       "      <td>1605</td>\n",
       "      <td>1605</td>\n",
       "    </tr>\n",
       "  </tbody>\n",
       "</table>\n",
       "</div>"
      ],
      "text/plain": [
       "                      Classificacao final  Evolucao  Idade\n",
       "Competencia Evolucao                                      \n",
       "2020_04                                60        60     60\n",
       "2020_05                               182       182    182\n",
       "2020_06                               440       440    440\n",
       "2020_07                              1391      1391   1391\n",
       "2020_08                              1605      1605   1605"
      ]
     },
     "execution_count": 8,
     "metadata": {},
     "output_type": "execute_result"
    }
   ],
   "source": [
    "total_obitos = filtrado.groupby('Competencia Evolucao').count()\n",
    "total_obitos = total_obitos.drop('2020_03')\n",
    "total_obitos.head()"
   ]
  },
  {
   "cell_type": "code",
   "execution_count": 9,
   "metadata": {},
   "outputs": [
    {
     "data": {
      "text/html": [
       "<div>\n",
       "<style scoped>\n",
       "    .dataframe tbody tr th:only-of-type {\n",
       "        vertical-align: middle;\n",
       "    }\n",
       "\n",
       "    .dataframe tbody tr th {\n",
       "        vertical-align: top;\n",
       "    }\n",
       "\n",
       "    .dataframe thead th {\n",
       "        text-align: right;\n",
       "    }\n",
       "</style>\n",
       "<table border=\"1\" class=\"dataframe\">\n",
       "  <thead>\n",
       "    <tr style=\"text-align: right;\">\n",
       "      <th></th>\n",
       "      <th></th>\n",
       "      <th>Classificacao final</th>\n",
       "      <th>Evolucao</th>\n",
       "    </tr>\n",
       "    <tr>\n",
       "      <th>Idade</th>\n",
       "      <th>Competencia Evolucao</th>\n",
       "      <th></th>\n",
       "      <th></th>\n",
       "    </tr>\n",
       "  </thead>\n",
       "  <tbody>\n",
       "    <tr>\n",
       "      <th rowspan=\"5\" valign=\"top\">0-11 anos</th>\n",
       "      <th>2020_05</th>\n",
       "      <td>1</td>\n",
       "      <td>1</td>\n",
       "    </tr>\n",
       "    <tr>\n",
       "      <th>2020_07</th>\n",
       "      <td>1</td>\n",
       "      <td>1</td>\n",
       "    </tr>\n",
       "    <tr>\n",
       "      <th>2020_08</th>\n",
       "      <td>2</td>\n",
       "      <td>2</td>\n",
       "    </tr>\n",
       "    <tr>\n",
       "      <th>2020_09</th>\n",
       "      <td>1</td>\n",
       "      <td>1</td>\n",
       "    </tr>\n",
       "    <tr>\n",
       "      <th>2020_10</th>\n",
       "      <td>3</td>\n",
       "      <td>3</td>\n",
       "    </tr>\n",
       "  </tbody>\n",
       "</table>\n",
       "</div>"
      ],
      "text/plain": [
       "                                Classificacao final  Evolucao\n",
       "Idade     Competencia Evolucao                               \n",
       "0-11 anos 2020_05                                 1         1\n",
       "          2020_07                                 1         1\n",
       "          2020_08                                 2         2\n",
       "          2020_09                                 1         1\n",
       "          2020_10                                 3         3"
      ]
     },
     "execution_count": 9,
     "metadata": {},
     "output_type": "execute_result"
    }
   ],
   "source": [
    "separaIdade = filtrado.groupby(['Idade','Competencia Evolucao']).count()\n",
    "separaIdade.head()"
   ]
  },
  {
   "cell_type": "code",
   "execution_count": 10,
   "metadata": {},
   "outputs": [
    {
     "data": {
      "text/plain": [
       "Competencia Evolucao\n",
       "2022_04    0.000000\n",
       "2022_05    0.000000\n",
       "2022_06    0.623701\n",
       "2022_07    0.950119\n",
       "2022_08    0.282486\n",
       "2022_09    0.561798\n",
       "2022_10    0.000000\n",
       "2022_11    0.000000\n",
       "Name: Proporcao, dtype: float64"
      ]
     },
     "execution_count": 10,
     "metadata": {},
     "output_type": "execute_result"
    }
   ],
   "source": [
    "idade11 = separaIdade.reset_index()\n",
    "idade11 = idade11.loc[idade11['Idade']=='0-11 anos']\n",
    "idade11 = idade11.set_index('Competencia Evolucao')\n",
    "idade11['Proporcao'] = idade11['Evolucao']/total_obitos['Evolucao']*100\n",
    "idade11 = idade11.merge(total_obitos,how='outer',right_index=True, left_index=True)\n",
    "idade11 = idade11.drop(columns=['Evolucao_y','Classificacao final_y','Evolucao_y','Idade_y'])\n",
    "idade11['Proporcao'] = idade11['Proporcao'].fillna(0)\n",
    "idade11 = idade11['Proporcao']\n",
    "idade11.tail(8)"
   ]
  },
  {
   "cell_type": "code",
   "execution_count": 11,
   "metadata": {},
   "outputs": [
    {
     "data": {
      "text/plain": [
       "Competencia Evolucao\n",
       "2022_04    1.015228\n",
       "2022_05    0.684932\n",
       "2022_06    0.207900\n",
       "2022_07    0.000000\n",
       "2022_08    0.000000\n",
       "2022_09    0.000000\n",
       "2022_10    0.000000\n",
       "2022_11    0.000000\n",
       "Name: Proporcao, dtype: float64"
      ]
     },
     "execution_count": 11,
     "metadata": {},
     "output_type": "execute_result"
    }
   ],
   "source": [
    "idade19 = separaIdade.reset_index()\n",
    "idade19 = idade19.loc[idade19['Idade']=='12-19 anos']\n",
    "idade19 = idade19.set_index('Competencia Evolucao')\n",
    "idade19['Proporcao'] = idade19['Evolucao']/total_obitos['Evolucao']*100\n",
    "idade19 = idade19.merge(total_obitos,how='outer',right_index=True, left_index=True)\n",
    "idade19 = idade19.drop(columns=['Evolucao_y','Classificacao final_y','Evolucao_y','Idade_y'])\n",
    "idade19['Proporcao'] = idade19['Proporcao'].fillna(0)\n",
    "idade19 = idade19['Proporcao']\n",
    "idade19.tail(8)"
   ]
  },
  {
   "cell_type": "code",
   "execution_count": 12,
   "metadata": {},
   "outputs": [
    {
     "data": {
      "text/plain": [
       "Competencia Evolucao\n",
       "2022_04    5.583756\n",
       "2022_05    2.739726\n",
       "2022_06    2.910603\n",
       "2022_07    2.612827\n",
       "2022_08    1.412429\n",
       "2022_09    1.685393\n",
       "2022_10    1.754386\n",
       "2022_11    4.761905\n",
       "Name: Proporcao, dtype: float64"
      ]
     },
     "execution_count": 12,
     "metadata": {},
     "output_type": "execute_result"
    }
   ],
   "source": [
    "idade39 = separaIdade.reset_index()\n",
    "idade39 = idade39.loc[idade39['Idade']=='20-39 anos']\n",
    "idade39 = idade39.set_index('Competencia Evolucao')\n",
    "idade39['Proporcao'] = idade39['Evolucao']/total_obitos['Evolucao']*100\n",
    "idade39 = idade39.merge(total_obitos,how='outer',right_index=True, left_index=True)\n",
    "idade39 = idade39.drop(columns=['Evolucao_y','Classificacao final_y','Evolucao_y','Idade_y'])\n",
    "idade39['Proporcao'] = idade39['Proporcao'].fillna(0)\n",
    "idade39 = idade39['Proporcao']\n",
    "idade39.tail(8)"
   ]
  },
  {
   "cell_type": "code",
   "execution_count": 13,
   "metadata": {},
   "outputs": [
    {
     "data": {
      "text/plain": [
       "Competencia Evolucao\n",
       "2022_04    12.690355\n",
       "2022_05     9.931507\n",
       "2022_06    11.018711\n",
       "2022_07     8.551069\n",
       "2022_08     9.604520\n",
       "2022_09    11.797753\n",
       "2022_10    15.789474\n",
       "2022_11     9.523810\n",
       "Name: Proporcao, dtype: float64"
      ]
     },
     "execution_count": 13,
     "metadata": {},
     "output_type": "execute_result"
    }
   ],
   "source": [
    "idade59 = separaIdade.reset_index()\n",
    "idade59 = idade59.loc[idade59['Idade']=='40-59 anos']\n",
    "idade59 = idade59.set_index('Competencia Evolucao')\n",
    "idade59['Proporcao'] = idade59['Evolucao']/total_obitos['Evolucao']*100\n",
    "idade59 = idade59.merge(total_obitos,how='outer',right_index=True, left_index=True)\n",
    "idade59 = idade59.drop(columns=['Evolucao_y','Classificacao final_y','Evolucao_y','Idade_y'])\n",
    "idade59['Proporcao'] = idade59['Proporcao'].fillna(0)\n",
    "idade59 = idade59['Proporcao']\n",
    "idade59.tail(8)"
   ]
  },
  {
   "cell_type": "code",
   "execution_count": 14,
   "metadata": {},
   "outputs": [
    {
     "data": {
      "text/plain": [
       "Competencia Evolucao\n",
       "2022_04    44.670051\n",
       "2022_05    44.863014\n",
       "2022_06    41.787942\n",
       "2022_07    44.180523\n",
       "2022_08    49.152542\n",
       "2022_09    43.820225\n",
       "2022_10    47.368421\n",
       "2022_11    28.571429\n",
       "Name: Proporcao, dtype: float64"
      ]
     },
     "execution_count": 14,
     "metadata": {},
     "output_type": "execute_result"
    }
   ],
   "source": [
    "idade79 = separaIdade.reset_index()\n",
    "idade79 = idade79.loc[idade79['Idade']=='60-79 anos']\n",
    "idade79 = idade79.set_index('Competencia Evolucao')\n",
    "idade79['Proporcao'] = idade79['Evolucao']/total_obitos['Evolucao']*100\n",
    "idade79 = idade79.merge(total_obitos,how='outer',right_index=True, left_index=True)\n",
    "idade79 = idade79.drop(columns=['Evolucao_y','Classificacao final_y','Evolucao_y','Idade_y'])\n",
    "idade79['Proporcao'] = idade79['Proporcao'].fillna(0)\n",
    "idade79 = idade79.drop(['2020_03'])\n",
    "idade79 = idade79['Proporcao']\n",
    "idade79.tail(8)"
   ]
  },
  {
   "cell_type": "code",
   "execution_count": 15,
   "metadata": {},
   "outputs": [
    {
     "data": {
      "text/plain": [
       "Competencia Evolucao\n",
       "2022_04    36.040609\n",
       "2022_05    41.780822\n",
       "2022_06    43.451143\n",
       "2022_07    43.705463\n",
       "2022_08    39.548023\n",
       "2022_09    42.134831\n",
       "2022_10    35.087719\n",
       "2022_11    57.142857\n",
       "Name: Proporcao, dtype: float64"
      ]
     },
     "execution_count": 15,
     "metadata": {},
     "output_type": "execute_result"
    }
   ],
   "source": [
    "idade80 = separaIdade.reset_index()\n",
    "idade80 = idade80.loc[idade80['Idade']=='80 e mais']\n",
    "idade80 = idade80.set_index('Competencia Evolucao')\n",
    "idade80['Proporcao'] = idade80['Evolucao']/total_obitos['Evolucao']*100\n",
    "idade80 = idade80.merge(total_obitos,how='outer',right_index=True, left_index=True)\n",
    "idade80 = idade80.drop(columns=['Evolucao_y','Classificacao final_y','Evolucao_y','Idade_y'])\n",
    "idade80['Proporcao'] = idade80['Proporcao'].fillna(0)\n",
    "idade80 = idade80.drop(['2020_03'])\n",
    "idade80 = idade80['Proporcao']\n",
    "idade80.tail(8)"
   ]
  },
  {
   "cell_type": "code",
   "execution_count": 16,
   "metadata": {},
   "outputs": [
    {
     "data": {
      "text/plain": [
       "0     2020_04\n",
       "1     2020_05\n",
       "2     2020_06\n",
       "3     2020_07\n",
       "4     2020_08\n",
       "5     2020_09\n",
       "6     2020_10\n",
       "7     2020_11\n",
       "8     2020_12\n",
       "9     2021_01\n",
       "10    2021_02\n",
       "11    2021_03\n",
       "12    2021_04\n",
       "13    2021_05\n",
       "14    2021_06\n",
       "15    2021_07\n",
       "16    2021_08\n",
       "17    2021_09\n",
       "18    2021_10\n",
       "19    2021_11\n",
       "20    2021_12\n",
       "21    2022_01\n",
       "22    2022_02\n",
       "23    2022_03\n",
       "24    2022_04\n",
       "25    2022_05\n",
       "26    2022_06\n",
       "27    2022_07\n",
       "28    2022_08\n",
       "29    2022_09\n",
       "30    2022_10\n",
       "31    2022_11\n",
       "Name: Competencia Evolucao, dtype: object"
      ]
     },
     "execution_count": 16,
     "metadata": {},
     "output_type": "execute_result"
    }
   ],
   "source": [
    "eixo_x = idade80.to_frame()\n",
    "eixo_x = eixo_x.reset_index()\n",
    "eixo_x = eixo_x['Competencia Evolucao']\n",
    "eixo_x"
   ]
  },
  {
   "cell_type": "code",
   "execution_count": 17,
   "metadata": {},
   "outputs": [],
   "source": [
    "legenda = pd.DataFrame(columns=['0-11','12-19','20-39','40-59','60-79','80 e mais'])"
   ]
  },
  {
   "cell_type": "code",
   "execution_count": 18,
   "metadata": {},
   "outputs": [
    {
     "data": {
      "text/plain": [
       "'Gráficos 21_11_2022'"
      ]
     },
     "execution_count": 18,
     "metadata": {},
     "output_type": "execute_result"
    }
   ],
   "source": [
    "pasta = r'Z:\\Graficos Boletim_Python'\n",
    "lista_arquivos = os.listdir(pasta)\n",
    "lista_datas = []\n",
    "\n",
    "for arquivo in lista_arquivos:\n",
    "    #Descobrir a data desse arquivo\n",
    "    data = os.path.getmtime(f'{pasta}/{arquivo}')\n",
    "    lista_datas.append((data,arquivo))\n",
    "\n",
    "lista_datas.sort(reverse=True) #Vai ordenar a lista em ordem decrescente com reverse=True Obs: Ele ordena sempre com o primeiro valor, por isso colocamos data antes de arquivo\n",
    "ultima_pasta = lista_datas[0][1] #Pega o ultimo arquivo\n",
    "ultima_pasta"
   ]
  },
  {
   "cell_type": "code",
   "execution_count": 19,
   "metadata": {},
   "outputs": [
    {
     "data": {
      "image/png": "[encoded data removed]",
      "text/plain": [
       "<Figure size 2160x720 with 1 Axes>"
      ]
     },
     "metadata": {
      "needs_background": "light"
     },
     "output_type": "display_data"
    }
   ],
   "source": [
    "plt.figure(figsize=(30,10))\n",
    "plt.bar(eixo_x,idade11, color='#afedc2',edgecolor='#000000')\n",
    "plt.bar(eixo_x,idade19, bottom=idade11, color=\"#268042\",edgecolor='#000000')\n",
    "plt.bar(eixo_x,idade39, bottom=idade11 + idade19, color='#a3a2a2',edgecolor='#000000')\n",
    "plt.bar(eixo_x,idade59, bottom=idade11 + idade19 + idade39, color='#5e5d5d',edgecolor='#000000')\n",
    "plt.bar(eixo_x,idade79, bottom=idade11 + idade19 + idade39 + idade59, color='#b58d94',edgecolor='#000000')\n",
    "plt.bar(eixo_x,idade80, bottom=idade11 + idade19 + idade39 + idade59 + idade79, color='#8a3e4b',edgecolor='#000000')\n",
    "sns.despine()\n",
    "plt.xticks(rotation=90,fontsize=25)\n",
    "plt.xlabel('Mês do óbito',fontsize=30,labelpad=20)\n",
    "plt.yticks(np.arange(0,110,10),fontsize=25)\n",
    "plt.ylabel('Proporção de óbitos confirmados para Covid-19',fontsize=30,labelpad=20)\n",
    "plt.gca().set_yticklabels(['{:.0f}%'.format(x*1) for x in plt.gca().get_yticks()])\n",
    "plt.legend(legenda,loc='upper center',fancybox=True,bbox_to_anchor=(1.08,1.03),fontsize=30,shadow=True)\n",
    "plt.savefig(f'Z:/Graficos Boletim_Python/{ultima_pasta}/obitosConfirmados-Covid.png',dpi=720,bbox_inches='tight')"
   ]
  },
  {
   "cell_type": "code",
   "execution_count": null,
   "metadata": {},
   "outputs": [],
   "source": []
  }
 ],
 "metadata": {
  "interpreter": {
   "hash": "0d5985281df7ec7707d3c539ceae1110016cf5fbbd1d8b7072063928c313952a"
  },
  "kernelspec": {
   "display_name": "Python 3.9.7 ('base')",
   "language": "python",
   "name": "python3"
  },
  "language_info": {
   "codemirror_mode": {
    "name": "ipython",
    "version": 3
   },
   "file_extension": ".py",
   "mimetype": "text/x-python",
   "name": "python",
   "nbconvert_exporter": "python",
   "pygments_lexer": "ipython3",
   "version": "3.9.7 (default, Sep 16 2021, 16:59:28) [MSC v.1916 64 bit (AMD64)]"
  },
  "orig_nbformat": 4
 },
 "nbformat": 4,
 "nbformat_minor": 2
}
