{
 "cells": [
  {
   "cell_type": "code",
   "execution_count": 5,
   "metadata": {},
   "outputs": [],
   "source": [
    "import pandas as pd\n",
    "from pandas import DataFrame\n",
    "import matplotlib.pyplot as plt\n",
    "import numpy as np\n",
    "import os\n",
    "from datetime import date\n",
    "import datetime\n",
    "from pathlib import Path\n",
    "import seaborn as sns\n",
    "import plotly.express as px\n",
    "from plotly.validators.scatter.marker import SymbolValidator\n",
    "import plotly.graph_objects as go"
   ]
  },
  {
   "cell_type": "code",
   "execution_count": 6,
   "metadata": {},
   "outputs": [
    {
     "data": {
      "text/plain": [
       "\"if not os.path.exists(f'Z:\\\\Graficos Boletim_Python/Gráficos {date.today().day}_{date.today().month}_{date.today().year}'):\\n    os.makedirs(f'Z:\\\\Graficos Boletim_Python/Gráficos {date.today().day}_{date.today().month}_{date.today().year}')\""
      ]
     },
     "execution_count": 6,
     "metadata": {},
     "output_type": "execute_result"
    }
   ],
   "source": [
    "'''if not os.path.exists(f'Z:\\Graficos Boletim_Python/Gráficos {date.today().day}_{date.today().month}_{date.today().year}'):\n",
    "    os.makedirs(f'Z:\\Graficos Boletim_Python/Gráficos {date.today().day}_{date.today().month}_{date.today().year}')'''"
   ]
  },
  {
   "cell_type": "code",
   "execution_count": 7,
   "metadata": {},
   "outputs": [],
   "source": [
    "caminho = r'C:\\Users\\ryan-rosa\\Desktop\\Ryan\\Python\\ProjetoEstagio\\Banco_De_Dados_Slide18'"
   ]
  },
  {
   "cell_type": "code",
   "execution_count": 8,
   "metadata": {},
   "outputs": [
    {
     "data": {
      "text/html": [
       "<div>\n",
       "<style scoped>\n",
       "    .dataframe tbody tr th:only-of-type {\n",
       "        vertical-align: middle;\n",
       "    }\n",
       "\n",
       "    .dataframe tbody tr th {\n",
       "        vertical-align: top;\n",
       "    }\n",
       "\n",
       "    .dataframe thead th {\n",
       "        text-align: right;\n",
       "    }\n",
       "</style>\n",
       "<table border=\"1\" class=\"dataframe\">\n",
       "  <thead>\n",
       "    <tr style=\"text-align: right;\">\n",
       "      <th></th>\n",
       "      <th>cd_regiao_covid</th>\n",
       "      <th>nm_regiao_covid</th>\n",
       "      <th>vl_populacao</th>\n",
       "      <th>cob_d1_d_unica</th>\n",
       "      <th>cob_d2_d_unica</th>\n",
       "      <th>cob_ref</th>\n",
       "    </tr>\n",
       "  </thead>\n",
       "  <tbody>\n",
       "    <tr>\n",
       "      <th>0</th>\n",
       "      <td>1</td>\n",
       "      <td>SANTA MARIA - R01 R02</td>\n",
       "      <td>560559</td>\n",
       "      <td>82.57</td>\n",
       "      <td>75.26</td>\n",
       "      <td>29.25</td>\n",
       "    </tr>\n",
       "    <tr>\n",
       "      <th>1</th>\n",
       "      <td>3</td>\n",
       "      <td>CAPAO DA CANOA - R04 R05</td>\n",
       "      <td>401896</td>\n",
       "      <td>90.97</td>\n",
       "      <td>80.28</td>\n",
       "      <td>35.09</td>\n",
       "    </tr>\n",
       "    <tr>\n",
       "      <th>2</th>\n",
       "      <td>18</td>\n",
       "      <td>CACHOEIRA DO SUL - R27</td>\n",
       "      <td>202884</td>\n",
       "      <td>81.12</td>\n",
       "      <td>76.19</td>\n",
       "      <td>28.57</td>\n",
       "    </tr>\n",
       "    <tr>\n",
       "      <th>3</th>\n",
       "      <td>9</td>\n",
       "      <td>CRUZ ALTA - R12</td>\n",
       "      <td>151514</td>\n",
       "      <td>83.01</td>\n",
       "      <td>77.12</td>\n",
       "      <td>34.56</td>\n",
       "    </tr>\n",
       "    <tr>\n",
       "      <th>4</th>\n",
       "      <td>17</td>\n",
       "      <td>CAXIAS DO SUL - R23 R24 R25 R26</td>\n",
       "      <td>1240374</td>\n",
       "      <td>81.03</td>\n",
       "      <td>73.24</td>\n",
       "      <td>26.01</td>\n",
       "    </tr>\n",
       "    <tr>\n",
       "      <th>5</th>\n",
       "      <td>4</td>\n",
       "      <td>TAQUARA - R06</td>\n",
       "      <td>236788</td>\n",
       "      <td>74.01</td>\n",
       "      <td>64.15</td>\n",
       "      <td>20.77</td>\n",
       "    </tr>\n",
       "    <tr>\n",
       "      <th>6</th>\n",
       "      <td>19</td>\n",
       "      <td>SANTA CRUZ DO SUL - R28</td>\n",
       "      <td>353229</td>\n",
       "      <td>82.41</td>\n",
       "      <td>75.31</td>\n",
       "      <td>29.62</td>\n",
       "    </tr>\n",
       "    <tr>\n",
       "      <th>7</th>\n",
       "      <td>12</td>\n",
       "      <td>PALMEIRA DAS MISSOES - R15 R20</td>\n",
       "      <td>344956</td>\n",
       "      <td>84.60</td>\n",
       "      <td>78.47</td>\n",
       "      <td>34.05</td>\n",
       "    </tr>\n",
       "    <tr>\n",
       "      <th>8</th>\n",
       "      <td>14</td>\n",
       "      <td>PASSO FUNDO - R17 R18 R19</td>\n",
       "      <td>669713</td>\n",
       "      <td>83.76</td>\n",
       "      <td>76.96</td>\n",
       "      <td>31.80</td>\n",
       "    </tr>\n",
       "    <tr>\n",
       "      <th>9</th>\n",
       "      <td>11</td>\n",
       "      <td>SANTA ROSA - R14</td>\n",
       "      <td>223150</td>\n",
       "      <td>87.57</td>\n",
       "      <td>81.77</td>\n",
       "      <td>33.41</td>\n",
       "    </tr>\n",
       "    <tr>\n",
       "      <th>10</th>\n",
       "      <td>5</td>\n",
       "      <td>NOVO HAMBURGO - R07</td>\n",
       "      <td>835693</td>\n",
       "      <td>77.27</td>\n",
       "      <td>66.98</td>\n",
       "      <td>21.52</td>\n",
       "    </tr>\n",
       "    <tr>\n",
       "      <th>11</th>\n",
       "      <td>7</td>\n",
       "      <td>PORTO ALEGRE - R10</td>\n",
       "      <td>2378904</td>\n",
       "      <td>79.61</td>\n",
       "      <td>72.75</td>\n",
       "      <td>30.22</td>\n",
       "    </tr>\n",
       "    <tr>\n",
       "      <th>12</th>\n",
       "      <td>16</td>\n",
       "      <td>BAGE - R22</td>\n",
       "      <td>188543</td>\n",
       "      <td>83.15</td>\n",
       "      <td>70.79</td>\n",
       "      <td>24.39</td>\n",
       "    </tr>\n",
       "    <tr>\n",
       "      <th>13</th>\n",
       "      <td>13</td>\n",
       "      <td>ERECHIM - R16</td>\n",
       "      <td>232680</td>\n",
       "      <td>85.92</td>\n",
       "      <td>79.26</td>\n",
       "      <td>28.03</td>\n",
       "    </tr>\n",
       "    <tr>\n",
       "      <th>14</th>\n",
       "      <td>15</td>\n",
       "      <td>PELOTAS - R21</td>\n",
       "      <td>880571</td>\n",
       "      <td>80.67</td>\n",
       "      <td>71.77</td>\n",
       "      <td>23.63</td>\n",
       "    </tr>\n",
       "    <tr>\n",
       "      <th>15</th>\n",
       "      <td>6</td>\n",
       "      <td>CANOAS - R08</td>\n",
       "      <td>783400</td>\n",
       "      <td>81.14</td>\n",
       "      <td>72.64</td>\n",
       "      <td>26.30</td>\n",
       "    </tr>\n",
       "    <tr>\n",
       "      <th>16</th>\n",
       "      <td>2</td>\n",
       "      <td>URUGUAIANA - R03</td>\n",
       "      <td>456446</td>\n",
       "      <td>80.82</td>\n",
       "      <td>72.36</td>\n",
       "      <td>30.80</td>\n",
       "    </tr>\n",
       "    <tr>\n",
       "      <th>17</th>\n",
       "      <td>20</td>\n",
       "      <td>LAJEADO - R29 R30</td>\n",
       "      <td>358523</td>\n",
       "      <td>82.48</td>\n",
       "      <td>75.24</td>\n",
       "      <td>27.02</td>\n",
       "    </tr>\n",
       "    <tr>\n",
       "      <th>18</th>\n",
       "      <td>21</td>\n",
       "      <td>GUAIBA - R09</td>\n",
       "      <td>415265</td>\n",
       "      <td>78.60</td>\n",
       "      <td>71.41</td>\n",
       "      <td>29.67</td>\n",
       "    </tr>\n",
       "    <tr>\n",
       "      <th>19</th>\n",
       "      <td>8</td>\n",
       "      <td>SANTO ANGELO - R11</td>\n",
       "      <td>278405</td>\n",
       "      <td>86.56</td>\n",
       "      <td>80.43</td>\n",
       "      <td>37.19</td>\n",
       "    </tr>\n",
       "    <tr>\n",
       "      <th>20</th>\n",
       "      <td>10</td>\n",
       "      <td>IJUI - R13</td>\n",
       "      <td>229480</td>\n",
       "      <td>83.28</td>\n",
       "      <td>77.24</td>\n",
       "      <td>30.23</td>\n",
       "    </tr>\n",
       "    <tr>\n",
       "      <th>21</th>\n",
       "      <td>43</td>\n",
       "      <td>Rio Grande do Sul</td>\n",
       "      <td>11422973</td>\n",
       "      <td>81.45</td>\n",
       "      <td>73.69</td>\n",
       "      <td>28.49</td>\n",
       "    </tr>\n",
       "  </tbody>\n",
       "</table>\n",
       "</div>"
      ],
      "text/plain": [
       "    cd_regiao_covid                  nm_regiao_covid  vl_populacao  \\\n",
       "0                 1            SANTA MARIA - R01 R02        560559   \n",
       "1                 3         CAPAO DA CANOA - R04 R05        401896   \n",
       "2                18           CACHOEIRA DO SUL - R27        202884   \n",
       "3                 9                  CRUZ ALTA - R12        151514   \n",
       "4                17  CAXIAS DO SUL - R23 R24 R25 R26       1240374   \n",
       "5                 4                    TAQUARA - R06        236788   \n",
       "6                19          SANTA CRUZ DO SUL - R28        353229   \n",
       "7                12   PALMEIRA DAS MISSOES - R15 R20        344956   \n",
       "8                14        PASSO FUNDO - R17 R18 R19        669713   \n",
       "9                11                 SANTA ROSA - R14        223150   \n",
       "10                5              NOVO HAMBURGO - R07        835693   \n",
       "11                7               PORTO ALEGRE - R10       2378904   \n",
       "12               16                       BAGE - R22        188543   \n",
       "13               13                    ERECHIM - R16        232680   \n",
       "14               15                    PELOTAS - R21        880571   \n",
       "15                6                     CANOAS - R08        783400   \n",
       "16                2                 URUGUAIANA - R03        456446   \n",
       "17               20                LAJEADO - R29 R30        358523   \n",
       "18               21                     GUAIBA - R09        415265   \n",
       "19                8               SANTO ANGELO - R11        278405   \n",
       "20               10                       IJUI - R13        229480   \n",
       "21               43                Rio Grande do Sul      11422973   \n",
       "\n",
       "    cob_d1_d_unica  cob_d2_d_unica  cob_ref  \n",
       "0            82.57           75.26    29.25  \n",
       "1            90.97           80.28    35.09  \n",
       "2            81.12           76.19    28.57  \n",
       "3            83.01           77.12    34.56  \n",
       "4            81.03           73.24    26.01  \n",
       "5            74.01           64.15    20.77  \n",
       "6            82.41           75.31    29.62  \n",
       "7            84.60           78.47    34.05  \n",
       "8            83.76           76.96    31.80  \n",
       "9            87.57           81.77    33.41  \n",
       "10           77.27           66.98    21.52  \n",
       "11           79.61           72.75    30.22  \n",
       "12           83.15           70.79    24.39  \n",
       "13           85.92           79.26    28.03  \n",
       "14           80.67           71.77    23.63  \n",
       "15           81.14           72.64    26.30  \n",
       "16           80.82           72.36    30.80  \n",
       "17           82.48           75.24    27.02  \n",
       "18           78.60           71.41    29.67  \n",
       "19           86.56           80.43    37.19  \n",
       "20           83.28           77.24    30.23  \n",
       "21           81.45           73.69    28.49  "
      ]
     },
     "execution_count": 8,
     "metadata": {},
     "output_type": "execute_result"
    }
   ],
   "source": [
    "#dados = pd.read_excel(f'{caminho}/{ultimo_arquivo}')\n",
    "dados = pd.read_excel(f'{caminho}/Cobertura Vacinal 15022022 143018.xlsx')\n",
    "dados"
   ]
  },
  {
   "cell_type": "code",
   "execution_count": 20,
   "metadata": {},
   "outputs": [
    {
     "data": {
      "text/html": [
       "<div>\n",
       "<style scoped>\n",
       "    .dataframe tbody tr th:only-of-type {\n",
       "        vertical-align: middle;\n",
       "    }\n",
       "\n",
       "    .dataframe tbody tr th {\n",
       "        vertical-align: top;\n",
       "    }\n",
       "\n",
       "    .dataframe thead th {\n",
       "        text-align: right;\n",
       "    }\n",
       "</style>\n",
       "<table border=\"1\" class=\"dataframe\">\n",
       "  <thead>\n",
       "    <tr style=\"text-align: right;\">\n",
       "      <th></th>\n",
       "      <th>nm_regiao_covid</th>\n",
       "      <th>cd_regiao_covid</th>\n",
       "      <th>vl_populacao</th>\n",
       "      <th>cob_d1_d_unica</th>\n",
       "      <th>cob_d2_d_unica</th>\n",
       "      <th>cob_ref</th>\n",
       "    </tr>\n",
       "  </thead>\n",
       "  <tbody>\n",
       "    <tr>\n",
       "      <th>0</th>\n",
       "      <td>SANTO ANGELO - R11</td>\n",
       "      <td>8</td>\n",
       "      <td>278405</td>\n",
       "      <td>86.56</td>\n",
       "      <td>80.43</td>\n",
       "      <td>37.19</td>\n",
       "    </tr>\n",
       "    <tr>\n",
       "      <th>1</th>\n",
       "      <td>CAPAO DA CANOA - R04 R05</td>\n",
       "      <td>3</td>\n",
       "      <td>401896</td>\n",
       "      <td>90.97</td>\n",
       "      <td>80.28</td>\n",
       "      <td>35.09</td>\n",
       "    </tr>\n",
       "    <tr>\n",
       "      <th>2</th>\n",
       "      <td>CRUZ ALTA - R12</td>\n",
       "      <td>9</td>\n",
       "      <td>151514</td>\n",
       "      <td>83.01</td>\n",
       "      <td>77.12</td>\n",
       "      <td>34.56</td>\n",
       "    </tr>\n",
       "    <tr>\n",
       "      <th>3</th>\n",
       "      <td>PALMEIRA DAS MISSOES - R15 R20</td>\n",
       "      <td>12</td>\n",
       "      <td>344956</td>\n",
       "      <td>84.60</td>\n",
       "      <td>78.47</td>\n",
       "      <td>34.05</td>\n",
       "    </tr>\n",
       "    <tr>\n",
       "      <th>4</th>\n",
       "      <td>SANTA ROSA - R14</td>\n",
       "      <td>11</td>\n",
       "      <td>223150</td>\n",
       "      <td>87.57</td>\n",
       "      <td>81.77</td>\n",
       "      <td>33.41</td>\n",
       "    </tr>\n",
       "    <tr>\n",
       "      <th>5</th>\n",
       "      <td>PASSO FUNDO - R17 R18 R19</td>\n",
       "      <td>14</td>\n",
       "      <td>669713</td>\n",
       "      <td>83.76</td>\n",
       "      <td>76.96</td>\n",
       "      <td>31.80</td>\n",
       "    </tr>\n",
       "    <tr>\n",
       "      <th>6</th>\n",
       "      <td>URUGUAIANA - R03</td>\n",
       "      <td>2</td>\n",
       "      <td>456446</td>\n",
       "      <td>80.82</td>\n",
       "      <td>72.36</td>\n",
       "      <td>30.80</td>\n",
       "    </tr>\n",
       "    <tr>\n",
       "      <th>7</th>\n",
       "      <td>IJUI - R13</td>\n",
       "      <td>10</td>\n",
       "      <td>229480</td>\n",
       "      <td>83.28</td>\n",
       "      <td>77.24</td>\n",
       "      <td>30.23</td>\n",
       "    </tr>\n",
       "    <tr>\n",
       "      <th>8</th>\n",
       "      <td>PORTO ALEGRE - R10</td>\n",
       "      <td>7</td>\n",
       "      <td>2378904</td>\n",
       "      <td>79.61</td>\n",
       "      <td>72.75</td>\n",
       "      <td>30.22</td>\n",
       "    </tr>\n",
       "    <tr>\n",
       "      <th>9</th>\n",
       "      <td>GUAIBA - R09</td>\n",
       "      <td>21</td>\n",
       "      <td>415265</td>\n",
       "      <td>78.60</td>\n",
       "      <td>71.41</td>\n",
       "      <td>29.67</td>\n",
       "    </tr>\n",
       "    <tr>\n",
       "      <th>10</th>\n",
       "      <td>SANTA CRUZ DO SUL - R28</td>\n",
       "      <td>19</td>\n",
       "      <td>353229</td>\n",
       "      <td>82.41</td>\n",
       "      <td>75.31</td>\n",
       "      <td>29.62</td>\n",
       "    </tr>\n",
       "    <tr>\n",
       "      <th>11</th>\n",
       "      <td>SANTA MARIA - R01 R02</td>\n",
       "      <td>1</td>\n",
       "      <td>560559</td>\n",
       "      <td>82.57</td>\n",
       "      <td>75.26</td>\n",
       "      <td>29.25</td>\n",
       "    </tr>\n",
       "    <tr>\n",
       "      <th>12</th>\n",
       "      <td>CACHOEIRA DO SUL - R27</td>\n",
       "      <td>18</td>\n",
       "      <td>202884</td>\n",
       "      <td>81.12</td>\n",
       "      <td>76.19</td>\n",
       "      <td>28.57</td>\n",
       "    </tr>\n",
       "    <tr>\n",
       "      <th>13</th>\n",
       "      <td>Rio Grande do Sul</td>\n",
       "      <td>43</td>\n",
       "      <td>11422973</td>\n",
       "      <td>81.45</td>\n",
       "      <td>73.69</td>\n",
       "      <td>28.49</td>\n",
       "    </tr>\n",
       "    <tr>\n",
       "      <th>14</th>\n",
       "      <td>ERECHIM - R16</td>\n",
       "      <td>13</td>\n",
       "      <td>232680</td>\n",
       "      <td>85.92</td>\n",
       "      <td>79.26</td>\n",
       "      <td>28.03</td>\n",
       "    </tr>\n",
       "    <tr>\n",
       "      <th>15</th>\n",
       "      <td>LAJEADO - R29 R30</td>\n",
       "      <td>20</td>\n",
       "      <td>358523</td>\n",
       "      <td>82.48</td>\n",
       "      <td>75.24</td>\n",
       "      <td>27.02</td>\n",
       "    </tr>\n",
       "    <tr>\n",
       "      <th>16</th>\n",
       "      <td>CANOAS - R08</td>\n",
       "      <td>6</td>\n",
       "      <td>783400</td>\n",
       "      <td>81.14</td>\n",
       "      <td>72.64</td>\n",
       "      <td>26.30</td>\n",
       "    </tr>\n",
       "    <tr>\n",
       "      <th>17</th>\n",
       "      <td>CAXIAS DO SUL - R23 R24 R25 R26</td>\n",
       "      <td>17</td>\n",
       "      <td>1240374</td>\n",
       "      <td>81.03</td>\n",
       "      <td>73.24</td>\n",
       "      <td>26.01</td>\n",
       "    </tr>\n",
       "    <tr>\n",
       "      <th>18</th>\n",
       "      <td>BAGE - R22</td>\n",
       "      <td>16</td>\n",
       "      <td>188543</td>\n",
       "      <td>83.15</td>\n",
       "      <td>70.79</td>\n",
       "      <td>24.39</td>\n",
       "    </tr>\n",
       "    <tr>\n",
       "      <th>19</th>\n",
       "      <td>PELOTAS - R21</td>\n",
       "      <td>15</td>\n",
       "      <td>880571</td>\n",
       "      <td>80.67</td>\n",
       "      <td>71.77</td>\n",
       "      <td>23.63</td>\n",
       "    </tr>\n",
       "    <tr>\n",
       "      <th>20</th>\n",
       "      <td>NOVO HAMBURGO - R07</td>\n",
       "      <td>5</td>\n",
       "      <td>835693</td>\n",
       "      <td>77.27</td>\n",
       "      <td>66.98</td>\n",
       "      <td>21.52</td>\n",
       "    </tr>\n",
       "    <tr>\n",
       "      <th>21</th>\n",
       "      <td>TAQUARA - R06</td>\n",
       "      <td>4</td>\n",
       "      <td>236788</td>\n",
       "      <td>74.01</td>\n",
       "      <td>64.15</td>\n",
       "      <td>20.77</td>\n",
       "    </tr>\n",
       "  </tbody>\n",
       "</table>\n",
       "</div>"
      ],
      "text/plain": [
       "                    nm_regiao_covid  cd_regiao_covid  vl_populacao  \\\n",
       "0                SANTO ANGELO - R11                8        278405   \n",
       "1          CAPAO DA CANOA - R04 R05                3        401896   \n",
       "2                   CRUZ ALTA - R12                9        151514   \n",
       "3    PALMEIRA DAS MISSOES - R15 R20               12        344956   \n",
       "4                  SANTA ROSA - R14               11        223150   \n",
       "5         PASSO FUNDO - R17 R18 R19               14        669713   \n",
       "6                  URUGUAIANA - R03                2        456446   \n",
       "7                        IJUI - R13               10        229480   \n",
       "8                PORTO ALEGRE - R10                7       2378904   \n",
       "9                      GUAIBA - R09               21        415265   \n",
       "10          SANTA CRUZ DO SUL - R28               19        353229   \n",
       "11            SANTA MARIA - R01 R02                1        560559   \n",
       "12           CACHOEIRA DO SUL - R27               18        202884   \n",
       "13                Rio Grande do Sul               43      11422973   \n",
       "14                    ERECHIM - R16               13        232680   \n",
       "15                LAJEADO - R29 R30               20        358523   \n",
       "16                     CANOAS - R08                6        783400   \n",
       "17  CAXIAS DO SUL - R23 R24 R25 R26               17       1240374   \n",
       "18                       BAGE - R22               16        188543   \n",
       "19                    PELOTAS - R21               15        880571   \n",
       "20              NOVO HAMBURGO - R07                5        835693   \n",
       "21                    TAQUARA - R06                4        236788   \n",
       "\n",
       "    cob_d1_d_unica  cob_d2_d_unica  cob_ref  \n",
       "0            86.56           80.43    37.19  \n",
       "1            90.97           80.28    35.09  \n",
       "2            83.01           77.12    34.56  \n",
       "3            84.60           78.47    34.05  \n",
       "4            87.57           81.77    33.41  \n",
       "5            83.76           76.96    31.80  \n",
       "6            80.82           72.36    30.80  \n",
       "7            83.28           77.24    30.23  \n",
       "8            79.61           72.75    30.22  \n",
       "9            78.60           71.41    29.67  \n",
       "10           82.41           75.31    29.62  \n",
       "11           82.57           75.26    29.25  \n",
       "12           81.12           76.19    28.57  \n",
       "13           81.45           73.69    28.49  \n",
       "14           85.92           79.26    28.03  \n",
       "15           82.48           75.24    27.02  \n",
       "16           81.14           72.64    26.30  \n",
       "17           81.03           73.24    26.01  \n",
       "18           83.15           70.79    24.39  \n",
       "19           80.67           71.77    23.63  \n",
       "20           77.27           66.98    21.52  \n",
       "21           74.01           64.15    20.77  "
      ]
     },
     "execution_count": 20,
     "metadata": {},
     "output_type": "execute_result"
    }
   ],
   "source": [
    "filtrado = dados.sort_values(by=['cob_ref','cob_d2_d_unica'],ascending=False)\n",
    "filtrado = filtrado.set_index('nm_regiao_covid')\n",
    "filtrado = filtrado.reset_index()\n",
    "#filtrado[['cob_ref','cob_d2_d_unica']] = filtrado[['cob_ref','cob_d2_d_unica']]*100\n",
    "#filtrado = filtrado.drop(columns=['Unnamed: 0','Unnamed: 1','Unnamed: 2','Unnamed: 6'])\n",
    "filtrado"
   ]
  },
  {
   "cell_type": "code",
   "execution_count": 23,
   "metadata": {},
   "outputs": [
    {
     "data": {
      "application/vnd.plotly.v1+json": {
       "config": {
        "plotlyServerURL": "https://plot.ly"
       },
       "data": [
        {
         "hovertemplate": "Região=SANTO ANGELO - R11<br>Cobertura com esquema primário=%{x}<br>Cobertura com vacinação de reforço=%{y}<extra></extra>",
         "legendgroup": "SANTO ANGELO - R11",
         "marker": {
          "color": "#ed0707",
          "line": {
           "color": "DarkSlateGrey",
           "width": 1.5
          },
          "size": 20,
          "symbol": 2
         },
         "mode": "markers",
         "name": "SANTO ANGELO - R11",
         "orientation": "v",
         "showlegend": true,
         "type": "scatter",
         "x": [
          80.43
         ],
         "xaxis": "x",
         "y": [
          37.19
         ],
         "yaxis": "y"
        },
        {
         "hovertemplate": "Região=CAPAO DA CANOA - R04 R05<br>Cobertura com esquema primário=%{x}<br>Cobertura com vacinação de reforço=%{y}<extra></extra>",
         "legendgroup": "CAPAO DA CANOA - R04 R05",
         "marker": {
          "color": "#4a0707",
          "line": {
           "color": "DarkSlateGrey",
           "width": 1.5
          },
          "size": 20,
          "symbol": "square"
         },
         "mode": "markers",
         "name": "CAPAO DA CANOA - R04 R05",
         "orientation": "v",
         "showlegend": true,
         "type": "scatter",
         "x": [
          80.28
         ],
         "xaxis": "x",
         "y": [
          35.09
         ],
         "yaxis": "y"
        },
        {
         "hovertemplate": "Região=CRUZ ALTA - R12<br>Cobertura com esquema primário=%{x}<br>Cobertura com vacinação de reforço=%{y}<extra></extra>",
         "legendgroup": "CRUZ ALTA - R12",
         "marker": {
          "color": "#4a1c07",
          "line": {
           "color": "DarkSlateGrey",
           "width": 1.5
          },
          "size": 20,
          "symbol": 2
         },
         "mode": "markers",
         "name": "CRUZ ALTA - R12",
         "orientation": "v",
         "showlegend": true,
         "type": "scatter",
         "x": [
          77.12
         ],
         "xaxis": "x",
         "y": [
          34.56
         ],
         "yaxis": "y"
        },
        {
         "hovertemplate": "Região=PALMEIRA DAS MISSOES - R15 R20<br>Cobertura com esquema primário=%{x}<br>Cobertura com vacinação de reforço=%{y}<extra></extra>",
         "legendgroup": "PALMEIRA DAS MISSOES - R15 R20",
         "marker": {
          "color": "#c94d14",
          "line": {
           "color": "DarkSlateGrey",
           "width": 1.5
          },
          "size": 20,
          "symbol": "square"
         },
         "mode": "markers",
         "name": "PALMEIRA DAS MISSOES - R15 R20",
         "orientation": "v",
         "showlegend": true,
         "type": "scatter",
         "x": [
          78.47
         ],
         "xaxis": "x",
         "y": [
          34.05
         ],
         "yaxis": "y"
        },
        {
         "hovertemplate": "Região=SANTA ROSA - R14<br>Cobertura com esquema primário=%{x}<br>Cobertura com vacinação de reforço=%{y}<extra></extra>",
         "legendgroup": "SANTA ROSA - R14",
         "marker": {
          "color": "#c97e14",
          "line": {
           "color": "DarkSlateGrey",
           "width": 1.5
          },
          "size": 20,
          "symbol": 2
         },
         "mode": "markers",
         "name": "SANTA ROSA - R14",
         "orientation": "v",
         "showlegend": true,
         "type": "scatter",
         "x": [
          81.77
         ],
         "xaxis": "x",
         "y": [
          33.41
         ],
         "yaxis": "y"
        },
        {
         "hovertemplate": "Região=PASSO FUNDO - R17 R18 R19<br>Cobertura com esquema primário=%{x}<br>Cobertura com vacinação de reforço=%{y}<extra></extra>",
         "legendgroup": "PASSO FUNDO - R17 R18 R19",
         "marker": {
          "color": "#ffd900",
          "line": {
           "color": "DarkSlateGrey",
           "width": 1.5
          },
          "size": 20,
          "symbol": "square"
         },
         "mode": "markers",
         "name": "PASSO FUNDO - R17 R18 R19",
         "orientation": "v",
         "showlegend": true,
         "type": "scatter",
         "x": [
          76.96
         ],
         "xaxis": "x",
         "y": [
          31.8
         ],
         "yaxis": "y"
        },
        {
         "hovertemplate": "Região=URUGUAIANA - R03<br>Cobertura com esquema primário=%{x}<br>Cobertura com vacinação de reforço=%{y}<extra></extra>",
         "legendgroup": "URUGUAIANA - R03",
         "marker": {
          "color": "#72cf08",
          "line": {
           "color": "DarkSlateGrey",
           "width": 1.5
          },
          "size": 20,
          "symbol": 2
         },
         "mode": "markers",
         "name": "URUGUAIANA - R03",
         "orientation": "v",
         "showlegend": true,
         "type": "scatter",
         "x": [
          72.36
         ],
         "xaxis": "x",
         "y": [
          30.8
         ],
         "yaxis": "y"
        },
        {
         "hovertemplate": "Região=IJUI - R13<br>Cobertura com esquema primário=%{x}<br>Cobertura com vacinação de reforço=%{y}<extra></extra>",
         "legendgroup": "IJUI - R13",
         "marker": {
          "color": "#0b5902",
          "line": {
           "color": "DarkSlateGrey",
           "width": 1.5
          },
          "size": 20,
          "symbol": "square"
         },
         "mode": "markers",
         "name": "IJUI - R13",
         "orientation": "v",
         "showlegend": true,
         "type": "scatter",
         "x": [
          77.24
         ],
         "xaxis": "x",
         "y": [
          30.23
         ],
         "yaxis": "y"
        },
        {
         "hovertemplate": "Região=PORTO ALEGRE - R10<br>Cobertura com esquema primário=%{x}<br>Cobertura com vacinação de reforço=%{y}<extra></extra>",
         "legendgroup": "PORTO ALEGRE - R10",
         "marker": {
          "color": "#038054",
          "line": {
           "color": "DarkSlateGrey",
           "width": 1.5
          },
          "size": 20,
          "symbol": 2
         },
         "mode": "markers",
         "name": "PORTO ALEGRE - R10",
         "orientation": "v",
         "showlegend": true,
         "type": "scatter",
         "x": [
          72.75
         ],
         "xaxis": "x",
         "y": [
          30.22
         ],
         "yaxis": "y"
        },
        {
         "hovertemplate": "Região=GUAIBA - R09<br>Cobertura com esquema primário=%{x}<br>Cobertura com vacinação de reforço=%{y}<extra></extra>",
         "legendgroup": "GUAIBA - R09",
         "marker": {
          "color": "#14d9c8",
          "line": {
           "color": "DarkSlateGrey",
           "width": 1.5
          },
          "size": 20,
          "symbol": "square"
         },
         "mode": "markers",
         "name": "GUAIBA - R09",
         "orientation": "v",
         "showlegend": true,
         "type": "scatter",
         "x": [
          71.41
         ],
         "xaxis": "x",
         "y": [
          29.67
         ],
         "yaxis": "y"
        },
        {
         "hovertemplate": "Região=SANTA CRUZ DO SUL - R28<br>Cobertura com esquema primário=%{x}<br>Cobertura com vacinação de reforço=%{y}<extra></extra>",
         "legendgroup": "SANTA CRUZ DO SUL - R28",
         "marker": {
          "color": "#036487",
          "line": {
           "color": "DarkSlateGrey",
           "width": 1.5
          },
          "size": 20,
          "symbol": 2
         },
         "mode": "markers",
         "name": "SANTA CRUZ DO SUL - R28",
         "orientation": "v",
         "showlegend": true,
         "type": "scatter",
         "x": [
          75.31
         ],
         "xaxis": "x",
         "y": [
          29.62
         ],
         "yaxis": "y"
        },
        {
         "hovertemplate": "Região=SANTA MARIA - R01 R02<br>Cobertura com esquema primário=%{x}<br>Cobertura com vacinação de reforço=%{y}<extra></extra>",
         "legendgroup": "SANTA MARIA - R01 R02",
         "marker": {
          "color": "#001061",
          "line": {
           "color": "DarkSlateGrey",
           "width": 1.5
          },
          "size": 20,
          "symbol": "square"
         },
         "mode": "markers",
         "name": "SANTA MARIA - R01 R02",
         "orientation": "v",
         "showlegend": true,
         "type": "scatter",
         "x": [
          75.26
         ],
         "xaxis": "x",
         "y": [
          29.25
         ],
         "yaxis": "y"
        },
        {
         "hovertemplate": "Região=CACHOEIRA DO SUL - R27<br>Cobertura com esquema primário=%{x}<br>Cobertura com vacinação de reforço=%{y}<extra></extra>",
         "legendgroup": "CACHOEIRA DO SUL - R27",
         "marker": {
          "color": "#680dde",
          "line": {
           "color": "DarkSlateGrey",
           "width": 1.5
          },
          "size": 20,
          "symbol": 2
         },
         "mode": "markers",
         "name": "CACHOEIRA DO SUL - R27",
         "orientation": "v",
         "showlegend": true,
         "type": "scatter",
         "x": [
          76.19
         ],
         "xaxis": "x",
         "y": [
          28.57
         ],
         "yaxis": "y"
        },
        {
         "hovertemplate": "Região=Rio Grande do Sul<br>Cobertura com esquema primário=%{x}<br>Cobertura com vacinação de reforço=%{y}<extra></extra>",
         "legendgroup": "Rio Grande do Sul",
         "marker": {
          "color": "#a622d6",
          "line": {
           "color": "DarkSlateGrey",
           "width": 1.5
          },
          "size": 20,
          "symbol": "square"
         },
         "mode": "markers",
         "name": "Rio Grande do Sul",
         "orientation": "v",
         "showlegend": true,
         "type": "scatter",
         "x": [
          73.69
         ],
         "xaxis": "x",
         "y": [
          28.49
         ],
         "yaxis": "y"
        },
        {
         "hovertemplate": "Região=ERECHIM - R16<br>Cobertura com esquema primário=%{x}<br>Cobertura com vacinação de reforço=%{y}<extra></extra>",
         "legendgroup": "ERECHIM - R16",
         "marker": {
          "color": "#ff36eb",
          "line": {
           "color": "DarkSlateGrey",
           "width": 1.5
          },
          "size": 20,
          "symbol": 2
         },
         "mode": "markers",
         "name": "ERECHIM - R16",
         "orientation": "v",
         "showlegend": true,
         "type": "scatter",
         "x": [
          79.26
         ],
         "xaxis": "x",
         "y": [
          28.03
         ],
         "yaxis": "y"
        },
        {
         "hovertemplate": "Região=LAJEADO - R29 R30<br>Cobertura com esquema primário=%{x}<br>Cobertura com vacinação de reforço=%{y}<extra></extra>",
         "legendgroup": "LAJEADO - R29 R30",
         "marker": {
          "color": "#ff3d5e",
          "line": {
           "color": "DarkSlateGrey",
           "width": 1.5
          },
          "size": 20,
          "symbol": "square"
         },
         "mode": "markers",
         "name": "LAJEADO - R29 R30",
         "orientation": "v",
         "showlegend": true,
         "type": "scatter",
         "x": [
          75.24
         ],
         "xaxis": "x",
         "y": [
          27.02
         ],
         "yaxis": "y"
        },
        {
         "hovertemplate": "Região=CANOAS - R08<br>Cobertura com esquema primário=%{x}<br>Cobertura com vacinação de reforço=%{y}<extra></extra>",
         "legendgroup": "CANOAS - R08",
         "marker": {
          "color": "#c9c9c9",
          "line": {
           "color": "DarkSlateGrey",
           "width": 1.5
          },
          "size": 20,
          "symbol": 2
         },
         "mode": "markers",
         "name": "CANOAS - R08",
         "orientation": "v",
         "showlegend": true,
         "type": "scatter",
         "x": [
          72.64
         ],
         "xaxis": "x",
         "y": [
          26.3
         ],
         "yaxis": "y"
        },
        {
         "hovertemplate": "Região=CAXIAS DO SUL - R23 R24 R25 R26<br>Cobertura com esquema primário=%{x}<br>Cobertura com vacinação de reforço=%{y}<extra></extra>",
         "legendgroup": "CAXIAS DO SUL - R23 R24 R25 R26",
         "marker": {
          "color": "#141414",
          "line": {
           "color": "DarkSlateGrey",
           "width": 1.5
          },
          "size": 20,
          "symbol": "square"
         },
         "mode": "markers",
         "name": "CAXIAS DO SUL - R23 R24 R25 R26",
         "orientation": "v",
         "showlegend": true,
         "type": "scatter",
         "x": [
          73.24
         ],
         "xaxis": "x",
         "y": [
          26.01
         ],
         "yaxis": "y"
        },
        {
         "hovertemplate": "Região=BAGE - R22<br>Cobertura com esquema primário=%{x}<br>Cobertura com vacinação de reforço=%{y}<extra></extra>",
         "legendgroup": "BAGE - R22",
         "marker": {
          "color": "#ffc191",
          "line": {
           "color": "DarkSlateGrey",
           "width": 1.5
          },
          "size": 20,
          "symbol": 2
         },
         "mode": "markers",
         "name": "BAGE - R22",
         "orientation": "v",
         "showlegend": true,
         "type": "scatter",
         "x": [
          70.79
         ],
         "xaxis": "x",
         "y": [
          24.39
         ],
         "yaxis": "y"
        },
        {
         "hovertemplate": "Região=PELOTAS - R21<br>Cobertura com esquema primário=%{x}<br>Cobertura com vacinação de reforço=%{y}<extra></extra>",
         "legendgroup": "PELOTAS - R21",
         "marker": {
          "color": "#52ff91",
          "line": {
           "color": "DarkSlateGrey",
           "width": 1.5
          },
          "size": 20,
          "symbol": "square"
         },
         "mode": "markers",
         "name": "PELOTAS - R21",
         "orientation": "v",
         "showlegend": true,
         "type": "scatter",
         "x": [
          71.77
         ],
         "xaxis": "x",
         "y": [
          23.63
         ],
         "yaxis": "y"
        },
        {
         "hovertemplate": "Região=NOVO HAMBURGO - R07<br>Cobertura com esquema primário=%{x}<br>Cobertura com vacinação de reforço=%{y}<extra></extra>",
         "legendgroup": "NOVO HAMBURGO - R07",
         "marker": {
          "color": "#00ff91",
          "line": {
           "color": "DarkSlateGrey",
           "width": 1.5
          },
          "size": 20,
          "symbol": 2
         },
         "mode": "markers",
         "name": "NOVO HAMBURGO - R07",
         "orientation": "v",
         "showlegend": true,
         "type": "scatter",
         "x": [
          66.98
         ],
         "xaxis": "x",
         "y": [
          21.52
         ],
         "yaxis": "y"
        },
        {
         "hovertemplate": "Região=TAQUARA - R06<br>Cobertura com esquema primário=%{x}<br>Cobertura com vacinação de reforço=%{y}<extra></extra>",
         "legendgroup": "TAQUARA - R06",
         "marker": {
          "color": "#ed0707",
          "line": {
           "color": "DarkSlateGrey",
           "width": 1.5
          },
          "size": 20,
          "symbol": "square"
         },
         "mode": "markers",
         "name": "TAQUARA - R06",
         "orientation": "v",
         "showlegend": true,
         "type": "scatter",
         "x": [
          64.15
         ],
         "xaxis": "x",
         "y": [
          20.77
         ],
         "yaxis": "y"
        }
       ],
       "layout": {
        "font": {
         "family": "Courier New, monospace",
         "size": 20
        },
        "height": 830,
        "legend": {
         "title": {
          "text": "Região"
         },
         "tracegroupgap": 0
        },
        "margin": {
         "t": 60
        },
        "template": {
         "data": {
          "pie": [
           {
            "automargin": true,
            "type": "pie"
           }
          ]
         },
         "layout": {
          "xaxis": {
           "showgrid": true,
           "title": {
            "standoff": 15
           }
          },
          "yaxis": {
           "showgrid": true,
           "title": {
            "standoff": 15
           }
          }
         }
        },
        "width": 1300,
        "xaxis": {
         "anchor": "y",
         "domain": [
          0,
          1
         ],
         "range": [
          50,
          90
         ],
         "title": {
          "text": "Cobertura com esquema primário"
         }
        },
        "yaxis": {
         "anchor": "x",
         "domain": [
          0,
          1
         ],
         "range": [
          0,
          40
         ],
         "title": {
          "text": "Cobertura com vacinação de reforço"
         }
        }
       }
      }
     },
     "metadata": {},
     "output_type": "display_data"
    }
   ],
   "source": [
    "raw_symbols = SymbolValidator().values\n",
    "namestems = []\n",
    "namevariants = []\n",
    "symbols = []\n",
    "for i in range(0,len(raw_symbols),3):\n",
    "    name = raw_symbols[i+2]\n",
    "    symbols.append(raw_symbols[i])\n",
    "    namestems.append(name.replace(\"-open\", \"\").replace(\"-dot\", \"\"))\n",
    "    namevariants.append(name[len(namestems[-1]):])\n",
    "\n",
    "fig = px.scatter(filtrado,x='cob_d2_d_unica',y='cob_ref',symbol='nm_regiao_covid',symbol_sequence=[2,'square'],color='nm_regiao_covid',\n",
    "color_discrete_sequence=['#ed0707','#4a0707','#4a1c07','#c94d14','#c97e14','#ffd900','#72cf08','#0b5902','#038054','#14d9c8','#036487','#001061','#680dde','#a622d6','#ff36eb','#ff3d5e',\n",
    "                         '#c9c9c9','#141414','#ffc191','#52ff91','#00ff91'],\n",
    "width=1300,height=830,template='gridon',\n",
    "labels={'cob_ref':'Cobertura com vacinação de reforço','cob_d2_d_unica':'Cobertura com esquema primário','nm_regiao_covid':'Região'})\n",
    "fig.update_xaxes(range=[50,90])\n",
    "fig.update_yaxes(range=[0,40])\n",
    "fig.update_traces(marker=dict(size=20,line=dict(width=1.5,color='DarkSlateGrey')))\n",
    "fig.update_layout(font=dict(family=\"Courier New, monospace\",size=20))\n",
    "\n",
    "fig.show()"
   ]
  },
  {
   "cell_type": "code",
   "execution_count": null,
   "metadata": {},
   "outputs": [],
   "source": []
  }
 ],
 "metadata": {
  "interpreter": {
   "hash": "1de187e5902025e922368a2d9f95ab7dc4a859d9f86e50683b5a6b0b3bf7ba31"
  },
  "kernelspec": {
   "display_name": "Python 3.9.7 64-bit ('base': conda)",
   "language": "python",
   "name": "python3"
  },
  "language_info": {
   "codemirror_mode": {
    "name": "ipython",
    "version": 3
   },
   "file_extension": ".py",
   "mimetype": "text/x-python",
   "name": "python",
   "nbconvert_exporter": "python",
   "pygments_lexer": "ipython3",
   "version": "3.10.0"
  },
  "orig_nbformat": 4
 },
 "nbformat": 4,
 "nbformat_minor": 2
}
