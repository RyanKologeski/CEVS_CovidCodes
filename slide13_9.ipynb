{
 "cells": [
  {
   "cell_type": "code",
   "execution_count": 1,
   "metadata": {},
   "outputs": [],
   "source": [
    "import pandas as pd\n",
    "from pandas import DataFrame\n",
    "import matplotlib.pyplot as plt\n",
    "import numpy as np\n",
    "import os\n",
    "from datetime import date\n",
    "import datetime\n",
    "from pathlib import Path\n",
    "import seaborn as sns"
   ]
  },
  {
   "cell_type": "code",
   "execution_count": 2,
   "metadata": {},
   "outputs": [
    {
     "data": {
      "text/plain": [
       "'Banco SIVEP 18_02_2022 07_33_42.xlsx'"
      ]
     },
     "execution_count": 2,
     "metadata": {},
     "output_type": "execute_result"
    }
   ],
   "source": [
    "caminho = r'Z:\\Banco SIVEP Exportação'\n",
    "lista_arquivos = os.listdir(caminho)\n",
    "lista_datas = []\n",
    "\n",
    "for arquivo in lista_arquivos:\n",
    "    #Descobrir a data desse arquivo\n",
    "    data = os.path.getmtime(f'{caminho}/{arquivo}')\n",
    "    lista_datas.append((data,arquivo))\n",
    "\n",
    "lista_datas.sort(reverse=True) #Vai ordenar a lista em ordem decrescente com reverse=True Obs: Ele ordena sempre com o primeiro valor, por isso colocamos data antes de arquivo\n",
    "ultimo_arquivo = lista_datas[0][1] #Pega o ultimo arquivo\n",
    "ultimo_arquivo"
   ]
  },
  {
   "cell_type": "code",
   "execution_count": 3,
   "metadata": {},
   "outputs": [],
   "source": [
    "if not os.path.exists(f'Z:\\Graficos Boletim_Python/Gráficos {date.today().day}_{date.today().month}_{date.today().year}'):\n",
    "    os.makedirs(f'Z:\\Graficos Boletim_Python/Gráficos {date.today().day}_{date.today().month}_{date.today().year}')"
   ]
  },
  {
   "cell_type": "code",
   "execution_count": 4,
   "metadata": {},
   "outputs": [],
   "source": [
    "dados = pd.read_excel(f'{caminho}/{ultimo_arquivo}')\n",
    "#dados = pd.read_excel('Z:/Banco SIVEP Exportação/Banco SIVEP 26_01_2022 07_33_07.xlsx')"
   ]
  },
  {
   "cell_type": "code",
   "execution_count": 5,
   "metadata": {},
   "outputs": [
    {
     "name": "stderr",
     "output_type": "stream",
     "text": [
      "C:\\Users\\RYAN-R~1\\AppData\\Local\\Temp/ipykernel_2652/3555088655.py:2: SettingWithCopyWarning: \n",
      "A value is trying to be set on a copy of a slice from a DataFrame.\n",
      "Try using .loc[row_indexer,col_indexer] = value instead\n",
      "\n",
      "See the caveats in the documentation: https://pandas.pydata.org/pandas-docs/stable/user_guide/indexing.html#returning-a-view-versus-a-copy\n",
      "  filtrado['Faixa Etaria'] = filtrado['Faixa Etaria'].map({'0-9 anos':'0-9 anos','10-19 anos':'10-19 anos','20-29 anos':'20-59 anos','30-39 anos':'20-59 anos',\n",
      "C:\\Users\\RYAN-R~1\\AppData\\Local\\Temp/ipykernel_2652/3555088655.py:5: SettingWithCopyWarning: \n",
      "A value is trying to be set on a copy of a slice from a DataFrame.\n",
      "Try using .loc[row_indexer,col_indexer] = value instead\n",
      "\n",
      "See the caveats in the documentation: https://pandas.pydata.org/pandas-docs/stable/user_guide/indexing.html#returning-a-view-versus-a-copy\n",
      "  filtrado['Doenca Cardiovascular'] = filtrado['Doenca Cardiovascular'].map({1.0:'Doença cardiovascular'})\n",
      "C:\\Users\\RYAN-R~1\\AppData\\Local\\Temp/ipykernel_2652/3555088655.py:6: SettingWithCopyWarning: \n",
      "A value is trying to be set on a copy of a slice from a DataFrame.\n",
      "Try using .loc[row_indexer,col_indexer] = value instead\n",
      "\n",
      "See the caveats in the documentation: https://pandas.pydata.org/pandas-docs/stable/user_guide/indexing.html#returning-a-view-versus-a-copy\n",
      "  filtrado['Doenca Neurologica'] = filtrado['Doenca Neurologica'].map({1.0:'Doença neurológica'})\n",
      "C:\\Users\\RYAN-R~1\\AppData\\Local\\Temp/ipykernel_2652/3555088655.py:7: SettingWithCopyWarning: \n",
      "A value is trying to be set on a copy of a slice from a DataFrame.\n",
      "Try using .loc[row_indexer,col_indexer] = value instead\n",
      "\n",
      "See the caveats in the documentation: https://pandas.pydata.org/pandas-docs/stable/user_guide/indexing.html#returning-a-view-versus-a-copy\n",
      "  filtrado['Imunodeficiencia'] = filtrado['Imunodeficiencia'].map({1.0:'Imunodeficiência'})\n",
      "C:\\Users\\RYAN-R~1\\AppData\\Local\\Temp/ipykernel_2652/3555088655.py:8: SettingWithCopyWarning: \n",
      "A value is trying to be set on a copy of a slice from a DataFrame.\n",
      "Try using .loc[row_indexer,col_indexer] = value instead\n",
      "\n",
      "See the caveats in the documentation: https://pandas.pydata.org/pandas-docs/stable/user_guide/indexing.html#returning-a-view-versus-a-copy\n",
      "  filtrado['Asma'] = filtrado['Asma'].map({1.0:'Asma'})\n",
      "C:\\Users\\RYAN-R~1\\AppData\\Local\\Temp/ipykernel_2652/3555088655.py:9: SettingWithCopyWarning: \n",
      "A value is trying to be set on a copy of a slice from a DataFrame.\n",
      "Try using .loc[row_indexer,col_indexer] = value instead\n",
      "\n",
      "See the caveats in the documentation: https://pandas.pydata.org/pandas-docs/stable/user_guide/indexing.html#returning-a-view-versus-a-copy\n",
      "  filtrado['Sindrome de Down'] = filtrado['Sindrome de Down'].map({1.0:'Síndrome de Down'})\n"
     ]
    },
    {
     "data": {
      "text/html": [
       "<div>\n",
       "<style scoped>\n",
       "    .dataframe tbody tr th:only-of-type {\n",
       "        vertical-align: middle;\n",
       "    }\n",
       "\n",
       "    .dataframe tbody tr th {\n",
       "        vertical-align: top;\n",
       "    }\n",
       "\n",
       "    .dataframe thead th {\n",
       "        text-align: right;\n",
       "    }\n",
       "</style>\n",
       "<table border=\"1\" class=\"dataframe\">\n",
       "  <thead>\n",
       "    <tr style=\"text-align: right;\">\n",
       "      <th></th>\n",
       "      <th>Tem Comorbidade</th>\n",
       "      <th>Doenca Cardiovascular</th>\n",
       "      <th>Doenca Neurologica</th>\n",
       "      <th>Imunodeficiencia</th>\n",
       "      <th>Asma</th>\n",
       "      <th>Sindrome de Down</th>\n",
       "      <th>Faixa Etaria</th>\n",
       "      <th>Classificacao final</th>\n",
       "      <th>Houve internacao</th>\n",
       "      <th>Evolucao</th>\n",
       "    </tr>\n",
       "  </thead>\n",
       "  <tbody>\n",
       "    <tr>\n",
       "      <th>0</th>\n",
       "      <td>Não</td>\n",
       "      <td>NaN</td>\n",
       "      <td>NaN</td>\n",
       "      <td>NaN</td>\n",
       "      <td>NaN</td>\n",
       "      <td>NaN</td>\n",
       "      <td>20-59 anos</td>\n",
       "      <td>COVID-19</td>\n",
       "      <td>Não</td>\n",
       "      <td>Óbito</td>\n",
       "    </tr>\n",
       "    <tr>\n",
       "      <th>1</th>\n",
       "      <td>Sim</td>\n",
       "      <td>Doença cardiovascular</td>\n",
       "      <td>NaN</td>\n",
       "      <td>NaN</td>\n",
       "      <td>NaN</td>\n",
       "      <td>NaN</td>\n",
       "      <td>60 anos ou mais</td>\n",
       "      <td>COVID-19</td>\n",
       "      <td>Sim</td>\n",
       "      <td>Cura</td>\n",
       "    </tr>\n",
       "    <tr>\n",
       "      <th>2</th>\n",
       "      <td>Não</td>\n",
       "      <td>NaN</td>\n",
       "      <td>NaN</td>\n",
       "      <td>NaN</td>\n",
       "      <td>NaN</td>\n",
       "      <td>NaN</td>\n",
       "      <td>20-59 anos</td>\n",
       "      <td>COVID-19</td>\n",
       "      <td>Sim</td>\n",
       "      <td>Cura</td>\n",
       "    </tr>\n",
       "    <tr>\n",
       "      <th>3</th>\n",
       "      <td>Não</td>\n",
       "      <td>NaN</td>\n",
       "      <td>NaN</td>\n",
       "      <td>NaN</td>\n",
       "      <td>NaN</td>\n",
       "      <td>NaN</td>\n",
       "      <td>60 anos ou mais</td>\n",
       "      <td>COVID-19</td>\n",
       "      <td>Não</td>\n",
       "      <td>Óbito</td>\n",
       "    </tr>\n",
       "    <tr>\n",
       "      <th>4</th>\n",
       "      <td>Não</td>\n",
       "      <td>NaN</td>\n",
       "      <td>NaN</td>\n",
       "      <td>NaN</td>\n",
       "      <td>NaN</td>\n",
       "      <td>NaN</td>\n",
       "      <td>20-59 anos</td>\n",
       "      <td>COVID-19</td>\n",
       "      <td>Sim</td>\n",
       "      <td>Cura</td>\n",
       "    </tr>\n",
       "    <tr>\n",
       "      <th>...</th>\n",
       "      <td>...</td>\n",
       "      <td>...</td>\n",
       "      <td>...</td>\n",
       "      <td>...</td>\n",
       "      <td>...</td>\n",
       "      <td>...</td>\n",
       "      <td>...</td>\n",
       "      <td>...</td>\n",
       "      <td>...</td>\n",
       "      <td>...</td>\n",
       "    </tr>\n",
       "    <tr>\n",
       "      <th>164941</th>\n",
       "      <td>Não</td>\n",
       "      <td>NaN</td>\n",
       "      <td>NaN</td>\n",
       "      <td>NaN</td>\n",
       "      <td>NaN</td>\n",
       "      <td>NaN</td>\n",
       "      <td>60 anos ou mais</td>\n",
       "      <td>COVID-19</td>\n",
       "      <td>Sim</td>\n",
       "      <td>Cura</td>\n",
       "    </tr>\n",
       "    <tr>\n",
       "      <th>164942</th>\n",
       "      <td>Sim</td>\n",
       "      <td>Doença cardiovascular</td>\n",
       "      <td>NaN</td>\n",
       "      <td>NaN</td>\n",
       "      <td>NaN</td>\n",
       "      <td>NaN</td>\n",
       "      <td>60 anos ou mais</td>\n",
       "      <td>COVID-19</td>\n",
       "      <td>Sim</td>\n",
       "      <td>Óbito</td>\n",
       "    </tr>\n",
       "    <tr>\n",
       "      <th>164943</th>\n",
       "      <td>Sim</td>\n",
       "      <td>Doença cardiovascular</td>\n",
       "      <td>NaN</td>\n",
       "      <td>NaN</td>\n",
       "      <td>NaN</td>\n",
       "      <td>NaN</td>\n",
       "      <td>20-59 anos</td>\n",
       "      <td>COVID-19</td>\n",
       "      <td>Sim</td>\n",
       "      <td>Cura</td>\n",
       "    </tr>\n",
       "    <tr>\n",
       "      <th>164944</th>\n",
       "      <td>Sim</td>\n",
       "      <td>NaN</td>\n",
       "      <td>NaN</td>\n",
       "      <td>NaN</td>\n",
       "      <td>NaN</td>\n",
       "      <td>NaN</td>\n",
       "      <td>60 anos ou mais</td>\n",
       "      <td>SRAG não especificado</td>\n",
       "      <td>Sim</td>\n",
       "      <td>Cura</td>\n",
       "    </tr>\n",
       "    <tr>\n",
       "      <th>164945</th>\n",
       "      <td>NaN</td>\n",
       "      <td>NaN</td>\n",
       "      <td>NaN</td>\n",
       "      <td>NaN</td>\n",
       "      <td>NaN</td>\n",
       "      <td>NaN</td>\n",
       "      <td>NaN</td>\n",
       "      <td>NaN</td>\n",
       "      <td>NaN</td>\n",
       "      <td>NaN</td>\n",
       "    </tr>\n",
       "  </tbody>\n",
       "</table>\n",
       "<p>164946 rows × 10 columns</p>\n",
       "</div>"
      ],
      "text/plain": [
       "       Tem Comorbidade  Doenca Cardiovascular Doenca Neurologica  \\\n",
       "0                  Não                    NaN                NaN   \n",
       "1                  Sim  Doença cardiovascular                NaN   \n",
       "2                  Não                    NaN                NaN   \n",
       "3                  Não                    NaN                NaN   \n",
       "4                  Não                    NaN                NaN   \n",
       "...                ...                    ...                ...   \n",
       "164941             Não                    NaN                NaN   \n",
       "164942             Sim  Doença cardiovascular                NaN   \n",
       "164943             Sim  Doença cardiovascular                NaN   \n",
       "164944             Sim                    NaN                NaN   \n",
       "164945             NaN                    NaN                NaN   \n",
       "\n",
       "       Imunodeficiencia Asma Sindrome de Down     Faixa Etaria  \\\n",
       "0                   NaN  NaN              NaN       20-59 anos   \n",
       "1                   NaN  NaN              NaN  60 anos ou mais   \n",
       "2                   NaN  NaN              NaN       20-59 anos   \n",
       "3                   NaN  NaN              NaN  60 anos ou mais   \n",
       "4                   NaN  NaN              NaN       20-59 anos   \n",
       "...                 ...  ...              ...              ...   \n",
       "164941              NaN  NaN              NaN  60 anos ou mais   \n",
       "164942              NaN  NaN              NaN  60 anos ou mais   \n",
       "164943              NaN  NaN              NaN       20-59 anos   \n",
       "164944              NaN  NaN              NaN  60 anos ou mais   \n",
       "164945              NaN  NaN              NaN              NaN   \n",
       "\n",
       "          Classificacao final Houve internacao Evolucao  \n",
       "0                    COVID-19              Não    Óbito  \n",
       "1                    COVID-19              Sim     Cura  \n",
       "2                    COVID-19              Sim     Cura  \n",
       "3                    COVID-19              Não    Óbito  \n",
       "4                    COVID-19              Sim     Cura  \n",
       "...                       ...              ...      ...  \n",
       "164941               COVID-19              Sim     Cura  \n",
       "164942               COVID-19              Sim    Óbito  \n",
       "164943               COVID-19              Sim     Cura  \n",
       "164944  SRAG não especificado              Sim     Cura  \n",
       "164945                    NaN              NaN      NaN  \n",
       "\n",
       "[164946 rows x 10 columns]"
      ]
     },
     "execution_count": 5,
     "metadata": {},
     "output_type": "execute_result"
    }
   ],
   "source": [
    "filtrado = dados[['Tem Comorbidade','Doenca Cardiovascular','Doenca Neurologica','Imunodeficiencia','Asma','Sindrome de Down','Faixa Etaria','Classificacao final','Houve internacao','Evolucao']]\n",
    "filtrado['Faixa Etaria'] = filtrado['Faixa Etaria'].map({'0-9 anos':'0-9 anos','10-19 anos':'10-19 anos','20-29 anos':'20-59 anos','30-39 anos':'20-59 anos',\n",
    "                                                         '40-49 anos':'20-59 anos','50-59 anos':'20-59 anos','60-69 anos':'60 anos ou mais','70-79 anos':'60 anos ou mais',\n",
    "                                                         '80 e mais anos':'60 anos ou mais'})\n",
    "filtrado['Doenca Cardiovascular'] = filtrado['Doenca Cardiovascular'].map({1.0:'Doença cardiovascular'})\n",
    "filtrado['Doenca Neurologica'] = filtrado['Doenca Neurologica'].map({1.0:'Doença neurológica'})\n",
    "filtrado['Imunodeficiencia'] = filtrado['Imunodeficiencia'].map({1.0:'Imunodeficiência'})\n",
    "filtrado['Asma'] = filtrado['Asma'].map({1.0:'Asma'})\n",
    "filtrado['Sindrome de Down'] = filtrado['Sindrome de Down'].map({1.0:'Síndrome de Down'})\n",
    "filtrado"
   ]
  },
  {
   "cell_type": "code",
   "execution_count": 6,
   "metadata": {},
   "outputs": [],
   "source": [
    "anos9_obito = filtrado.loc[filtrado['Faixa Etaria']=='0-9 anos']\n",
    "anos9_obito = anos9_obito.loc[anos9_obito['Evolucao']=='Óbito']\n",
    "anos9_obito = anos9_obito.loc[anos9_obito['Classificacao final']=='COVID-19']"
   ]
  },
  {
   "cell_type": "code",
   "execution_count": 7,
   "metadata": {},
   "outputs": [
    {
     "data": {
      "text/html": [
       "<div>\n",
       "<style scoped>\n",
       "    .dataframe tbody tr th:only-of-type {\n",
       "        vertical-align: middle;\n",
       "    }\n",
       "\n",
       "    .dataframe tbody tr th {\n",
       "        vertical-align: top;\n",
       "    }\n",
       "\n",
       "    .dataframe thead th {\n",
       "        text-align: right;\n",
       "    }\n",
       "</style>\n",
       "<table border=\"1\" class=\"dataframe\">\n",
       "  <thead>\n",
       "    <tr style=\"text-align: right;\">\n",
       "      <th></th>\n",
       "      <th>Evolucao</th>\n",
       "    </tr>\n",
       "    <tr>\n",
       "      <th>Sindrome de Down</th>\n",
       "      <th></th>\n",
       "    </tr>\n",
       "  </thead>\n",
       "  <tbody>\n",
       "    <tr>\n",
       "      <th>Síndrome de Down</th>\n",
       "      <td>5</td>\n",
       "    </tr>\n",
       "  </tbody>\n",
       "</table>\n",
       "</div>"
      ],
      "text/plain": [
       "                  Evolucao\n",
       "Sindrome de Down          \n",
       "Síndrome de Down         5"
      ]
     },
     "execution_count": 7,
     "metadata": {},
     "output_type": "execute_result"
    }
   ],
   "source": [
    "temComorbidade_obito = anos9_obito.loc[anos9_obito['Tem Comorbidade']=='Sim']\n",
    "temComorbidade_obito = temComorbidade_obito.groupby('Tem Comorbidade').count()\n",
    "temComorbidade_obito = temComorbidade_obito.drop(temComorbidade_obito.columns[[0,1,2,3,4,5,6,7]],axis=1)\n",
    "doencaCardio_obito = anos9_obito.groupby('Doenca Cardiovascular').count()\n",
    "doencaCardio_obito = doencaCardio_obito.drop(doencaCardio_obito.columns[[0,1,2,3,4,5,6,7]],axis=1)\n",
    "doencaneuro_obito = anos9_obito.groupby('Doenca Neurologica').count()\n",
    "doencaneuro_obito = doencaneuro_obito.drop(doencaneuro_obito.columns[[0,1,2,3,4,5,6,7]],axis=1)\n",
    "imunodeficiencia_obito = anos9_obito.groupby('Imunodeficiencia').count()\n",
    "imunodeficiencia_obito = imunodeficiencia_obito.drop(imunodeficiencia_obito.columns[[0,1,2,3,4,5,6,7]],axis=1)\n",
    "asma_obito = anos9_obito.groupby('Asma').count()\n",
    "asma_obito = asma_obito.drop(asma_obito.columns[[0,1,2,3,4,5,6,7]],axis=1)\n",
    "down_obito = anos9_obito.groupby('Sindrome de Down').count()\n",
    "down_obito = down_obito.drop(down_obito.columns[[0,1,2,3,4,5,6,7]],axis=1)\n",
    "down_obito"
   ]
  },
  {
   "cell_type": "code",
   "execution_count": 8,
   "metadata": {},
   "outputs": [
    {
     "data": {
      "text/plain": [
       "0    32\n",
       "Name: Houve internacao, dtype: int64"
      ]
     },
     "execution_count": 8,
     "metadata": {},
     "output_type": "execute_result"
    }
   ],
   "source": [
    "totalObitos_anos9 = filtrado.loc[filtrado['Faixa Etaria']=='0-9 anos']\n",
    "totalObitos_anos9 = totalObitos_anos9.loc[totalObitos_anos9['Evolucao']=='Óbito']\n",
    "totalObitos_anos9 = totalObitos_anos9.loc[totalObitos_anos9['Classificacao final']=='COVID-19']\n",
    "totalObitos_anos9 = totalObitos_anos9.groupby('Evolucao').count()\n",
    "totalObitos_anos9 = totalObitos_anos9.drop(totalObitos_anos9.columns[[0,1,2,3,4,5,6,7]],axis=1)\n",
    "totalObitos_anos9 = totalObitos_anos9.reset_index()\n",
    "totalObitos_anos9 = totalObitos_anos9['Houve internacao']\n",
    "totalObitos_anos9"
   ]
  },
  {
   "cell_type": "code",
   "execution_count": 9,
   "metadata": {},
   "outputs": [
    {
     "data": {
      "text/html": [
       "<div>\n",
       "<style scoped>\n",
       "    .dataframe tbody tr th:only-of-type {\n",
       "        vertical-align: middle;\n",
       "    }\n",
       "\n",
       "    .dataframe tbody tr th {\n",
       "        vertical-align: top;\n",
       "    }\n",
       "\n",
       "    .dataframe thead th {\n",
       "        text-align: right;\n",
       "    }\n",
       "</style>\n",
       "<table border=\"1\" class=\"dataframe\">\n",
       "  <thead>\n",
       "    <tr style=\"text-align: right;\">\n",
       "      <th></th>\n",
       "      <th>index</th>\n",
       "      <th>Evolucao</th>\n",
       "    </tr>\n",
       "  </thead>\n",
       "  <tbody>\n",
       "    <tr>\n",
       "      <th>0</th>\n",
       "      <td>Alguma comorbidade</td>\n",
       "      <td>23</td>\n",
       "    </tr>\n",
       "    <tr>\n",
       "      <th>1</th>\n",
       "      <td>Doença cardiovascular</td>\n",
       "      <td>8</td>\n",
       "    </tr>\n",
       "    <tr>\n",
       "      <th>2</th>\n",
       "      <td>Doença neurológica</td>\n",
       "      <td>8</td>\n",
       "    </tr>\n",
       "    <tr>\n",
       "      <th>3</th>\n",
       "      <td>Imunodeficiência</td>\n",
       "      <td>3</td>\n",
       "    </tr>\n",
       "    <tr>\n",
       "      <th>4</th>\n",
       "      <td>Asma</td>\n",
       "      <td>2</td>\n",
       "    </tr>\n",
       "    <tr>\n",
       "      <th>5</th>\n",
       "      <td>Síndrome de Down</td>\n",
       "      <td>5</td>\n",
       "    </tr>\n",
       "  </tbody>\n",
       "</table>\n",
       "</div>"
      ],
      "text/plain": [
       "                   index  Evolucao\n",
       "0     Alguma comorbidade        23\n",
       "1  Doença cardiovascular         8\n",
       "2     Doença neurológica         8\n",
       "3       Imunodeficiência         3\n",
       "4                   Asma         2\n",
       "5       Síndrome de Down         5"
      ]
     },
     "execution_count": 9,
     "metadata": {},
     "output_type": "execute_result"
    }
   ],
   "source": [
    "juntaAnos9_obito = temComorbidade_obito.append(doencaCardio_obito)\n",
    "juntaAnos9_obito = juntaAnos9_obito.append(doencaneuro_obito)\n",
    "juntaAnos9_obito = juntaAnos9_obito.append(imunodeficiencia_obito)\n",
    "juntaAnos9_obito = juntaAnos9_obito.append(asma_obito)\n",
    "juntaAnos9_obito = juntaAnos9_obito.append(down_obito)\n",
    "juntaAnos9_obito = juntaAnos9_obito.rename({'Sim':'Alguma comorbidade'})\n",
    "juntaAnos9_obito = juntaAnos9_obito.reset_index()\n",
    "juntaAnos9_obito"
   ]
  },
  {
   "cell_type": "code",
   "execution_count": 10,
   "metadata": {},
   "outputs": [
    {
     "data": {
      "text/html": [
       "<div>\n",
       "<style scoped>\n",
       "    .dataframe tbody tr th:only-of-type {\n",
       "        vertical-align: middle;\n",
       "    }\n",
       "\n",
       "    .dataframe tbody tr th {\n",
       "        vertical-align: top;\n",
       "    }\n",
       "\n",
       "    .dataframe thead th {\n",
       "        text-align: right;\n",
       "    }\n",
       "</style>\n",
       "<table border=\"1\" class=\"dataframe\">\n",
       "  <thead>\n",
       "    <tr style=\"text-align: right;\">\n",
       "      <th></th>\n",
       "      <th>index</th>\n",
       "      <th>Evolucao</th>\n",
       "    </tr>\n",
       "  </thead>\n",
       "  <tbody>\n",
       "    <tr>\n",
       "      <th>0</th>\n",
       "      <td>Asma</td>\n",
       "      <td>2</td>\n",
       "    </tr>\n",
       "    <tr>\n",
       "      <th>1</th>\n",
       "      <td>Imunodeficiência</td>\n",
       "      <td>3</td>\n",
       "    </tr>\n",
       "    <tr>\n",
       "      <th>2</th>\n",
       "      <td>Síndrome de Down</td>\n",
       "      <td>5</td>\n",
       "    </tr>\n",
       "    <tr>\n",
       "      <th>3</th>\n",
       "      <td>Doença cardiovascular</td>\n",
       "      <td>8</td>\n",
       "    </tr>\n",
       "    <tr>\n",
       "      <th>4</th>\n",
       "      <td>Doença neurológica</td>\n",
       "      <td>8</td>\n",
       "    </tr>\n",
       "    <tr>\n",
       "      <th>5</th>\n",
       "      <td>Alguma comorbidade</td>\n",
       "      <td>23</td>\n",
       "    </tr>\n",
       "  </tbody>\n",
       "</table>\n",
       "</div>"
      ],
      "text/plain": [
       "                   index  Evolucao\n",
       "0                   Asma         2\n",
       "1       Imunodeficiência         3\n",
       "2       Síndrome de Down         5\n",
       "3  Doença cardiovascular         8\n",
       "4     Doença neurológica         8\n",
       "5     Alguma comorbidade        23"
      ]
     },
     "execution_count": 10,
     "metadata": {},
     "output_type": "execute_result"
    }
   ],
   "source": [
    "ordenaAnos9_obito = juntaAnos9_obito.copy()\n",
    "ordenaAnos9_obito.loc[0] = juntaAnos9_obito.loc[4]\n",
    "ordenaAnos9_obito.loc[1] = juntaAnos9_obito.loc[3]\n",
    "ordenaAnos9_obito.loc[2] = juntaAnos9_obito.loc[5]\n",
    "ordenaAnos9_obito.loc[3] = juntaAnos9_obito.loc[1]\n",
    "ordenaAnos9_obito.loc[4] = juntaAnos9_obito.loc[2]\n",
    "ordenaAnos9_obito.loc[5] = juntaAnos9_obito.loc[0]\n",
    "ordenaAnos9_obito"
   ]
  },
  {
   "cell_type": "code",
   "execution_count": 11,
   "metadata": {},
   "outputs": [
    {
     "data": {
      "text/html": [
       "<div>\n",
       "<style scoped>\n",
       "    .dataframe tbody tr th:only-of-type {\n",
       "        vertical-align: middle;\n",
       "    }\n",
       "\n",
       "    .dataframe tbody tr th {\n",
       "        vertical-align: top;\n",
       "    }\n",
       "\n",
       "    .dataframe thead th {\n",
       "        text-align: right;\n",
       "    }\n",
       "</style>\n",
       "<table border=\"1\" class=\"dataframe\">\n",
       "  <thead>\n",
       "    <tr style=\"text-align: right;\">\n",
       "      <th></th>\n",
       "      <th>Valores</th>\n",
       "    </tr>\n",
       "  </thead>\n",
       "  <tbody>\n",
       "    <tr>\n",
       "      <th>0</th>\n",
       "      <td>32</td>\n",
       "    </tr>\n",
       "    <tr>\n",
       "      <th>1</th>\n",
       "      <td>32</td>\n",
       "    </tr>\n",
       "    <tr>\n",
       "      <th>2</th>\n",
       "      <td>32</td>\n",
       "    </tr>\n",
       "    <tr>\n",
       "      <th>3</th>\n",
       "      <td>32</td>\n",
       "    </tr>\n",
       "    <tr>\n",
       "      <th>4</th>\n",
       "      <td>32</td>\n",
       "    </tr>\n",
       "    <tr>\n",
       "      <th>5</th>\n",
       "      <td>32</td>\n",
       "    </tr>\n",
       "  </tbody>\n",
       "</table>\n",
       "</div>"
      ],
      "text/plain": [
       "  Valores\n",
       "0      32\n",
       "1      32\n",
       "2      32\n",
       "3      32\n",
       "4      32\n",
       "5      32"
      ]
     },
     "execution_count": 11,
     "metadata": {},
     "output_type": "execute_result"
    }
   ],
   "source": [
    "divisao = pd.DataFrame(columns={'Valores'})\n",
    "for i in np.arange(0,len(ordenaAnos9_obito),1):\n",
    "    divisao.loc[i] = totalObitos_anos9.loc[0]\n",
    "divisao = divisao.fillna(ordenaAnos9_obito)\n",
    "divisao"
   ]
  },
  {
   "cell_type": "code",
   "execution_count": 12,
   "metadata": {},
   "outputs": [
    {
     "data": {
      "text/plain": [
       "0      6.25\n",
       "1     9.375\n",
       "2    15.625\n",
       "3      25.0\n",
       "4      25.0\n",
       "5    71.875\n",
       "Name: Evolucao, dtype: object"
      ]
     },
     "execution_count": 12,
     "metadata": {},
     "output_type": "execute_result"
    }
   ],
   "source": [
    "calcula_anos9_obito = ordenaAnos9_obito['Evolucao']/divisao['Valores']*100\n",
    "calcula_anos9_obito = calcula_anos9_obito.to_frame()\n",
    "calcula_anos9_obito = calcula_anos9_obito.rename(columns={0:'Evolucao'})\n",
    "calcula_anos9_obito = calcula_anos9_obito['Evolucao']\n",
    "calcula_anos9_obito"
   ]
  },
  {
   "cell_type": "code",
   "execution_count": 13,
   "metadata": {},
   "outputs": [],
   "source": [
    "anos9_hospi = filtrado.loc[filtrado['Faixa Etaria']=='0-9 anos']\n",
    "anos9_hospi = anos9_hospi.loc[anos9_hospi['Houve internacao']=='Sim']\n",
    "anos9_hospi = anos9_hospi.loc[anos9_hospi['Classificacao final']=='COVID-19']"
   ]
  },
  {
   "cell_type": "code",
   "execution_count": 14,
   "metadata": {},
   "outputs": [
    {
     "data": {
      "text/html": [
       "<div>\n",
       "<style scoped>\n",
       "    .dataframe tbody tr th:only-of-type {\n",
       "        vertical-align: middle;\n",
       "    }\n",
       "\n",
       "    .dataframe tbody tr th {\n",
       "        vertical-align: top;\n",
       "    }\n",
       "\n",
       "    .dataframe thead th {\n",
       "        text-align: right;\n",
       "    }\n",
       "</style>\n",
       "<table border=\"1\" class=\"dataframe\">\n",
       "  <thead>\n",
       "    <tr style=\"text-align: right;\">\n",
       "      <th></th>\n",
       "      <th>Evolucao</th>\n",
       "    </tr>\n",
       "    <tr>\n",
       "      <th>Sindrome de Down</th>\n",
       "      <th></th>\n",
       "    </tr>\n",
       "  </thead>\n",
       "  <tbody>\n",
       "    <tr>\n",
       "      <th>Síndrome de Down</th>\n",
       "      <td>21</td>\n",
       "    </tr>\n",
       "  </tbody>\n",
       "</table>\n",
       "</div>"
      ],
      "text/plain": [
       "                  Evolucao\n",
       "Sindrome de Down          \n",
       "Síndrome de Down        21"
      ]
     },
     "execution_count": 14,
     "metadata": {},
     "output_type": "execute_result"
    }
   ],
   "source": [
    "temComorbidade_hospi = anos9_hospi.loc[anos9_hospi['Tem Comorbidade']=='Sim']\n",
    "temComorbidade_hospi = temComorbidade_hospi.groupby('Tem Comorbidade').count()\n",
    "temComorbidade_hospi = temComorbidade_hospi.drop(temComorbidade_hospi.columns[[0,1,2,3,4,5,6,7]],axis=1)\n",
    "doencaCardio_hospi = anos9_hospi.groupby('Doenca Cardiovascular').count()\n",
    "doencaCardio_hospi = doencaCardio_hospi.drop(doencaCardio_hospi.columns[[0,1,2,3,4,5,6,7]],axis=1)\n",
    "doencaneuro_hospi = anos9_hospi.groupby('Doenca Neurologica').count()\n",
    "doencaneuro_hospi = doencaneuro_hospi.drop(doencaneuro_hospi.columns[[0,1,2,3,4,5,6,7]],axis=1)\n",
    "imunodeficiencia_hospi = anos9_hospi.groupby('Imunodeficiencia').count()\n",
    "imunodeficiencia_hospi = imunodeficiencia_hospi.drop(imunodeficiencia_hospi.columns[[0,1,2,3,4,5,6,7]],axis=1)\n",
    "asma_hospi = anos9_hospi.groupby('Asma').count()\n",
    "asma_hospi = asma_hospi.drop(asma_hospi.columns[[0,1,2,3,4,5,6,7]],axis=1)\n",
    "down_hospi = anos9_hospi.groupby('Sindrome de Down').count()\n",
    "down_hospi = down_hospi.drop(down_hospi.columns[[0,1,2,3,4,5,6,7]],axis=1)\n",
    "down_hospi"
   ]
  },
  {
   "cell_type": "code",
   "execution_count": 15,
   "metadata": {},
   "outputs": [
    {
     "data": {
      "text/plain": [
       "0    918\n",
       "Name: Evolucao, dtype: int64"
      ]
     },
     "execution_count": 15,
     "metadata": {},
     "output_type": "execute_result"
    }
   ],
   "source": [
    "totalHospi_anos9 = filtrado.loc[filtrado['Faixa Etaria']=='0-9 anos']\n",
    "totalHospi_anos9 = totalHospi_anos9.loc[totalHospi_anos9['Houve internacao']=='Sim']\n",
    "totalHospi_anos9 = totalHospi_anos9.loc[totalHospi_anos9['Classificacao final']=='COVID-19']\n",
    "totalHospi_anos9 = totalHospi_anos9.groupby('Houve internacao').count()\n",
    "totalHospi_anos9 = totalHospi_anos9.drop(totalHospi_anos9.columns[[0,1,2,3,4,5,6,7]],axis=1)\n",
    "totalHospi_anos9 = totalHospi_anos9.reset_index()\n",
    "totalHospi_anos9 = totalHospi_anos9['Evolucao']\n",
    "totalHospi_anos9"
   ]
  },
  {
   "cell_type": "code",
   "execution_count": 16,
   "metadata": {},
   "outputs": [
    {
     "data": {
      "text/html": [
       "<div>\n",
       "<style scoped>\n",
       "    .dataframe tbody tr th:only-of-type {\n",
       "        vertical-align: middle;\n",
       "    }\n",
       "\n",
       "    .dataframe tbody tr th {\n",
       "        vertical-align: top;\n",
       "    }\n",
       "\n",
       "    .dataframe thead th {\n",
       "        text-align: right;\n",
       "    }\n",
       "</style>\n",
       "<table border=\"1\" class=\"dataframe\">\n",
       "  <thead>\n",
       "    <tr style=\"text-align: right;\">\n",
       "      <th></th>\n",
       "      <th>index</th>\n",
       "      <th>Evolucao</th>\n",
       "    </tr>\n",
       "  </thead>\n",
       "  <tbody>\n",
       "    <tr>\n",
       "      <th>0</th>\n",
       "      <td>Alguma comorbidade</td>\n",
       "      <td>351</td>\n",
       "    </tr>\n",
       "    <tr>\n",
       "      <th>1</th>\n",
       "      <td>Doença cardiovascular</td>\n",
       "      <td>41</td>\n",
       "    </tr>\n",
       "    <tr>\n",
       "      <th>2</th>\n",
       "      <td>Doença neurológica</td>\n",
       "      <td>72</td>\n",
       "    </tr>\n",
       "    <tr>\n",
       "      <th>3</th>\n",
       "      <td>Imunodeficiência</td>\n",
       "      <td>22</td>\n",
       "    </tr>\n",
       "    <tr>\n",
       "      <th>4</th>\n",
       "      <td>Asma</td>\n",
       "      <td>115</td>\n",
       "    </tr>\n",
       "    <tr>\n",
       "      <th>5</th>\n",
       "      <td>Síndrome de Down</td>\n",
       "      <td>21</td>\n",
       "    </tr>\n",
       "  </tbody>\n",
       "</table>\n",
       "</div>"
      ],
      "text/plain": [
       "                   index  Evolucao\n",
       "0     Alguma comorbidade       351\n",
       "1  Doença cardiovascular        41\n",
       "2     Doença neurológica        72\n",
       "3       Imunodeficiência        22\n",
       "4                   Asma       115\n",
       "5       Síndrome de Down        21"
      ]
     },
     "execution_count": 16,
     "metadata": {},
     "output_type": "execute_result"
    }
   ],
   "source": [
    "juntaAnos9_hospi = temComorbidade_hospi.append(doencaCardio_hospi)\n",
    "juntaAnos9_hospi = juntaAnos9_hospi.append(doencaneuro_hospi)\n",
    "juntaAnos9_hospi = juntaAnos9_hospi.append(imunodeficiencia_hospi)\n",
    "juntaAnos9_hospi = juntaAnos9_hospi.append(asma_hospi)\n",
    "juntaAnos9_hospi = juntaAnos9_hospi.append(down_hospi)\n",
    "juntaAnos9_hospi = juntaAnos9_hospi.rename({'Sim':'Alguma comorbidade'})\n",
    "juntaAnos9_hospi = juntaAnos9_hospi.reset_index()\n",
    "juntaAnos9_hospi"
   ]
  },
  {
   "cell_type": "code",
   "execution_count": 17,
   "metadata": {},
   "outputs": [
    {
     "data": {
      "text/html": [
       "<div>\n",
       "<style scoped>\n",
       "    .dataframe tbody tr th:only-of-type {\n",
       "        vertical-align: middle;\n",
       "    }\n",
       "\n",
       "    .dataframe tbody tr th {\n",
       "        vertical-align: top;\n",
       "    }\n",
       "\n",
       "    .dataframe thead th {\n",
       "        text-align: right;\n",
       "    }\n",
       "</style>\n",
       "<table border=\"1\" class=\"dataframe\">\n",
       "  <thead>\n",
       "    <tr style=\"text-align: right;\">\n",
       "      <th></th>\n",
       "      <th>index</th>\n",
       "      <th>Evolucao</th>\n",
       "    </tr>\n",
       "  </thead>\n",
       "  <tbody>\n",
       "    <tr>\n",
       "      <th>0</th>\n",
       "      <td>Asma</td>\n",
       "      <td>115</td>\n",
       "    </tr>\n",
       "    <tr>\n",
       "      <th>1</th>\n",
       "      <td>Imunodeficiência</td>\n",
       "      <td>22</td>\n",
       "    </tr>\n",
       "    <tr>\n",
       "      <th>2</th>\n",
       "      <td>Síndrome de Down</td>\n",
       "      <td>21</td>\n",
       "    </tr>\n",
       "    <tr>\n",
       "      <th>3</th>\n",
       "      <td>Doença cardiovascular</td>\n",
       "      <td>41</td>\n",
       "    </tr>\n",
       "    <tr>\n",
       "      <th>4</th>\n",
       "      <td>Doença neurológica</td>\n",
       "      <td>72</td>\n",
       "    </tr>\n",
       "    <tr>\n",
       "      <th>5</th>\n",
       "      <td>Alguma comorbidade</td>\n",
       "      <td>351</td>\n",
       "    </tr>\n",
       "  </tbody>\n",
       "</table>\n",
       "</div>"
      ],
      "text/plain": [
       "                   index  Evolucao\n",
       "0                   Asma       115\n",
       "1       Imunodeficiência        22\n",
       "2       Síndrome de Down        21\n",
       "3  Doença cardiovascular        41\n",
       "4     Doença neurológica        72\n",
       "5     Alguma comorbidade       351"
      ]
     },
     "execution_count": 17,
     "metadata": {},
     "output_type": "execute_result"
    }
   ],
   "source": [
    "ordenaAnos9_hospi = juntaAnos9_hospi.copy()\n",
    "ordenaAnos9_hospi.loc[0] = juntaAnos9_hospi.loc[4]\n",
    "ordenaAnos9_hospi.loc[1] = juntaAnos9_hospi.loc[3]\n",
    "ordenaAnos9_hospi.loc[2] = juntaAnos9_hospi.loc[5]\n",
    "ordenaAnos9_hospi.loc[3] = juntaAnos9_hospi.loc[1]\n",
    "ordenaAnos9_hospi.loc[4] = juntaAnos9_hospi.loc[2]\n",
    "ordenaAnos9_hospi.loc[5] = juntaAnos9_hospi.loc[0]\n",
    "ordenaAnos9_hospi"
   ]
  },
  {
   "cell_type": "code",
   "execution_count": 18,
   "metadata": {},
   "outputs": [
    {
     "data": {
      "text/html": [
       "<div>\n",
       "<style scoped>\n",
       "    .dataframe tbody tr th:only-of-type {\n",
       "        vertical-align: middle;\n",
       "    }\n",
       "\n",
       "    .dataframe tbody tr th {\n",
       "        vertical-align: top;\n",
       "    }\n",
       "\n",
       "    .dataframe thead th {\n",
       "        text-align: right;\n",
       "    }\n",
       "</style>\n",
       "<table border=\"1\" class=\"dataframe\">\n",
       "  <thead>\n",
       "    <tr style=\"text-align: right;\">\n",
       "      <th></th>\n",
       "      <th>Valores</th>\n",
       "    </tr>\n",
       "  </thead>\n",
       "  <tbody>\n",
       "    <tr>\n",
       "      <th>0</th>\n",
       "      <td>918</td>\n",
       "    </tr>\n",
       "    <tr>\n",
       "      <th>1</th>\n",
       "      <td>918</td>\n",
       "    </tr>\n",
       "    <tr>\n",
       "      <th>2</th>\n",
       "      <td>918</td>\n",
       "    </tr>\n",
       "    <tr>\n",
       "      <th>3</th>\n",
       "      <td>918</td>\n",
       "    </tr>\n",
       "    <tr>\n",
       "      <th>4</th>\n",
       "      <td>918</td>\n",
       "    </tr>\n",
       "    <tr>\n",
       "      <th>5</th>\n",
       "      <td>918</td>\n",
       "    </tr>\n",
       "  </tbody>\n",
       "</table>\n",
       "</div>"
      ],
      "text/plain": [
       "  Valores\n",
       "0     918\n",
       "1     918\n",
       "2     918\n",
       "3     918\n",
       "4     918\n",
       "5     918"
      ]
     },
     "execution_count": 18,
     "metadata": {},
     "output_type": "execute_result"
    }
   ],
   "source": [
    "divisao = pd.DataFrame(columns={'Valores'})\n",
    "for i in np.arange(0,len(ordenaAnos9_hospi),1):\n",
    "    divisao.loc[i] = totalHospi_anos9.loc[0]\n",
    "divisao = divisao.fillna(ordenaAnos9_hospi)\n",
    "divisao"
   ]
  },
  {
   "cell_type": "code",
   "execution_count": 19,
   "metadata": {},
   "outputs": [
    {
     "data": {
      "text/plain": [
       "0    12.527233\n",
       "1     2.396514\n",
       "2     2.287582\n",
       "3     4.466231\n",
       "4     7.843137\n",
       "5    38.235294\n",
       "Name: Evolucao, dtype: object"
      ]
     },
     "execution_count": 19,
     "metadata": {},
     "output_type": "execute_result"
    }
   ],
   "source": [
    "calcula_anos9_hospi = ordenaAnos9_hospi['Evolucao']/divisao['Valores']*100\n",
    "calcula_anos9_hospi = calcula_anos9_hospi.to_frame()\n",
    "calcula_anos9_hospi = calcula_anos9_hospi.rename(columns={0:'Evolucao'})\n",
    "calcula_anos9_hospi = calcula_anos9_hospi['Evolucao']\n",
    "calcula_anos9_hospi"
   ]
  },
  {
   "cell_type": "code",
   "execution_count": 20,
   "metadata": {},
   "outputs": [
    {
     "data": {
      "text/plain": [
       "0                     Asma\n",
       "1         Imunodeficiência\n",
       "2         Síndrome de Down\n",
       "3    Doença cardiovascular\n",
       "4       Doença neurológica\n",
       "5       Alguma comorbidade\n",
       "Name: index, dtype: object"
      ]
     },
     "execution_count": 20,
     "metadata": {},
     "output_type": "execute_result"
    }
   ],
   "source": [
    "comorbidade = ordenaAnos9_hospi['index']\n",
    "comorbidade"
   ]
  },
  {
   "cell_type": "code",
   "execution_count": 21,
   "metadata": {},
   "outputs": [],
   "source": [
    "legenda = pd.DataFrame(columns=['Óbito','Hospitalização'])"
   ]
  },
  {
   "cell_type": "code",
   "execution_count": 22,
   "metadata": {},
   "outputs": [
    {
     "data": {
      "text/plain": [
       "'Gráficos 18_2_2022'"
      ]
     },
     "execution_count": 22,
     "metadata": {},
     "output_type": "execute_result"
    }
   ],
   "source": [
    "pasta = r'Z:\\Graficos Boletim_Python'\n",
    "lista_arquivos = os.listdir(pasta)\n",
    "lista_datas = []\n",
    "\n",
    "for arquivo in lista_arquivos:\n",
    "    #Descobrir a data desse arquivo\n",
    "    data = os.path.getmtime(f'{pasta}/{arquivo}')\n",
    "    lista_datas.append((data,arquivo))\n",
    "\n",
    "lista_datas.sort(reverse=True) #Vai ordenar a lista em ordem decrescente com reverse=True Obs: Ele ordena sempre com o primeiro valor, por isso colocamos data antes de arquivo\n",
    "ultima_pasta = lista_datas[0][1] #Pega o ultimo arquivo\n",
    "ultima_pasta"
   ]
  },
  {
   "cell_type": "code",
   "execution_count": 23,
   "metadata": {},
   "outputs": [
    {
     "data": {
      "image/png": "[encoded data removed]",
      "text/plain": [
       "<Figure size 2160x720 with 1 Axes>"
      ]
     },
     "metadata": {
      "needs_background": "light"
     },
     "output_type": "display_data"
    }
   ],
   "source": [
    "plt.figure(figsize=(30,10))\n",
    "width=0.4\n",
    "plt.barh(comorbidade,calcula_anos9_obito,width,color='#8a3e4b')\n",
    "plt.barh(np.arange(0,np.size(comorbidade),1)-0.43,calcula_anos9_hospi,width,color='#b58d94')\n",
    "sns.despine()\n",
    "plt.xticks(np.arange(0,110,10),fontsize=25)\n",
    "plt.yticks(fontsize=25)\n",
    "plt.gca().set_xticklabels(['{:.0f}%'.format(x*1) for x in plt.gca().get_xticks()])\n",
    "plt.savefig(f'Z:/Graficos Boletim_Python/{ultima_pasta}/Slide13_0-9 anos.png',dpi=720,bbox_inches='tight')"
   ]
  },
  {
   "cell_type": "code",
   "execution_count": null,
   "metadata": {},
   "outputs": [],
   "source": []
  }
 ],
 "metadata": {
  "interpreter": {
   "hash": "1de187e5902025e922368a2d9f95ab7dc4a859d9f86e50683b5a6b0b3bf7ba31"
  },
  "kernelspec": {
   "display_name": "Python 3.9.7 64-bit ('base': conda)",
   "language": "python",
   "name": "python3"
  },
  "language_info": {
   "codemirror_mode": {
    "name": "ipython",
    "version": 3
   },
   "file_extension": ".py",
   "mimetype": "text/x-python",
   "name": "python",
   "nbconvert_exporter": "python",
   "pygments_lexer": "ipython3",
   "version": "3.9.7"
  },
  "orig_nbformat": 4
 },
 "nbformat": 4,
 "nbformat_minor": 2
}
