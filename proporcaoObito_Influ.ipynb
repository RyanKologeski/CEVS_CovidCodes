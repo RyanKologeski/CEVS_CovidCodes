{
 "cells": [
  {
   "cell_type": "code",
   "execution_count": 1,
   "metadata": {},
   "outputs": [],
   "source": [
    "import pandas as pd\n",
    "from pandas import DataFrame\n",
    "import matplotlib.pyplot as plt\n",
    "import numpy as np\n",
    "import os\n",
    "from datetime import date\n",
    "import datetime\n",
    "from pathlib import Path\n",
    "import seaborn as sns"
   ]
  },
  {
   "cell_type": "code",
   "execution_count": 2,
   "metadata": {},
   "outputs": [
    {
     "data": {
      "text/plain": [
       "'Banco SIVEP 12_12_2022 07_32_58.xlsx'"
      ]
     },
     "execution_count": 2,
     "metadata": {},
     "output_type": "execute_result"
    }
   ],
   "source": [
    "caminho = r'Z:\\Banco SIVEP Exportação'\n",
    "lista_arquivos = os.listdir(caminho)\n",
    "lista_datas = []\n",
    "\n",
    "for arquivo in lista_arquivos:\n",
    "    #Descobrir a data desse arquivo\n",
    "    data = os.path.getmtime(f'{caminho}/{arquivo}')\n",
    "    lista_datas.append((data,arquivo))\n",
    "\n",
    "lista_datas.sort(reverse=True) #Vai ordenar a lista em ordem decrescente com reverse=True Obs: Ele ordena sempre com o primeiro valor, por isso colocamos data antes de arquivo\n",
    "ultimo_arquivo = lista_datas[0][1] #Pega o ultimo arquivo\n",
    "ultimo_arquivo"
   ]
  },
  {
   "cell_type": "code",
   "execution_count": 3,
   "metadata": {},
   "outputs": [],
   "source": [
    "if not os.path.exists(f'Z:\\Graficos Boletim_Python/Gráficos {date.today().day}_{date.today().month}_{date.today().year}'):\n",
    "    os.makedirs(f'Z:\\Graficos Boletim_Python/Gráficos {date.today().day}_{date.today().month}_{date.today().year}')"
   ]
  },
  {
   "cell_type": "code",
   "execution_count": 4,
   "metadata": {},
   "outputs": [],
   "source": [
    "dados = pd.read_excel(f'{caminho}/{ultimo_arquivo}')\n",
    "#dados = pd.read_excel('Z:/Banco SIVEP Exportação/Banco SIVEP 30_05_2022 09_48_25.xlsx')"
   ]
  },
  {
   "cell_type": "code",
   "execution_count": 5,
   "metadata": {},
   "outputs": [],
   "source": [
    "dados['pos_pcrflu'] = dados['pos_pcrflu'].map({1:'Sim',2:'Nao',9:'Ignorado'})"
   ]
  },
  {
   "cell_type": "code",
   "execution_count": 6,
   "metadata": {},
   "outputs": [],
   "source": [
    "dados['tp_flu_pcr'] = dados['tp_flu_pcr'].map({1:'Influenza',2:'Influenza'})"
   ]
  },
  {
   "cell_type": "code",
   "execution_count": 7,
   "metadata": {},
   "outputs": [],
   "source": [
    "dados['pcr_fluasu'] = dados['pcr_fluasu'].map({1:'Influenza A(H1N1)pdm09',2:'Influenza A(H3N2)',3:'Influenza A nao subtipado',\n",
    "4:'Influenza A nao subtipavel',5:'Inconclusivo',6:'Outro'})"
   ]
  },
  {
   "cell_type": "code",
   "execution_count": 8,
   "metadata": {},
   "outputs": [
    {
     "data": {
      "text/html": [
       "<div>\n",
       "<style scoped>\n",
       "    .dataframe tbody tr th:only-of-type {\n",
       "        vertical-align: middle;\n",
       "    }\n",
       "\n",
       "    .dataframe tbody tr th {\n",
       "        vertical-align: top;\n",
       "    }\n",
       "\n",
       "    .dataframe thead th {\n",
       "        text-align: right;\n",
       "    }\n",
       "</style>\n",
       "<table border=\"1\" class=\"dataframe\">\n",
       "  <thead>\n",
       "    <tr style=\"text-align: right;\">\n",
       "      <th></th>\n",
       "      <th>Competencia Evolucao</th>\n",
       "      <th>Classificacao final</th>\n",
       "      <th>Evolucao</th>\n",
       "      <th>Idade</th>\n",
       "      <th>pos_pcrflu</th>\n",
       "      <th>tp_flu_pcr</th>\n",
       "      <th>pcr_fluasu</th>\n",
       "      <th>pcr_vsr</th>\n",
       "    </tr>\n",
       "  </thead>\n",
       "  <tbody>\n",
       "    <tr>\n",
       "      <th>0</th>\n",
       "      <td>2020_02</td>\n",
       "      <td>SRAG não especificado</td>\n",
       "      <td>Cura</td>\n",
       "      <td>31.0</td>\n",
       "      <td>NaN</td>\n",
       "      <td>NaN</td>\n",
       "      <td>NaN</td>\n",
       "      <td>NaN</td>\n",
       "    </tr>\n",
       "    <tr>\n",
       "      <th>1</th>\n",
       "      <td>2020_01</td>\n",
       "      <td>SRAG não especificado</td>\n",
       "      <td>Cura</td>\n",
       "      <td>19.0</td>\n",
       "      <td>NaN</td>\n",
       "      <td>NaN</td>\n",
       "      <td>NaN</td>\n",
       "      <td>NaN</td>\n",
       "    </tr>\n",
       "    <tr>\n",
       "      <th>2</th>\n",
       "      <td>2020_01</td>\n",
       "      <td>SRAG não especificado</td>\n",
       "      <td>Cura</td>\n",
       "      <td>0.0</td>\n",
       "      <td>NaN</td>\n",
       "      <td>NaN</td>\n",
       "      <td>NaN</td>\n",
       "      <td>NaN</td>\n",
       "    </tr>\n",
       "    <tr>\n",
       "      <th>3</th>\n",
       "      <td>2020_01</td>\n",
       "      <td>SRAG não especificado</td>\n",
       "      <td>Óbito</td>\n",
       "      <td>58.0</td>\n",
       "      <td>NaN</td>\n",
       "      <td>NaN</td>\n",
       "      <td>NaN</td>\n",
       "      <td>NaN</td>\n",
       "    </tr>\n",
       "    <tr>\n",
       "      <th>4</th>\n",
       "      <td>2020_02</td>\n",
       "      <td>SRAG não especificado</td>\n",
       "      <td>Cura</td>\n",
       "      <td>1.0</td>\n",
       "      <td>NaN</td>\n",
       "      <td>NaN</td>\n",
       "      <td>NaN</td>\n",
       "      <td>NaN</td>\n",
       "    </tr>\n",
       "    <tr>\n",
       "      <th>...</th>\n",
       "      <td>...</td>\n",
       "      <td>...</td>\n",
       "      <td>...</td>\n",
       "      <td>...</td>\n",
       "      <td>...</td>\n",
       "      <td>...</td>\n",
       "      <td>...</td>\n",
       "      <td>...</td>\n",
       "    </tr>\n",
       "    <tr>\n",
       "      <th>185526</th>\n",
       "      <td>2022_10</td>\n",
       "      <td>SRAG não especificado</td>\n",
       "      <td>Óbito</td>\n",
       "      <td>80.0</td>\n",
       "      <td>NaN</td>\n",
       "      <td>NaN</td>\n",
       "      <td>NaN</td>\n",
       "      <td>NaN</td>\n",
       "    </tr>\n",
       "    <tr>\n",
       "      <th>185527</th>\n",
       "      <td>NaN</td>\n",
       "      <td>COVID-19</td>\n",
       "      <td>Segue Internado</td>\n",
       "      <td>64.0</td>\n",
       "      <td>Nao</td>\n",
       "      <td>NaN</td>\n",
       "      <td>NaN</td>\n",
       "      <td>1.0</td>\n",
       "    </tr>\n",
       "    <tr>\n",
       "      <th>185528</th>\n",
       "      <td>NaN</td>\n",
       "      <td>SRAG não especificado</td>\n",
       "      <td>Ignorado</td>\n",
       "      <td>46.0</td>\n",
       "      <td>NaN</td>\n",
       "      <td>NaN</td>\n",
       "      <td>NaN</td>\n",
       "      <td>NaN</td>\n",
       "    </tr>\n",
       "    <tr>\n",
       "      <th>185529</th>\n",
       "      <td>2020_07</td>\n",
       "      <td>SRAG não especificado</td>\n",
       "      <td>Cura</td>\n",
       "      <td>85.0</td>\n",
       "      <td>NaN</td>\n",
       "      <td>NaN</td>\n",
       "      <td>NaN</td>\n",
       "      <td>NaN</td>\n",
       "    </tr>\n",
       "    <tr>\n",
       "      <th>185530</th>\n",
       "      <td>NaN</td>\n",
       "      <td>NaN</td>\n",
       "      <td>NaN</td>\n",
       "      <td>NaN</td>\n",
       "      <td>NaN</td>\n",
       "      <td>NaN</td>\n",
       "      <td>NaN</td>\n",
       "      <td>NaN</td>\n",
       "    </tr>\n",
       "  </tbody>\n",
       "</table>\n",
       "<p>185531 rows × 8 columns</p>\n",
       "</div>"
      ],
      "text/plain": [
       "       Competencia Evolucao    Classificacao final         Evolucao  Idade  \\\n",
       "0                   2020_02  SRAG não especificado             Cura   31.0   \n",
       "1                   2020_01  SRAG não especificado             Cura   19.0   \n",
       "2                   2020_01  SRAG não especificado             Cura    0.0   \n",
       "3                   2020_01  SRAG não especificado            Óbito   58.0   \n",
       "4                   2020_02  SRAG não especificado             Cura    1.0   \n",
       "...                     ...                    ...              ...    ...   \n",
       "185526              2022_10  SRAG não especificado            Óbito   80.0   \n",
       "185527                  NaN               COVID-19  Segue Internado   64.0   \n",
       "185528                  NaN  SRAG não especificado         Ignorado   46.0   \n",
       "185529              2020_07  SRAG não especificado             Cura   85.0   \n",
       "185530                  NaN                    NaN              NaN    NaN   \n",
       "\n",
       "       pos_pcrflu tp_flu_pcr pcr_fluasu  pcr_vsr  \n",
       "0             NaN        NaN        NaN      NaN  \n",
       "1             NaN        NaN        NaN      NaN  \n",
       "2             NaN        NaN        NaN      NaN  \n",
       "3             NaN        NaN        NaN      NaN  \n",
       "4             NaN        NaN        NaN      NaN  \n",
       "...           ...        ...        ...      ...  \n",
       "185526        NaN        NaN        NaN      NaN  \n",
       "185527        Nao        NaN        NaN      1.0  \n",
       "185528        NaN        NaN        NaN      NaN  \n",
       "185529        NaN        NaN        NaN      NaN  \n",
       "185530        NaN        NaN        NaN      NaN  \n",
       "\n",
       "[185531 rows x 8 columns]"
      ]
     },
     "execution_count": 8,
     "metadata": {},
     "output_type": "execute_result"
    }
   ],
   "source": [
    "filtro = dados[['Competencia Evolucao','Classificacao final','Evolucao','Idade','pos_pcrflu','tp_flu_pcr','pcr_fluasu',\"pcr_vsr\"]]\n",
    "filtro"
   ]
  },
  {
   "cell_type": "code",
   "execution_count": 9,
   "metadata": {},
   "outputs": [
    {
     "name": "stderr",
     "output_type": "stream",
     "text": [
      "C:\\Users\\ryan-rosa\\AppData\\Local\\Temp\\ipykernel_12804\\4269199503.py:7: SettingWithCopyWarning: \n",
      "A value is trying to be set on a copy of a slice from a DataFrame.\n",
      "Try using .loc[row_indexer,col_indexer] = value instead\n",
      "\n",
      "See the caveats in the documentation: https://pandas.pydata.org/pandas-docs/stable/user_guide/indexing.html#returning-a-view-versus-a-copy\n",
      "  filtro.loc[index,'Idade'] = '20-39 anos'\n"
     ]
    }
   ],
   "source": [
    "for index, idade in filtro.iterrows():\n",
    "    if idade['Idade'] < 12:\n",
    "        filtro.loc[index,'Idade'] = '0-11 anos'\n",
    "    elif idade['Idade'] < 20:\n",
    "        filtro.loc[index,'Idade'] = '12-19 anos'\n",
    "    elif idade['Idade'] < 40:\n",
    "        filtro.loc[index,'Idade'] = '20-39 anos'\n",
    "    elif idade['Idade'] < 60:\n",
    "        filtro.loc[index,'Idade'] = '40-59 anos'\n",
    "    elif idade['Idade'] < 80:\n",
    "        filtro.loc[index,'Idade'] = '60-79 anos'\n",
    "    elif idade['Idade'] < 150:\n",
    "        filtro.loc[index,'Idade'] = '80 e mais'"
   ]
  },
  {
   "cell_type": "code",
   "execution_count": 10,
   "metadata": {},
   "outputs": [
    {
     "data": {
      "text/html": [
       "<div>\n",
       "<style scoped>\n",
       "    .dataframe tbody tr th:only-of-type {\n",
       "        vertical-align: middle;\n",
       "    }\n",
       "\n",
       "    .dataframe tbody tr th {\n",
       "        vertical-align: top;\n",
       "    }\n",
       "\n",
       "    .dataframe thead th {\n",
       "        text-align: right;\n",
       "    }\n",
       "</style>\n",
       "<table border=\"1\" class=\"dataframe\">\n",
       "  <thead>\n",
       "    <tr style=\"text-align: right;\">\n",
       "      <th></th>\n",
       "      <th>Competencia Evolucao</th>\n",
       "      <th>Classificacao final</th>\n",
       "      <th>Evolucao</th>\n",
       "      <th>Idade</th>\n",
       "      <th>pos_pcrflu</th>\n",
       "      <th>tp_flu_pcr</th>\n",
       "      <th>pcr_fluasu</th>\n",
       "      <th>pcr_vsr</th>\n",
       "    </tr>\n",
       "  </thead>\n",
       "  <tbody>\n",
       "    <tr>\n",
       "      <th>16066</th>\n",
       "      <td>2021_03</td>\n",
       "      <td>COVID-19</td>\n",
       "      <td>Óbito</td>\n",
       "      <td>60-79 anos</td>\n",
       "      <td>Sim</td>\n",
       "      <td>NaN</td>\n",
       "      <td>NaN</td>\n",
       "      <td>NaN</td>\n",
       "    </tr>\n",
       "    <tr>\n",
       "      <th>32480</th>\n",
       "      <td>2022_02</td>\n",
       "      <td>SRAG por influenza</td>\n",
       "      <td>Óbito</td>\n",
       "      <td>60-79 anos</td>\n",
       "      <td>Sim</td>\n",
       "      <td>Influenza</td>\n",
       "      <td>Influenza A(H3N2)</td>\n",
       "      <td>NaN</td>\n",
       "    </tr>\n",
       "    <tr>\n",
       "      <th>32532</th>\n",
       "      <td>2022_01</td>\n",
       "      <td>SRAG por influenza</td>\n",
       "      <td>Óbito</td>\n",
       "      <td>80 e mais</td>\n",
       "      <td>Sim</td>\n",
       "      <td>Influenza</td>\n",
       "      <td>Influenza A nao subtipado</td>\n",
       "      <td>NaN</td>\n",
       "    </tr>\n",
       "    <tr>\n",
       "      <th>32859</th>\n",
       "      <td>2022_01</td>\n",
       "      <td>SRAG por influenza</td>\n",
       "      <td>Óbito</td>\n",
       "      <td>60-79 anos</td>\n",
       "      <td>Sim</td>\n",
       "      <td>Influenza</td>\n",
       "      <td>Influenza A nao subtipado</td>\n",
       "      <td>NaN</td>\n",
       "    </tr>\n",
       "    <tr>\n",
       "      <th>32903</th>\n",
       "      <td>2022_01</td>\n",
       "      <td>SRAG por influenza</td>\n",
       "      <td>Óbito</td>\n",
       "      <td>60-79 anos</td>\n",
       "      <td>Sim</td>\n",
       "      <td>Influenza</td>\n",
       "      <td>Influenza A nao subtipado</td>\n",
       "      <td>NaN</td>\n",
       "    </tr>\n",
       "    <tr>\n",
       "      <th>...</th>\n",
       "      <td>...</td>\n",
       "      <td>...</td>\n",
       "      <td>...</td>\n",
       "      <td>...</td>\n",
       "      <td>...</td>\n",
       "      <td>...</td>\n",
       "      <td>...</td>\n",
       "      <td>...</td>\n",
       "    </tr>\n",
       "    <tr>\n",
       "      <th>173324</th>\n",
       "      <td>2022_06</td>\n",
       "      <td>COVID-19</td>\n",
       "      <td>Óbito</td>\n",
       "      <td>60-79 anos</td>\n",
       "      <td>Sim</td>\n",
       "      <td>Influenza</td>\n",
       "      <td>Influenza A(H3N2)</td>\n",
       "      <td>NaN</td>\n",
       "    </tr>\n",
       "    <tr>\n",
       "      <th>177281</th>\n",
       "      <td>2022_08</td>\n",
       "      <td>SRAG por influenza</td>\n",
       "      <td>Óbito</td>\n",
       "      <td>80 e mais</td>\n",
       "      <td>Sim</td>\n",
       "      <td>Influenza</td>\n",
       "      <td>Influenza A(H3N2)</td>\n",
       "      <td>NaN</td>\n",
       "    </tr>\n",
       "    <tr>\n",
       "      <th>182936</th>\n",
       "      <td>2022_06</td>\n",
       "      <td>COVID-19</td>\n",
       "      <td>Óbito</td>\n",
       "      <td>60-79 anos</td>\n",
       "      <td>Sim</td>\n",
       "      <td>Influenza</td>\n",
       "      <td>Influenza A(H3N2)</td>\n",
       "      <td>NaN</td>\n",
       "    </tr>\n",
       "    <tr>\n",
       "      <th>185402</th>\n",
       "      <td>2022_03</td>\n",
       "      <td>SRAG por influenza</td>\n",
       "      <td>Óbito</td>\n",
       "      <td>60-79 anos</td>\n",
       "      <td>Sim</td>\n",
       "      <td>Influenza</td>\n",
       "      <td>Influenza A(H3N2)</td>\n",
       "      <td>NaN</td>\n",
       "    </tr>\n",
       "    <tr>\n",
       "      <th>185496</th>\n",
       "      <td>2022_06</td>\n",
       "      <td>SRAG por influenza</td>\n",
       "      <td>Óbito</td>\n",
       "      <td>80 e mais</td>\n",
       "      <td>Sim</td>\n",
       "      <td>Influenza</td>\n",
       "      <td>Influenza A(H3N2)</td>\n",
       "      <td>NaN</td>\n",
       "    </tr>\n",
       "  </tbody>\n",
       "</table>\n",
       "<p>124 rows × 8 columns</p>\n",
       "</div>"
      ],
      "text/plain": [
       "       Competencia Evolucao Classificacao final Evolucao       Idade  \\\n",
       "16066               2021_03            COVID-19    Óbito  60-79 anos   \n",
       "32480               2022_02  SRAG por influenza    Óbito  60-79 anos   \n",
       "32532               2022_01  SRAG por influenza    Óbito   80 e mais   \n",
       "32859               2022_01  SRAG por influenza    Óbito  60-79 anos   \n",
       "32903               2022_01  SRAG por influenza    Óbito  60-79 anos   \n",
       "...                     ...                 ...      ...         ...   \n",
       "173324              2022_06            COVID-19    Óbito  60-79 anos   \n",
       "177281              2022_08  SRAG por influenza    Óbito   80 e mais   \n",
       "182936              2022_06            COVID-19    Óbito  60-79 anos   \n",
       "185402              2022_03  SRAG por influenza    Óbito  60-79 anos   \n",
       "185496              2022_06  SRAG por influenza    Óbito   80 e mais   \n",
       "\n",
       "       pos_pcrflu tp_flu_pcr                 pcr_fluasu  pcr_vsr  \n",
       "16066         Sim        NaN                        NaN      NaN  \n",
       "32480         Sim  Influenza          Influenza A(H3N2)      NaN  \n",
       "32532         Sim  Influenza  Influenza A nao subtipado      NaN  \n",
       "32859         Sim  Influenza  Influenza A nao subtipado      NaN  \n",
       "32903         Sim  Influenza  Influenza A nao subtipado      NaN  \n",
       "...           ...        ...                        ...      ...  \n",
       "173324        Sim  Influenza          Influenza A(H3N2)      NaN  \n",
       "177281        Sim  Influenza          Influenza A(H3N2)      NaN  \n",
       "182936        Sim  Influenza          Influenza A(H3N2)      NaN  \n",
       "185402        Sim  Influenza          Influenza A(H3N2)      NaN  \n",
       "185496        Sim  Influenza          Influenza A(H3N2)      NaN  \n",
       "\n",
       "[124 rows x 8 columns]"
      ]
     },
     "execution_count": 10,
     "metadata": {},
     "output_type": "execute_result"
    }
   ],
   "source": [
    "filtro = filtro.loc[filtro['pos_pcrflu']=='Sim']\n",
    "filtro = filtro.loc[filtro['Evolucao']=='Óbito']\n",
    "filtro"
   ]
  },
  {
   "cell_type": "code",
   "execution_count": 11,
   "metadata": {},
   "outputs": [
    {
     "data": {
      "text/html": [
       "<div>\n",
       "<style scoped>\n",
       "    .dataframe tbody tr th:only-of-type {\n",
       "        vertical-align: middle;\n",
       "    }\n",
       "\n",
       "    .dataframe tbody tr th {\n",
       "        vertical-align: top;\n",
       "    }\n",
       "\n",
       "    .dataframe thead th {\n",
       "        text-align: right;\n",
       "    }\n",
       "</style>\n",
       "<table border=\"1\" class=\"dataframe\">\n",
       "  <thead>\n",
       "    <tr style=\"text-align: right;\">\n",
       "      <th></th>\n",
       "      <th>Classificacao final</th>\n",
       "      <th>Evolucao</th>\n",
       "      <th>Idade</th>\n",
       "      <th>pos_pcrflu</th>\n",
       "      <th>tp_flu_pcr</th>\n",
       "      <th>pcr_fluasu</th>\n",
       "      <th>pcr_vsr</th>\n",
       "    </tr>\n",
       "    <tr>\n",
       "      <th>Competencia Evolucao</th>\n",
       "      <th></th>\n",
       "      <th></th>\n",
       "      <th></th>\n",
       "      <th></th>\n",
       "      <th></th>\n",
       "      <th></th>\n",
       "      <th></th>\n",
       "    </tr>\n",
       "  </thead>\n",
       "  <tbody>\n",
       "    <tr>\n",
       "      <th>2020_01</th>\n",
       "      <td>1</td>\n",
       "      <td>1</td>\n",
       "      <td>1</td>\n",
       "      <td>1</td>\n",
       "      <td>1</td>\n",
       "      <td>0</td>\n",
       "      <td>0</td>\n",
       "    </tr>\n",
       "    <tr>\n",
       "      <th>2020_03</th>\n",
       "      <td>1</td>\n",
       "      <td>1</td>\n",
       "      <td>1</td>\n",
       "      <td>1</td>\n",
       "      <td>1</td>\n",
       "      <td>1</td>\n",
       "      <td>0</td>\n",
       "    </tr>\n",
       "    <tr>\n",
       "      <th>2021_03</th>\n",
       "      <td>1</td>\n",
       "      <td>1</td>\n",
       "      <td>1</td>\n",
       "      <td>1</td>\n",
       "      <td>0</td>\n",
       "      <td>0</td>\n",
       "      <td>0</td>\n",
       "    </tr>\n",
       "    <tr>\n",
       "      <th>2021_12</th>\n",
       "      <td>3</td>\n",
       "      <td>3</td>\n",
       "      <td>3</td>\n",
       "      <td>3</td>\n",
       "      <td>3</td>\n",
       "      <td>3</td>\n",
       "      <td>0</td>\n",
       "    </tr>\n",
       "    <tr>\n",
       "      <th>2022_01</th>\n",
       "      <td>34</td>\n",
       "      <td>34</td>\n",
       "      <td>34</td>\n",
       "      <td>34</td>\n",
       "      <td>34</td>\n",
       "      <td>34</td>\n",
       "      <td>0</td>\n",
       "    </tr>\n",
       "  </tbody>\n",
       "</table>\n",
       "</div>"
      ],
      "text/plain": [
       "                      Classificacao final  Evolucao  Idade  pos_pcrflu  \\\n",
       "Competencia Evolucao                                                     \n",
       "2020_01                                 1         1      1           1   \n",
       "2020_03                                 1         1      1           1   \n",
       "2021_03                                 1         1      1           1   \n",
       "2021_12                                 3         3      3           3   \n",
       "2022_01                                34        34     34          34   \n",
       "\n",
       "                      tp_flu_pcr  pcr_fluasu  pcr_vsr  \n",
       "Competencia Evolucao                                   \n",
       "2020_01                        1           0        0  \n",
       "2020_03                        1           1        0  \n",
       "2021_03                        0           0        0  \n",
       "2021_12                        3           3        0  \n",
       "2022_01                       34          34        0  "
      ]
     },
     "execution_count": 11,
     "metadata": {},
     "output_type": "execute_result"
    }
   ],
   "source": [
    "total_obitos = filtro.groupby('Competencia Evolucao').count()\n",
    "total_obitos.head()"
   ]
  },
  {
   "cell_type": "code",
   "execution_count": 12,
   "metadata": {},
   "outputs": [
    {
     "data": {
      "text/html": [
       "<div>\n",
       "<style scoped>\n",
       "    .dataframe tbody tr th:only-of-type {\n",
       "        vertical-align: middle;\n",
       "    }\n",
       "\n",
       "    .dataframe tbody tr th {\n",
       "        vertical-align: top;\n",
       "    }\n",
       "\n",
       "    .dataframe thead th {\n",
       "        text-align: right;\n",
       "    }\n",
       "</style>\n",
       "<table border=\"1\" class=\"dataframe\">\n",
       "  <thead>\n",
       "    <tr style=\"text-align: right;\">\n",
       "      <th></th>\n",
       "      <th></th>\n",
       "      <th>Classificacao final</th>\n",
       "      <th>Evolucao</th>\n",
       "      <th>pos_pcrflu</th>\n",
       "      <th>tp_flu_pcr</th>\n",
       "      <th>pcr_fluasu</th>\n",
       "      <th>pcr_vsr</th>\n",
       "    </tr>\n",
       "    <tr>\n",
       "      <th>Idade</th>\n",
       "      <th>Competencia Evolucao</th>\n",
       "      <th></th>\n",
       "      <th></th>\n",
       "      <th></th>\n",
       "      <th></th>\n",
       "      <th></th>\n",
       "      <th></th>\n",
       "    </tr>\n",
       "  </thead>\n",
       "  <tbody>\n",
       "    <tr>\n",
       "      <th rowspan=\"2\" valign=\"top\">0-11 anos</th>\n",
       "      <th>2020_01</th>\n",
       "      <td>1</td>\n",
       "      <td>1</td>\n",
       "      <td>1</td>\n",
       "      <td>1</td>\n",
       "      <td>0</td>\n",
       "      <td>0</td>\n",
       "    </tr>\n",
       "    <tr>\n",
       "      <th>2022_05</th>\n",
       "      <td>2</td>\n",
       "      <td>2</td>\n",
       "      <td>2</td>\n",
       "      <td>2</td>\n",
       "      <td>2</td>\n",
       "      <td>0</td>\n",
       "    </tr>\n",
       "    <tr>\n",
       "      <th rowspan=\"3\" valign=\"top\">20-39 anos</th>\n",
       "      <th>2022_01</th>\n",
       "      <td>2</td>\n",
       "      <td>2</td>\n",
       "      <td>2</td>\n",
       "      <td>2</td>\n",
       "      <td>2</td>\n",
       "      <td>0</td>\n",
       "    </tr>\n",
       "    <tr>\n",
       "      <th>2022_02</th>\n",
       "      <td>1</td>\n",
       "      <td>1</td>\n",
       "      <td>1</td>\n",
       "      <td>1</td>\n",
       "      <td>1</td>\n",
       "      <td>0</td>\n",
       "    </tr>\n",
       "    <tr>\n",
       "      <th>2022_03</th>\n",
       "      <td>1</td>\n",
       "      <td>1</td>\n",
       "      <td>1</td>\n",
       "      <td>1</td>\n",
       "      <td>1</td>\n",
       "      <td>0</td>\n",
       "    </tr>\n",
       "  </tbody>\n",
       "</table>\n",
       "</div>"
      ],
      "text/plain": [
       "                                 Classificacao final  Evolucao  pos_pcrflu  \\\n",
       "Idade      Competencia Evolucao                                              \n",
       "0-11 anos  2020_01                                 1         1           1   \n",
       "           2022_05                                 2         2           2   \n",
       "20-39 anos 2022_01                                 2         2           2   \n",
       "           2022_02                                 1         1           1   \n",
       "           2022_03                                 1         1           1   \n",
       "\n",
       "                                 tp_flu_pcr  pcr_fluasu  pcr_vsr  \n",
       "Idade      Competencia Evolucao                                   \n",
       "0-11 anos  2020_01                        1           0        0  \n",
       "           2022_05                        2           2        0  \n",
       "20-39 anos 2022_01                        2           2        0  \n",
       "           2022_02                        1           1        0  \n",
       "           2022_03                        1           1        0  "
      ]
     },
     "execution_count": 12,
     "metadata": {},
     "output_type": "execute_result"
    }
   ],
   "source": [
    "separaIdade = filtro.groupby(['Idade','Competencia Evolucao']).count()\n",
    "separaIdade.head()"
   ]
  },
  {
   "cell_type": "code",
   "execution_count": 13,
   "metadata": {},
   "outputs": [
    {
     "data": {
      "text/plain": [
       "Competencia Evolucao\n",
       "2022_04     0.000000\n",
       "2022_05    11.111111\n",
       "2022_06     0.000000\n",
       "2022_07     0.000000\n",
       "2022_08     0.000000\n",
       "2022_09     0.000000\n",
       "2022_11     0.000000\n",
       "2022_10     0.000000\n",
       "Name: Proporcao, dtype: float64"
      ]
     },
     "execution_count": 13,
     "metadata": {},
     "output_type": "execute_result"
    }
   ],
   "source": [
    "idade11 = separaIdade.reset_index()\n",
    "idade11 = idade11.loc[idade11['Idade']=='0-11 anos']\n",
    "idade11 = idade11.set_index('Competencia Evolucao')\n",
    "idade11['Proporcao'] = idade11['Evolucao']/total_obitos['Evolucao']*100\n",
    "idade11 = idade11.merge(total_obitos,how='outer',right_index=True, left_index=True)\n",
    "idade11 = idade11.drop(columns=['Evolucao_y','Classificacao final_y','Evolucao_y','Idade_y'])\n",
    "idade11['Proporcao'] = idade11['Proporcao'].fillna(0)\n",
    "idade11 = idade11['2021_12':]\n",
    "idade11.loc['2022_10'] = 0 \n",
    "idade11 = idade11['Proporcao']\n",
    "idade11.tail(8)"
   ]
  },
  {
   "cell_type": "code",
   "execution_count": 14,
   "metadata": {},
   "outputs": [
    {
     "data": {
      "text/plain": [
       "Competencia Evolucao\n",
       "2022_04    0.0\n",
       "2022_05    0.0\n",
       "2022_06    0.0\n",
       "2022_07    0.0\n",
       "2022_08    0.0\n",
       "2022_09    0.0\n",
       "2022_11    0.0\n",
       "2022_10    0.0\n",
       "Name: Proporcao, dtype: float64"
      ]
     },
     "execution_count": 14,
     "metadata": {},
     "output_type": "execute_result"
    }
   ],
   "source": [
    "idade19 = separaIdade.reset_index()\n",
    "idade19 = idade19.loc[idade19['Idade']=='12-19 anos']\n",
    "idade19 = idade19.set_index('Competencia Evolucao')\n",
    "idade19['Proporcao'] = idade19['Evolucao']/total_obitos['Evolucao']*100\n",
    "idade19 = idade19.merge(total_obitos,how='outer',right_index=True, left_index=True)\n",
    "idade19 = idade19.drop(columns=['Evolucao_y','Classificacao final_y','Evolucao_y','Idade_y'])\n",
    "idade19['Proporcao'] = idade19['Proporcao'].fillna(0)\n",
    "idade19 = idade19['2021_12':]\n",
    "idade19.loc['2022_10'] = 0 \n",
    "idade19 = idade19['Proporcao']\n",
    "idade19.tail(8)"
   ]
  },
  {
   "cell_type": "code",
   "execution_count": 15,
   "metadata": {},
   "outputs": [
    {
     "data": {
      "text/plain": [
       "Competencia Evolucao\n",
       "2022_04     0.000000\n",
       "2022_05    11.111111\n",
       "2022_06     3.703704\n",
       "2022_07     6.666667\n",
       "2022_08     0.000000\n",
       "2022_09     0.000000\n",
       "2022_11     0.000000\n",
       "2022_10     0.000000\n",
       "Name: Proporcao, dtype: float64"
      ]
     },
     "execution_count": 15,
     "metadata": {},
     "output_type": "execute_result"
    }
   ],
   "source": [
    "idade39 = separaIdade.reset_index()\n",
    "idade39 = idade39.loc[idade39['Idade']=='20-39 anos']\n",
    "idade39 = idade39.set_index('Competencia Evolucao')\n",
    "idade39['Proporcao'] = idade39['Evolucao']/total_obitos['Evolucao']*100\n",
    "idade39 = idade39.merge(total_obitos,how='outer',right_index=True, left_index=True)\n",
    "idade39 = idade39.drop(columns=['Evolucao_y','Classificacao final_y','Evolucao_y','Idade_y'])\n",
    "idade39['Proporcao'] = idade39['Proporcao'].fillna(0)\n",
    "idade39 = idade39['2021_12':]\n",
    "idade39.loc['2022_10'] = 0 \n",
    "idade39 = idade39['Proporcao']\n",
    "idade39.tail(8)"
   ]
  },
  {
   "cell_type": "code",
   "execution_count": 16,
   "metadata": {},
   "outputs": [
    {
     "data": {
      "text/plain": [
       "Competencia Evolucao\n",
       "2022_04      0.000000\n",
       "2022_05     16.666667\n",
       "2022_06     11.111111\n",
       "2022_07      6.666667\n",
       "2022_08      0.000000\n",
       "2022_09      0.000000\n",
       "2022_11    100.000000\n",
       "2022_10      0.000000\n",
       "Name: Proporcao, dtype: float64"
      ]
     },
     "execution_count": 16,
     "metadata": {},
     "output_type": "execute_result"
    }
   ],
   "source": [
    "idade59 = separaIdade.reset_index()\n",
    "idade59 = idade59.loc[idade59['Idade']=='40-59 anos']\n",
    "idade59 = idade59.set_index('Competencia Evolucao')\n",
    "idade59['Proporcao'] = idade59['Evolucao']/total_obitos['Evolucao']*100\n",
    "idade59 = idade59.merge(total_obitos,how='outer',right_index=True, left_index=True)\n",
    "idade59 = idade59.drop(columns=['Evolucao_y','Classificacao final_y','Evolucao_y','Idade_y'])\n",
    "idade59['Proporcao'] = idade59['Proporcao'].fillna(0)\n",
    "idade59 = idade59['2021_12':]\n",
    "idade59.loc['2022_10'] = 0 \n",
    "idade59 = idade59['Proporcao']\n",
    "idade59.tail(8)"
   ]
  },
  {
   "cell_type": "code",
   "execution_count": 17,
   "metadata": {},
   "outputs": [
    {
     "data": {
      "text/plain": [
       "Competencia Evolucao\n",
       "2022_04    100.000000\n",
       "2022_05     33.333333\n",
       "2022_06     40.740741\n",
       "2022_07     46.666667\n",
       "2022_08     66.666667\n",
       "2022_09    100.000000\n",
       "2022_11      0.000000\n",
       "2022_10      0.000000\n",
       "Name: Proporcao, dtype: float64"
      ]
     },
     "execution_count": 17,
     "metadata": {},
     "output_type": "execute_result"
    }
   ],
   "source": [
    "idade79 = separaIdade.reset_index()\n",
    "idade79 = idade79.loc[idade79['Idade']=='60-79 anos']\n",
    "idade79 = idade79.set_index('Competencia Evolucao')\n",
    "idade79['Proporcao'] = idade79['Evolucao']/total_obitos['Evolucao']*100\n",
    "idade79 = idade79.merge(total_obitos,how='outer',right_index=True, left_index=True)\n",
    "idade79 = idade79.drop(columns=['Evolucao_y','Classificacao final_y','Evolucao_y','Idade_y'])\n",
    "idade79['Proporcao'] = idade79['Proporcao'].fillna(0)\n",
    "idade79 = idade79['2021_12':]\n",
    "idade79.loc['2022_10'] = 0 \n",
    "idade79 = idade79['Proporcao']\n",
    "idade79.tail(8)"
   ]
  },
  {
   "cell_type": "code",
   "execution_count": 18,
   "metadata": {},
   "outputs": [
    {
     "data": {
      "text/plain": [
       "Competencia Evolucao\n",
       "2022_04     0.000000\n",
       "2022_05    27.777778\n",
       "2022_06    44.444444\n",
       "2022_07    40.000000\n",
       "2022_08    33.333333\n",
       "2022_09     0.000000\n",
       "2022_11     0.000000\n",
       "2022_10     0.000000\n",
       "Name: Proporcao, dtype: float64"
      ]
     },
     "execution_count": 18,
     "metadata": {},
     "output_type": "execute_result"
    }
   ],
   "source": [
    "idade80 = separaIdade.reset_index()\n",
    "idade80 = idade80.loc[idade80['Idade']=='80 e mais']\n",
    "idade80 = idade80.set_index('Competencia Evolucao')\n",
    "idade80['Proporcao'] = idade80['Evolucao']/total_obitos['Evolucao']*100\n",
    "idade80 = idade80.merge(total_obitos,how='outer',right_index=True, left_index=True)\n",
    "idade80 = idade80.drop(columns=['Evolucao_y','Classificacao final_y','Evolucao_y','Idade_y'])\n",
    "idade80['Proporcao'] = idade80['Proporcao'].fillna(0)\n",
    "idade80 = idade80['2021_12':]\n",
    "idade80.loc['2022_10'] = 0 \n",
    "idade80 = idade80['Proporcao']\n",
    "idade80.tail(8)"
   ]
  },
  {
   "cell_type": "code",
   "execution_count": 19,
   "metadata": {},
   "outputs": [
    {
     "data": {
      "text/plain": [
       "0     2021_12\n",
       "1     2022_01\n",
       "2     2022_02\n",
       "3     2022_03\n",
       "4     2022_04\n",
       "5     2022_05\n",
       "6     2022_06\n",
       "7     2022_07\n",
       "8     2022_08\n",
       "9     2022_09\n",
       "10    2022_11\n",
       "11    2022_10\n",
       "Name: Competencia Evolucao, dtype: object"
      ]
     },
     "execution_count": 19,
     "metadata": {},
     "output_type": "execute_result"
    }
   ],
   "source": [
    "eixo_x = idade80.to_frame()\n",
    "eixo_x = eixo_x.reset_index()\n",
    "eixo_x = eixo_x['Competencia Evolucao']\n",
    "eixo_x"
   ]
  },
  {
   "cell_type": "code",
   "execution_count": 20,
   "metadata": {},
   "outputs": [],
   "source": [
    "legenda = pd.DataFrame(columns=['0-11','12-19','20-39','40-59','60-79','80 e mais'])"
   ]
  },
  {
   "cell_type": "code",
   "execution_count": 21,
   "metadata": {},
   "outputs": [
    {
     "data": {
      "text/plain": [
       "'Gráficos 13_12_2022'"
      ]
     },
     "execution_count": 21,
     "metadata": {},
     "output_type": "execute_result"
    }
   ],
   "source": [
    "pasta = r'Z:\\Graficos Boletim_Python'\n",
    "lista_arquivos = os.listdir(pasta)\n",
    "lista_datas = []\n",
    "\n",
    "for arquivo in lista_arquivos:\n",
    "    #Descobrir a data desse arquivo\n",
    "    data = os.path.getmtime(f'{pasta}/{arquivo}')\n",
    "    lista_datas.append((data,arquivo))\n",
    "\n",
    "lista_datas.sort(reverse=True) #Vai ordenar a lista em ordem decrescente com reverse=True Obs: Ele ordena sempre com o primeiro valor, por isso colocamos data antes de arquivo\n",
    "ultima_pasta = lista_datas[0][1] #Pega o ultimo arquivo\n",
    "ultima_pasta"
   ]
  },
  {
   "cell_type": "code",
   "execution_count": 22,
   "metadata": {},
   "outputs": [
    {
     "data": {
      "image/png": "[encoded data removed]",
      "text/plain": [
       "<Figure size 2160x720 with 1 Axes>"
      ]
     },
     "metadata": {
      "needs_background": "light"
     },
     "output_type": "display_data"
    }
   ],
   "source": [
    "plt.figure(figsize=(30,10))\n",
    "plt.bar(eixo_x,idade11, color='#d8a878',edgecolor='#000000')\n",
    "plt.bar(eixo_x,idade19, bottom=idade11, color=\"#e7e79d\",edgecolor='#000000')\n",
    "plt.bar(eixo_x,idade39, bottom=idade11 + idade19, color='#c0d890',edgecolor='#000000')\n",
    "plt.bar(eixo_x,idade59, bottom=np.array(idade11) + np.array(idade19) + np.array(idade39), color='#78a890',edgecolor='#000000')\n",
    "plt.bar(eixo_x,idade79, bottom=idade11 + idade19 + idade39 + idade59, color='#606078',edgecolor='#000000')\n",
    "plt.bar(eixo_x,idade80, bottom=idade11 + idade19 + idade39 + idade59 + idade79, color='#7890a8',edgecolor='#000000')\n",
    "sns.despine()\n",
    "plt.xticks(rotation=90,fontsize=25)\n",
    "plt.xlabel('Mês do óbito',fontsize=30,labelpad=20)\n",
    "plt.yticks(np.arange(0,110,10),fontsize=25)\n",
    "plt.ylabel('Proporção de óbitos confirmados para Influenza',fontsize=30,labelpad=20)\n",
    "plt.gca().set_yticklabels(['{:.0f}%'.format(x*1) for x in plt.gca().get_yticks()])\n",
    "plt.legend(legenda,loc='upper center',fancybox=True,bbox_to_anchor=(1.08,1.03),fontsize=30,shadow=True)\n",
    "plt.savefig(f'Z:/Graficos Boletim_Python/{ultima_pasta}/proporcaoObito_Influ.png',dpi=720,bbox_inches='tight')"
   ]
  },
  {
   "cell_type": "code",
   "execution_count": null,
   "metadata": {},
   "outputs": [],
   "source": []
  }
 ],
 "metadata": {
  "kernelspec": {
   "display_name": "Python 3.10.0 64-bit",
   "language": "python",
   "name": "python3"
  },
  "language_info": {
   "codemirror_mode": {
    "name": "ipython",
    "version": 3
   },
   "file_extension": ".py",
   "mimetype": "text/x-python",
   "name": "python",
   "nbconvert_exporter": "python",
   "pygments_lexer": "ipython3",
   "version": "3.10.0 (tags/v3.10.0:b494f59, Oct  4 2021, 19:00:18) [MSC v.1929 64 bit (AMD64)]"
  },
  "orig_nbformat": 4,
  "vscode": {
   "interpreter": {
    "hash": "bab64de6913f9d892cab042fb55157f5f55bf59b9a4c4b73d499c1b88080ca0d"
   }
  }
 },
 "nbformat": 4,
 "nbformat_minor": 2
}
