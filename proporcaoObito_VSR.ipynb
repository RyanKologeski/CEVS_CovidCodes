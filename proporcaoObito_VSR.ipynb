{
 "cells": [
  {
   "cell_type": "code",
   "execution_count": null,
   "metadata": {},
   "outputs": [],
   "source": [
    "import pandas as pd\n",
    "from pandas import DataFrame\n",
    "import matplotlib.pyplot as plt\n",
    "import numpy as np\n",
    "import os\n",
    "from datetime import date\n",
    "import datetime\n",
    "from pathlib import Path\n",
    "import seaborn as sns"
   ]
  },
  {
   "cell_type": "code",
   "execution_count": null,
   "metadata": {},
   "outputs": [],
   "source": [
    "caminho = r'Z:\\Banco SIVEP Exportação'\n",
    "lista_arquivos = os.listdir(caminho)\n",
    "lista_datas = []\n",
    "\n",
    "for arquivo in lista_arquivos:\n",
    "    #Descobrir a data desse arquivo\n",
    "    data = os.path.getmtime(f'{caminho}/{arquivo}')\n",
    "    lista_datas.append((data,arquivo))\n",
    "\n",
    "lista_datas.sort(reverse=True) #Vai ordenar a lista em ordem decrescente com reverse=True Obs: Ele ordena sempre com o primeiro valor, por isso colocamos data antes de arquivo\n",
    "ultimo_arquivo = lista_datas[0][1] #Pega o ultimo arquivo\n",
    "ultimo_arquivo"
   ]
  },
  {
   "cell_type": "code",
   "execution_count": null,
   "metadata": {},
   "outputs": [],
   "source": [
    "if not os.path.exists(f'Z:\\Graficos Boletim_Python/Gráficos {date.today().day}_{date.today().month}_{date.today().year}'):\n",
    "    os.makedirs(f'Z:\\Graficos Boletim_Python/Gráficos {date.today().day}_{date.today().month}_{date.today().year}')"
   ]
  },
  {
   "cell_type": "code",
   "execution_count": null,
   "metadata": {},
   "outputs": [],
   "source": [
    "dados = pd.read_excel(f'{caminho}/{ultimo_arquivo}')\n",
    "#dados = pd.read_excel('Z:/Banco SIVEP Exportação/Banco SIVEP 30_05_2022 09_48_25.xlsx')"
   ]
  },
  {
   "cell_type": "code",
   "execution_count": null,
   "metadata": {},
   "outputs": [],
   "source": [
    "dados['pos_pcrflu'] = dados['pos_pcrflu'].map({1:'Sim',2:'Nao',9:'Ignorado'})"
   ]
  },
  {
   "cell_type": "code",
   "execution_count": null,
   "metadata": {},
   "outputs": [],
   "source": [
    "dados['tp_flu_pcr'] = dados['tp_flu_pcr'].map({1:'Influenza',2:'Influenza'})"
   ]
  },
  {
   "cell_type": "code",
   "execution_count": null,
   "metadata": {},
   "outputs": [],
   "source": [
    "dados['pcr_fluasu'] = dados['pcr_fluasu'].map({1:'Influenza A(H1N1)pdm09',2:'Influenza A(H3N2)',3:'Influenza A nao subtipado',\n",
    "4:'Influenza A nao subtipavel',5:'Inconclusivo',6:'Outro'})"
   ]
  },
  {
   "cell_type": "code",
   "execution_count": null,
   "metadata": {},
   "outputs": [],
   "source": [
    "filtro = dados[['Competencia Evolucao','Classificacao final','Evolucao','Idade','pos_pcrflu','tp_flu_pcr','pcr_fluasu',\"pcr_vsr\"]]\n",
    "filtro"
   ]
  },
  {
   "cell_type": "code",
   "execution_count": null,
   "metadata": {},
   "outputs": [],
   "source": [
    "for index, idade in filtro.iterrows():\n",
    "    if idade['Idade'] < 12:\n",
    "        filtro.loc[index,'Idade'] = '0-11 anos'\n",
    "    elif idade['Idade'] < 20:\n",
    "        filtro.loc[index,'Idade'] = '12-19 anos'\n",
    "    elif idade['Idade'] < 40:\n",
    "        filtro.loc[index,'Idade'] = '20-39 anos'\n",
    "    elif idade['Idade'] < 60:\n",
    "        filtro.loc[index,'Idade'] = '40-59 anos'\n",
    "    elif idade['Idade'] < 80:\n",
    "        filtro.loc[index,'Idade'] = '60-79 anos'\n",
    "    elif idade['Idade'] < 150:\n",
    "        filtro.loc[index,'Idade'] = '80 e mais'"
   ]
  },
  {
   "cell_type": "code",
   "execution_count": null,
   "metadata": {},
   "outputs": [],
   "source": [
    "filtro = filtro.loc[filtro['pcr_vsr']==1]\n",
    "filtro = filtro.loc[filtro['Evolucao']=='Óbito']\n",
    "filtro"
   ]
  },
  {
   "cell_type": "code",
   "execution_count": null,
   "metadata": {},
   "outputs": [],
   "source": [
    "total_obitos = filtro.groupby('Competencia Evolucao').count()\n",
    "total_obitos.head()"
   ]
  },
  {
   "cell_type": "code",
   "execution_count": null,
   "metadata": {},
   "outputs": [],
   "source": [
    "separaIdade = filtro.groupby(['Idade','Competencia Evolucao']).count()\n",
    "separaIdade.head()"
   ]
  },
  {
   "cell_type": "code",
   "execution_count": null,
   "metadata": {},
   "outputs": [],
   "source": [
    "idade11 = separaIdade.reset_index()\n",
    "idade11 = idade11.loc[idade11['Idade']=='0-11 anos']\n",
    "idade11 = idade11.set_index('Competencia Evolucao')\n",
    "idade11['Proporcao'] = idade11['Evolucao']/total_obitos['Evolucao']*100\n",
    "idade11 = idade11.merge(total_obitos,how='outer',right_index=True, left_index=True)\n",
    "idade11 = idade11.drop(columns=['Evolucao_y','Classificacao final_y','Evolucao_y','Idade_y'])\n",
    "idade11['Proporcao'] = idade11['Proporcao'].fillna(0)\n",
    "idade11 = idade11['2021_04':]\n",
    "idade11 = idade11['Proporcao']\n",
    "idade11.tail(8)"
   ]
  },
  {
   "cell_type": "code",
   "execution_count": null,
   "metadata": {},
   "outputs": [],
   "source": [
    "idade19 = separaIdade.reset_index()\n",
    "idade19 = idade19.loc[idade19['Idade']=='12-19 anos']\n",
    "idade19 = idade19.set_index('Competencia Evolucao')\n",
    "idade19['Proporcao'] = idade19['Evolucao']/total_obitos['Evolucao']*100\n",
    "idade19 = idade19.merge(total_obitos,how='outer',right_index=True, left_index=True)\n",
    "idade19 = idade19.drop(columns=['Evolucao_y','Classificacao final_y','Evolucao_y','Idade_y'])\n",
    "idade19['Proporcao'] = idade19['Proporcao'].fillna(0)\n",
    "idade19 = idade19['2021_04':]\n",
    "idade19 = idade19['Proporcao']\n",
    "idade19.tail(8)"
   ]
  },
  {
   "cell_type": "code",
   "execution_count": null,
   "metadata": {},
   "outputs": [],
   "source": [
    "idade39 = separaIdade.reset_index()\n",
    "idade39 = idade39.loc[idade39['Idade']=='20-39 anos']\n",
    "idade39 = idade39.set_index('Competencia Evolucao')\n",
    "idade39['Proporcao'] = idade39['Evolucao']/total_obitos['Evolucao']*100\n",
    "idade39 = idade39.merge(total_obitos,how='outer',right_index=True, left_index=True)\n",
    "idade39 = idade39.drop(columns=['Evolucao_y','Classificacao final_y','Evolucao_y','Idade_y'])\n",
    "idade39['Proporcao'] = idade39['Proporcao'].fillna(0)\n",
    "idade39 = idade39['2021_04':]\n",
    "idade39 = idade39['Proporcao']\n",
    "idade39.tail(8)"
   ]
  },
  {
   "cell_type": "code",
   "execution_count": null,
   "metadata": {},
   "outputs": [],
   "source": [
    "idade59 = separaIdade.reset_index()\n",
    "idade59 = idade59.loc[idade59['Idade']=='40-59 anos']\n",
    "idade59 = idade59.set_index('Competencia Evolucao')\n",
    "idade59['Proporcao'] = idade59['Evolucao']/total_obitos['Evolucao']*100\n",
    "idade59 = idade59.merge(total_obitos,how='outer',right_index=True, left_index=True)\n",
    "idade59 = idade59.drop(columns=['Evolucao_y','Classificacao final_y','Evolucao_y','Idade_y'])\n",
    "idade59['Proporcao'] = idade59['Proporcao'].fillna(0)\n",
    "idade59 = idade59['2021_04':]\n",
    "idade59 = idade59['Proporcao']\n",
    "idade59.tail(8)"
   ]
  },
  {
   "cell_type": "code",
   "execution_count": null,
   "metadata": {},
   "outputs": [],
   "source": [
    "idade79 = separaIdade.reset_index()\n",
    "idade79 = idade79.loc[idade79['Idade']=='60-79 anos']\n",
    "idade79 = idade79.set_index('Competencia Evolucao')\n",
    "idade79['Proporcao'] = idade79['Evolucao']/total_obitos['Evolucao']*100\n",
    "idade79 = idade79.merge(total_obitos,how='outer',right_index=True, left_index=True)\n",
    "idade79 = idade79.drop(columns=['Evolucao_y','Classificacao final_y','Evolucao_y','Idade_y'])\n",
    "idade79['Proporcao'] = idade79['Proporcao'].fillna(0)\n",
    "idade79 = idade79['2021_04':]\n",
    "idade79 = idade79['Proporcao']\n",
    "idade79.tail(8)"
   ]
  },
  {
   "cell_type": "code",
   "execution_count": null,
   "metadata": {},
   "outputs": [],
   "source": [
    "idade80 = separaIdade.reset_index()\n",
    "idade80 = idade80.loc[idade80['Idade']=='80 e mais']\n",
    "idade80 = idade80.set_index('Competencia Evolucao')\n",
    "idade80['Proporcao'] = idade80['Evolucao']/total_obitos['Evolucao']*100\n",
    "idade80 = idade80.merge(total_obitos,how='outer',right_index=True, left_index=True)\n",
    "idade80 = idade80.drop(columns=['Evolucao_y','Classificacao final_y','Evolucao_y','Idade_y'])\n",
    "idade80['Proporcao'] = idade80['Proporcao'].fillna(0)\n",
    "idade80 = idade80['2021_04':]\n",
    "idade80 = idade80['Proporcao']\n",
    "idade80.tail(8)"
   ]
  },
  {
   "cell_type": "code",
   "execution_count": null,
   "metadata": {},
   "outputs": [],
   "source": [
    "eixo_x = idade80.to_frame()\n",
    "eixo_x = eixo_x.reset_index()\n",
    "eixo_x = eixo_x['Competencia Evolucao']\n",
    "eixo_x"
   ]
  },
  {
   "cell_type": "code",
   "execution_count": null,
   "metadata": {},
   "outputs": [],
   "source": [
    "legenda = pd.DataFrame(columns=['0-11','12-19','20-39','40-59','60-79','80 e mais'])"
   ]
  },
  {
   "cell_type": "code",
   "execution_count": null,
   "metadata": {},
   "outputs": [],
   "source": [
    "pasta = r'Z:\\Graficos Boletim_Python'\n",
    "lista_arquivos = os.listdir(pasta)\n",
    "lista_datas = []\n",
    "\n",
    "for arquivo in lista_arquivos:\n",
    "    #Descobrir a data desse arquivo\n",
    "    data = os.path.getmtime(f'{pasta}/{arquivo}')\n",
    "    lista_datas.append((data,arquivo))\n",
    "\n",
    "lista_datas.sort(reverse=True) #Vai ordenar a lista em ordem decrescente com reverse=True Obs: Ele ordena sempre com o primeiro valor, por isso colocamos data antes de arquivo\n",
    "ultima_pasta = lista_datas[0][1] #Pega o ultimo arquivo\n",
    "ultima_pasta"
   ]
  },
  {
   "cell_type": "code",
   "execution_count": null,
   "metadata": {},
   "outputs": [],
   "source": [
    "plt.figure(figsize=(30,10))\n",
    "plt.bar(eixo_x,idade11, color='#f1f1c1',edgecolor='#000000')\n",
    "plt.bar(eixo_x,idade19, bottom=idade11, color=\"#e0e0a8\",edgecolor='#000000')\n",
    "plt.bar(eixo_x,idade39, bottom=idade11 + idade19, color='#c7c77f',edgecolor='#000000')\n",
    "plt.bar(eixo_x,idade59, bottom=np.array(idade11) + np.array(idade19) + np.array(idade39), color='#f59b71',edgecolor='#000000')\n",
    "plt.bar(eixo_x,idade79, bottom=idade11 + idade19 + idade39 + idade59, color='#ff7474',edgecolor='#000000')\n",
    "plt.bar(eixo_x,idade80, bottom=idade11 + idade19 + idade39 + idade59 + idade79, color='#77779d',edgecolor='#000000')\n",
    "sns.despine()\n",
    "plt.xticks(rotation=90,fontsize=25)\n",
    "plt.xlabel('Mês do óbito',fontsize=30,labelpad=20)\n",
    "plt.yticks(np.arange(0,110,10),fontsize=25)\n",
    "plt.ylabel('Proporção de óbitos confirmados para VSR',fontsize=30,labelpad=20)\n",
    "plt.gca().set_yticklabels(['{:.0f}%'.format(x*1) for x in plt.gca().get_yticks()])\n",
    "plt.legend(legenda,loc='upper center',fancybox=True,bbox_to_anchor=(1.08,1.03),fontsize=30,shadow=True)\n",
    "plt.savefig(f'Z:/Graficos Boletim_Python/{ultima_pasta}/proporcaoObito_VSR.png',dpi=720,bbox_inches='tight')"
   ]
  },
  {
   "cell_type": "code",
   "execution_count": null,
   "metadata": {},
   "outputs": [],
   "source": []
  }
 ],
 "metadata": {
  "kernelspec": {
   "display_name": "Python 3.10.0 64-bit",
   "language": "python",
   "name": "python3"
  },
  "language_info": {
   "codemirror_mode": {
    "name": "ipython",
    "version": 3
   },
   "file_extension": ".py",
   "mimetype": "text/x-python",
   "name": "python",
   "nbconvert_exporter": "python",
   "pygments_lexer": "ipython3",
   "version": "3.10.0 (tags/v3.10.0:b494f59, Oct  4 2021, 19:00:18) [MSC v.1929 64 bit (AMD64)]"
  },
  "orig_nbformat": 4,
  "vscode": {
   "interpreter": {
    "hash": "bab64de6913f9d892cab042fb55157f5f55bf59b9a4c4b73d499c1b88080ca0d"
   }
  }
 },
 "nbformat": 4,
 "nbformat_minor": 2
}
