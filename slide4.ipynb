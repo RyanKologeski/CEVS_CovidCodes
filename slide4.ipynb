{
 "cells": [
  {
   "cell_type": "code",
   "execution_count": 1,
   "metadata": {},
   "outputs": [],
   "source": [
    "import pandas as pd\n",
    "from pandas import DataFrame\n",
    "import matplotlib.pyplot as plt\n",
    "import numpy as np\n",
    "import os\n",
    "from datetime import date\n",
    "import datetime\n",
    "from pathlib import Path\n",
    "import seaborn as sns"
   ]
  },
  {
   "cell_type": "code",
   "execution_count": 2,
   "metadata": {},
   "outputs": [
    {
     "data": {
      "text/plain": [
       "'Banco SIVEP 21_11_2022 07_32_59.xlsx'"
      ]
     },
     "execution_count": 2,
     "metadata": {},
     "output_type": "execute_result"
    }
   ],
   "source": [
    "caminho = r'Z:\\Banco SIVEP Exportação'\n",
    "lista_arquivos = os.listdir(caminho)\n",
    "lista_datas = []\n",
    "\n",
    "for arquivo in lista_arquivos:\n",
    "    #Descobrir a data desse arquivo\n",
    "    data = os.path.getmtime(f'{caminho}/{arquivo}')\n",
    "    lista_datas.append((data,arquivo))\n",
    "\n",
    "lista_datas.sort(reverse=True) #Vai ordenar a lista em ordem decrescente com reverse=True Obs: Ele ordena sempre com o primeiro valor, por isso colocamos data antes de arquivo\n",
    "ultimo_arquivo = lista_datas[0][1] #Pega o ultimo arquivo\n",
    "ultimo_arquivo"
   ]
  },
  {
   "cell_type": "code",
   "execution_count": 3,
   "metadata": {},
   "outputs": [],
   "source": [
    "if not os.path.exists(f'Z:\\Graficos Boletim_Python/Gráficos {date.today().day}_{date.today().month}_{date.today().year}'):\n",
    "    os.makedirs(f'Z:\\Graficos Boletim_Python/Gráficos {date.today().day}_{date.today().month}_{date.today().year}')"
   ]
  },
  {
   "cell_type": "code",
   "execution_count": 4,
   "metadata": {},
   "outputs": [],
   "source": [
    "dados = pd.read_excel(f'{caminho}/{ultimo_arquivo}')\n",
    "#dados = pd.read_excel('Z:/Banco SIVEP Exportação/Banco SIVEP 30_05_2022 09_48_25.xlsx')"
   ]
  },
  {
   "cell_type": "code",
   "execution_count": 5,
   "metadata": {},
   "outputs": [],
   "source": [
    "#Filtrando a tabela apenas com as colunas de interece\n",
    "filtrado = dados[['Sem Epi Internacao','Classificacao final','Evolucao']]"
   ]
  },
  {
   "cell_type": "code",
   "execution_count": 6,
   "metadata": {},
   "outputs": [
    {
     "data": {
      "text/html": [
       "<div>\n",
       "<style scoped>\n",
       "    .dataframe tbody tr th:only-of-type {\n",
       "        vertical-align: middle;\n",
       "    }\n",
       "\n",
       "    .dataframe tbody tr th {\n",
       "        vertical-align: top;\n",
       "    }\n",
       "\n",
       "    .dataframe thead th {\n",
       "        text-align: right;\n",
       "    }\n",
       "</style>\n",
       "<table border=\"1\" class=\"dataframe\">\n",
       "  <thead>\n",
       "    <tr style=\"text-align: right;\">\n",
       "      <th></th>\n",
       "      <th>Sem Epi Internacao</th>\n",
       "      <th>Classificacao final</th>\n",
       "    </tr>\n",
       "  </thead>\n",
       "  <tbody>\n",
       "    <tr>\n",
       "      <th>3</th>\n",
       "      <td>2021_05</td>\n",
       "      <td>COVID-19</td>\n",
       "    </tr>\n",
       "    <tr>\n",
       "      <th>1</th>\n",
       "      <td>2021_27</td>\n",
       "      <td>Não Informado</td>\n",
       "    </tr>\n",
       "    <tr>\n",
       "      <th>0</th>\n",
       "      <td>2021_51</td>\n",
       "      <td>Não Informado</td>\n",
       "    </tr>\n",
       "    <tr>\n",
       "      <th>2</th>\n",
       "      <td>NaN</td>\n",
       "      <td>Não Informado</td>\n",
       "    </tr>\n",
       "    <tr>\n",
       "      <th>4</th>\n",
       "      <td>NaN</td>\n",
       "      <td>COVID-19</td>\n",
       "    </tr>\n",
       "  </tbody>\n",
       "</table>\n",
       "</div>"
      ],
      "text/plain": [
       "  Sem Epi Internacao Classificacao final\n",
       "3            2021_05            COVID-19\n",
       "1            2021_27       Não Informado\n",
       "0            2021_51       Não Informado\n",
       "2                NaN       Não Informado\n",
       "4                NaN            COVID-19"
      ]
     },
     "execution_count": 6,
     "metadata": {},
     "output_type": "execute_result"
    }
   ],
   "source": [
    "teste = filtrado.loc[:4,['Sem Epi Internacao','Classificacao final']].sort_values(by='Sem Epi Internacao')\n",
    "teste"
   ]
  },
  {
   "cell_type": "code",
   "execution_count": 7,
   "metadata": {},
   "outputs": [],
   "source": [
    "#Filtrando a coluna Classificacao final apenas com valores de COVID-19\n",
    "covid19 = filtrado.loc[filtrado['Classificacao final']=='COVID-19']\n",
    "covid19 = covid19.dropna()"
   ]
  },
  {
   "cell_type": "code",
   "execution_count": 8,
   "metadata": {},
   "outputs": [
    {
     "data": {
      "text/html": [
       "<div>\n",
       "<style scoped>\n",
       "    .dataframe tbody tr th:only-of-type {\n",
       "        vertical-align: middle;\n",
       "    }\n",
       "\n",
       "    .dataframe tbody tr th {\n",
       "        vertical-align: top;\n",
       "    }\n",
       "\n",
       "    .dataframe thead th {\n",
       "        text-align: right;\n",
       "    }\n",
       "</style>\n",
       "<table border=\"1\" class=\"dataframe\">\n",
       "  <thead>\n",
       "    <tr style=\"text-align: right;\">\n",
       "      <th></th>\n",
       "      <th>Classificacao final</th>\n",
       "      <th>Evolucao</th>\n",
       "    </tr>\n",
       "    <tr>\n",
       "      <th>Sem Epi Internacao</th>\n",
       "      <th></th>\n",
       "      <th></th>\n",
       "    </tr>\n",
       "  </thead>\n",
       "  <tbody>\n",
       "    <tr>\n",
       "      <th>2020_11</th>\n",
       "      <td>1</td>\n",
       "      <td>1</td>\n",
       "    </tr>\n",
       "    <tr>\n",
       "      <th>2020_12</th>\n",
       "      <td>19</td>\n",
       "      <td>19</td>\n",
       "    </tr>\n",
       "    <tr>\n",
       "      <th>2020_13</th>\n",
       "      <td>101</td>\n",
       "      <td>101</td>\n",
       "    </tr>\n",
       "    <tr>\n",
       "      <th>2020_14</th>\n",
       "      <td>111</td>\n",
       "      <td>111</td>\n",
       "    </tr>\n",
       "    <tr>\n",
       "      <th>2020_15</th>\n",
       "      <td>66</td>\n",
       "      <td>66</td>\n",
       "    </tr>\n",
       "  </tbody>\n",
       "</table>\n",
       "</div>"
      ],
      "text/plain": [
       "                    Classificacao final  Evolucao\n",
       "Sem Epi Internacao                               \n",
       "2020_11                               1         1\n",
       "2020_12                              19        19\n",
       "2020_13                             101       101\n",
       "2020_14                             111       111\n",
       "2020_15                              66        66"
      ]
     },
     "execution_count": 8,
     "metadata": {},
     "output_type": "execute_result"
    }
   ],
   "source": [
    "#utilizando covid19 e agrupando pela semana de internacao\n",
    "contacasos = covid19.groupby('Sem Epi Internacao').count()\n",
    "contacasos.head()"
   ]
  },
  {
   "cell_type": "code",
   "execution_count": 9,
   "metadata": {},
   "outputs": [
    {
     "data": {
      "text/plain": [
       "Sem Epi Internacao\n",
       "2020_11      1\n",
       "2020_12     19\n",
       "2020_13    101\n",
       "2020_14    111\n",
       "2020_15     66\n",
       "          ... \n",
       "2022_42     26\n",
       "2022_43     27\n",
       "2022_44     15\n",
       "2022_45     27\n",
       "2022_46     22\n",
       "Name: Classificacao final, Length: 141, dtype: int64"
      ]
     },
     "execution_count": 9,
     "metadata": {},
     "output_type": "execute_result"
    }
   ],
   "source": [
    "#Guardado em confirmado os valores da coluna \n",
    "confirmado = contacasos\n",
    "confirmado = confirmado['Classificacao final']\n",
    "confirmado"
   ]
  },
  {
   "cell_type": "code",
   "execution_count": 10,
   "metadata": {},
   "outputs": [
    {
     "data": {
      "text/plain": [
       "Sem Epi Internacao\n",
       "2020_11     0.0\n",
       "2020_12     0.0\n",
       "2020_13     0.0\n",
       "2020_14     0.0\n",
       "2020_15     0.0\n",
       "           ... \n",
       "2022_42    12.0\n",
       "2022_43     4.0\n",
       "2022_44     9.0\n",
       "2022_45    22.0\n",
       "2022_46    24.0\n",
       "Name: Classificacao final_x, Length: 141, dtype: float64"
      ]
     },
     "execution_count": 10,
     "metadata": {},
     "output_type": "execute_result"
    }
   ],
   "source": [
    "#Filtrando os casos não informados\n",
    "nao_informado = filtrado.loc[filtrado['Classificacao final']=='Não Informado'] #Valores da coluna Classificacao final apenas com valor Não Informado\n",
    "nao_informado = nao_informado.dropna()\n",
    "nao_informado = nao_informado.groupby('Sem Epi Internacao').count() #Agrupando pela semana de internacao\n",
    "nao_informado = nao_informado.merge(contacasos, how =  'outer', left_index = True, right_index = True) #Juntando os dataframes nao_informado com o contacasos para ter o mesmo numero de linha com base na semana de internacao\n",
    "nao_informado = nao_informado.fillna(0) #O que está com valor NaN recebe o valor 0\n",
    "nao_informado = nao_informado['Classificacao final_x'] \n",
    "nao_informado"
   ]
  },
  {
   "cell_type": "code",
   "execution_count": 11,
   "metadata": {},
   "outputs": [
    {
     "name": "stderr",
     "output_type": "stream",
     "text": [
      "C:\\Users\\ryan-rosa\\AppData\\Local\\Temp\\ipykernel_15452\\3504725454.py:3: SettingWithCopyWarning: \n",
      "A value is trying to be set on a copy of a slice from a DataFrame.\n",
      "Try using .loc[row_indexer,col_indexer] = value instead\n",
      "\n",
      "See the caveats in the documentation: https://pandas.pydata.org/pandas-docs/stable/user_guide/indexing.html#returning-a-view-versus-a-copy\n",
      "  srag['Classificacao final'] = srag['Classificacao final'].map(lambda x: str(x)[0:4]) #Como tem SRAG... utilizamos isso para pegar apenas os 4 primeiros caracteres, no caso SRAG\n"
     ]
    },
    {
     "data": {
      "text/plain": [
       "Sem Epi Internacao\n",
       "2020_11     46\n",
       "2020_12    135\n",
       "2020_13    496\n",
       "2020_14    493\n",
       "2020_15    423\n",
       "          ... \n",
       "2022_42    162\n",
       "2022_43    139\n",
       "2022_44    111\n",
       "2022_45     76\n",
       "2022_46     30\n",
       "Name: Classificacao final_x, Length: 141, dtype: int64"
      ]
     },
     "execution_count": 11,
     "metadata": {},
     "output_type": "execute_result"
    }
   ],
   "source": [
    "#Filtrando os casos de SRAG\n",
    "srag = filtrado\n",
    "srag['Classificacao final'] = srag['Classificacao final'].map(lambda x: str(x)[0:4]) #Como tem SRAG... utilizamos isso para pegar apenas os 4 primeiros caracteres, no caso SRAG\n",
    "srag = srag.loc[srag['Classificacao final']=='SRAG'] #Valores da coluna Classificacao final apenas com valores SRAG\n",
    "srag = srag.groupby('Sem Epi Internacao').count() #Agrupa pela semana de internacao\n",
    "srag = srag.drop(['2020_01','2020_02','2020_03','2020_04','2020_05','2020_06','2020_07',\n",
    "        '2020_08','2020_09','2020_10']) #Dropando as semanas de internacao que nao sao de interesse\n",
    "srag = srag.merge(contacasos,how='outer',left_index=True,right_index=True)\n",
    "srag = srag.fillna(0)\n",
    "srag = srag['Classificacao final_x']\n",
    "srag"
   ]
  },
  {
   "cell_type": "code",
   "execution_count": 12,
   "metadata": {},
   "outputs": [
    {
     "data": {
      "text/plain": [
       "0      2020_11\n",
       "1      2020_12\n",
       "2      2020_13\n",
       "3      2020_14\n",
       "4      2020_15\n",
       "        ...   \n",
       "136    2022_42\n",
       "137    2022_43\n",
       "138    2022_44\n",
       "139    2022_45\n",
       "140    2022_46\n",
       "Name: Sem Epi Internacao, Length: 141, dtype: object"
      ]
     },
     "execution_count": 12,
     "metadata": {},
     "output_type": "execute_result"
    }
   ],
   "source": [
    "#Criando o eixo x com os valores da semana de internacao\n",
    "semana = covid19.sort_values('Sem Epi Internacao',ascending=True) #Coloca a coluna semana de internacao em ordem crescente de valores\n",
    "semana = semana.groupby('Sem Epi Internacao').count()\n",
    "semana = semana.reset_index() #Reseta o index\n",
    "semana = semana['Sem Epi Internacao']\n",
    "semana"
   ]
  },
  {
   "cell_type": "code",
   "execution_count": 13,
   "metadata": {},
   "outputs": [],
   "source": [
    "#Cria o eixo y de 0 a 6600 em intervalos de 700\n",
    "eixoy = np.arange(0,7300,700)"
   ]
  },
  {
   "cell_type": "code",
   "execution_count": 14,
   "metadata": {},
   "outputs": [],
   "source": [
    "#Pega o tamanho da variavel tamanho e faz com que o eixo x pule os valores de 2 em 2\n",
    "tamanho_semana = np.size(semana)\n",
    "eixo_x = np.arange(0,tamanho_semana,2)"
   ]
  },
  {
   "cell_type": "code",
   "execution_count": 15,
   "metadata": {},
   "outputs": [],
   "source": [
    "#Cria a legenda para o grafico\n",
    "legenda = pd.DataFrame(columns = ['Covid-19 confirmado','Covid-19 descartado','Em investigação'])"
   ]
  },
  {
   "cell_type": "code",
   "execution_count": 16,
   "metadata": {},
   "outputs": [
    {
     "data": {
      "text/plain": [
       "'Gráficos 21_11_2022'"
      ]
     },
     "execution_count": 16,
     "metadata": {},
     "output_type": "execute_result"
    }
   ],
   "source": [
    "pasta = r'Z:\\Graficos Boletim_Python'\n",
    "lista_arquivos = os.listdir(pasta)\n",
    "lista_datas = []\n",
    "\n",
    "for arquivo in lista_arquivos:\n",
    "    #Descobrir a data desse arquivo\n",
    "    data = os.path.getmtime(f'{pasta}/{arquivo}')\n",
    "    lista_datas.append((data,arquivo))\n",
    "\n",
    "lista_datas.sort(reverse=True) #Vai ordenar a lista em ordem decrescente com reverse=True Obs: Ele ordena sempre com o primeiro valor, por isso colocamos data antes de arquivo\n",
    "ultima_pasta = lista_datas[0][1] #Pega o ultimo arquivo\n",
    "ultima_pasta"
   ]
  },
  {
   "cell_type": "code",
   "execution_count": 17,
   "metadata": {},
   "outputs": [
    {
     "data": {
      "image/png": "[encoded data removed]",
      "text/plain": [
       "<Figure size 2233.44x1319.76 with 1 Axes>"
      ]
     },
     "metadata": {
      "needs_background": "light"
     },
     "output_type": "display_data"
    }
   ],
   "source": [
    "#Plotagem do grafico\n",
    "plt.figure(figsize=(tamanho_semana*0.22,tamanho_semana*0.13))\n",
    "plt.bar(semana,confirmado, color='#8a3e4b',edgecolor='#000000')\n",
    "plt.bar(semana,srag, bottom=confirmado, color = '#b58d94',edgecolor='#000000')\n",
    "plt.bar(semana,nao_informado, bottom = np.array(confirmado)+np.array(srag), color = '#5e5d5d',edgecolor='#000000')\n",
    "sns.despine()\n",
    "plt.legend(legenda, fontsize=30,shadow=True,loc='upper left')\n",
    "#plt.annotate('Primeiro caso\\nhospitalizado por\\nCOVID-19 no RS',xy=(3,620),xytext=(2,1500),arrowprops=dict(arrowstyle='->',connectionstyle='arc3'),fontsize=15,\n",
    "#                bbox=dict(fc=\"white\", ec=\"#000000\", lw=1,pad=10))\n",
    "plt.xticks(eixo_x)\n",
    "plt.xticks(rotation=90,fontsize=20)\n",
    "plt.yticks(eixoy,fontsize=23)\n",
    "plt.xlabel('Semana epidemiólogica da hospitalização',labelpad=20,fontsize=30)\n",
    "plt.ylabel('Casos de SRAG hospitalizados',labelpad=20,fontsize=30)\n",
    "plt.savefig(f'Z:/Graficos Boletim_Python/{ultima_pasta}/casosSRAG_Hosp.png',dpi=720,bbox_inches='tight')"
   ]
  },
  {
   "cell_type": "code",
   "execution_count": 18,
   "metadata": {},
   "outputs": [
    {
     "data": {
      "text/plain": [
       "Sem Epi Internacao\n",
       "2022_01     290\n",
       "2022_02     646\n",
       "2022_03    1150\n",
       "2022_04    1319\n",
       "2022_05    1297\n",
       "2022_06    1025\n",
       "2022_07     752\n",
       "2022_08     532\n",
       "2022_09     360\n",
       "2022_10     227\n",
       "2022_11     159\n",
       "2022_12     144\n",
       "2022_13     117\n",
       "2022_14     127\n",
       "2022_15     120\n",
       "2022_16     123\n",
       "2022_17     165\n",
       "2022_18     148\n",
       "2022_19     245\n",
       "2022_20     341\n",
       "2022_21     412\n",
       "2022_22     362\n",
       "2022_23     390\n",
       "2022_24     313\n",
       "2022_25     326\n",
       "2022_26     294\n",
       "2022_27     312\n",
       "2022_28     334\n",
       "2022_29     338\n",
       "2022_30     318\n",
       "2022_31     251\n",
       "2022_32     214\n",
       "2022_33     214\n",
       "2022_34     203\n",
       "2022_35     117\n",
       "2022_36     107\n",
       "2022_37      79\n",
       "2022_38      50\n",
       "2022_39      33\n",
       "2022_40      44\n",
       "2022_41      25\n",
       "2022_42      26\n",
       "2022_43      27\n",
       "2022_44      15\n",
       "2022_45      27\n",
       "2022_46      22\n",
       "Name: Classificacao final, dtype: int64"
      ]
     },
     "execution_count": 18,
     "metadata": {},
     "output_type": "execute_result"
    }
   ],
   "source": [
    "zoomConfirmado = confirmado.to_frame()\n",
    "zoomConfirmado = zoomConfirmado['2022_01':]\n",
    "zoomConfirmado = zoomConfirmado['Classificacao final']\n",
    "zoomConfirmado"
   ]
  },
  {
   "cell_type": "code",
   "execution_count": 19,
   "metadata": {},
   "outputs": [
    {
     "data": {
      "text/plain": [
       "Sem Epi Internacao\n",
       "2022_42    162\n",
       "2022_43    139\n",
       "2022_44    111\n",
       "2022_45     76\n",
       "2022_46     30\n",
       "Name: Classificacao final_x, dtype: int64"
      ]
     },
     "execution_count": 19,
     "metadata": {},
     "output_type": "execute_result"
    }
   ],
   "source": [
    "zoomSrag = srag.to_frame()\n",
    "zoomSrag = zoomSrag['2022_01':]\n",
    "zoomSrag = zoomSrag.reset_index()\n",
    "zoomSrag = zoomSrag.set_index('Sem Epi Internacao')\n",
    "#zoomSrag = zoomSrag.reset_index()\n",
    "zoomSrag = zoomSrag['Classificacao final_x']\n",
    "zoomSrag.tail()"
   ]
  },
  {
   "cell_type": "code",
   "execution_count": 20,
   "metadata": {},
   "outputs": [],
   "source": [
    "zoomNaoInformado = nao_informado.to_frame()\n",
    "zoomNaoInformado = zoomNaoInformado['2022_01':]\n",
    "zoomNaoInformado = zoomNaoInformado.reset_index()"
   ]
  },
  {
   "cell_type": "code",
   "execution_count": 21,
   "metadata": {},
   "outputs": [
    {
     "data": {
      "text/plain": [
       "41    2022_42\n",
       "42    2022_43\n",
       "43    2022_44\n",
       "44    2022_45\n",
       "45    2022_46\n",
       "Name: Sem Epi Internacao, dtype: object"
      ]
     },
     "execution_count": 21,
     "metadata": {},
     "output_type": "execute_result"
    }
   ],
   "source": [
    "semana = zoomNaoInformado['Sem Epi Internacao']\n",
    "semana.tail()"
   ]
  },
  {
   "cell_type": "code",
   "execution_count": 22,
   "metadata": {},
   "outputs": [
    {
     "data": {
      "text/plain": [
       "0     17.0\n",
       "1     12.0\n",
       "2     13.0\n",
       "3     19.0\n",
       "4     17.0\n",
       "5      8.0\n",
       "6      9.0\n",
       "7     18.0\n",
       "8      7.0\n",
       "9      8.0\n",
       "10     7.0\n",
       "11     2.0\n",
       "12     2.0\n",
       "13     3.0\n",
       "14     3.0\n",
       "15     1.0\n",
       "16     4.0\n",
       "17     5.0\n",
       "18    10.0\n",
       "19    12.0\n",
       "20     7.0\n",
       "21     8.0\n",
       "22     4.0\n",
       "23     8.0\n",
       "24     9.0\n",
       "25     7.0\n",
       "26     4.0\n",
       "27     1.0\n",
       "28     4.0\n",
       "29     3.0\n",
       "30     5.0\n",
       "31     5.0\n",
       "32     2.0\n",
       "33     4.0\n",
       "34     3.0\n",
       "35     1.0\n",
       "36     4.0\n",
       "37     6.0\n",
       "38     7.0\n",
       "39    10.0\n",
       "40     8.0\n",
       "41    12.0\n",
       "42     4.0\n",
       "43     9.0\n",
       "44    22.0\n",
       "45    24.0\n",
       "Name: Classificacao final_x, dtype: float64"
      ]
     },
     "execution_count": 22,
     "metadata": {},
     "output_type": "execute_result"
    }
   ],
   "source": [
    "zoomNaoInformado = zoomNaoInformado['Classificacao final_x']\n",
    "zoomNaoInformado"
   ]
  },
  {
   "cell_type": "code",
   "execution_count": 23,
   "metadata": {},
   "outputs": [],
   "source": [
    "#zoomConfirmado = zoomConfirmado['Classificacao final']\n",
    "#zoomSrag = zoomSrag['Classificacao final_x']\n",
    "#zoomNaoInformado = zoomNaoInformado['Classificacao final_x']"
   ]
  },
  {
   "cell_type": "code",
   "execution_count": 25,
   "metadata": {},
   "outputs": [
    {
     "data": {
      "image/png": "[encoded data removed]",
      "text/plain": [
       "<Figure size 1080x720 with 1 Axes>"
      ]
     },
     "metadata": {
      "needs_background": "light"
     },
     "output_type": "display_data"
    }
   ],
   "source": [
    "plt.figure(figsize=(15,10))\n",
    "width=0.8\n",
    "plt.bar(semana,zoomConfirmado,width,color='#8a3e4b',edgecolor='#000000')\n",
    "plt.bar(semana,zoomSrag,width,bottom=zoomConfirmado,color = '#b58d94',edgecolor='#000000')\n",
    "plt.bar(semana,zoomNaoInformado,width,bottom=zoomConfirmado+zoomSrag,color = '#5e5d5d',edgecolor='#000000')\n",
    "sns.despine()\n",
    "plt.xticks(fontsize=15,rotation=90)\n",
    "plt.yticks(np.arange(0,2000,200),fontsize=15)\n",
    "plt.savefig(f'Z:/Graficos Boletim_Python/{ultima_pasta}/casosSRAG_HospZoom.png',dpi=720,bbox_inches='tight')"
   ]
  },
  {
   "cell_type": "code",
   "execution_count": null,
   "metadata": {},
   "outputs": [],
   "source": []
  }
 ],
 "metadata": {
  "kernelspec": {
   "display_name": "Python 3.10.0 64-bit",
   "language": "python",
   "name": "python3"
  },
  "language_info": {
   "codemirror_mode": {
    "name": "ipython",
    "version": 3
   },
   "file_extension": ".py",
   "mimetype": "text/x-python",
   "name": "python",
   "nbconvert_exporter": "python",
   "pygments_lexer": "ipython3",
   "version": "3.10.0 (tags/v3.10.0:b494f59, Oct  4 2021, 19:00:18) [MSC v.1929 64 bit (AMD64)]"
  },
  "orig_nbformat": 4,
  "vscode": {
   "interpreter": {
    "hash": "bab64de6913f9d892cab042fb55157f5f55bf59b9a4c4b73d499c1b88080ca0d"
   }
  }
 },
 "nbformat": 4,
 "nbformat_minor": 2
}
