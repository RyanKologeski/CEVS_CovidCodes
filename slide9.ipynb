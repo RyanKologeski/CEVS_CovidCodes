{
 "cells": [
  {
   "cell_type": "code",
   "execution_count": 1,
   "metadata": {},
   "outputs": [],
   "source": [
    "import pandas as pd\n",
    "from pandas import DataFrame\n",
    "import matplotlib.pyplot as plt\n",
    "import numpy as np\n",
    "import os\n",
    "from datetime import date\n",
    "import datetime\n",
    "from pathlib import Path\n",
    "import statistics as st\n",
    "import seaborn as sns"
   ]
  },
  {
   "cell_type": "code",
   "execution_count": 2,
   "metadata": {},
   "outputs": [
    {
     "data": {
      "text/plain": [
       "'Banco SIVEP 18_02_2022 07_33_42.xlsx'"
      ]
     },
     "execution_count": 2,
     "metadata": {},
     "output_type": "execute_result"
    }
   ],
   "source": [
    "caminho = r'Z:\\Banco SIVEP Exportação'\n",
    "lista_arquivos = os.listdir(caminho)\n",
    "lista_datas = []\n",
    "\n",
    "for arquivo in lista_arquivos:\n",
    "    #Descobrir a data desse arquivo\n",
    "    data = os.path.getmtime(f'{caminho}/{arquivo}')\n",
    "    lista_datas.append((data,arquivo))\n",
    "\n",
    "lista_datas.sort(reverse=True) #Vai ordenar a lista em ordem decrescente com reverse=True Obs: Ele ordena sempre com o primeiro valor, por isso colocamos data antes de arquivo\n",
    "ultimo_arquivo = lista_datas[0][1] #Pega o ultimo arquivo\n",
    "ultimo_arquivo"
   ]
  },
  {
   "cell_type": "code",
   "execution_count": 3,
   "metadata": {},
   "outputs": [],
   "source": [
    "if not os.path.exists(f'Z:\\Graficos Boletim_Python/Gráficos {date.today().day}_{date.today().month}_{date.today().year}'):\n",
    "    os.makedirs(f'Z:\\Graficos Boletim_Python/Gráficos {date.today().day}_{date.today().month}_{date.today().year}')"
   ]
  },
  {
   "cell_type": "code",
   "execution_count": 4,
   "metadata": {},
   "outputs": [],
   "source": [
    "dados = pd.read_excel(f'{caminho}/{ultimo_arquivo}')\n",
    "#dados = pd.read_excel('Z:/Banco SIVEP Exportação/Banco SIVEP 26_01_2022 07_33_07.xlsx')"
   ]
  },
  {
   "cell_type": "code",
   "execution_count": 5,
   "metadata": {},
   "outputs": [
    {
     "data": {
      "text/html": [
       "<div>\n",
       "<style scoped>\n",
       "    .dataframe tbody tr th:only-of-type {\n",
       "        vertical-align: middle;\n",
       "    }\n",
       "\n",
       "    .dataframe tbody tr th {\n",
       "        vertical-align: top;\n",
       "    }\n",
       "\n",
       "    .dataframe thead th {\n",
       "        text-align: right;\n",
       "    }\n",
       "</style>\n",
       "<table border=\"1\" class=\"dataframe\">\n",
       "  <thead>\n",
       "    <tr style=\"text-align: right;\">\n",
       "      <th></th>\n",
       "      <th>Competencia Evolucao</th>\n",
       "      <th>Classificacao final</th>\n",
       "      <th>Evolucao</th>\n",
       "      <th>Dias Perm Hospital</th>\n",
       "    </tr>\n",
       "  </thead>\n",
       "  <tbody>\n",
       "    <tr>\n",
       "      <th>0</th>\n",
       "      <td>2020_07</td>\n",
       "      <td>COVID-19</td>\n",
       "      <td>Óbito</td>\n",
       "      <td>0.0</td>\n",
       "    </tr>\n",
       "    <tr>\n",
       "      <th>1</th>\n",
       "      <td>2021_10</td>\n",
       "      <td>COVID-19</td>\n",
       "      <td>Cura</td>\n",
       "      <td>12.0</td>\n",
       "    </tr>\n",
       "    <tr>\n",
       "      <th>2</th>\n",
       "      <td>2021_08</td>\n",
       "      <td>COVID-19</td>\n",
       "      <td>Cura</td>\n",
       "      <td>4.0</td>\n",
       "    </tr>\n",
       "    <tr>\n",
       "      <th>3</th>\n",
       "      <td>2021_01</td>\n",
       "      <td>COVID-19</td>\n",
       "      <td>Óbito</td>\n",
       "      <td>0.0</td>\n",
       "    </tr>\n",
       "    <tr>\n",
       "      <th>4</th>\n",
       "      <td>2021_06</td>\n",
       "      <td>COVID-19</td>\n",
       "      <td>Cura</td>\n",
       "      <td>8.0</td>\n",
       "    </tr>\n",
       "    <tr>\n",
       "      <th>...</th>\n",
       "      <td>...</td>\n",
       "      <td>...</td>\n",
       "      <td>...</td>\n",
       "      <td>...</td>\n",
       "    </tr>\n",
       "    <tr>\n",
       "      <th>164939</th>\n",
       "      <td>2021_01</td>\n",
       "      <td>COVID-19</td>\n",
       "      <td>Cura</td>\n",
       "      <td>0.0</td>\n",
       "    </tr>\n",
       "    <tr>\n",
       "      <th>164940</th>\n",
       "      <td>2020_08</td>\n",
       "      <td>COVID-19</td>\n",
       "      <td>Cura</td>\n",
       "      <td>13.0</td>\n",
       "    </tr>\n",
       "    <tr>\n",
       "      <th>164941</th>\n",
       "      <td>2020_12</td>\n",
       "      <td>COVID-19</td>\n",
       "      <td>Cura</td>\n",
       "      <td>16.0</td>\n",
       "    </tr>\n",
       "    <tr>\n",
       "      <th>164942</th>\n",
       "      <td>2021_02</td>\n",
       "      <td>COVID-19</td>\n",
       "      <td>Óbito</td>\n",
       "      <td>5.0</td>\n",
       "    </tr>\n",
       "    <tr>\n",
       "      <th>164943</th>\n",
       "      <td>2021_09</td>\n",
       "      <td>COVID-19</td>\n",
       "      <td>Cura</td>\n",
       "      <td>13.0</td>\n",
       "    </tr>\n",
       "  </tbody>\n",
       "</table>\n",
       "<p>120641 rows × 4 columns</p>\n",
       "</div>"
      ],
      "text/plain": [
       "       Competencia Evolucao Classificacao final Evolucao  Dias Perm Hospital\n",
       "0                   2020_07            COVID-19    Óbito                 0.0\n",
       "1                   2021_10            COVID-19     Cura                12.0\n",
       "2                   2021_08            COVID-19     Cura                 4.0\n",
       "3                   2021_01            COVID-19    Óbito                 0.0\n",
       "4                   2021_06            COVID-19     Cura                 8.0\n",
       "...                     ...                 ...      ...                 ...\n",
       "164939              2021_01            COVID-19     Cura                 0.0\n",
       "164940              2020_08            COVID-19     Cura                13.0\n",
       "164941              2020_12            COVID-19     Cura                16.0\n",
       "164942              2021_02            COVID-19    Óbito                 5.0\n",
       "164943              2021_09            COVID-19     Cura                13.0\n",
       "\n",
       "[120641 rows x 4 columns]"
      ]
     },
     "execution_count": 5,
     "metadata": {},
     "output_type": "execute_result"
    }
   ],
   "source": [
    "filtrado = dados[['Competencia Evolucao','Classificacao final','Evolucao','Dias Perm Hospital']]\n",
    "filtrado = filtrado.loc[filtrado['Classificacao final']=='COVID-19']\n",
    "filtrado"
   ]
  },
  {
   "cell_type": "code",
   "execution_count": 6,
   "metadata": {},
   "outputs": [],
   "source": [
    "cura = filtrado.loc[filtrado['Evolucao']=='Cura']\n",
    "cura = cura.groupby(['Competencia Evolucao']).median()\n",
    "cura = cura.drop(['2020_03'])\n",
    "cura = cura.reset_index()\n",
    "#cura[cura['Sem Epi Evolucao']=='2021_44']"
   ]
  },
  {
   "cell_type": "code",
   "execution_count": 7,
   "metadata": {},
   "outputs": [],
   "source": [
    "cura = cura['Dias Perm Hospital']"
   ]
  },
  {
   "cell_type": "code",
   "execution_count": 8,
   "metadata": {},
   "outputs": [],
   "source": [
    "obito = filtrado.loc[filtrado['Evolucao']=='Óbito']\n",
    "obito = obito.groupby(['Competencia Evolucao']).median()\n",
    "obito = obito.drop(['2020_03'])\n",
    "obito = obito.reset_index()\n",
    "#cura[cura['Sem Epi Evolucao']=='2021_44']"
   ]
  },
  {
   "cell_type": "code",
   "execution_count": 9,
   "metadata": {},
   "outputs": [],
   "source": [
    "semana = obito['Competencia Evolucao']"
   ]
  },
  {
   "cell_type": "code",
   "execution_count": 10,
   "metadata": {},
   "outputs": [],
   "source": [
    "obito = obito['Dias Perm Hospital']"
   ]
  },
  {
   "cell_type": "code",
   "execution_count": 11,
   "metadata": {},
   "outputs": [
    {
     "data": {
      "text/plain": [
       "'Gráficos 18_2_2022'"
      ]
     },
     "execution_count": 11,
     "metadata": {},
     "output_type": "execute_result"
    }
   ],
   "source": [
    "pasta = r'Z:\\Graficos Boletim_Python'\n",
    "lista_arquivos = os.listdir(pasta)\n",
    "lista_datas = []\n",
    "\n",
    "for arquivo in lista_arquivos:\n",
    "    #Descobrir a data desse arquivo\n",
    "    data = os.path.getmtime(f'{pasta}/{arquivo}')\n",
    "    lista_datas.append((data,arquivo))\n",
    "\n",
    "lista_datas.sort(reverse=True) #Vai ordenar a lista em ordem decrescente com reverse=True Obs: Ele ordena sempre com o primeiro valor, por isso colocamos data antes de arquivo\n",
    "ultima_pasta = lista_datas[0][1] #Pega o ultimo arquivo\n",
    "ultima_pasta"
   ]
  },
  {
   "cell_type": "code",
   "execution_count": 12,
   "metadata": {},
   "outputs": [],
   "source": [
    "legenda = pd.DataFrame(columns=['Óbito','Alta'])"
   ]
  },
  {
   "cell_type": "code",
   "execution_count": 13,
   "metadata": {},
   "outputs": [
    {
     "data": {
      "image/png": "[encoded data removed]",
      "text/plain": [
       "<Figure size 2160x720 with 1 Axes>"
      ]
     },
     "metadata": {
      "needs_background": "light"
     },
     "output_type": "display_data"
    }
   ],
   "source": [
    "plt.figure(figsize=(30,10))\n",
    "plt.plot(semana,obito,color='#8a3e4b',linewidth=3)\n",
    "plt.plot(semana,cura,color='#9bbfa8',linewidth=3)\n",
    "sns.despine()\n",
    "plt.xlabel('Mês da Evolução',labelpad=25,fontsize=25)\n",
    "plt.ylabel('Mediana de dias entre a internação e o desfecho',labelpad=25,fontsize=25)\n",
    "plt.xticks(np.arange(0,np.size(semana),1),rotation=90,fontsize=20)\n",
    "plt.yticks(np.arange(0,19,1),fontsize=20)\n",
    "plt.legend(legenda,fontsize=25,shadow=True,loc='upper left')\n",
    "plt.grid(axis='y')\n",
    "plt.savefig(f'Z:/Graficos Boletim_Python/{ultima_pasta}/Slide9.png',dpi=720,bbox_inches='tight')"
   ]
  },
  {
   "cell_type": "code",
   "execution_count": 14,
   "metadata": {},
   "outputs": [
    {
     "data": {
      "text/html": [
       "<div>\n",
       "<style scoped>\n",
       "    .dataframe tbody tr th:only-of-type {\n",
       "        vertical-align: middle;\n",
       "    }\n",
       "\n",
       "    .dataframe tbody tr th {\n",
       "        vertical-align: top;\n",
       "    }\n",
       "\n",
       "    .dataframe thead th {\n",
       "        text-align: right;\n",
       "    }\n",
       "</style>\n",
       "<table border=\"1\" class=\"dataframe\">\n",
       "  <thead>\n",
       "    <tr style=\"text-align: right;\">\n",
       "      <th></th>\n",
       "      <th>Faixa Etaria</th>\n",
       "      <th>Competencia Evolucao</th>\n",
       "      <th>Classificacao final</th>\n",
       "      <th>Evolucao</th>\n",
       "      <th>Dias Perm Hospital</th>\n",
       "    </tr>\n",
       "  </thead>\n",
       "  <tbody>\n",
       "    <tr>\n",
       "      <th>0</th>\n",
       "      <td>0-59 anos</td>\n",
       "      <td>2020_07</td>\n",
       "      <td>COVID-19</td>\n",
       "      <td>Óbito</td>\n",
       "      <td>0.0</td>\n",
       "    </tr>\n",
       "    <tr>\n",
       "      <th>2</th>\n",
       "      <td>0-59 anos</td>\n",
       "      <td>2021_08</td>\n",
       "      <td>COVID-19</td>\n",
       "      <td>Cura</td>\n",
       "      <td>4.0</td>\n",
       "    </tr>\n",
       "    <tr>\n",
       "      <th>4</th>\n",
       "      <td>0-59 anos</td>\n",
       "      <td>2021_06</td>\n",
       "      <td>COVID-19</td>\n",
       "      <td>Cura</td>\n",
       "      <td>8.0</td>\n",
       "    </tr>\n",
       "    <tr>\n",
       "      <th>10</th>\n",
       "      <td>0-59 anos</td>\n",
       "      <td>2021_06</td>\n",
       "      <td>COVID-19</td>\n",
       "      <td>Cura</td>\n",
       "      <td>21.0</td>\n",
       "    </tr>\n",
       "    <tr>\n",
       "      <th>13</th>\n",
       "      <td>0-59 anos</td>\n",
       "      <td>NaN</td>\n",
       "      <td>COVID-19</td>\n",
       "      <td>Segue Internado</td>\n",
       "      <td>0.0</td>\n",
       "    </tr>\n",
       "    <tr>\n",
       "      <th>...</th>\n",
       "      <td>...</td>\n",
       "      <td>...</td>\n",
       "      <td>...</td>\n",
       "      <td>...</td>\n",
       "      <td>...</td>\n",
       "    </tr>\n",
       "    <tr>\n",
       "      <th>164922</th>\n",
       "      <td>0-59 anos</td>\n",
       "      <td>2021_04</td>\n",
       "      <td>COVID-19</td>\n",
       "      <td>Cura</td>\n",
       "      <td>11.0</td>\n",
       "    </tr>\n",
       "    <tr>\n",
       "      <th>164929</th>\n",
       "      <td>0-59 anos</td>\n",
       "      <td>2021_06</td>\n",
       "      <td>COVID-19</td>\n",
       "      <td>Óbito</td>\n",
       "      <td>26.0</td>\n",
       "    </tr>\n",
       "    <tr>\n",
       "      <th>164932</th>\n",
       "      <td>0-59 anos</td>\n",
       "      <td>2021_04</td>\n",
       "      <td>COVID-19</td>\n",
       "      <td>Óbito</td>\n",
       "      <td>7.0</td>\n",
       "    </tr>\n",
       "    <tr>\n",
       "      <th>164938</th>\n",
       "      <td>0-59 anos</td>\n",
       "      <td>2021_06</td>\n",
       "      <td>COVID-19</td>\n",
       "      <td>Cura</td>\n",
       "      <td>33.0</td>\n",
       "    </tr>\n",
       "    <tr>\n",
       "      <th>164943</th>\n",
       "      <td>0-59 anos</td>\n",
       "      <td>2021_09</td>\n",
       "      <td>COVID-19</td>\n",
       "      <td>Cura</td>\n",
       "      <td>13.0</td>\n",
       "    </tr>\n",
       "  </tbody>\n",
       "</table>\n",
       "<p>59608 rows × 5 columns</p>\n",
       "</div>"
      ],
      "text/plain": [
       "       Faixa Etaria Competencia Evolucao Classificacao final         Evolucao  \\\n",
       "0         0-59 anos              2020_07            COVID-19            Óbito   \n",
       "2         0-59 anos              2021_08            COVID-19             Cura   \n",
       "4         0-59 anos              2021_06            COVID-19             Cura   \n",
       "10        0-59 anos              2021_06            COVID-19             Cura   \n",
       "13        0-59 anos                  NaN            COVID-19  Segue Internado   \n",
       "...             ...                  ...                 ...              ...   \n",
       "164922    0-59 anos              2021_04            COVID-19             Cura   \n",
       "164929    0-59 anos              2021_06            COVID-19            Óbito   \n",
       "164932    0-59 anos              2021_04            COVID-19            Óbito   \n",
       "164938    0-59 anos              2021_06            COVID-19             Cura   \n",
       "164943    0-59 anos              2021_09            COVID-19             Cura   \n",
       "\n",
       "        Dias Perm Hospital  \n",
       "0                      0.0  \n",
       "2                      4.0  \n",
       "4                      8.0  \n",
       "10                    21.0  \n",
       "13                     0.0  \n",
       "...                    ...  \n",
       "164922                11.0  \n",
       "164929                26.0  \n",
       "164932                 7.0  \n",
       "164938                33.0  \n",
       "164943                13.0  \n",
       "\n",
       "[59608 rows x 5 columns]"
      ]
     },
     "execution_count": 14,
     "metadata": {},
     "output_type": "execute_result"
    }
   ],
   "source": [
    "grafico_0a59 = dados[['Faixa Etaria','Competencia Evolucao','Classificacao final','Evolucao','Dias Perm Hospital']]\n",
    "grafico_0a59 = grafico_0a59.loc[grafico_0a59['Classificacao final']=='COVID-19']\n",
    "grafico_0a59['Faixa Etaria'] = grafico_0a59['Faixa Etaria'].map({'0-9 anos':'0-59 anos','10-19 anos':'0-59 anos','20-29 anos':'0-59 anos','30-39 anos':'0-59 anos','40-49 anos':'0-59 anos',\n",
    "'50-59 anos':'0-59 anos'})\n",
    "grafico_0a59 = grafico_0a59.loc[grafico_0a59['Faixa Etaria']=='0-59 anos']\n",
    "grafico_0a59"
   ]
  },
  {
   "cell_type": "code",
   "execution_count": 15,
   "metadata": {},
   "outputs": [],
   "source": [
    "cura_0a59 = grafico_0a59.loc[grafico_0a59['Evolucao']=='Cura']\n",
    "cura_0a59 = cura_0a59.groupby(['Competencia Evolucao']).median()\n",
    "cura_0a59 = cura_0a59.drop('2020_03')\n",
    "cura_0a59 = cura_0a59.reset_index()\n",
    "cura_0a59 = cura_0a59['Dias Perm Hospital']"
   ]
  },
  {
   "cell_type": "code",
   "execution_count": 16,
   "metadata": {},
   "outputs": [],
   "source": [
    "obito_0a59 = grafico_0a59.loc[grafico_0a59['Evolucao']=='Óbito']\n",
    "obito_0a59 = obito_0a59.groupby(['Competencia Evolucao']).median()\n",
    "obito_0a59 = obito_0a59.reset_index()"
   ]
  },
  {
   "cell_type": "code",
   "execution_count": 17,
   "metadata": {},
   "outputs": [],
   "source": [
    "semana_0a59 = obito_0a59['Competencia Evolucao']"
   ]
  },
  {
   "cell_type": "code",
   "execution_count": 18,
   "metadata": {},
   "outputs": [],
   "source": [
    "obito_0a59 = obito_0a59['Dias Perm Hospital']"
   ]
  },
  {
   "cell_type": "code",
   "execution_count": 19,
   "metadata": {},
   "outputs": [
    {
     "data": {
      "text/plain": [
       "\"plt.figure(figsize=(30,10))\\nplt.plot(semana_0a59,obito_0a59,color='#8a3e4b',linewidth=3)\\nplt.plot(semana_0a59,cura_0a59,color='#9bbfa8',linewidth=3)\\nsns.despine()\\nplt.xlabel('Mês da Evolução',labelpad=25,fontsize=25)\\nplt.ylabel('Mediana de dias entre a internação e o desfecho',labelpad=25,fontsize=25)\\nplt.xticks(np.arange(0,np.size(semana_0a59),1),rotation=90,fontsize=20)\\nplt.yticks(np.arange(0,25,1),fontsize=20)\\nplt.legend(legenda,fontsize=25,shadow=True)\\nplt.grid(axis='y')\\nplt.savefig(f'Z:/Graficos Boletim_Python/{ultima_pasta}/Slide9_0a59 anos.png',dpi=720,bbox_inches='tight')\""
      ]
     },
     "execution_count": 19,
     "metadata": {},
     "output_type": "execute_result"
    }
   ],
   "source": [
    "'''plt.figure(figsize=(30,10))\n",
    "plt.plot(semana_0a59,obito_0a59,color='#8a3e4b',linewidth=3)\n",
    "plt.plot(semana_0a59,cura_0a59,color='#9bbfa8',linewidth=3)\n",
    "sns.despine()\n",
    "plt.xlabel('Mês da Evolução',labelpad=25,fontsize=25)\n",
    "plt.ylabel('Mediana de dias entre a internação e o desfecho',labelpad=25,fontsize=25)\n",
    "plt.xticks(np.arange(0,np.size(semana_0a59),1),rotation=90,fontsize=20)\n",
    "plt.yticks(np.arange(0,25,1),fontsize=20)\n",
    "plt.legend(legenda,fontsize=25,shadow=True)\n",
    "plt.grid(axis='y')\n",
    "plt.savefig(f'Z:/Graficos Boletim_Python/{ultima_pasta}/Slide9_0a59 anos.png',dpi=720,bbox_inches='tight')'''"
   ]
  },
  {
   "cell_type": "code",
   "execution_count": 20,
   "metadata": {},
   "outputs": [
    {
     "data": {
      "text/html": [
       "<div>\n",
       "<style scoped>\n",
       "    .dataframe tbody tr th:only-of-type {\n",
       "        vertical-align: middle;\n",
       "    }\n",
       "\n",
       "    .dataframe tbody tr th {\n",
       "        vertical-align: top;\n",
       "    }\n",
       "\n",
       "    .dataframe thead th {\n",
       "        text-align: right;\n",
       "    }\n",
       "</style>\n",
       "<table border=\"1\" class=\"dataframe\">\n",
       "  <thead>\n",
       "    <tr style=\"text-align: right;\">\n",
       "      <th></th>\n",
       "      <th>Faixa Etaria</th>\n",
       "      <th>Competencia Evolucao</th>\n",
       "      <th>Classificacao final</th>\n",
       "      <th>Evolucao</th>\n",
       "      <th>Dias Perm Hospital</th>\n",
       "    </tr>\n",
       "  </thead>\n",
       "  <tbody>\n",
       "    <tr>\n",
       "      <th>1</th>\n",
       "      <td>60 anos e mais</td>\n",
       "      <td>2021_10</td>\n",
       "      <td>COVID-19</td>\n",
       "      <td>Cura</td>\n",
       "      <td>12.0</td>\n",
       "    </tr>\n",
       "    <tr>\n",
       "      <th>3</th>\n",
       "      <td>60 anos e mais</td>\n",
       "      <td>2021_01</td>\n",
       "      <td>COVID-19</td>\n",
       "      <td>Óbito</td>\n",
       "      <td>0.0</td>\n",
       "    </tr>\n",
       "    <tr>\n",
       "      <th>6</th>\n",
       "      <td>60 anos e mais</td>\n",
       "      <td>2021_02</td>\n",
       "      <td>COVID-19</td>\n",
       "      <td>Óbito</td>\n",
       "      <td>5.0</td>\n",
       "    </tr>\n",
       "    <tr>\n",
       "      <th>7</th>\n",
       "      <td>60 anos e mais</td>\n",
       "      <td>2021_07</td>\n",
       "      <td>COVID-19</td>\n",
       "      <td>Óbito</td>\n",
       "      <td>0.0</td>\n",
       "    </tr>\n",
       "    <tr>\n",
       "      <th>8</th>\n",
       "      <td>60 anos e mais</td>\n",
       "      <td>2021_03</td>\n",
       "      <td>COVID-19</td>\n",
       "      <td>Óbito</td>\n",
       "      <td>0.0</td>\n",
       "    </tr>\n",
       "    <tr>\n",
       "      <th>...</th>\n",
       "      <td>...</td>\n",
       "      <td>...</td>\n",
       "      <td>...</td>\n",
       "      <td>...</td>\n",
       "      <td>...</td>\n",
       "    </tr>\n",
       "    <tr>\n",
       "      <th>164937</th>\n",
       "      <td>60 anos e mais</td>\n",
       "      <td>2020_07</td>\n",
       "      <td>COVID-19</td>\n",
       "      <td>Óbito</td>\n",
       "      <td>5.0</td>\n",
       "    </tr>\n",
       "    <tr>\n",
       "      <th>164939</th>\n",
       "      <td>60 anos e mais</td>\n",
       "      <td>2021_01</td>\n",
       "      <td>COVID-19</td>\n",
       "      <td>Cura</td>\n",
       "      <td>0.0</td>\n",
       "    </tr>\n",
       "    <tr>\n",
       "      <th>164940</th>\n",
       "      <td>60 anos e mais</td>\n",
       "      <td>2020_08</td>\n",
       "      <td>COVID-19</td>\n",
       "      <td>Cura</td>\n",
       "      <td>13.0</td>\n",
       "    </tr>\n",
       "    <tr>\n",
       "      <th>164941</th>\n",
       "      <td>60 anos e mais</td>\n",
       "      <td>2020_12</td>\n",
       "      <td>COVID-19</td>\n",
       "      <td>Cura</td>\n",
       "      <td>16.0</td>\n",
       "    </tr>\n",
       "    <tr>\n",
       "      <th>164942</th>\n",
       "      <td>60 anos e mais</td>\n",
       "      <td>2021_02</td>\n",
       "      <td>COVID-19</td>\n",
       "      <td>Óbito</td>\n",
       "      <td>5.0</td>\n",
       "    </tr>\n",
       "  </tbody>\n",
       "</table>\n",
       "<p>61033 rows × 5 columns</p>\n",
       "</div>"
      ],
      "text/plain": [
       "          Faixa Etaria Competencia Evolucao Classificacao final Evolucao  \\\n",
       "1       60 anos e mais              2021_10            COVID-19     Cura   \n",
       "3       60 anos e mais              2021_01            COVID-19    Óbito   \n",
       "6       60 anos e mais              2021_02            COVID-19    Óbito   \n",
       "7       60 anos e mais              2021_07            COVID-19    Óbito   \n",
       "8       60 anos e mais              2021_03            COVID-19    Óbito   \n",
       "...                ...                  ...                 ...      ...   \n",
       "164937  60 anos e mais              2020_07            COVID-19    Óbito   \n",
       "164939  60 anos e mais              2021_01            COVID-19     Cura   \n",
       "164940  60 anos e mais              2020_08            COVID-19     Cura   \n",
       "164941  60 anos e mais              2020_12            COVID-19     Cura   \n",
       "164942  60 anos e mais              2021_02            COVID-19    Óbito   \n",
       "\n",
       "        Dias Perm Hospital  \n",
       "1                     12.0  \n",
       "3                      0.0  \n",
       "6                      5.0  \n",
       "7                      0.0  \n",
       "8                      0.0  \n",
       "...                    ...  \n",
       "164937                 5.0  \n",
       "164939                 0.0  \n",
       "164940                13.0  \n",
       "164941                16.0  \n",
       "164942                 5.0  \n",
       "\n",
       "[61033 rows x 5 columns]"
      ]
     },
     "execution_count": 20,
     "metadata": {},
     "output_type": "execute_result"
    }
   ],
   "source": [
    "grafico_60Mais = dados[['Faixa Etaria','Competencia Evolucao','Classificacao final','Evolucao','Dias Perm Hospital']]\n",
    "grafico_60Mais = grafico_60Mais.loc[grafico_60Mais['Classificacao final']=='COVID-19']\n",
    "grafico_60Mais['Faixa Etaria'] = grafico_60Mais['Faixa Etaria'].map({'60-69 anos':'60 anos e mais','70-79 anos':'60 anos e mais','80 e mais anos':'60 anos e mais'})\n",
    "grafico_60Mais = grafico_60Mais.loc[grafico_60Mais['Faixa Etaria']=='60 anos e mais']\n",
    "grafico_60Mais"
   ]
  },
  {
   "cell_type": "code",
   "execution_count": 21,
   "metadata": {},
   "outputs": [],
   "source": [
    "cura_60Mais = grafico_60Mais.loc[grafico_60Mais['Evolucao']=='Cura']\n",
    "cura_60Mais = cura_60Mais.groupby(['Competencia Evolucao']).median()\n",
    "cura_60Mais = cura_60Mais.drop('2020_03')\n",
    "cura_60Mais = cura_60Mais.reset_index()\n",
    "cura_60Mais = cura_60Mais['Dias Perm Hospital']"
   ]
  },
  {
   "cell_type": "code",
   "execution_count": 22,
   "metadata": {},
   "outputs": [],
   "source": [
    "obito_60Mais = grafico_60Mais.loc[grafico_60Mais['Evolucao']=='Óbito']\n",
    "obito_60Mais = obito_60Mais.groupby(['Competencia Evolucao']).median()\n",
    "obito_60Mais = obito_60Mais.drop('2020_03')\n",
    "obito_60Mais = obito_60Mais.reset_index()"
   ]
  },
  {
   "cell_type": "code",
   "execution_count": 23,
   "metadata": {},
   "outputs": [],
   "source": [
    "semana_60Mais = obito_60Mais['Competencia Evolucao']"
   ]
  },
  {
   "cell_type": "code",
   "execution_count": 24,
   "metadata": {},
   "outputs": [],
   "source": [
    "obito_60Mais = obito_60Mais['Dias Perm Hospital']"
   ]
  },
  {
   "cell_type": "code",
   "execution_count": 25,
   "metadata": {},
   "outputs": [
    {
     "data": {
      "text/plain": [
       "\"plt.figure(figsize=(30,10))\\nplt.plot(semana_60Mais,obito_60Mais,color='#8a3e4b',linewidth=3)\\nplt.plot(semana_60Mais,cura_60Mais,color='#9bbfa8',linewidth=3)\\nsns.despine()\\nplt.xlabel('Mês da Evolução',labelpad=25,fontsize=25)\\nplt.ylabel('Mediana de dias entre a internação e o desfecho',labelpad=25,fontsize=25)\\nplt.xticks(np.arange(0,np.size(semana_60Mais),1),rotation=90,fontsize=20)\\nplt.yticks(np.arange(0,25,1),fontsize=20)\\nplt.legend(legenda,fontsize=25,shadow=True)\\nplt.grid(axis='y')\\nplt.savefig(f'Z:/Graficos Boletim_Python/{ultima_pasta}/Slide9_60Mais anos.png',dpi=720,bbox_inches='tight')\""
      ]
     },
     "execution_count": 25,
     "metadata": {},
     "output_type": "execute_result"
    }
   ],
   "source": [
    "'''plt.figure(figsize=(30,10))\n",
    "plt.plot(semana_60Mais,obito_60Mais,color='#8a3e4b',linewidth=3)\n",
    "plt.plot(semana_60Mais,cura_60Mais,color='#9bbfa8',linewidth=3)\n",
    "sns.despine()\n",
    "plt.xlabel('Mês da Evolução',labelpad=25,fontsize=25)\n",
    "plt.ylabel('Mediana de dias entre a internação e o desfecho',labelpad=25,fontsize=25)\n",
    "plt.xticks(np.arange(0,np.size(semana_60Mais),1),rotation=90,fontsize=20)\n",
    "plt.yticks(np.arange(0,25,1),fontsize=20)\n",
    "plt.legend(legenda,fontsize=25,shadow=True)\n",
    "plt.grid(axis='y')\n",
    "plt.savefig(f'Z:/Graficos Boletim_Python/{ultima_pasta}/Slide9_60Mais anos.png',dpi=720,bbox_inches='tight')'''"
   ]
  },
  {
   "cell_type": "code",
   "execution_count": null,
   "metadata": {},
   "outputs": [],
   "source": []
  }
 ],
 "metadata": {
  "interpreter": {
   "hash": "1de187e5902025e922368a2d9f95ab7dc4a859d9f86e50683b5a6b0b3bf7ba31"
  },
  "kernelspec": {
   "display_name": "Python 3.9.7 64-bit ('base': conda)",
   "language": "python",
   "name": "python3"
  },
  "language_info": {
   "codemirror_mode": {
    "name": "ipython",
    "version": 3
   },
   "file_extension": ".py",
   "mimetype": "text/x-python",
   "name": "python",
   "nbconvert_exporter": "python",
   "pygments_lexer": "ipython3",
   "version": "3.9.7"
  },
  "orig_nbformat": 4
 },
 "nbformat": 4,
 "nbformat_minor": 2
}
