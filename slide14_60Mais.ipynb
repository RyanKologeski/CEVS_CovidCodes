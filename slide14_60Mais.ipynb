{
 "cells": [
  {
   "cell_type": "code",
   "execution_count": 1,
   "metadata": {},
   "outputs": [],
   "source": [
    "import pandas as pd\n",
    "from pandas import DataFrame\n",
    "import matplotlib.pyplot as plt\n",
    "import numpy as np\n",
    "import os\n",
    "from datetime import date\n",
    "import datetime\n",
    "from pathlib import Path\n",
    "import seaborn as sns"
   ]
  },
  {
   "cell_type": "code",
   "execution_count": 2,
   "metadata": {},
   "outputs": [
    {
     "data": {
      "text/plain": [
       "'Banco SIVEP 21_11_2022 07_32_59.xlsx'"
      ]
     },
     "execution_count": 2,
     "metadata": {},
     "output_type": "execute_result"
    }
   ],
   "source": [
    "caminho = r'Z:\\Banco SIVEP Exportação'\n",
    "lista_arquivos = os.listdir(caminho)\n",
    "lista_datas = []\n",
    "\n",
    "for arquivo in lista_arquivos:\n",
    "    #Descobrir a data desse arquivo\n",
    "    data = os.path.getmtime(f'{caminho}/{arquivo}')\n",
    "    lista_datas.append((data,arquivo))\n",
    "\n",
    "lista_datas.sort(reverse=True) #Vai ordenar a lista em ordem decrescente com reverse=True Obs: Ele ordena sempre com o primeiro valor, por isso colocamos data antes de arquivo\n",
    "ultimo_arquivo = lista_datas[0][1] #Pega o ultimo arquivo\n",
    "ultimo_arquivo"
   ]
  },
  {
   "cell_type": "code",
   "execution_count": 3,
   "metadata": {},
   "outputs": [],
   "source": [
    "if not os.path.exists(f'Z:\\Graficos Boletim_Python/Gráficos {date.today().day}_{date.today().month}_{date.today().year}'):\n",
    "    os.makedirs(f'Z:\\Graficos Boletim_Python/Gráficos {date.today().day}_{date.today().month}_{date.today().year}')"
   ]
  },
  {
   "cell_type": "code",
   "execution_count": 4,
   "metadata": {},
   "outputs": [],
   "source": [
    "dados = pd.read_excel(f'{caminho}/{ultimo_arquivo}')\n",
    "#dados = pd.read_excel('Z:/Banco SIVEP Exportação/Banco SIVEP 14_06_2022 07_33_53.xlsx')"
   ]
  },
  {
   "cell_type": "code",
   "execution_count": 5,
   "metadata": {},
   "outputs": [
    {
     "name": "stderr",
     "output_type": "stream",
     "text": [
      "C:\\Users\\RYAN-R~1\\AppData\\Local\\Temp/ipykernel_21816/844377761.py:2: SettingWithCopyWarning: \n",
      "A value is trying to be set on a copy of a slice from a DataFrame.\n",
      "Try using .loc[row_indexer,col_indexer] = value instead\n",
      "\n",
      "See the caveats in the documentation: https://pandas.pydata.org/pandas-docs/stable/user_guide/indexing.html#returning-a-view-versus-a-copy\n",
      "  filtrado['Faixa Etaria'] = filtrado['Faixa Etaria'].map({'0-9 anos':'0-9 anos','10-19 anos':'10-19 anos','20-29 anos':'20-59 anos','30-39 anos':'20-59 anos',\n",
      "C:\\Users\\RYAN-R~1\\AppData\\Local\\Temp/ipykernel_21816/844377761.py:5: SettingWithCopyWarning: \n",
      "A value is trying to be set on a copy of a slice from a DataFrame.\n",
      "Try using .loc[row_indexer,col_indexer] = value instead\n",
      "\n",
      "See the caveats in the documentation: https://pandas.pydata.org/pandas-docs/stable/user_guide/indexing.html#returning-a-view-versus-a-copy\n",
      "  filtrado['Doenca Cardiovascular'] = filtrado['Doenca Cardiovascular'].map({1.0:'Doença cardiovascular'})\n",
      "C:\\Users\\RYAN-R~1\\AppData\\Local\\Temp/ipykernel_21816/844377761.py:6: SettingWithCopyWarning: \n",
      "A value is trying to be set on a copy of a slice from a DataFrame.\n",
      "Try using .loc[row_indexer,col_indexer] = value instead\n",
      "\n",
      "See the caveats in the documentation: https://pandas.pydata.org/pandas-docs/stable/user_guide/indexing.html#returning-a-view-versus-a-copy\n",
      "  filtrado['Diabetes mellitus'] = filtrado['Diabetes mellitus'].map({1.0:'Diabetes mellitus'})\n",
      "C:\\Users\\RYAN-R~1\\AppData\\Local\\Temp/ipykernel_21816/844377761.py:7: SettingWithCopyWarning: \n",
      "A value is trying to be set on a copy of a slice from a DataFrame.\n",
      "Try using .loc[row_indexer,col_indexer] = value instead\n",
      "\n",
      "See the caveats in the documentation: https://pandas.pydata.org/pandas-docs/stable/user_guide/indexing.html#returning-a-view-versus-a-copy\n",
      "  filtrado['Obesidade'] = filtrado['Obesidade'].map({'1':'Obesidade'})\n",
      "C:\\Users\\RYAN-R~1\\AppData\\Local\\Temp/ipykernel_21816/844377761.py:8: SettingWithCopyWarning: \n",
      "A value is trying to be set on a copy of a slice from a DataFrame.\n",
      "Try using .loc[row_indexer,col_indexer] = value instead\n",
      "\n",
      "See the caveats in the documentation: https://pandas.pydata.org/pandas-docs/stable/user_guide/indexing.html#returning-a-view-versus-a-copy\n",
      "  filtrado['Doenca Neurologica'] = filtrado['Doenca Neurologica'].map({1.0:'Doença neurológica'})\n",
      "C:\\Users\\RYAN-R~1\\AppData\\Local\\Temp/ipykernel_21816/844377761.py:9: SettingWithCopyWarning: \n",
      "A value is trying to be set on a copy of a slice from a DataFrame.\n",
      "Try using .loc[row_indexer,col_indexer] = value instead\n",
      "\n",
      "See the caveats in the documentation: https://pandas.pydata.org/pandas-docs/stable/user_guide/indexing.html#returning-a-view-versus-a-copy\n",
      "  filtrado['Outra Pneumatopatia'] = filtrado['Outra Pneumatopatia'].map({1.0:'Outra pneumatopatia'})\n"
     ]
    }
   ],
   "source": [
    "filtrado = dados[['Sem Epi Internacao','Tem Comorbidade','Doenca Cardiovascular','Diabetes mellitus','Obesidade','Doenca Neurologica','Outra Pneumatopatia','Faixa Etaria','Classificacao final','Houve internacao','Evolucao']]\n",
    "filtrado['Faixa Etaria'] = filtrado['Faixa Etaria'].map({'0-9 anos':'0-9 anos','10-19 anos':'10-19 anos','20-29 anos':'20-59 anos','30-39 anos':'20-59 anos',\n",
    "                                                         '40-49 anos':'20-59 anos','50-59 anos':'20-59 anos','60-69 anos':'60 anos ou mais','70-79 anos':'60 anos ou mais',\n",
    "                                                         '80 e mais anos':'60 anos ou mais'})\n",
    "filtrado['Doenca Cardiovascular'] = filtrado['Doenca Cardiovascular'].map({1.0:'Doença cardiovascular'})\n",
    "filtrado['Diabetes mellitus'] = filtrado['Diabetes mellitus'].map({1.0:'Diabetes mellitus'})\n",
    "filtrado['Obesidade'] = filtrado['Obesidade'].map({'1':'Obesidade'})\n",
    "filtrado['Doenca Neurologica'] = filtrado['Doenca Neurologica'].map({1.0:'Doença neurológica'})\n",
    "filtrado['Outra Pneumatopatia'] = filtrado['Outra Pneumatopatia'].map({1.0:'Outra pneumatopatia'})\n"
   ]
  },
  {
   "cell_type": "code",
   "execution_count": 6,
   "metadata": {},
   "outputs": [],
   "source": [
    "#filtrado = filtrado.sort_values(by='Sem Epi Internacao')\n",
    "#filtrado = filtrado.set_index('Sem Epi Internacao')\n",
    "#filtrado = filtrado['2022_13':]\n",
    "#filtrado"
   ]
  },
  {
   "cell_type": "code",
   "execution_count": 7,
   "metadata": {},
   "outputs": [],
   "source": [
    "anos60Mais_obito = filtrado.loc[filtrado['Faixa Etaria']=='60 anos ou mais']\n",
    "anos60Mais_obito = anos60Mais_obito.loc[anos60Mais_obito['Classificacao final']=='COVID-19']\n",
    "anos60Mais_obito = anos60Mais_obito.loc[anos60Mais_obito['Evolucao']=='Óbito']"
   ]
  },
  {
   "cell_type": "code",
   "execution_count": 8,
   "metadata": {},
   "outputs": [
    {
     "data": {
      "text/html": [
       "<div>\n",
       "<style scoped>\n",
       "    .dataframe tbody tr th:only-of-type {\n",
       "        vertical-align: middle;\n",
       "    }\n",
       "\n",
       "    .dataframe tbody tr th {\n",
       "        vertical-align: top;\n",
       "    }\n",
       "\n",
       "    .dataframe thead th {\n",
       "        text-align: right;\n",
       "    }\n",
       "</style>\n",
       "<table border=\"1\" class=\"dataframe\">\n",
       "  <thead>\n",
       "    <tr style=\"text-align: right;\">\n",
       "      <th></th>\n",
       "      <th>Houve internacao</th>\n",
       "      <th>Evolucao</th>\n",
       "    </tr>\n",
       "    <tr>\n",
       "      <th>Outra Pneumatopatia</th>\n",
       "      <th></th>\n",
       "      <th></th>\n",
       "    </tr>\n",
       "  </thead>\n",
       "  <tbody>\n",
       "    <tr>\n",
       "      <th>Outra pneumatopatia</th>\n",
       "      <td>3396</td>\n",
       "      <td>3396</td>\n",
       "    </tr>\n",
       "  </tbody>\n",
       "</table>\n",
       "</div>"
      ],
      "text/plain": [
       "                     Houve internacao  Evolucao\n",
       "Outra Pneumatopatia                            \n",
       "Outra pneumatopatia              3396      3396"
      ]
     },
     "execution_count": 8,
     "metadata": {},
     "output_type": "execute_result"
    }
   ],
   "source": [
    "temComorbidade_obito = anos60Mais_obito.loc[anos60Mais_obito['Tem Comorbidade']=='Sim']\n",
    "temComorbidade_obito = temComorbidade_obito.groupby('Tem Comorbidade').count()\n",
    "temComorbidade_obito = temComorbidade_obito.drop(temComorbidade_obito.columns[[0,1,2,3,4,5,6,7]],axis=1)\n",
    "doencaCardio_obito = anos60Mais_obito.groupby('Doenca Cardiovascular').count()\n",
    "doencaCardio_obito = doencaCardio_obito.drop(doencaCardio_obito.columns[[0,1,2,3,4,5,6,7]],axis=1)\n",
    "diabetesmellitus_obito = anos60Mais_obito.groupby('Diabetes mellitus').count()\n",
    "diabetesmellitus_obito = diabetesmellitus_obito.drop(diabetesmellitus_obito.columns[[0,1,2,3,4,5,6,7]],axis=1)\n",
    "obesidade_obito = anos60Mais_obito.groupby('Obesidade').count()\n",
    "obesidade_obito = obesidade_obito.drop(obesidade_obito.columns[[0,1,2,3,4,5,6,7]],axis=1)\n",
    "doencaneuro_obito = anos60Mais_obito.groupby('Doenca Neurologica').count()\n",
    "doencaneuro_obito = doencaneuro_obito.drop(doencaneuro_obito.columns[[0,1,2,3,4,5,6,7]],axis=1)\n",
    "outrapneu_obito = anos60Mais_obito.groupby('Outra Pneumatopatia').count()\n",
    "outrapneu_obito = outrapneu_obito.drop(outrapneu_obito.columns[[0,1,2,3,4,5,6,7]],axis=1)\n",
    "outrapneu_obito"
   ]
  },
  {
   "cell_type": "code",
   "execution_count": 9,
   "metadata": {},
   "outputs": [
    {
     "data": {
      "text/plain": [
       "0    30056\n",
       "Name: Houve internacao, dtype: int64"
      ]
     },
     "execution_count": 9,
     "metadata": {},
     "output_type": "execute_result"
    }
   ],
   "source": [
    "totalObitos_anos60Mais = filtrado.loc[filtrado['Faixa Etaria']=='60 anos ou mais']\n",
    "totalObitos_anos60Mais = totalObitos_anos60Mais.loc[totalObitos_anos60Mais['Evolucao']=='Óbito']\n",
    "totalObitos_anos60Mais = totalObitos_anos60Mais.loc[totalObitos_anos60Mais['Classificacao final']=='COVID-19']\n",
    "totalObitos_anos60Mais = totalObitos_anos60Mais.groupby('Evolucao').count()\n",
    "totalObitos_anos60Mais = totalObitos_anos60Mais.drop(totalObitos_anos60Mais.columns[[0,1,2,3,4,5,6,7]],axis=1)\n",
    "totalObitos_anos60Mais = totalObitos_anos60Mais.reset_index()\n",
    "totalObitos_anos60Mais = totalObitos_anos60Mais['Houve internacao']\n",
    "totalObitos_anos60Mais"
   ]
  },
  {
   "cell_type": "code",
   "execution_count": 10,
   "metadata": {},
   "outputs": [
    {
     "data": {
      "text/html": [
       "<div>\n",
       "<style scoped>\n",
       "    .dataframe tbody tr th:only-of-type {\n",
       "        vertical-align: middle;\n",
       "    }\n",
       "\n",
       "    .dataframe tbody tr th {\n",
       "        vertical-align: top;\n",
       "    }\n",
       "\n",
       "    .dataframe thead th {\n",
       "        text-align: right;\n",
       "    }\n",
       "</style>\n",
       "<table border=\"1\" class=\"dataframe\">\n",
       "  <thead>\n",
       "    <tr style=\"text-align: right;\">\n",
       "      <th></th>\n",
       "      <th>index</th>\n",
       "      <th>Houve internacao</th>\n",
       "      <th>Evolucao</th>\n",
       "    </tr>\n",
       "  </thead>\n",
       "  <tbody>\n",
       "    <tr>\n",
       "      <th>0</th>\n",
       "      <td>Alguma comorbidade</td>\n",
       "      <td>27202</td>\n",
       "      <td>27202</td>\n",
       "    </tr>\n",
       "    <tr>\n",
       "      <th>1</th>\n",
       "      <td>Doença cardiovascular</td>\n",
       "      <td>16026</td>\n",
       "      <td>16026</td>\n",
       "    </tr>\n",
       "    <tr>\n",
       "      <th>2</th>\n",
       "      <td>Diabetes mellitus</td>\n",
       "      <td>10815</td>\n",
       "      <td>10815</td>\n",
       "    </tr>\n",
       "    <tr>\n",
       "      <th>3</th>\n",
       "      <td>Obesidade</td>\n",
       "      <td>3278</td>\n",
       "      <td>3278</td>\n",
       "    </tr>\n",
       "    <tr>\n",
       "      <th>4</th>\n",
       "      <td>Doença neurológica</td>\n",
       "      <td>3839</td>\n",
       "      <td>3839</td>\n",
       "    </tr>\n",
       "    <tr>\n",
       "      <th>5</th>\n",
       "      <td>Outra pneumatopatia</td>\n",
       "      <td>3396</td>\n",
       "      <td>3396</td>\n",
       "    </tr>\n",
       "  </tbody>\n",
       "</table>\n",
       "</div>"
      ],
      "text/plain": [
       "                   index  Houve internacao  Evolucao\n",
       "0     Alguma comorbidade             27202     27202\n",
       "1  Doença cardiovascular             16026     16026\n",
       "2      Diabetes mellitus             10815     10815\n",
       "3              Obesidade              3278      3278\n",
       "4     Doença neurológica              3839      3839\n",
       "5    Outra pneumatopatia              3396      3396"
      ]
     },
     "execution_count": 10,
     "metadata": {},
     "output_type": "execute_result"
    }
   ],
   "source": [
    "juntaAnos60Mais_obito = temComorbidade_obito.append(doencaCardio_obito)\n",
    "juntaAnos60Mais_obito = juntaAnos60Mais_obito.append(diabetesmellitus_obito)\n",
    "juntaAnos60Mais_obito = juntaAnos60Mais_obito.append(obesidade_obito)\n",
    "juntaAnos60Mais_obito = juntaAnos60Mais_obito.append(doencaneuro_obito)\n",
    "juntaAnos60Mais_obito = juntaAnos60Mais_obito.append(outrapneu_obito)\n",
    "juntaAnos60Mais_obito = juntaAnos60Mais_obito.rename({'Sim':'Alguma comorbidade'})\n",
    "juntaAnos60Mais_obito = juntaAnos60Mais_obito.reset_index()\n",
    "juntaAnos60Mais_obito"
   ]
  },
  {
   "cell_type": "code",
   "execution_count": 11,
   "metadata": {},
   "outputs": [
    {
     "data": {
      "text/html": [
       "<div>\n",
       "<style scoped>\n",
       "    .dataframe tbody tr th:only-of-type {\n",
       "        vertical-align: middle;\n",
       "    }\n",
       "\n",
       "    .dataframe tbody tr th {\n",
       "        vertical-align: top;\n",
       "    }\n",
       "\n",
       "    .dataframe thead th {\n",
       "        text-align: right;\n",
       "    }\n",
       "</style>\n",
       "<table border=\"1\" class=\"dataframe\">\n",
       "  <thead>\n",
       "    <tr style=\"text-align: right;\">\n",
       "      <th></th>\n",
       "      <th>index</th>\n",
       "      <th>Houve internacao</th>\n",
       "      <th>Evolucao</th>\n",
       "    </tr>\n",
       "  </thead>\n",
       "  <tbody>\n",
       "    <tr>\n",
       "      <th>0</th>\n",
       "      <td>Outra pneumatopatia</td>\n",
       "      <td>3396</td>\n",
       "      <td>3396</td>\n",
       "    </tr>\n",
       "    <tr>\n",
       "      <th>1</th>\n",
       "      <td>Obesidade</td>\n",
       "      <td>3278</td>\n",
       "      <td>3278</td>\n",
       "    </tr>\n",
       "    <tr>\n",
       "      <th>2</th>\n",
       "      <td>Doença neurológica</td>\n",
       "      <td>3839</td>\n",
       "      <td>3839</td>\n",
       "    </tr>\n",
       "    <tr>\n",
       "      <th>3</th>\n",
       "      <td>Diabetes mellitus</td>\n",
       "      <td>10815</td>\n",
       "      <td>10815</td>\n",
       "    </tr>\n",
       "    <tr>\n",
       "      <th>4</th>\n",
       "      <td>Doença cardiovascular</td>\n",
       "      <td>16026</td>\n",
       "      <td>16026</td>\n",
       "    </tr>\n",
       "    <tr>\n",
       "      <th>5</th>\n",
       "      <td>Alguma comorbidade</td>\n",
       "      <td>27202</td>\n",
       "      <td>27202</td>\n",
       "    </tr>\n",
       "  </tbody>\n",
       "</table>\n",
       "</div>"
      ],
      "text/plain": [
       "                   index  Houve internacao  Evolucao\n",
       "0    Outra pneumatopatia              3396      3396\n",
       "1              Obesidade              3278      3278\n",
       "2     Doença neurológica              3839      3839\n",
       "3      Diabetes mellitus             10815     10815\n",
       "4  Doença cardiovascular             16026     16026\n",
       "5     Alguma comorbidade             27202     27202"
      ]
     },
     "execution_count": 11,
     "metadata": {},
     "output_type": "execute_result"
    }
   ],
   "source": [
    "ordenaAnos60Mais_obito = juntaAnos60Mais_obito.copy()\n",
    "ordenaAnos60Mais_obito.loc[0] = juntaAnos60Mais_obito.loc[5]\n",
    "ordenaAnos60Mais_obito.loc[1] = juntaAnos60Mais_obito.loc[3]\n",
    "ordenaAnos60Mais_obito.loc[2] = juntaAnos60Mais_obito.loc[4]\n",
    "ordenaAnos60Mais_obito.loc[3] = juntaAnos60Mais_obito.loc[2]\n",
    "ordenaAnos60Mais_obito.loc[4] = juntaAnos60Mais_obito.loc[1]\n",
    "ordenaAnos60Mais_obito.loc[5] = juntaAnos60Mais_obito.loc[0]\n",
    "ordenaAnos60Mais_obito"
   ]
  },
  {
   "cell_type": "code",
   "execution_count": 12,
   "metadata": {},
   "outputs": [],
   "source": [
    "divisao = pd.DataFrame(columns={'Valores'})\n",
    "for i in np.arange(0,len(ordenaAnos60Mais_obito),1):\n",
    "    divisao.loc[i] = totalObitos_anos60Mais.loc[0]\n",
    "divisao = divisao.fillna(ordenaAnos60Mais_obito)"
   ]
  },
  {
   "cell_type": "code",
   "execution_count": 13,
   "metadata": {},
   "outputs": [
    {
     "data": {
      "text/plain": [
       "0    11.298909\n",
       "1    10.906308\n",
       "2    12.772824\n",
       "3    35.982832\n",
       "4    53.320468\n",
       "5    90.504392\n",
       "Name: Evolucao, dtype: object"
      ]
     },
     "execution_count": 13,
     "metadata": {},
     "output_type": "execute_result"
    }
   ],
   "source": [
    "calcula_anos60Mais_obito = ordenaAnos60Mais_obito['Evolucao']/divisao['Valores']*100\n",
    "calcula_anos60Mais_obito = calcula_anos60Mais_obito.to_frame()\n",
    "calcula_anos60Mais_obito = calcula_anos60Mais_obito.rename(columns={0:'Evolucao'})\n",
    "calcula_anos60Mais_obito = calcula_anos60Mais_obito['Evolucao']\n",
    "calcula_anos60Mais_obito"
   ]
  },
  {
   "cell_type": "code",
   "execution_count": 14,
   "metadata": {},
   "outputs": [
    {
     "data": {
      "text/html": [
       "<div>\n",
       "<style scoped>\n",
       "    .dataframe tbody tr th:only-of-type {\n",
       "        vertical-align: middle;\n",
       "    }\n",
       "\n",
       "    .dataframe tbody tr th {\n",
       "        vertical-align: top;\n",
       "    }\n",
       "\n",
       "    .dataframe thead th {\n",
       "        text-align: right;\n",
       "    }\n",
       "</style>\n",
       "<table border=\"1\" class=\"dataframe\">\n",
       "  <thead>\n",
       "    <tr style=\"text-align: right;\">\n",
       "      <th></th>\n",
       "      <th>Sem Epi Internacao</th>\n",
       "      <th>Tem Comorbidade</th>\n",
       "      <th>Doenca Cardiovascular</th>\n",
       "      <th>Diabetes mellitus</th>\n",
       "      <th>Obesidade</th>\n",
       "      <th>Doenca Neurologica</th>\n",
       "      <th>Outra Pneumatopatia</th>\n",
       "      <th>Faixa Etaria</th>\n",
       "      <th>Classificacao final</th>\n",
       "      <th>Houve internacao</th>\n",
       "      <th>Evolucao</th>\n",
       "    </tr>\n",
       "  </thead>\n",
       "  <tbody>\n",
       "    <tr>\n",
       "      <th>9</th>\n",
       "      <td>2021_01</td>\n",
       "      <td>Sim</td>\n",
       "      <td>Doença cardiovascular</td>\n",
       "      <td>NaN</td>\n",
       "      <td>NaN</td>\n",
       "      <td>NaN</td>\n",
       "      <td>NaN</td>\n",
       "      <td>60 anos ou mais</td>\n",
       "      <td>COVID-19</td>\n",
       "      <td>Sim</td>\n",
       "      <td>Cura</td>\n",
       "    </tr>\n",
       "    <tr>\n",
       "      <th>10</th>\n",
       "      <td>2021_10</td>\n",
       "      <td>Sim</td>\n",
       "      <td>Doença cardiovascular</td>\n",
       "      <td>NaN</td>\n",
       "      <td>NaN</td>\n",
       "      <td>NaN</td>\n",
       "      <td>NaN</td>\n",
       "      <td>60 anos ou mais</td>\n",
       "      <td>COVID-19</td>\n",
       "      <td>Sim</td>\n",
       "      <td>Óbito</td>\n",
       "    </tr>\n",
       "    <tr>\n",
       "      <th>17</th>\n",
       "      <td>2021_05</td>\n",
       "      <td>Sim</td>\n",
       "      <td>Doença cardiovascular</td>\n",
       "      <td>NaN</td>\n",
       "      <td>NaN</td>\n",
       "      <td>NaN</td>\n",
       "      <td>NaN</td>\n",
       "      <td>60 anos ou mais</td>\n",
       "      <td>COVID-19</td>\n",
       "      <td>Sim</td>\n",
       "      <td>Óbito</td>\n",
       "    </tr>\n",
       "    <tr>\n",
       "      <th>19</th>\n",
       "      <td>2021_08</td>\n",
       "      <td>Sim</td>\n",
       "      <td>NaN</td>\n",
       "      <td>NaN</td>\n",
       "      <td>NaN</td>\n",
       "      <td>Doença neurológica</td>\n",
       "      <td>NaN</td>\n",
       "      <td>60 anos ou mais</td>\n",
       "      <td>COVID-19</td>\n",
       "      <td>Sim</td>\n",
       "      <td>Óbito</td>\n",
       "    </tr>\n",
       "    <tr>\n",
       "      <th>22</th>\n",
       "      <td>2021_03</td>\n",
       "      <td>Sim</td>\n",
       "      <td>Doença cardiovascular</td>\n",
       "      <td>Diabetes mellitus</td>\n",
       "      <td>NaN</td>\n",
       "      <td>Doença neurológica</td>\n",
       "      <td>NaN</td>\n",
       "      <td>60 anos ou mais</td>\n",
       "      <td>COVID-19</td>\n",
       "      <td>Sim</td>\n",
       "      <td>Óbito</td>\n",
       "    </tr>\n",
       "    <tr>\n",
       "      <th>...</th>\n",
       "      <td>...</td>\n",
       "      <td>...</td>\n",
       "      <td>...</td>\n",
       "      <td>...</td>\n",
       "      <td>...</td>\n",
       "      <td>...</td>\n",
       "      <td>...</td>\n",
       "      <td>...</td>\n",
       "      <td>...</td>\n",
       "      <td>...</td>\n",
       "      <td>...</td>\n",
       "    </tr>\n",
       "    <tr>\n",
       "      <th>184415</th>\n",
       "      <td>2021_10</td>\n",
       "      <td>Sim</td>\n",
       "      <td>Doença cardiovascular</td>\n",
       "      <td>Diabetes mellitus</td>\n",
       "      <td>NaN</td>\n",
       "      <td>NaN</td>\n",
       "      <td>NaN</td>\n",
       "      <td>60 anos ou mais</td>\n",
       "      <td>COVID-19</td>\n",
       "      <td>Sim</td>\n",
       "      <td>Cura</td>\n",
       "    </tr>\n",
       "    <tr>\n",
       "      <th>184419</th>\n",
       "      <td>2020_52</td>\n",
       "      <td>Não</td>\n",
       "      <td>NaN</td>\n",
       "      <td>NaN</td>\n",
       "      <td>NaN</td>\n",
       "      <td>NaN</td>\n",
       "      <td>NaN</td>\n",
       "      <td>60 anos ou mais</td>\n",
       "      <td>COVID-19</td>\n",
       "      <td>Sim</td>\n",
       "      <td>Óbito</td>\n",
       "    </tr>\n",
       "    <tr>\n",
       "      <th>184424</th>\n",
       "      <td>2021_15</td>\n",
       "      <td>Sim</td>\n",
       "      <td>Doença cardiovascular</td>\n",
       "      <td>Diabetes mellitus</td>\n",
       "      <td>NaN</td>\n",
       "      <td>NaN</td>\n",
       "      <td>NaN</td>\n",
       "      <td>60 anos ou mais</td>\n",
       "      <td>COVID-19</td>\n",
       "      <td>Sim</td>\n",
       "      <td>Óbito</td>\n",
       "    </tr>\n",
       "    <tr>\n",
       "      <th>184425</th>\n",
       "      <td>2021_15</td>\n",
       "      <td>Sim</td>\n",
       "      <td>Doença cardiovascular</td>\n",
       "      <td>NaN</td>\n",
       "      <td>NaN</td>\n",
       "      <td>NaN</td>\n",
       "      <td>NaN</td>\n",
       "      <td>60 anos ou mais</td>\n",
       "      <td>COVID-19</td>\n",
       "      <td>Sim</td>\n",
       "      <td>Óbito</td>\n",
       "    </tr>\n",
       "    <tr>\n",
       "      <th>184431</th>\n",
       "      <td>2021_07</td>\n",
       "      <td>Sim</td>\n",
       "      <td>Doença cardiovascular</td>\n",
       "      <td>Diabetes mellitus</td>\n",
       "      <td>NaN</td>\n",
       "      <td>NaN</td>\n",
       "      <td>NaN</td>\n",
       "      <td>60 anos ou mais</td>\n",
       "      <td>COVID-19</td>\n",
       "      <td>Sim</td>\n",
       "      <td>Óbito</td>\n",
       "    </tr>\n",
       "  </tbody>\n",
       "</table>\n",
       "<p>66747 rows × 11 columns</p>\n",
       "</div>"
      ],
      "text/plain": [
       "       Sem Epi Internacao Tem Comorbidade  Doenca Cardiovascular  \\\n",
       "9                 2021_01             Sim  Doença cardiovascular   \n",
       "10                2021_10             Sim  Doença cardiovascular   \n",
       "17                2021_05             Sim  Doença cardiovascular   \n",
       "19                2021_08             Sim                    NaN   \n",
       "22                2021_03             Sim  Doença cardiovascular   \n",
       "...                   ...             ...                    ...   \n",
       "184415            2021_10             Sim  Doença cardiovascular   \n",
       "184419            2020_52             Não                    NaN   \n",
       "184424            2021_15             Sim  Doença cardiovascular   \n",
       "184425            2021_15             Sim  Doença cardiovascular   \n",
       "184431            2021_07             Sim  Doença cardiovascular   \n",
       "\n",
       "        Diabetes mellitus Obesidade  Doenca Neurologica Outra Pneumatopatia  \\\n",
       "9                     NaN       NaN                 NaN                 NaN   \n",
       "10                    NaN       NaN                 NaN                 NaN   \n",
       "17                    NaN       NaN                 NaN                 NaN   \n",
       "19                    NaN       NaN  Doença neurológica                 NaN   \n",
       "22      Diabetes mellitus       NaN  Doença neurológica                 NaN   \n",
       "...                   ...       ...                 ...                 ...   \n",
       "184415  Diabetes mellitus       NaN                 NaN                 NaN   \n",
       "184419                NaN       NaN                 NaN                 NaN   \n",
       "184424  Diabetes mellitus       NaN                 NaN                 NaN   \n",
       "184425                NaN       NaN                 NaN                 NaN   \n",
       "184431  Diabetes mellitus       NaN                 NaN                 NaN   \n",
       "\n",
       "           Faixa Etaria Classificacao final Houve internacao Evolucao  \n",
       "9       60 anos ou mais            COVID-19              Sim     Cura  \n",
       "10      60 anos ou mais            COVID-19              Sim    Óbito  \n",
       "17      60 anos ou mais            COVID-19              Sim    Óbito  \n",
       "19      60 anos ou mais            COVID-19              Sim    Óbito  \n",
       "22      60 anos ou mais            COVID-19              Sim    Óbito  \n",
       "...                 ...                 ...              ...      ...  \n",
       "184415  60 anos ou mais            COVID-19              Sim     Cura  \n",
       "184419  60 anos ou mais            COVID-19              Sim    Óbito  \n",
       "184424  60 anos ou mais            COVID-19              Sim    Óbito  \n",
       "184425  60 anos ou mais            COVID-19              Sim    Óbito  \n",
       "184431  60 anos ou mais            COVID-19              Sim    Óbito  \n",
       "\n",
       "[66747 rows x 11 columns]"
      ]
     },
     "execution_count": 14,
     "metadata": {},
     "output_type": "execute_result"
    }
   ],
   "source": [
    "anos60Mais_hospi = filtrado.loc[filtrado['Faixa Etaria']=='60 anos ou mais']\n",
    "anos60Mais_hospi = anos60Mais_hospi.loc[anos60Mais_hospi['Houve internacao']=='Sim']\n",
    "anos60Mais_hospi = anos60Mais_hospi.loc[anos60Mais_hospi['Classificacao final']=='COVID-19']\n",
    "anos60Mais_hospi"
   ]
  },
  {
   "cell_type": "code",
   "execution_count": 15,
   "metadata": {},
   "outputs": [],
   "source": [
    "#for i in range(len(filtrado)):\n",
    "  #  if(filtrado['has'].loc[i]==1.0):\n",
    " #       filtrado['Doenca Cardiovascular'].loc[i] = 1.0\n",
    " #   else:\n",
    " #       pass"
   ]
  },
  {
   "cell_type": "code",
   "execution_count": 16,
   "metadata": {},
   "outputs": [
    {
     "data": {
      "text/html": [
       "<div>\n",
       "<style scoped>\n",
       "    .dataframe tbody tr th:only-of-type {\n",
       "        vertical-align: middle;\n",
       "    }\n",
       "\n",
       "    .dataframe tbody tr th {\n",
       "        vertical-align: top;\n",
       "    }\n",
       "\n",
       "    .dataframe thead th {\n",
       "        text-align: right;\n",
       "    }\n",
       "</style>\n",
       "<table border=\"1\" class=\"dataframe\">\n",
       "  <thead>\n",
       "    <tr style=\"text-align: right;\">\n",
       "      <th></th>\n",
       "      <th>Houve internacao</th>\n",
       "      <th>Evolucao</th>\n",
       "    </tr>\n",
       "    <tr>\n",
       "      <th>Outra Pneumatopatia</th>\n",
       "      <th></th>\n",
       "      <th></th>\n",
       "    </tr>\n",
       "  </thead>\n",
       "  <tbody>\n",
       "    <tr>\n",
       "      <th>Outra pneumatopatia</th>\n",
       "      <td>6088</td>\n",
       "      <td>6088</td>\n",
       "    </tr>\n",
       "  </tbody>\n",
       "</table>\n",
       "</div>"
      ],
      "text/plain": [
       "                     Houve internacao  Evolucao\n",
       "Outra Pneumatopatia                            \n",
       "Outra pneumatopatia              6088      6088"
      ]
     },
     "execution_count": 16,
     "metadata": {},
     "output_type": "execute_result"
    }
   ],
   "source": [
    "temComorbidade_hospi = anos60Mais_hospi.loc[anos60Mais_hospi['Tem Comorbidade']=='Sim']\n",
    "temComorbidade_hospi = temComorbidade_hospi.groupby('Tem Comorbidade').count()\n",
    "temComorbidade_hospi = temComorbidade_hospi.drop(temComorbidade_hospi.columns[[0,1,2,3,4,5,6,7]],axis=1)\n",
    "doencaCardio_hospi = anos60Mais_hospi.groupby('Doenca Cardiovascular').count()\n",
    "doencaCardio_hospi = doencaCardio_hospi.drop(doencaCardio_hospi.columns[[0,1,2,3,4,5,6,7]],axis=1)\n",
    "diabetesmellitus_hospi = anos60Mais_hospi.groupby('Diabetes mellitus').count()\n",
    "diabetesmellitus_hospi = diabetesmellitus_hospi.drop(diabetesmellitus_hospi.columns[[0,1,2,3,4,5,6,7]],axis=1)\n",
    "obesidade_hospi = anos60Mais_hospi.groupby('Obesidade').count()\n",
    "obesidade_hospi = obesidade_hospi.drop(obesidade_hospi.columns[[0,1,2,3,4,5,6,7]],axis=1)\n",
    "doencaneuro_hospi = anos60Mais_hospi.groupby('Doenca Neurologica').count()\n",
    "doencaneuro_hospi = doencaneuro_hospi.drop(doencaneuro_hospi.columns[[0,1,2,3,4,5,6,7]],axis=1)\n",
    "outrapneu_hospi = anos60Mais_hospi.groupby('Outra Pneumatopatia').count()\n",
    "outrapneu_hospi = outrapneu_hospi.drop(outrapneu_hospi.columns[[0,1,2,3,4,5,6,7]],axis=1)\n",
    "outrapneu_hospi"
   ]
  },
  {
   "cell_type": "code",
   "execution_count": 17,
   "metadata": {},
   "outputs": [
    {
     "data": {
      "text/plain": [
       "0    66747\n",
       "Name: Evolucao, dtype: int64"
      ]
     },
     "execution_count": 17,
     "metadata": {},
     "output_type": "execute_result"
    }
   ],
   "source": [
    "totalHospi_anos60Mais = filtrado.loc[filtrado['Faixa Etaria']=='60 anos ou mais']\n",
    "totalHospi_anos60Mais = totalHospi_anos60Mais.loc[totalHospi_anos60Mais['Houve internacao']=='Sim']\n",
    "totalHospi_anos60Mais = totalHospi_anos60Mais.loc[totalHospi_anos60Mais['Classificacao final']=='COVID-19']\n",
    "totalHospi_anos60Mais = totalHospi_anos60Mais.groupby('Houve internacao').count()\n",
    "totalHospi_anos60Mais = totalHospi_anos60Mais.drop(totalHospi_anos60Mais.columns[[0,1,2,3,4,5,6,7]],axis=1)\n",
    "totalHospi_anos60Mais = totalHospi_anos60Mais.reset_index()\n",
    "totalHospi_anos60Mais = totalHospi_anos60Mais['Evolucao']\n",
    "totalHospi_anos60Mais"
   ]
  },
  {
   "cell_type": "code",
   "execution_count": 18,
   "metadata": {},
   "outputs": [
    {
     "data": {
      "text/html": [
       "<div>\n",
       "<style scoped>\n",
       "    .dataframe tbody tr th:only-of-type {\n",
       "        vertical-align: middle;\n",
       "    }\n",
       "\n",
       "    .dataframe tbody tr th {\n",
       "        vertical-align: top;\n",
       "    }\n",
       "\n",
       "    .dataframe thead th {\n",
       "        text-align: right;\n",
       "    }\n",
       "</style>\n",
       "<table border=\"1\" class=\"dataframe\">\n",
       "  <thead>\n",
       "    <tr style=\"text-align: right;\">\n",
       "      <th></th>\n",
       "      <th>index</th>\n",
       "      <th>Houve internacao</th>\n",
       "      <th>Evolucao</th>\n",
       "    </tr>\n",
       "  </thead>\n",
       "  <tbody>\n",
       "    <tr>\n",
       "      <th>0</th>\n",
       "      <td>Alguma comorbidade</td>\n",
       "      <td>56321</td>\n",
       "      <td>56321</td>\n",
       "    </tr>\n",
       "    <tr>\n",
       "      <th>1</th>\n",
       "      <td>Doença cardiovascular</td>\n",
       "      <td>33207</td>\n",
       "      <td>33207</td>\n",
       "    </tr>\n",
       "    <tr>\n",
       "      <th>2</th>\n",
       "      <td>Diabetes mellitus</td>\n",
       "      <td>21831</td>\n",
       "      <td>21831</td>\n",
       "    </tr>\n",
       "    <tr>\n",
       "      <th>3</th>\n",
       "      <td>Obesidade</td>\n",
       "      <td>6465</td>\n",
       "      <td>6465</td>\n",
       "    </tr>\n",
       "    <tr>\n",
       "      <th>4</th>\n",
       "      <td>Doença neurológica</td>\n",
       "      <td>6102</td>\n",
       "      <td>6102</td>\n",
       "    </tr>\n",
       "    <tr>\n",
       "      <th>5</th>\n",
       "      <td>Outra pneumatopatia</td>\n",
       "      <td>6088</td>\n",
       "      <td>6088</td>\n",
       "    </tr>\n",
       "  </tbody>\n",
       "</table>\n",
       "</div>"
      ],
      "text/plain": [
       "                   index  Houve internacao  Evolucao\n",
       "0     Alguma comorbidade             56321     56321\n",
       "1  Doença cardiovascular             33207     33207\n",
       "2      Diabetes mellitus             21831     21831\n",
       "3              Obesidade              6465      6465\n",
       "4     Doença neurológica              6102      6102\n",
       "5    Outra pneumatopatia              6088      6088"
      ]
     },
     "execution_count": 18,
     "metadata": {},
     "output_type": "execute_result"
    }
   ],
   "source": [
    "juntaAnos60Mais_hospi = temComorbidade_hospi.append(doencaCardio_hospi)\n",
    "juntaAnos60Mais_hospi = juntaAnos60Mais_hospi.append(diabetesmellitus_hospi)\n",
    "juntaAnos60Mais_hospi = juntaAnos60Mais_hospi.append(obesidade_hospi)\n",
    "juntaAnos60Mais_hospi = juntaAnos60Mais_hospi.append(doencaneuro_hospi)\n",
    "juntaAnos60Mais_hospi = juntaAnos60Mais_hospi.append(outrapneu_hospi)\n",
    "juntaAnos60Mais_hospi = juntaAnos60Mais_hospi.rename({'Sim':'Alguma comorbidade'})\n",
    "juntaAnos60Mais_hospi = juntaAnos60Mais_hospi.reset_index()\n",
    "juntaAnos60Mais_hospi"
   ]
  },
  {
   "cell_type": "code",
   "execution_count": 19,
   "metadata": {},
   "outputs": [
    {
     "data": {
      "text/html": [
       "<div>\n",
       "<style scoped>\n",
       "    .dataframe tbody tr th:only-of-type {\n",
       "        vertical-align: middle;\n",
       "    }\n",
       "\n",
       "    .dataframe tbody tr th {\n",
       "        vertical-align: top;\n",
       "    }\n",
       "\n",
       "    .dataframe thead th {\n",
       "        text-align: right;\n",
       "    }\n",
       "</style>\n",
       "<table border=\"1\" class=\"dataframe\">\n",
       "  <thead>\n",
       "    <tr style=\"text-align: right;\">\n",
       "      <th></th>\n",
       "      <th>index</th>\n",
       "      <th>Houve internacao</th>\n",
       "      <th>Evolucao</th>\n",
       "    </tr>\n",
       "  </thead>\n",
       "  <tbody>\n",
       "    <tr>\n",
       "      <th>0</th>\n",
       "      <td>Outra pneumatopatia</td>\n",
       "      <td>6088</td>\n",
       "      <td>6088</td>\n",
       "    </tr>\n",
       "    <tr>\n",
       "      <th>1</th>\n",
       "      <td>Obesidade</td>\n",
       "      <td>6465</td>\n",
       "      <td>6465</td>\n",
       "    </tr>\n",
       "    <tr>\n",
       "      <th>2</th>\n",
       "      <td>Doença neurológica</td>\n",
       "      <td>6102</td>\n",
       "      <td>6102</td>\n",
       "    </tr>\n",
       "    <tr>\n",
       "      <th>3</th>\n",
       "      <td>Diabetes mellitus</td>\n",
       "      <td>21831</td>\n",
       "      <td>21831</td>\n",
       "    </tr>\n",
       "    <tr>\n",
       "      <th>4</th>\n",
       "      <td>Doença cardiovascular</td>\n",
       "      <td>33207</td>\n",
       "      <td>33207</td>\n",
       "    </tr>\n",
       "    <tr>\n",
       "      <th>5</th>\n",
       "      <td>Alguma comorbidade</td>\n",
       "      <td>56321</td>\n",
       "      <td>56321</td>\n",
       "    </tr>\n",
       "  </tbody>\n",
       "</table>\n",
       "</div>"
      ],
      "text/plain": [
       "                   index  Houve internacao  Evolucao\n",
       "0    Outra pneumatopatia              6088      6088\n",
       "1              Obesidade              6465      6465\n",
       "2     Doença neurológica              6102      6102\n",
       "3      Diabetes mellitus             21831     21831\n",
       "4  Doença cardiovascular             33207     33207\n",
       "5     Alguma comorbidade             56321     56321"
      ]
     },
     "execution_count": 19,
     "metadata": {},
     "output_type": "execute_result"
    }
   ],
   "source": [
    "ordenaAnos60Mais_hospi = juntaAnos60Mais_hospi.copy()\n",
    "ordenaAnos60Mais_hospi.loc[0] = juntaAnos60Mais_hospi.loc[5]\n",
    "ordenaAnos60Mais_hospi.loc[1] = juntaAnos60Mais_hospi.loc[3]\n",
    "ordenaAnos60Mais_hospi.loc[2] = juntaAnos60Mais_hospi.loc[4]\n",
    "ordenaAnos60Mais_hospi.loc[3] = juntaAnos60Mais_hospi.loc[2]\n",
    "ordenaAnos60Mais_hospi.loc[4] = juntaAnos60Mais_hospi.loc[1]\n",
    "ordenaAnos60Mais_hospi.loc[5] = juntaAnos60Mais_hospi.loc[0]\n",
    "ordenaAnos60Mais_hospi"
   ]
  },
  {
   "cell_type": "code",
   "execution_count": 20,
   "metadata": {},
   "outputs": [],
   "source": [
    "divisao = pd.DataFrame(columns={'Valores'})\n",
    "for i in np.arange(0,len(ordenaAnos60Mais_hospi),1):\n",
    "    divisao.loc[i] = totalHospi_anos60Mais.loc[0]\n",
    "divisao = divisao.fillna(ordenaAnos60Mais_hospi)"
   ]
  },
  {
   "cell_type": "code",
   "execution_count": 21,
   "metadata": {},
   "outputs": [
    {
     "data": {
      "text/plain": [
       "0     9.121009\n",
       "1     9.685829\n",
       "2     9.141984\n",
       "3    32.707088\n",
       "4    49.750551\n",
       "5    84.379822\n",
       "Name: Evolucao, dtype: object"
      ]
     },
     "execution_count": 21,
     "metadata": {},
     "output_type": "execute_result"
    }
   ],
   "source": [
    "calcula_anos60Mais_hospi = ordenaAnos60Mais_hospi['Evolucao']/divisao['Valores']*100\n",
    "calcula_anos60Mais_hospi = calcula_anos60Mais_hospi.to_frame()\n",
    "calcula_anos60Mais_hospi = calcula_anos60Mais_hospi.rename(columns={0:'Evolucao'})\n",
    "calcula_anos60Mais_hospi = calcula_anos60Mais_hospi['Evolucao']\n",
    "calcula_anos60Mais_hospi"
   ]
  },
  {
   "cell_type": "code",
   "execution_count": 22,
   "metadata": {},
   "outputs": [],
   "source": [
    "comorbidade = ordenaAnos60Mais_obito['index']"
   ]
  },
  {
   "cell_type": "code",
   "execution_count": 23,
   "metadata": {},
   "outputs": [],
   "source": [
    "legenda = pd.DataFrame(columns=['Óbito','Hospitalização'])"
   ]
  },
  {
   "cell_type": "code",
   "execution_count": 24,
   "metadata": {},
   "outputs": [
    {
     "data": {
      "text/plain": [
       "'Gráficos 21_11_2022'"
      ]
     },
     "execution_count": 24,
     "metadata": {},
     "output_type": "execute_result"
    }
   ],
   "source": [
    "pasta = r'Z:\\Graficos Boletim_Python'\n",
    "lista_arquivos = os.listdir(pasta)\n",
    "lista_datas = []\n",
    "\n",
    "for arquivo in lista_arquivos:\n",
    "    #Descobrir a data desse arquivo\n",
    "    data = os.path.getmtime(f'{pasta}/{arquivo}')\n",
    "    lista_datas.append((data,arquivo))\n",
    "\n",
    "lista_datas.sort(reverse=True) #Vai ordenar a lista em ordem decrescente com reverse=True Obs: Ele ordena sempre com o primeiro valor, por isso colocamos data antes de arquivo\n",
    "ultima_pasta = lista_datas[0][1] #Pega o ultimo arquivo\n",
    "ultima_pasta"
   ]
  },
  {
   "cell_type": "code",
   "execution_count": 25,
   "metadata": {},
   "outputs": [
    {
     "data": {
      "image/png": "[encoded data removed]",
      "text/plain": [
       "<Figure size 2160x720 with 1 Axes>"
      ]
     },
     "metadata": {
      "needs_background": "light"
     },
     "output_type": "display_data"
    }
   ],
   "source": [
    "plt.figure(figsize=(30,10))\n",
    "width=0.4\n",
    "plt.barh(comorbidade,calcula_anos60Mais_obito,width,color='#8a3e4b')\n",
    "plt.barh(np.arange(0,np.size(comorbidade),1)-0.43,calcula_anos60Mais_hospi,width,color='#b58d94')\n",
    "sns.despine()\n",
    "plt.xticks(np.arange(0,110,10),fontsize=25)\n",
    "plt.yticks(fontsize=25)\n",
    "plt.gca().set_xticklabels(['{:.0f}%'.format(x*1) for x in plt.gca().get_xticks()])\n",
    "plt.savefig(f'Z:/Graficos Boletim_Python/{ultima_pasta}/comorb_Covid_60mais.png',dpi=720,bbox_inches='tight')"
   ]
  },
  {
   "cell_type": "code",
   "execution_count": null,
   "metadata": {},
   "outputs": [],
   "source": []
  }
 ],
 "metadata": {
  "interpreter": {
   "hash": "0d5985281df7ec7707d3c539ceae1110016cf5fbbd1d8b7072063928c313952a"
  },
  "kernelspec": {
   "display_name": "Python 3.9.7 ('base')",
   "language": "python",
   "name": "python3"
  },
  "language_info": {
   "codemirror_mode": {
    "name": "ipython",
    "version": 3
   },
   "file_extension": ".py",
   "mimetype": "text/x-python",
   "name": "python",
   "nbconvert_exporter": "python",
   "pygments_lexer": "ipython3",
   "version": "3.9.7"
  },
  "orig_nbformat": 4
 },
 "nbformat": 4,
 "nbformat_minor": 2
}
