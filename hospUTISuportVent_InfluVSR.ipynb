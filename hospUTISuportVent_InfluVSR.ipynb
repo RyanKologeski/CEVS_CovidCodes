{
 "cells": [
  {
   "cell_type": "code",
   "execution_count": 1,
   "metadata": {},
   "outputs": [],
   "source": [
    "import pandas as pd\n",
    "from pandas import DataFrame\n",
    "import matplotlib.pyplot as plt\n",
    "import numpy as np\n",
    "import os\n",
    "from datetime import date\n",
    "import datetime\n",
    "from pathlib import Path\n",
    "import seaborn as sns"
   ]
  },
  {
   "cell_type": "code",
   "execution_count": 2,
   "metadata": {},
   "outputs": [
    {
     "data": {
      "text/plain": [
       "'Banco SIVEP 21_11_2022 07_32_59.xlsx'"
      ]
     },
     "execution_count": 2,
     "metadata": {},
     "output_type": "execute_result"
    }
   ],
   "source": [
    "caminho = r'Z:\\Banco SIVEP Exportação'\n",
    "lista_arquivos = os.listdir(caminho)\n",
    "lista_datas = []\n",
    "\n",
    "for arquivo in lista_arquivos:\n",
    "    #Descobrir a data desse arquivo\n",
    "    data = os.path.getmtime(f'{caminho}/{arquivo}')\n",
    "    lista_datas.append((data,arquivo))\n",
    "\n",
    "lista_datas.sort(reverse=True) #Vai ordenar a lista em ordem decrescente com reverse=True Obs: Ele ordena sempre com o primeiro valor, por isso colocamos data antes de arquivo\n",
    "ultimo_arquivo = lista_datas[0][1] #Pega o ultimo arquivo\n",
    "ultimo_arquivo"
   ]
  },
  {
   "cell_type": "code",
   "execution_count": 3,
   "metadata": {},
   "outputs": [],
   "source": [
    "if not os.path.exists(f'Z:\\Graficos Boletim_Python/Gráficos {date.today().day}_{date.today().month}_{date.today().year}'):\n",
    "    os.makedirs(f'Z:\\Graficos Boletim_Python/Gráficos {date.today().day}_{date.today().month}_{date.today().year}')"
   ]
  },
  {
   "cell_type": "code",
   "execution_count": 4,
   "metadata": {},
   "outputs": [],
   "source": [
    "dados = pd.read_excel(f'{caminho}/{ultimo_arquivo}')\n",
    "#dados = pd.read_excel('Z:/Banco SIVEP Exportação/Banco SIVEP 30_05_2022 09_48_25.xlsx')"
   ]
  },
  {
   "cell_type": "code",
   "execution_count": 5,
   "metadata": {},
   "outputs": [],
   "source": [
    "dados['pos_pcrflu'] = dados['pos_pcrflu'].map({1:'Sim',2:'Nao',9:'Ignorado'})"
   ]
  },
  {
   "cell_type": "code",
   "execution_count": 6,
   "metadata": {},
   "outputs": [],
   "source": [
    "dados['tp_flu_pcr'] = dados['tp_flu_pcr'].map({1:'Influenza',2:'Influenza'})"
   ]
  },
  {
   "cell_type": "code",
   "execution_count": 7,
   "metadata": {},
   "outputs": [],
   "source": [
    "dados['pcr_fluasu'] = dados['pcr_fluasu'].map({1:'Influenza A(H1N1)pdm09',2:'Influenza A(H3N2)',3:'Influenza A nao subtipado',\n",
    "4:'Influenza A nao subtipavel',5:'Inconclusivo',6:'Outro'})"
   ]
  },
  {
   "cell_type": "code",
   "execution_count": 8,
   "metadata": {},
   "outputs": [],
   "source": [
    "filtro = dados[['Sem Epi Internacao','Classificacao final','Internado UTI','Suporte ventilatorio','Houve internacao','pos_pcrflu','tp_flu_pcr','pcr_fluasu',\"pcr_vsr\"]]"
   ]
  },
  {
   "cell_type": "code",
   "execution_count": 9,
   "metadata": {},
   "outputs": [
    {
     "data": {
      "text/html": [
       "<div>\n",
       "<style scoped>\n",
       "    .dataframe tbody tr th:only-of-type {\n",
       "        vertical-align: middle;\n",
       "    }\n",
       "\n",
       "    .dataframe tbody tr th {\n",
       "        vertical-align: top;\n",
       "    }\n",
       "\n",
       "    .dataframe thead th {\n",
       "        text-align: right;\n",
       "    }\n",
       "</style>\n",
       "<table border=\"1\" class=\"dataframe\">\n",
       "  <thead>\n",
       "    <tr style=\"text-align: right;\">\n",
       "      <th></th>\n",
       "    </tr>\n",
       "    <tr>\n",
       "      <th>Sem Epi Internacao</th>\n",
       "    </tr>\n",
       "  </thead>\n",
       "  <tbody>\n",
       "    <tr>\n",
       "      <th>2020_01</th>\n",
       "    </tr>\n",
       "    <tr>\n",
       "      <th>2020_02</th>\n",
       "    </tr>\n",
       "    <tr>\n",
       "      <th>2020_03</th>\n",
       "    </tr>\n",
       "    <tr>\n",
       "      <th>2020_04</th>\n",
       "    </tr>\n",
       "    <tr>\n",
       "      <th>2020_05</th>\n",
       "    </tr>\n",
       "  </tbody>\n",
       "</table>\n",
       "</div>"
      ],
      "text/plain": [
       "Empty DataFrame\n",
       "Columns: []\n",
       "Index: [2020_01, 2020_02, 2020_03, 2020_04, 2020_05]"
      ]
     },
     "execution_count": 9,
     "metadata": {},
     "output_type": "execute_result"
    }
   ],
   "source": [
    "base = filtro.groupby('Sem Epi Internacao').count()\n",
    "base = base.drop(columns=['Classificacao final','Internado UTI','Suporte ventilatorio','Houve internacao','pos_pcrflu','tp_flu_pcr','pcr_fluasu',\"pcr_vsr\"])\n",
    "base.head()"
   ]
  },
  {
   "cell_type": "code",
   "execution_count": 10,
   "metadata": {},
   "outputs": [
    {
     "data": {
      "text/html": [
       "<div>\n",
       "<style scoped>\n",
       "    .dataframe tbody tr th:only-of-type {\n",
       "        vertical-align: middle;\n",
       "    }\n",
       "\n",
       "    .dataframe tbody tr th {\n",
       "        vertical-align: top;\n",
       "    }\n",
       "\n",
       "    .dataframe thead th {\n",
       "        text-align: right;\n",
       "    }\n",
       "</style>\n",
       "<table border=\"1\" class=\"dataframe\">\n",
       "  <thead>\n",
       "    <tr style=\"text-align: right;\">\n",
       "      <th></th>\n",
       "      <th>pos_pcrflu</th>\n",
       "    </tr>\n",
       "    <tr>\n",
       "      <th>Sem Epi Internacao</th>\n",
       "      <th></th>\n",
       "    </tr>\n",
       "  </thead>\n",
       "  <tbody>\n",
       "    <tr>\n",
       "      <th>2022_30</th>\n",
       "      <td>1</td>\n",
       "    </tr>\n",
       "    <tr>\n",
       "      <th>2022_32</th>\n",
       "      <td>1</td>\n",
       "    </tr>\n",
       "    <tr>\n",
       "      <th>2022_42</th>\n",
       "      <td>1</td>\n",
       "    </tr>\n",
       "    <tr>\n",
       "      <th>2022_44</th>\n",
       "      <td>1</td>\n",
       "    </tr>\n",
       "    <tr>\n",
       "      <th>2022_45</th>\n",
       "      <td>1</td>\n",
       "    </tr>\n",
       "  </tbody>\n",
       "</table>\n",
       "</div>"
      ],
      "text/plain": [
       "                    pos_pcrflu\n",
       "Sem Epi Internacao            \n",
       "2022_30                      1\n",
       "2022_32                      1\n",
       "2022_42                      1\n",
       "2022_44                      1\n",
       "2022_45                      1"
      ]
     },
     "execution_count": 10,
     "metadata": {},
     "output_type": "execute_result"
    }
   ],
   "source": [
    "internadoInflu = filtro.loc[filtro['Internado UTI']=='Sim']\n",
    "internadoInflu = internadoInflu.loc[internadoInflu['pos_pcrflu']=='Sim']\n",
    "internadoInflu = internadoInflu.groupby('Sem Epi Internacao').count()\n",
    "internadoInflu = internadoInflu.drop(columns=['Classificacao final','Internado UTI','Suporte ventilatorio','Houve internacao','tp_flu_pcr','pcr_fluasu',\"pcr_vsr\"])\n",
    "internadoInflu.tail()"
   ]
  },
  {
   "cell_type": "code",
   "execution_count": 11,
   "metadata": {},
   "outputs": [
    {
     "data": {
      "text/html": [
       "<div>\n",
       "<style scoped>\n",
       "    .dataframe tbody tr th:only-of-type {\n",
       "        vertical-align: middle;\n",
       "    }\n",
       "\n",
       "    .dataframe tbody tr th {\n",
       "        vertical-align: top;\n",
       "    }\n",
       "\n",
       "    .dataframe thead th {\n",
       "        text-align: right;\n",
       "    }\n",
       "</style>\n",
       "<table border=\"1\" class=\"dataframe\">\n",
       "  <thead>\n",
       "    <tr style=\"text-align: right;\">\n",
       "      <th></th>\n",
       "      <th>pcr_vsr</th>\n",
       "    </tr>\n",
       "    <tr>\n",
       "      <th>Sem Epi Internacao</th>\n",
       "      <th></th>\n",
       "    </tr>\n",
       "  </thead>\n",
       "  <tbody>\n",
       "    <tr>\n",
       "      <th>2020_20</th>\n",
       "      <td>1</td>\n",
       "    </tr>\n",
       "    <tr>\n",
       "      <th>2021_01</th>\n",
       "      <td>1</td>\n",
       "    </tr>\n",
       "    <tr>\n",
       "      <th>2021_05</th>\n",
       "      <td>1</td>\n",
       "    </tr>\n",
       "    <tr>\n",
       "      <th>2021_10</th>\n",
       "      <td>3</td>\n",
       "    </tr>\n",
       "    <tr>\n",
       "      <th>2021_11</th>\n",
       "      <td>2</td>\n",
       "    </tr>\n",
       "  </tbody>\n",
       "</table>\n",
       "</div>"
      ],
      "text/plain": [
       "                    pcr_vsr\n",
       "Sem Epi Internacao         \n",
       "2020_20                   1\n",
       "2021_01                   1\n",
       "2021_05                   1\n",
       "2021_10                   3\n",
       "2021_11                   2"
      ]
     },
     "execution_count": 11,
     "metadata": {},
     "output_type": "execute_result"
    }
   ],
   "source": [
    "internadoVSR = filtro.loc[filtro['Internado UTI']=='Sim']\n",
    "internadoVSR = internadoVSR.loc[internadoVSR['pcr_vsr']==1]\n",
    "internadoVSR = internadoVSR.groupby('Sem Epi Internacao').count()\n",
    "internadoVSR = internadoVSR.drop(columns=['Classificacao final','Internado UTI','Suporte ventilatorio','Houve internacao','tp_flu_pcr','pcr_fluasu',\"pos_pcrflu\"])\n",
    "internadoVSR.head()"
   ]
  },
  {
   "cell_type": "code",
   "execution_count": 12,
   "metadata": {},
   "outputs": [
    {
     "data": {
      "text/html": [
       "<div>\n",
       "<style scoped>\n",
       "    .dataframe tbody tr th:only-of-type {\n",
       "        vertical-align: middle;\n",
       "    }\n",
       "\n",
       "    .dataframe tbody tr th {\n",
       "        vertical-align: top;\n",
       "    }\n",
       "\n",
       "    .dataframe thead th {\n",
       "        text-align: right;\n",
       "    }\n",
       "</style>\n",
       "<table border=\"1\" class=\"dataframe\">\n",
       "  <thead>\n",
       "    <tr style=\"text-align: right;\">\n",
       "      <th></th>\n",
       "      <th>pos_pcrflu</th>\n",
       "      <th>pcr_vsr</th>\n",
       "      <th>Calculo</th>\n",
       "    </tr>\n",
       "    <tr>\n",
       "      <th>Sem Epi Internacao</th>\n",
       "      <th></th>\n",
       "      <th></th>\n",
       "      <th></th>\n",
       "    </tr>\n",
       "  </thead>\n",
       "  <tbody>\n",
       "    <tr>\n",
       "      <th>2022_42</th>\n",
       "      <td>1.0</td>\n",
       "      <td>3.0</td>\n",
       "      <td>4.0</td>\n",
       "    </tr>\n",
       "    <tr>\n",
       "      <th>2022_43</th>\n",
       "      <td>0.0</td>\n",
       "      <td>3.0</td>\n",
       "      <td>3.0</td>\n",
       "    </tr>\n",
       "    <tr>\n",
       "      <th>2022_44</th>\n",
       "      <td>1.0</td>\n",
       "      <td>3.0</td>\n",
       "      <td>4.0</td>\n",
       "    </tr>\n",
       "    <tr>\n",
       "      <th>2022_45</th>\n",
       "      <td>1.0</td>\n",
       "      <td>5.0</td>\n",
       "      <td>6.0</td>\n",
       "    </tr>\n",
       "    <tr>\n",
       "      <th>2022_46</th>\n",
       "      <td>0.0</td>\n",
       "      <td>0.0</td>\n",
       "      <td>0.0</td>\n",
       "    </tr>\n",
       "  </tbody>\n",
       "</table>\n",
       "</div>"
      ],
      "text/plain": [
       "                    pos_pcrflu  pcr_vsr  Calculo\n",
       "Sem Epi Internacao                              \n",
       "2022_42                    1.0      3.0      4.0\n",
       "2022_43                    0.0      3.0      3.0\n",
       "2022_44                    1.0      3.0      4.0\n",
       "2022_45                    1.0      5.0      6.0\n",
       "2022_46                    0.0      0.0      0.0"
      ]
     },
     "execution_count": 12,
     "metadata": {},
     "output_type": "execute_result"
    }
   ],
   "source": [
    "internadoInfluVSR = pd.concat([internadoInflu,internadoVSR])\n",
    "internadoInfluVSR = internadoInfluVSR.fillna(0)\n",
    "internadoInfluVSR = internadoInfluVSR.reset_index()\n",
    "internadoInfluVSR = internadoInfluVSR.sort_values(by='Sem Epi Internacao')\n",
    "internadoInfluVSR = internadoInfluVSR.groupby('Sem Epi Internacao').sum()\n",
    "internadoInfluVSR['Calculo'] = internadoInfluVSR['pos_pcrflu'] + internadoInfluVSR['pcr_vsr']\n",
    "internadoInfluVSR = internadoInfluVSR.merge(base,how='outer',right_index=True,left_index=True)\n",
    "internadoInfluVSR = internadoInfluVSR.drop('2022_39')\n",
    "internadoInfluVSR = internadoInfluVSR.fillna(0)\n",
    "internadoInfluVSR.tail()"
   ]
  },
  {
   "cell_type": "code",
   "execution_count": 13,
   "metadata": {},
   "outputs": [],
   "source": [
    "internadoInfluVSR = internadoInfluVSR['Calculo']"
   ]
  },
  {
   "cell_type": "code",
   "execution_count": 14,
   "metadata": {},
   "outputs": [
    {
     "data": {
      "text/html": [
       "<div>\n",
       "<style scoped>\n",
       "    .dataframe tbody tr th:only-of-type {\n",
       "        vertical-align: middle;\n",
       "    }\n",
       "\n",
       "    .dataframe tbody tr th {\n",
       "        vertical-align: top;\n",
       "    }\n",
       "\n",
       "    .dataframe thead th {\n",
       "        text-align: right;\n",
       "    }\n",
       "</style>\n",
       "<table border=\"1\" class=\"dataframe\">\n",
       "  <thead>\n",
       "    <tr style=\"text-align: right;\">\n",
       "      <th></th>\n",
       "      <th>pos_pcrflu</th>\n",
       "    </tr>\n",
       "    <tr>\n",
       "      <th>Sem Epi Internacao</th>\n",
       "      <th></th>\n",
       "    </tr>\n",
       "  </thead>\n",
       "  <tbody>\n",
       "    <tr>\n",
       "      <th>2022_26</th>\n",
       "      <td>6</td>\n",
       "    </tr>\n",
       "    <tr>\n",
       "      <th>2022_27</th>\n",
       "      <td>1</td>\n",
       "    </tr>\n",
       "    <tr>\n",
       "      <th>2022_28</th>\n",
       "      <td>6</td>\n",
       "    </tr>\n",
       "    <tr>\n",
       "      <th>2022_40</th>\n",
       "      <td>1</td>\n",
       "    </tr>\n",
       "    <tr>\n",
       "      <th>2022_45</th>\n",
       "      <td>1</td>\n",
       "    </tr>\n",
       "  </tbody>\n",
       "</table>\n",
       "</div>"
      ],
      "text/plain": [
       "                    pos_pcrflu\n",
       "Sem Epi Internacao            \n",
       "2022_26                      6\n",
       "2022_27                      1\n",
       "2022_28                      6\n",
       "2022_40                      1\n",
       "2022_45                      1"
      ]
     },
     "execution_count": 14,
     "metadata": {},
     "output_type": "execute_result"
    }
   ],
   "source": [
    "suportVentInflu = filtro.loc[filtro['Suporte ventilatorio']=='Sim, invasivo']\n",
    "suportVentInflu = suportVentInflu.loc[suportVentInflu['pos_pcrflu']=='Sim']\n",
    "suportVentInflu = suportVentInflu.groupby('Sem Epi Internacao').count()\n",
    "suportVentInflu = suportVentInflu.drop(columns=['Classificacao final','Internado UTI','Suporte ventilatorio','Houve internacao','tp_flu_pcr','pcr_fluasu',\"pcr_vsr\"])\n",
    "suportVentInflu.tail()"
   ]
  },
  {
   "cell_type": "code",
   "execution_count": 15,
   "metadata": {},
   "outputs": [
    {
     "data": {
      "text/html": [
       "<div>\n",
       "<style scoped>\n",
       "    .dataframe tbody tr th:only-of-type {\n",
       "        vertical-align: middle;\n",
       "    }\n",
       "\n",
       "    .dataframe tbody tr th {\n",
       "        vertical-align: top;\n",
       "    }\n",
       "\n",
       "    .dataframe thead th {\n",
       "        text-align: right;\n",
       "    }\n",
       "</style>\n",
       "<table border=\"1\" class=\"dataframe\">\n",
       "  <thead>\n",
       "    <tr style=\"text-align: right;\">\n",
       "      <th></th>\n",
       "      <th>pcr_vsr</th>\n",
       "    </tr>\n",
       "    <tr>\n",
       "      <th>Sem Epi Internacao</th>\n",
       "      <th></th>\n",
       "    </tr>\n",
       "  </thead>\n",
       "  <tbody>\n",
       "    <tr>\n",
       "      <th>2022_34</th>\n",
       "      <td>2</td>\n",
       "    </tr>\n",
       "    <tr>\n",
       "      <th>2022_35</th>\n",
       "      <td>1</td>\n",
       "    </tr>\n",
       "    <tr>\n",
       "      <th>2022_37</th>\n",
       "      <td>3</td>\n",
       "    </tr>\n",
       "    <tr>\n",
       "      <th>2022_38</th>\n",
       "      <td>2</td>\n",
       "    </tr>\n",
       "    <tr>\n",
       "      <th>2022_39</th>\n",
       "      <td>1</td>\n",
       "    </tr>\n",
       "    <tr>\n",
       "      <th>2022_40</th>\n",
       "      <td>1</td>\n",
       "    </tr>\n",
       "    <tr>\n",
       "      <th>2022_41</th>\n",
       "      <td>1</td>\n",
       "    </tr>\n",
       "    <tr>\n",
       "      <th>2022_43</th>\n",
       "      <td>2</td>\n",
       "    </tr>\n",
       "    <tr>\n",
       "      <th>2022_44</th>\n",
       "      <td>3</td>\n",
       "    </tr>\n",
       "    <tr>\n",
       "      <th>2022_45</th>\n",
       "      <td>3</td>\n",
       "    </tr>\n",
       "  </tbody>\n",
       "</table>\n",
       "</div>"
      ],
      "text/plain": [
       "                    pcr_vsr\n",
       "Sem Epi Internacao         \n",
       "2022_34                   2\n",
       "2022_35                   1\n",
       "2022_37                   3\n",
       "2022_38                   2\n",
       "2022_39                   1\n",
       "2022_40                   1\n",
       "2022_41                   1\n",
       "2022_43                   2\n",
       "2022_44                   3\n",
       "2022_45                   3"
      ]
     },
     "execution_count": 15,
     "metadata": {},
     "output_type": "execute_result"
    }
   ],
   "source": [
    "suportVentVSR = filtro.loc[filtro['Suporte ventilatorio']=='Sim, invasivo']\n",
    "suportVentVSR = suportVentVSR.loc[suportVentVSR['pcr_vsr']==1]\n",
    "suportVentVSR = suportVentVSR.groupby('Sem Epi Internacao').count()\n",
    "suportVentVSR = suportVentVSR.drop(columns=['Classificacao final','Internado UTI','Suporte ventilatorio','Houve internacao','tp_flu_pcr','pcr_fluasu',\"pos_pcrflu\"])\n",
    "suportVentVSR.tail(10)"
   ]
  },
  {
   "cell_type": "code",
   "execution_count": 16,
   "metadata": {},
   "outputs": [
    {
     "data": {
      "text/html": [
       "<div>\n",
       "<style scoped>\n",
       "    .dataframe tbody tr th:only-of-type {\n",
       "        vertical-align: middle;\n",
       "    }\n",
       "\n",
       "    .dataframe tbody tr th {\n",
       "        vertical-align: top;\n",
       "    }\n",
       "\n",
       "    .dataframe thead th {\n",
       "        text-align: right;\n",
       "    }\n",
       "</style>\n",
       "<table border=\"1\" class=\"dataframe\">\n",
       "  <thead>\n",
       "    <tr style=\"text-align: right;\">\n",
       "      <th></th>\n",
       "      <th>pos_pcrflu</th>\n",
       "      <th>pcr_vsr</th>\n",
       "      <th>Calculo</th>\n",
       "    </tr>\n",
       "    <tr>\n",
       "      <th>Sem Epi Internacao</th>\n",
       "      <th></th>\n",
       "      <th></th>\n",
       "      <th></th>\n",
       "    </tr>\n",
       "  </thead>\n",
       "  <tbody>\n",
       "    <tr>\n",
       "      <th>2022_33</th>\n",
       "      <td>0.0</td>\n",
       "      <td>4.0</td>\n",
       "      <td>4.0</td>\n",
       "    </tr>\n",
       "    <tr>\n",
       "      <th>2022_34</th>\n",
       "      <td>0.0</td>\n",
       "      <td>2.0</td>\n",
       "      <td>2.0</td>\n",
       "    </tr>\n",
       "    <tr>\n",
       "      <th>2022_35</th>\n",
       "      <td>0.0</td>\n",
       "      <td>1.0</td>\n",
       "      <td>1.0</td>\n",
       "    </tr>\n",
       "    <tr>\n",
       "      <th>2022_36</th>\n",
       "      <td>0.0</td>\n",
       "      <td>0.0</td>\n",
       "      <td>0.0</td>\n",
       "    </tr>\n",
       "    <tr>\n",
       "      <th>2022_37</th>\n",
       "      <td>0.0</td>\n",
       "      <td>3.0</td>\n",
       "      <td>3.0</td>\n",
       "    </tr>\n",
       "    <tr>\n",
       "      <th>2022_38</th>\n",
       "      <td>0.0</td>\n",
       "      <td>2.0</td>\n",
       "      <td>2.0</td>\n",
       "    </tr>\n",
       "    <tr>\n",
       "      <th>2022_40</th>\n",
       "      <td>1.0</td>\n",
       "      <td>1.0</td>\n",
       "      <td>2.0</td>\n",
       "    </tr>\n",
       "    <tr>\n",
       "      <th>2022_41</th>\n",
       "      <td>0.0</td>\n",
       "      <td>1.0</td>\n",
       "      <td>1.0</td>\n",
       "    </tr>\n",
       "    <tr>\n",
       "      <th>2022_42</th>\n",
       "      <td>0.0</td>\n",
       "      <td>0.0</td>\n",
       "      <td>0.0</td>\n",
       "    </tr>\n",
       "    <tr>\n",
       "      <th>2022_43</th>\n",
       "      <td>0.0</td>\n",
       "      <td>2.0</td>\n",
       "      <td>2.0</td>\n",
       "    </tr>\n",
       "    <tr>\n",
       "      <th>2022_44</th>\n",
       "      <td>0.0</td>\n",
       "      <td>3.0</td>\n",
       "      <td>3.0</td>\n",
       "    </tr>\n",
       "    <tr>\n",
       "      <th>2022_45</th>\n",
       "      <td>1.0</td>\n",
       "      <td>3.0</td>\n",
       "      <td>4.0</td>\n",
       "    </tr>\n",
       "    <tr>\n",
       "      <th>2022_46</th>\n",
       "      <td>0.0</td>\n",
       "      <td>0.0</td>\n",
       "      <td>0.0</td>\n",
       "    </tr>\n",
       "  </tbody>\n",
       "</table>\n",
       "</div>"
      ],
      "text/plain": [
       "                    pos_pcrflu  pcr_vsr  Calculo\n",
       "Sem Epi Internacao                              \n",
       "2022_33                    0.0      4.0      4.0\n",
       "2022_34                    0.0      2.0      2.0\n",
       "2022_35                    0.0      1.0      1.0\n",
       "2022_36                    0.0      0.0      0.0\n",
       "2022_37                    0.0      3.0      3.0\n",
       "2022_38                    0.0      2.0      2.0\n",
       "2022_40                    1.0      1.0      2.0\n",
       "2022_41                    0.0      1.0      1.0\n",
       "2022_42                    0.0      0.0      0.0\n",
       "2022_43                    0.0      2.0      2.0\n",
       "2022_44                    0.0      3.0      3.0\n",
       "2022_45                    1.0      3.0      4.0\n",
       "2022_46                    0.0      0.0      0.0"
      ]
     },
     "execution_count": 16,
     "metadata": {},
     "output_type": "execute_result"
    }
   ],
   "source": [
    "suportVentInfluVSR = pd.concat([suportVentInflu,suportVentVSR])\n",
    "suportVentInfluVSR = suportVentInfluVSR.fillna(0)\n",
    "suportVentInfluVSR = suportVentInfluVSR.reset_index()\n",
    "suportVentInfluVSR = suportVentInfluVSR.sort_values(by='Sem Epi Internacao')\n",
    "suportVentInfluVSR = suportVentInfluVSR.groupby('Sem Epi Internacao').sum()\n",
    "suportVentInfluVSR['Calculo'] = suportVentInfluVSR['pos_pcrflu'] + suportVentInfluVSR['pcr_vsr']\n",
    "suportVentInfluVSR = suportVentInfluVSR.merge(base,how='outer',right_index=True,left_index=True)\n",
    "suportVentInfluVSR = suportVentInfluVSR.drop('2022_39')\n",
    "suportVentInfluVSR = suportVentInfluVSR.fillna(0)\n",
    "suportVentInfluVSR.tail(13)"
   ]
  },
  {
   "cell_type": "code",
   "execution_count": 17,
   "metadata": {},
   "outputs": [
    {
     "data": {
      "text/plain": [
       "Sem Epi Internacao\n",
       "2020_01    0.0\n",
       "2020_02    0.0\n",
       "2020_03    0.0\n",
       "2020_04    1.0\n",
       "2020_05    0.0\n",
       "Name: Calculo, dtype: float64"
      ]
     },
     "execution_count": 17,
     "metadata": {},
     "output_type": "execute_result"
    }
   ],
   "source": [
    "suportVentInfluVSR = suportVentInfluVSR['Calculo']\n",
    "suportVentInfluVSR.head()"
   ]
  },
  {
   "cell_type": "code",
   "execution_count": 18,
   "metadata": {},
   "outputs": [
    {
     "data": {
      "text/html": [
       "<div>\n",
       "<style scoped>\n",
       "    .dataframe tbody tr th:only-of-type {\n",
       "        vertical-align: middle;\n",
       "    }\n",
       "\n",
       "    .dataframe tbody tr th {\n",
       "        vertical-align: top;\n",
       "    }\n",
       "\n",
       "    .dataframe thead th {\n",
       "        text-align: right;\n",
       "    }\n",
       "</style>\n",
       "<table border=\"1\" class=\"dataframe\">\n",
       "  <thead>\n",
       "    <tr style=\"text-align: right;\">\n",
       "      <th></th>\n",
       "      <th>pos_pcrflu</th>\n",
       "    </tr>\n",
       "    <tr>\n",
       "      <th>Sem Epi Internacao</th>\n",
       "      <th></th>\n",
       "    </tr>\n",
       "  </thead>\n",
       "  <tbody>\n",
       "    <tr>\n",
       "      <th>2022_28</th>\n",
       "      <td>11</td>\n",
       "    </tr>\n",
       "    <tr>\n",
       "      <th>2022_29</th>\n",
       "      <td>2</td>\n",
       "    </tr>\n",
       "    <tr>\n",
       "      <th>2022_30</th>\n",
       "      <td>4</td>\n",
       "    </tr>\n",
       "    <tr>\n",
       "      <th>2022_31</th>\n",
       "      <td>4</td>\n",
       "    </tr>\n",
       "    <tr>\n",
       "      <th>2022_32</th>\n",
       "      <td>1</td>\n",
       "    </tr>\n",
       "    <tr>\n",
       "      <th>2022_40</th>\n",
       "      <td>1</td>\n",
       "    </tr>\n",
       "    <tr>\n",
       "      <th>2022_41</th>\n",
       "      <td>2</td>\n",
       "    </tr>\n",
       "    <tr>\n",
       "      <th>2022_42</th>\n",
       "      <td>4</td>\n",
       "    </tr>\n",
       "    <tr>\n",
       "      <th>2022_44</th>\n",
       "      <td>2</td>\n",
       "    </tr>\n",
       "    <tr>\n",
       "      <th>2022_45</th>\n",
       "      <td>2</td>\n",
       "    </tr>\n",
       "  </tbody>\n",
       "</table>\n",
       "</div>"
      ],
      "text/plain": [
       "                    pos_pcrflu\n",
       "Sem Epi Internacao            \n",
       "2022_28                     11\n",
       "2022_29                      2\n",
       "2022_30                      4\n",
       "2022_31                      4\n",
       "2022_32                      1\n",
       "2022_40                      1\n",
       "2022_41                      2\n",
       "2022_42                      4\n",
       "2022_44                      2\n",
       "2022_45                      2"
      ]
     },
     "execution_count": 18,
     "metadata": {},
     "output_type": "execute_result"
    }
   ],
   "source": [
    "houveInternInflu = filtro.loc[filtro['Houve internacao']=='Sim']\n",
    "houveInternInflu = houveInternInflu.loc[houveInternInflu['pos_pcrflu']=='Sim']\n",
    "houveInternInflu = houveInternInflu.groupby('Sem Epi Internacao').count()\n",
    "houveInternInflu = houveInternInflu.drop(columns=['Classificacao final','Internado UTI','Suporte ventilatorio','Houve internacao','tp_flu_pcr','pcr_fluasu',\"pcr_vsr\"])\n",
    "houveInternInflu.tail(10)"
   ]
  },
  {
   "cell_type": "code",
   "execution_count": 19,
   "metadata": {},
   "outputs": [
    {
     "data": {
      "text/html": [
       "<div>\n",
       "<style scoped>\n",
       "    .dataframe tbody tr th:only-of-type {\n",
       "        vertical-align: middle;\n",
       "    }\n",
       "\n",
       "    .dataframe tbody tr th {\n",
       "        vertical-align: top;\n",
       "    }\n",
       "\n",
       "    .dataframe thead th {\n",
       "        text-align: right;\n",
       "    }\n",
       "</style>\n",
       "<table border=\"1\" class=\"dataframe\">\n",
       "  <thead>\n",
       "    <tr style=\"text-align: right;\">\n",
       "      <th></th>\n",
       "      <th>pcr_vsr</th>\n",
       "    </tr>\n",
       "    <tr>\n",
       "      <th>Sem Epi Internacao</th>\n",
       "      <th></th>\n",
       "    </tr>\n",
       "  </thead>\n",
       "  <tbody>\n",
       "    <tr>\n",
       "      <th>2022_36</th>\n",
       "      <td>17</td>\n",
       "    </tr>\n",
       "    <tr>\n",
       "      <th>2022_37</th>\n",
       "      <td>11</td>\n",
       "    </tr>\n",
       "    <tr>\n",
       "      <th>2022_38</th>\n",
       "      <td>8</td>\n",
       "    </tr>\n",
       "    <tr>\n",
       "      <th>2022_39</th>\n",
       "      <td>8</td>\n",
       "    </tr>\n",
       "    <tr>\n",
       "      <th>2022_40</th>\n",
       "      <td>6</td>\n",
       "    </tr>\n",
       "    <tr>\n",
       "      <th>2022_41</th>\n",
       "      <td>5</td>\n",
       "    </tr>\n",
       "    <tr>\n",
       "      <th>2022_42</th>\n",
       "      <td>6</td>\n",
       "    </tr>\n",
       "    <tr>\n",
       "      <th>2022_43</th>\n",
       "      <td>7</td>\n",
       "    </tr>\n",
       "    <tr>\n",
       "      <th>2022_44</th>\n",
       "      <td>7</td>\n",
       "    </tr>\n",
       "    <tr>\n",
       "      <th>2022_45</th>\n",
       "      <td>7</td>\n",
       "    </tr>\n",
       "  </tbody>\n",
       "</table>\n",
       "</div>"
      ],
      "text/plain": [
       "                    pcr_vsr\n",
       "Sem Epi Internacao         \n",
       "2022_36                  17\n",
       "2022_37                  11\n",
       "2022_38                   8\n",
       "2022_39                   8\n",
       "2022_40                   6\n",
       "2022_41                   5\n",
       "2022_42                   6\n",
       "2022_43                   7\n",
       "2022_44                   7\n",
       "2022_45                   7"
      ]
     },
     "execution_count": 19,
     "metadata": {},
     "output_type": "execute_result"
    }
   ],
   "source": [
    "houveInternVSR = filtro.loc[filtro['Houve internacao']=='Sim']\n",
    "houveInternVSR = houveInternVSR.loc[houveInternVSR['pcr_vsr']==1]\n",
    "houveInternVSR = houveInternVSR.groupby('Sem Epi Internacao').count()\n",
    "houveInternVSR = houveInternVSR.drop(columns=['Classificacao final','Internado UTI','Suporte ventilatorio','Houve internacao','tp_flu_pcr','pcr_fluasu',\"pos_pcrflu\"])\n",
    "houveInternVSR.tail(10)"
   ]
  },
  {
   "cell_type": "code",
   "execution_count": 20,
   "metadata": {},
   "outputs": [
    {
     "data": {
      "text/html": [
       "<div>\n",
       "<style scoped>\n",
       "    .dataframe tbody tr th:only-of-type {\n",
       "        vertical-align: middle;\n",
       "    }\n",
       "\n",
       "    .dataframe tbody tr th {\n",
       "        vertical-align: top;\n",
       "    }\n",
       "\n",
       "    .dataframe thead th {\n",
       "        text-align: right;\n",
       "    }\n",
       "</style>\n",
       "<table border=\"1\" class=\"dataframe\">\n",
       "  <thead>\n",
       "    <tr style=\"text-align: right;\">\n",
       "      <th></th>\n",
       "      <th>pos_pcrflu</th>\n",
       "      <th>pcr_vsr</th>\n",
       "      <th>Calculo</th>\n",
       "    </tr>\n",
       "    <tr>\n",
       "      <th>Sem Epi Internacao</th>\n",
       "      <th></th>\n",
       "      <th></th>\n",
       "      <th></th>\n",
       "    </tr>\n",
       "  </thead>\n",
       "  <tbody>\n",
       "    <tr>\n",
       "      <th>2022_36</th>\n",
       "      <td>0.0</td>\n",
       "      <td>17.0</td>\n",
       "      <td>17.0</td>\n",
       "    </tr>\n",
       "    <tr>\n",
       "      <th>2022_37</th>\n",
       "      <td>0.0</td>\n",
       "      <td>11.0</td>\n",
       "      <td>11.0</td>\n",
       "    </tr>\n",
       "    <tr>\n",
       "      <th>2022_38</th>\n",
       "      <td>0.0</td>\n",
       "      <td>8.0</td>\n",
       "      <td>8.0</td>\n",
       "    </tr>\n",
       "    <tr>\n",
       "      <th>2022_40</th>\n",
       "      <td>1.0</td>\n",
       "      <td>6.0</td>\n",
       "      <td>7.0</td>\n",
       "    </tr>\n",
       "    <tr>\n",
       "      <th>2022_41</th>\n",
       "      <td>2.0</td>\n",
       "      <td>5.0</td>\n",
       "      <td>7.0</td>\n",
       "    </tr>\n",
       "    <tr>\n",
       "      <th>2022_42</th>\n",
       "      <td>4.0</td>\n",
       "      <td>6.0</td>\n",
       "      <td>10.0</td>\n",
       "    </tr>\n",
       "    <tr>\n",
       "      <th>2022_43</th>\n",
       "      <td>0.0</td>\n",
       "      <td>7.0</td>\n",
       "      <td>7.0</td>\n",
       "    </tr>\n",
       "    <tr>\n",
       "      <th>2022_44</th>\n",
       "      <td>2.0</td>\n",
       "      <td>7.0</td>\n",
       "      <td>9.0</td>\n",
       "    </tr>\n",
       "    <tr>\n",
       "      <th>2022_45</th>\n",
       "      <td>2.0</td>\n",
       "      <td>7.0</td>\n",
       "      <td>9.0</td>\n",
       "    </tr>\n",
       "    <tr>\n",
       "      <th>2022_46</th>\n",
       "      <td>0.0</td>\n",
       "      <td>0.0</td>\n",
       "      <td>0.0</td>\n",
       "    </tr>\n",
       "  </tbody>\n",
       "</table>\n",
       "</div>"
      ],
      "text/plain": [
       "                    pos_pcrflu  pcr_vsr  Calculo\n",
       "Sem Epi Internacao                              \n",
       "2022_36                    0.0     17.0     17.0\n",
       "2022_37                    0.0     11.0     11.0\n",
       "2022_38                    0.0      8.0      8.0\n",
       "2022_40                    1.0      6.0      7.0\n",
       "2022_41                    2.0      5.0      7.0\n",
       "2022_42                    4.0      6.0     10.0\n",
       "2022_43                    0.0      7.0      7.0\n",
       "2022_44                    2.0      7.0      9.0\n",
       "2022_45                    2.0      7.0      9.0\n",
       "2022_46                    0.0      0.0      0.0"
      ]
     },
     "execution_count": 20,
     "metadata": {},
     "output_type": "execute_result"
    }
   ],
   "source": [
    "houveInternInfluVSR = pd.concat([houveInternInflu,houveInternVSR])\n",
    "houveInternInfluVSR = houveInternInfluVSR.fillna(0)\n",
    "houveInternInfluVSR = houveInternInfluVSR.reset_index()\n",
    "houveInternInfluVSR = houveInternInfluVSR.sort_values(by='Sem Epi Internacao')\n",
    "houveInternInfluVSR = houveInternInfluVSR.groupby('Sem Epi Internacao').sum()\n",
    "houveInternInfluVSR['Calculo'] = houveInternInfluVSR['pos_pcrflu'] + houveInternInfluVSR['pcr_vsr']\n",
    "houveInternInfluVSR = houveInternInfluVSR.merge(base,how='outer',right_index=True,left_index=True)\n",
    "houveInternInfluVSR = houveInternInfluVSR.drop('2022_39')\n",
    "houveInternInfluVSR = houveInternInfluVSR.fillna(0)\n",
    "houveInternInfluVSR.tail(10)"
   ]
  },
  {
   "cell_type": "code",
   "execution_count": 21,
   "metadata": {},
   "outputs": [],
   "source": [
    "houveInternInfluVSR = houveInternInfluVSR['Calculo']"
   ]
  },
  {
   "cell_type": "code",
   "execution_count": 22,
   "metadata": {},
   "outputs": [],
   "source": [
    "semana = internadoInfluVSR.reset_index()\n",
    "semana = semana['Sem Epi Internacao']"
   ]
  },
  {
   "cell_type": "code",
   "execution_count": 23,
   "metadata": {},
   "outputs": [
    {
     "data": {
      "text/plain": [
       "150"
      ]
     },
     "execution_count": 23,
     "metadata": {},
     "output_type": "execute_result"
    }
   ],
   "source": [
    "np.size(internadoInfluVSR)"
   ]
  },
  {
   "cell_type": "code",
   "execution_count": 24,
   "metadata": {},
   "outputs": [],
   "source": [
    "legenda = ['Hospitalizados','UTI','Suporte Ventilatório Invasivo']"
   ]
  },
  {
   "cell_type": "code",
   "execution_count": 25,
   "metadata": {},
   "outputs": [
    {
     "data": {
      "text/plain": [
       "'Gráficos 21_11_2022'"
      ]
     },
     "execution_count": 25,
     "metadata": {},
     "output_type": "execute_result"
    }
   ],
   "source": [
    "pasta = r'Z:\\Graficos Boletim_Python'\n",
    "lista_arquivos = os.listdir(pasta)\n",
    "lista_datas = []\n",
    "\n",
    "for arquivo in lista_arquivos:\n",
    "    #Descobrir a data desse arquivo\n",
    "    data = os.path.getmtime(f'{pasta}/{arquivo}')\n",
    "    lista_datas.append((data,arquivo))\n",
    "\n",
    "lista_datas.sort(reverse=True) #Vai ordenar a lista em ordem decrescente com reverse=True Obs: Ele ordena sempre com o primeiro valor, por isso colocamos data antes de arquivo\n",
    "ultima_pasta = lista_datas[0][1] #Pega o ultimo arquivo\n",
    "ultima_pasta"
   ]
  },
  {
   "cell_type": "code",
   "execution_count": 26,
   "metadata": {},
   "outputs": [
    {
     "data": {
      "image/png": "[encoded data removed]",
      "text/plain": [
       "<Figure size 2304x1080 with 1 Axes>"
      ]
     },
     "metadata": {
      "needs_background": "light"
     },
     "output_type": "display_data"
    }
   ],
   "source": [
    "plt.figure(figsize=(32,15))\n",
    "plt.plot(semana,houveInternInfluVSR,color='#a3a2a2')\n",
    "plt.plot(semana,internadoInfluVSR,color='#7890a8')\n",
    "plt.plot(semana,suportVentInfluVSR,color='#304878')\n",
    "plt.fill_between(semana,houveInternInfluVSR,alpha=0.5,color='#a3a2a2')\n",
    "plt.fill_between(semana,internadoInfluVSR,alpha=0.5,color='#7890a8')\n",
    "plt.fill_between(semana,suportVentInfluVSR,alpha=0.5,color='#304878')\n",
    "plt.xticks(np.arange(0,np.size(semana),2),fontsize=20, rotation=90)\n",
    "plt.yticks(np.arange(0,110,10),fontsize=20)\n",
    "plt.xlabel('Semana Epidemiológica de Internação',fontsize=25,labelpad=15)\n",
    "plt.ylabel('Número Absoluto', fontsize=25, labelpad=15)\n",
    "plt.legend(legenda, fontsize=25, shadow = True)\n",
    "sns.despine()\n",
    "plt.savefig(f'Z:/Graficos Boletim_Python/{ultima_pasta}/hospUTISuport_InfluVSR.png',dpi=320,bbox_inches='tight')"
   ]
  },
  {
   "cell_type": "code",
   "execution_count": null,
   "metadata": {},
   "outputs": [],
   "source": []
  }
 ],
 "metadata": {
  "kernelspec": {
   "display_name": "Python 3.10.0 64-bit",
   "language": "python",
   "name": "python3"
  },
  "language_info": {
   "codemirror_mode": {
    "name": "ipython",
    "version": 3
   },
   "file_extension": ".py",
   "mimetype": "text/x-python",
   "name": "python",
   "nbconvert_exporter": "python",
   "pygments_lexer": "ipython3",
   "version": "3.10.0 (tags/v3.10.0:b494f59, Oct  4 2021, 19:00:18) [MSC v.1929 64 bit (AMD64)]"
  },
  "orig_nbformat": 4,
  "vscode": {
   "interpreter": {
    "hash": "bab64de6913f9d892cab042fb55157f5f55bf59b9a4c4b73d499c1b88080ca0d"
   }
  }
 },
 "nbformat": 4,
 "nbformat_minor": 2
}
