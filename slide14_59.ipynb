{
 "cells": [
  {
   "cell_type": "code",
   "execution_count": 1,
   "metadata": {},
   "outputs": [],
   "source": [
    "import pandas as pd\n",
    "from pandas import DataFrame\n",
    "import matplotlib.pyplot as plt\n",
    "import numpy as np\n",
    "import os\n",
    "from datetime import date\n",
    "import datetime\n",
    "from pathlib import Path\n",
    "import seaborn as sns"
   ]
  },
  {
   "cell_type": "code",
   "execution_count": 2,
   "metadata": {},
   "outputs": [
    {
     "data": {
      "text/plain": [
       "'Banco SIVEP 18_02_2022 07_33_42.xlsx'"
      ]
     },
     "execution_count": 2,
     "metadata": {},
     "output_type": "execute_result"
    }
   ],
   "source": [
    "caminho = r'Z:\\Banco SIVEP Exportação'\n",
    "lista_arquivos = os.listdir(caminho)\n",
    "lista_datas = []\n",
    "\n",
    "for arquivo in lista_arquivos:\n",
    "    #Descobrir a data desse arquivo\n",
    "    data = os.path.getmtime(f'{caminho}/{arquivo}')\n",
    "    lista_datas.append((data,arquivo))\n",
    "\n",
    "lista_datas.sort(reverse=True) #Vai ordenar a lista em ordem decrescente com reverse=True Obs: Ele ordena sempre com o primeiro valor, por isso colocamos data antes de arquivo\n",
    "ultimo_arquivo = lista_datas[0][1] #Pega o ultimo arquivo\n",
    "ultimo_arquivo"
   ]
  },
  {
   "cell_type": "code",
   "execution_count": 3,
   "metadata": {},
   "outputs": [],
   "source": [
    "if not os.path.exists(f'Z:\\Graficos Boletim_Python/Gráficos {date.today().day}_{date.today().month}_{date.today().year}'):\n",
    "    os.makedirs(f'Z:\\Graficos Boletim_Python/Gráficos {date.today().day}_{date.today().month}_{date.today().year}')"
   ]
  },
  {
   "cell_type": "code",
   "execution_count": 4,
   "metadata": {},
   "outputs": [],
   "source": [
    "dados = pd.read_excel(f'{caminho}/{ultimo_arquivo}')\n",
    "#dados = pd.read_excel('Z:/Banco SIVEP Exportação/Banco SIVEP 26_01_2022 07_33_07.xlsx')"
   ]
  },
  {
   "cell_type": "code",
   "execution_count": 5,
   "metadata": {},
   "outputs": [
    {
     "name": "stderr",
     "output_type": "stream",
     "text": [
      "C:\\Users\\RYAN-R~1\\AppData\\Local\\Temp/ipykernel_17848/3718021118.py:2: SettingWithCopyWarning: \n",
      "A value is trying to be set on a copy of a slice from a DataFrame.\n",
      "Try using .loc[row_indexer,col_indexer] = value instead\n",
      "\n",
      "See the caveats in the documentation: https://pandas.pydata.org/pandas-docs/stable/user_guide/indexing.html#returning-a-view-versus-a-copy\n",
      "  filtrado['Faixa Etaria'] = filtrado['Faixa Etaria'].map({'0-9 anos':'0-9 anos','10-19 anos':'10-19 anos','20-29 anos':'20-59 anos','30-39 anos':'20-59 anos',\n",
      "C:\\Users\\RYAN-R~1\\AppData\\Local\\Temp/ipykernel_17848/3718021118.py:5: SettingWithCopyWarning: \n",
      "A value is trying to be set on a copy of a slice from a DataFrame.\n",
      "Try using .loc[row_indexer,col_indexer] = value instead\n",
      "\n",
      "See the caveats in the documentation: https://pandas.pydata.org/pandas-docs/stable/user_guide/indexing.html#returning-a-view-versus-a-copy\n",
      "  filtrado['Doenca Cardiovascular'] = filtrado['Doenca Cardiovascular'].map({1.0:'Doença cardiovascular'})\n",
      "C:\\Users\\RYAN-R~1\\AppData\\Local\\Temp/ipykernel_17848/3718021118.py:6: SettingWithCopyWarning: \n",
      "A value is trying to be set on a copy of a slice from a DataFrame.\n",
      "Try using .loc[row_indexer,col_indexer] = value instead\n",
      "\n",
      "See the caveats in the documentation: https://pandas.pydata.org/pandas-docs/stable/user_guide/indexing.html#returning-a-view-versus-a-copy\n",
      "  filtrado['Diabetes mellitus'] = filtrado['Diabetes mellitus'].map({1.0:'Diabetes mellitus'})\n",
      "C:\\Users\\RYAN-R~1\\AppData\\Local\\Temp/ipykernel_17848/3718021118.py:7: SettingWithCopyWarning: \n",
      "A value is trying to be set on a copy of a slice from a DataFrame.\n",
      "Try using .loc[row_indexer,col_indexer] = value instead\n",
      "\n",
      "See the caveats in the documentation: https://pandas.pydata.org/pandas-docs/stable/user_guide/indexing.html#returning-a-view-versus-a-copy\n",
      "  filtrado['Obesidade'] = filtrado['Obesidade'].map({'1':'Obesidade'})\n",
      "C:\\Users\\RYAN-R~1\\AppData\\Local\\Temp/ipykernel_17848/3718021118.py:8: SettingWithCopyWarning: \n",
      "A value is trying to be set on a copy of a slice from a DataFrame.\n",
      "Try using .loc[row_indexer,col_indexer] = value instead\n",
      "\n",
      "See the caveats in the documentation: https://pandas.pydata.org/pandas-docs/stable/user_guide/indexing.html#returning-a-view-versus-a-copy\n",
      "  filtrado['Imunodeficiencia'] = filtrado['Imunodeficiencia'].map({1.0:'Imunodeficiência'})\n",
      "C:\\Users\\RYAN-R~1\\AppData\\Local\\Temp/ipykernel_17848/3718021118.py:9: SettingWithCopyWarning: \n",
      "A value is trying to be set on a copy of a slice from a DataFrame.\n",
      "Try using .loc[row_indexer,col_indexer] = value instead\n",
      "\n",
      "See the caveats in the documentation: https://pandas.pydata.org/pandas-docs/stable/user_guide/indexing.html#returning-a-view-versus-a-copy\n",
      "  filtrado['Doenca Renal Cronica'] = filtrado['Doenca Renal Cronica'].map({1.0:'Doença renal crônica'})\n"
     ]
    },
    {
     "data": {
      "text/html": [
       "<div>\n",
       "<style scoped>\n",
       "    .dataframe tbody tr th:only-of-type {\n",
       "        vertical-align: middle;\n",
       "    }\n",
       "\n",
       "    .dataframe tbody tr th {\n",
       "        vertical-align: top;\n",
       "    }\n",
       "\n",
       "    .dataframe thead th {\n",
       "        text-align: right;\n",
       "    }\n",
       "</style>\n",
       "<table border=\"1\" class=\"dataframe\">\n",
       "  <thead>\n",
       "    <tr style=\"text-align: right;\">\n",
       "      <th></th>\n",
       "      <th>Tem Comorbidade</th>\n",
       "      <th>Doenca Cardiovascular</th>\n",
       "      <th>Obesidade</th>\n",
       "      <th>Diabetes mellitus</th>\n",
       "      <th>Imunodeficiencia</th>\n",
       "      <th>Doenca Renal Cronica</th>\n",
       "      <th>Faixa Etaria</th>\n",
       "      <th>Classificacao final</th>\n",
       "      <th>Houve internacao</th>\n",
       "      <th>Evolucao</th>\n",
       "    </tr>\n",
       "  </thead>\n",
       "  <tbody>\n",
       "    <tr>\n",
       "      <th>0</th>\n",
       "      <td>Não</td>\n",
       "      <td>NaN</td>\n",
       "      <td>NaN</td>\n",
       "      <td>NaN</td>\n",
       "      <td>NaN</td>\n",
       "      <td>NaN</td>\n",
       "      <td>20-59 anos</td>\n",
       "      <td>COVID-19</td>\n",
       "      <td>Não</td>\n",
       "      <td>Óbito</td>\n",
       "    </tr>\n",
       "    <tr>\n",
       "      <th>1</th>\n",
       "      <td>Sim</td>\n",
       "      <td>Doença cardiovascular</td>\n",
       "      <td>Obesidade</td>\n",
       "      <td>Diabetes mellitus</td>\n",
       "      <td>NaN</td>\n",
       "      <td>NaN</td>\n",
       "      <td>60 anos ou mais</td>\n",
       "      <td>COVID-19</td>\n",
       "      <td>Sim</td>\n",
       "      <td>Cura</td>\n",
       "    </tr>\n",
       "    <tr>\n",
       "      <th>2</th>\n",
       "      <td>Não</td>\n",
       "      <td>NaN</td>\n",
       "      <td>NaN</td>\n",
       "      <td>NaN</td>\n",
       "      <td>NaN</td>\n",
       "      <td>NaN</td>\n",
       "      <td>20-59 anos</td>\n",
       "      <td>COVID-19</td>\n",
       "      <td>Sim</td>\n",
       "      <td>Cura</td>\n",
       "    </tr>\n",
       "    <tr>\n",
       "      <th>3</th>\n",
       "      <td>Não</td>\n",
       "      <td>NaN</td>\n",
       "      <td>NaN</td>\n",
       "      <td>NaN</td>\n",
       "      <td>NaN</td>\n",
       "      <td>NaN</td>\n",
       "      <td>60 anos ou mais</td>\n",
       "      <td>COVID-19</td>\n",
       "      <td>Não</td>\n",
       "      <td>Óbito</td>\n",
       "    </tr>\n",
       "    <tr>\n",
       "      <th>4</th>\n",
       "      <td>Não</td>\n",
       "      <td>NaN</td>\n",
       "      <td>NaN</td>\n",
       "      <td>NaN</td>\n",
       "      <td>NaN</td>\n",
       "      <td>NaN</td>\n",
       "      <td>20-59 anos</td>\n",
       "      <td>COVID-19</td>\n",
       "      <td>Sim</td>\n",
       "      <td>Cura</td>\n",
       "    </tr>\n",
       "    <tr>\n",
       "      <th>...</th>\n",
       "      <td>...</td>\n",
       "      <td>...</td>\n",
       "      <td>...</td>\n",
       "      <td>...</td>\n",
       "      <td>...</td>\n",
       "      <td>...</td>\n",
       "      <td>...</td>\n",
       "      <td>...</td>\n",
       "      <td>...</td>\n",
       "      <td>...</td>\n",
       "    </tr>\n",
       "    <tr>\n",
       "      <th>164941</th>\n",
       "      <td>Não</td>\n",
       "      <td>NaN</td>\n",
       "      <td>NaN</td>\n",
       "      <td>NaN</td>\n",
       "      <td>NaN</td>\n",
       "      <td>NaN</td>\n",
       "      <td>60 anos ou mais</td>\n",
       "      <td>COVID-19</td>\n",
       "      <td>Sim</td>\n",
       "      <td>Cura</td>\n",
       "    </tr>\n",
       "    <tr>\n",
       "      <th>164942</th>\n",
       "      <td>Sim</td>\n",
       "      <td>Doença cardiovascular</td>\n",
       "      <td>NaN</td>\n",
       "      <td>Diabetes mellitus</td>\n",
       "      <td>NaN</td>\n",
       "      <td>Doença renal crônica</td>\n",
       "      <td>60 anos ou mais</td>\n",
       "      <td>COVID-19</td>\n",
       "      <td>Sim</td>\n",
       "      <td>Óbito</td>\n",
       "    </tr>\n",
       "    <tr>\n",
       "      <th>164943</th>\n",
       "      <td>Sim</td>\n",
       "      <td>Doença cardiovascular</td>\n",
       "      <td>NaN</td>\n",
       "      <td>Diabetes mellitus</td>\n",
       "      <td>NaN</td>\n",
       "      <td>NaN</td>\n",
       "      <td>20-59 anos</td>\n",
       "      <td>COVID-19</td>\n",
       "      <td>Sim</td>\n",
       "      <td>Cura</td>\n",
       "    </tr>\n",
       "    <tr>\n",
       "      <th>164944</th>\n",
       "      <td>Sim</td>\n",
       "      <td>NaN</td>\n",
       "      <td>NaN</td>\n",
       "      <td>NaN</td>\n",
       "      <td>NaN</td>\n",
       "      <td>NaN</td>\n",
       "      <td>60 anos ou mais</td>\n",
       "      <td>SRAG não especificado</td>\n",
       "      <td>Sim</td>\n",
       "      <td>Cura</td>\n",
       "    </tr>\n",
       "    <tr>\n",
       "      <th>164945</th>\n",
       "      <td>NaN</td>\n",
       "      <td>NaN</td>\n",
       "      <td>NaN</td>\n",
       "      <td>NaN</td>\n",
       "      <td>NaN</td>\n",
       "      <td>NaN</td>\n",
       "      <td>NaN</td>\n",
       "      <td>NaN</td>\n",
       "      <td>NaN</td>\n",
       "      <td>NaN</td>\n",
       "    </tr>\n",
       "  </tbody>\n",
       "</table>\n",
       "<p>164946 rows × 10 columns</p>\n",
       "</div>"
      ],
      "text/plain": [
       "       Tem Comorbidade  Doenca Cardiovascular  Obesidade  Diabetes mellitus  \\\n",
       "0                  Não                    NaN        NaN                NaN   \n",
       "1                  Sim  Doença cardiovascular  Obesidade  Diabetes mellitus   \n",
       "2                  Não                    NaN        NaN                NaN   \n",
       "3                  Não                    NaN        NaN                NaN   \n",
       "4                  Não                    NaN        NaN                NaN   \n",
       "...                ...                    ...        ...                ...   \n",
       "164941             Não                    NaN        NaN                NaN   \n",
       "164942             Sim  Doença cardiovascular        NaN  Diabetes mellitus   \n",
       "164943             Sim  Doença cardiovascular        NaN  Diabetes mellitus   \n",
       "164944             Sim                    NaN        NaN                NaN   \n",
       "164945             NaN                    NaN        NaN                NaN   \n",
       "\n",
       "       Imunodeficiencia  Doenca Renal Cronica     Faixa Etaria  \\\n",
       "0                   NaN                   NaN       20-59 anos   \n",
       "1                   NaN                   NaN  60 anos ou mais   \n",
       "2                   NaN                   NaN       20-59 anos   \n",
       "3                   NaN                   NaN  60 anos ou mais   \n",
       "4                   NaN                   NaN       20-59 anos   \n",
       "...                 ...                   ...              ...   \n",
       "164941              NaN                   NaN  60 anos ou mais   \n",
       "164942              NaN  Doença renal crônica  60 anos ou mais   \n",
       "164943              NaN                   NaN       20-59 anos   \n",
       "164944              NaN                   NaN  60 anos ou mais   \n",
       "164945              NaN                   NaN              NaN   \n",
       "\n",
       "          Classificacao final Houve internacao Evolucao  \n",
       "0                    COVID-19              Não    Óbito  \n",
       "1                    COVID-19              Sim     Cura  \n",
       "2                    COVID-19              Sim     Cura  \n",
       "3                    COVID-19              Não    Óbito  \n",
       "4                    COVID-19              Sim     Cura  \n",
       "...                       ...              ...      ...  \n",
       "164941               COVID-19              Sim     Cura  \n",
       "164942               COVID-19              Sim    Óbito  \n",
       "164943               COVID-19              Sim     Cura  \n",
       "164944  SRAG não especificado              Sim     Cura  \n",
       "164945                    NaN              NaN      NaN  \n",
       "\n",
       "[164946 rows x 10 columns]"
      ]
     },
     "execution_count": 5,
     "metadata": {},
     "output_type": "execute_result"
    }
   ],
   "source": [
    "filtrado = dados[['Tem Comorbidade','Doenca Cardiovascular','Obesidade','Diabetes mellitus','Imunodeficiencia','Doenca Renal Cronica','Faixa Etaria','Classificacao final','Houve internacao','Evolucao']]\n",
    "filtrado['Faixa Etaria'] = filtrado['Faixa Etaria'].map({'0-9 anos':'0-9 anos','10-19 anos':'10-19 anos','20-29 anos':'20-59 anos','30-39 anos':'20-59 anos',\n",
    "                                                         '40-49 anos':'20-59 anos','50-59 anos':'20-59 anos','60-69 anos':'60 anos ou mais','70-79 anos':'60 anos ou mais',\n",
    "                                                         '80 e mais anos':'60 anos ou mais'})\n",
    "filtrado['Doenca Cardiovascular'] = filtrado['Doenca Cardiovascular'].map({1.0:'Doença cardiovascular'})\n",
    "filtrado['Diabetes mellitus'] = filtrado['Diabetes mellitus'].map({1.0:'Diabetes mellitus'})\n",
    "filtrado['Obesidade'] = filtrado['Obesidade'].map({'1':'Obesidade'})\n",
    "filtrado['Imunodeficiencia'] = filtrado['Imunodeficiencia'].map({1.0:'Imunodeficiência'})\n",
    "filtrado['Doenca Renal Cronica'] = filtrado['Doenca Renal Cronica'].map({1.0:'Doença renal crônica'})\n",
    "filtrado"
   ]
  },
  {
   "cell_type": "code",
   "execution_count": 6,
   "metadata": {},
   "outputs": [],
   "source": [
    "anos59_obito = filtrado.loc[filtrado['Faixa Etaria']=='20-59 anos']\n",
    "anos59_obito = anos59_obito.loc[anos59_obito['Evolucao']=='Óbito']\n",
    "anos59_obito = anos59_obito.loc[anos59_obito['Classificacao final']=='COVID-19']"
   ]
  },
  {
   "cell_type": "code",
   "execution_count": 7,
   "metadata": {},
   "outputs": [
    {
     "data": {
      "text/html": [
       "<div>\n",
       "<style scoped>\n",
       "    .dataframe tbody tr th:only-of-type {\n",
       "        vertical-align: middle;\n",
       "    }\n",
       "\n",
       "    .dataframe tbody tr th {\n",
       "        vertical-align: top;\n",
       "    }\n",
       "\n",
       "    .dataframe thead th {\n",
       "        text-align: right;\n",
       "    }\n",
       "</style>\n",
       "<table border=\"1\" class=\"dataframe\">\n",
       "  <thead>\n",
       "    <tr style=\"text-align: right;\">\n",
       "      <th></th>\n",
       "      <th>Evolucao</th>\n",
       "    </tr>\n",
       "    <tr>\n",
       "      <th>Doenca Renal Cronica</th>\n",
       "      <th></th>\n",
       "    </tr>\n",
       "  </thead>\n",
       "  <tbody>\n",
       "    <tr>\n",
       "      <th>Doença renal crônica</th>\n",
       "      <td>529</td>\n",
       "    </tr>\n",
       "  </tbody>\n",
       "</table>\n",
       "</div>"
      ],
      "text/plain": [
       "                      Evolucao\n",
       "Doenca Renal Cronica          \n",
       "Doença renal crônica       529"
      ]
     },
     "execution_count": 7,
     "metadata": {},
     "output_type": "execute_result"
    }
   ],
   "source": [
    "temComorbidade_obito = anos59_obito.loc[anos59_obito['Tem Comorbidade']=='Sim']\n",
    "temComorbidade_obito = temComorbidade_obito.groupby('Tem Comorbidade').count()\n",
    "temComorbidade_obito = temComorbidade_obito.drop(temComorbidade_obito.columns[[0,1,2,3,4,5,6,7]],axis=1)\n",
    "doencaCardio_obito = anos59_obito.groupby('Doenca Cardiovascular').count()\n",
    "doencaCardio_obito = doencaCardio_obito.drop(doencaCardio_obito.columns[[0,1,2,3,4,5,6,7]],axis=1)\n",
    "diabetesmellitus_obito = anos59_obito.groupby('Diabetes mellitus').count()\n",
    "diabetesmellitus_obito = diabetesmellitus_obito.drop(diabetesmellitus_obito.columns[[0,1,2,3,4,5,6,7]],axis=1)\n",
    "obesidade_obito = anos59_obito.groupby('Obesidade').count()\n",
    "obesidade_obito = obesidade_obito.drop(obesidade_obito.columns[[0,1,2,3,4,5,6,7]],axis=1)\n",
    "imunodeficiencia_obito = anos59_obito.groupby('Imunodeficiencia').count()\n",
    "imunodeficiencia_obito = imunodeficiencia_obito.drop(imunodeficiencia_obito.columns[[0,1,2,3,4,5,6,7]],axis=1)\n",
    "renalCronica_obito = anos59_obito.groupby('Doenca Renal Cronica').count()\n",
    "renalCronica_obito = renalCronica_obito.drop(renalCronica_obito.columns[[0,1,2,3,4,5,6,7]],axis=1)\n",
    "renalCronica_obito"
   ]
  },
  {
   "cell_type": "code",
   "execution_count": 8,
   "metadata": {},
   "outputs": [
    {
     "data": {
      "text/plain": [
       "0    10593\n",
       "Name: Houve internacao, dtype: int64"
      ]
     },
     "execution_count": 8,
     "metadata": {},
     "output_type": "execute_result"
    }
   ],
   "source": [
    "totalObitos_anos59 = filtrado.loc[filtrado['Faixa Etaria']=='20-59 anos']\n",
    "totalObitos_anos59 = totalObitos_anos59.loc[totalObitos_anos59['Evolucao']=='Óbito']\n",
    "totalObitos_anos59 = totalObitos_anos59.loc[totalObitos_anos59['Classificacao final']=='COVID-19']\n",
    "totalObitos_anos59 = totalObitos_anos59.groupby('Evolucao').count()\n",
    "totalObitos_anos59 = totalObitos_anos59.drop(totalObitos_anos59.columns[[0,1,2,3,4,5,6,7]],axis=1)\n",
    "totalObitos_anos59 = totalObitos_anos59.reset_index()\n",
    "totalObitos_anos59 = totalObitos_anos59['Houve internacao']\n",
    "totalObitos_anos59"
   ]
  },
  {
   "cell_type": "code",
   "execution_count": 9,
   "metadata": {},
   "outputs": [
    {
     "data": {
      "text/html": [
       "<div>\n",
       "<style scoped>\n",
       "    .dataframe tbody tr th:only-of-type {\n",
       "        vertical-align: middle;\n",
       "    }\n",
       "\n",
       "    .dataframe tbody tr th {\n",
       "        vertical-align: top;\n",
       "    }\n",
       "\n",
       "    .dataframe thead th {\n",
       "        text-align: right;\n",
       "    }\n",
       "</style>\n",
       "<table border=\"1\" class=\"dataframe\">\n",
       "  <thead>\n",
       "    <tr style=\"text-align: right;\">\n",
       "      <th></th>\n",
       "      <th>index</th>\n",
       "      <th>Evolucao</th>\n",
       "    </tr>\n",
       "  </thead>\n",
       "  <tbody>\n",
       "    <tr>\n",
       "      <th>0</th>\n",
       "      <td>Alguma comorbidade</td>\n",
       "      <td>8386</td>\n",
       "    </tr>\n",
       "    <tr>\n",
       "      <th>1</th>\n",
       "      <td>Doença cardiovascular</td>\n",
       "      <td>3243</td>\n",
       "    </tr>\n",
       "    <tr>\n",
       "      <th>2</th>\n",
       "      <td>Diabetes mellitus</td>\n",
       "      <td>2640</td>\n",
       "    </tr>\n",
       "    <tr>\n",
       "      <th>3</th>\n",
       "      <td>Obesidade</td>\n",
       "      <td>3150</td>\n",
       "    </tr>\n",
       "    <tr>\n",
       "      <th>4</th>\n",
       "      <td>Imunodeficiência</td>\n",
       "      <td>725</td>\n",
       "    </tr>\n",
       "    <tr>\n",
       "      <th>5</th>\n",
       "      <td>Doença renal crônica</td>\n",
       "      <td>529</td>\n",
       "    </tr>\n",
       "  </tbody>\n",
       "</table>\n",
       "</div>"
      ],
      "text/plain": [
       "                   index  Evolucao\n",
       "0     Alguma comorbidade      8386\n",
       "1  Doença cardiovascular      3243\n",
       "2      Diabetes mellitus      2640\n",
       "3              Obesidade      3150\n",
       "4       Imunodeficiência       725\n",
       "5   Doença renal crônica       529"
      ]
     },
     "execution_count": 9,
     "metadata": {},
     "output_type": "execute_result"
    }
   ],
   "source": [
    "juntaAnos59_obito = temComorbidade_obito.append(doencaCardio_obito)\n",
    "juntaAnos59_obito = juntaAnos59_obito.append(diabetesmellitus_obito)\n",
    "juntaAnos59_obito = juntaAnos59_obito.append(obesidade_obito)\n",
    "juntaAnos59_obito = juntaAnos59_obito.append(imunodeficiencia_obito)\n",
    "juntaAnos59_obito = juntaAnos59_obito.append(renalCronica_obito)\n",
    "juntaAnos59_obito = juntaAnos59_obito.rename({'Sim':'Alguma comorbidade'})\n",
    "juntaAnos59_obito = juntaAnos59_obito.reset_index()\n",
    "juntaAnos59_obito"
   ]
  },
  {
   "cell_type": "code",
   "execution_count": 10,
   "metadata": {},
   "outputs": [
    {
     "data": {
      "text/html": [
       "<div>\n",
       "<style scoped>\n",
       "    .dataframe tbody tr th:only-of-type {\n",
       "        vertical-align: middle;\n",
       "    }\n",
       "\n",
       "    .dataframe tbody tr th {\n",
       "        vertical-align: top;\n",
       "    }\n",
       "\n",
       "    .dataframe thead th {\n",
       "        text-align: right;\n",
       "    }\n",
       "</style>\n",
       "<table border=\"1\" class=\"dataframe\">\n",
       "  <thead>\n",
       "    <tr style=\"text-align: right;\">\n",
       "      <th></th>\n",
       "      <th>index</th>\n",
       "      <th>Evolucao</th>\n",
       "    </tr>\n",
       "  </thead>\n",
       "  <tbody>\n",
       "    <tr>\n",
       "      <th>0</th>\n",
       "      <td>Doença renal crônica</td>\n",
       "      <td>529</td>\n",
       "    </tr>\n",
       "    <tr>\n",
       "      <th>1</th>\n",
       "      <td>Imunodeficiência</td>\n",
       "      <td>725</td>\n",
       "    </tr>\n",
       "    <tr>\n",
       "      <th>2</th>\n",
       "      <td>Diabetes mellitus</td>\n",
       "      <td>2640</td>\n",
       "    </tr>\n",
       "    <tr>\n",
       "      <th>3</th>\n",
       "      <td>Obesidade</td>\n",
       "      <td>3150</td>\n",
       "    </tr>\n",
       "    <tr>\n",
       "      <th>4</th>\n",
       "      <td>Doença cardiovascular</td>\n",
       "      <td>3243</td>\n",
       "    </tr>\n",
       "    <tr>\n",
       "      <th>5</th>\n",
       "      <td>Alguma comorbidade</td>\n",
       "      <td>8386</td>\n",
       "    </tr>\n",
       "  </tbody>\n",
       "</table>\n",
       "</div>"
      ],
      "text/plain": [
       "                   index  Evolucao\n",
       "0   Doença renal crônica       529\n",
       "1       Imunodeficiência       725\n",
       "2      Diabetes mellitus      2640\n",
       "3              Obesidade      3150\n",
       "4  Doença cardiovascular      3243\n",
       "5     Alguma comorbidade      8386"
      ]
     },
     "execution_count": 10,
     "metadata": {},
     "output_type": "execute_result"
    }
   ],
   "source": [
    "ordenaAnos59_obito = juntaAnos59_obito.copy()\n",
    "ordenaAnos59_obito.loc[0] = juntaAnos59_obito.loc[5]\n",
    "ordenaAnos59_obito.loc[1] = juntaAnos59_obito.loc[4]\n",
    "ordenaAnos59_obito.loc[2] = juntaAnos59_obito.loc[2]\n",
    "ordenaAnos59_obito.loc[3] = juntaAnos59_obito.loc[3]\n",
    "ordenaAnos59_obito.loc[4] = juntaAnos59_obito.loc[1]\n",
    "ordenaAnos59_obito.loc[5] = juntaAnos59_obito.loc[0]\n",
    "ordenaAnos59_obito"
   ]
  },
  {
   "cell_type": "code",
   "execution_count": 11,
   "metadata": {},
   "outputs": [],
   "source": [
    "divisao = pd.DataFrame(columns={'Valores'})\n",
    "for i in np.arange(0,len(ordenaAnos59_obito),1):\n",
    "    divisao.loc[i] = totalObitos_anos59.loc[0]\n",
    "divisao = divisao.fillna(ordenaAnos59_obito)"
   ]
  },
  {
   "cell_type": "code",
   "execution_count": 12,
   "metadata": {},
   "outputs": [
    {
     "data": {
      "text/plain": [
       "0     4.993864\n",
       "1     6.844142\n",
       "2    24.922118\n",
       "3    29.736619\n",
       "4    30.614557\n",
       "5    79.165487\n",
       "Name: Evolucao, dtype: object"
      ]
     },
     "execution_count": 12,
     "metadata": {},
     "output_type": "execute_result"
    }
   ],
   "source": [
    "calcula_anos59_obito = ordenaAnos59_obito['Evolucao']/divisao['Valores']*100\n",
    "calcula_anos59_obito = calcula_anos59_obito.to_frame()\n",
    "calcula_anos59_obito = calcula_anos59_obito.rename(columns={0:'Evolucao'})\n",
    "calcula_anos59_obito = calcula_anos59_obito['Evolucao']\n",
    "calcula_anos59_obito"
   ]
  },
  {
   "cell_type": "code",
   "execution_count": 13,
   "metadata": {},
   "outputs": [],
   "source": [
    "anos59_hospi = filtrado.loc[filtrado['Faixa Etaria']=='20-59 anos']\n",
    "anos59_hospi = anos59_hospi.loc[anos59_hospi['Houve internacao']=='Sim']\n",
    "anos59_hospi = anos59_hospi.loc[anos59_hospi['Classificacao final']=='COVID-19']"
   ]
  },
  {
   "cell_type": "code",
   "execution_count": 14,
   "metadata": {},
   "outputs": [
    {
     "data": {
      "text/html": [
       "<div>\n",
       "<style scoped>\n",
       "    .dataframe tbody tr th:only-of-type {\n",
       "        vertical-align: middle;\n",
       "    }\n",
       "\n",
       "    .dataframe tbody tr th {\n",
       "        vertical-align: top;\n",
       "    }\n",
       "\n",
       "    .dataframe thead th {\n",
       "        text-align: right;\n",
       "    }\n",
       "</style>\n",
       "<table border=\"1\" class=\"dataframe\">\n",
       "  <thead>\n",
       "    <tr style=\"text-align: right;\">\n",
       "      <th></th>\n",
       "      <th>Evolucao</th>\n",
       "    </tr>\n",
       "    <tr>\n",
       "      <th>Doenca Renal Cronica</th>\n",
       "      <th></th>\n",
       "    </tr>\n",
       "  </thead>\n",
       "  <tbody>\n",
       "    <tr>\n",
       "      <th>Doença renal crônica</th>\n",
       "      <td>1322</td>\n",
       "    </tr>\n",
       "  </tbody>\n",
       "</table>\n",
       "</div>"
      ],
      "text/plain": [
       "                      Evolucao\n",
       "Doenca Renal Cronica          \n",
       "Doença renal crônica      1322"
      ]
     },
     "execution_count": 14,
     "metadata": {},
     "output_type": "execute_result"
    }
   ],
   "source": [
    "temComorbidade_hospi = anos59_hospi.loc[anos59_hospi['Tem Comorbidade']=='Sim']\n",
    "temComorbidade_hospi = temComorbidade_hospi.groupby('Tem Comorbidade').count()\n",
    "temComorbidade_hospi = temComorbidade_hospi.drop(temComorbidade_hospi.columns[[0,1,2,3,4,5,6,7]],axis=1)\n",
    "doencaCardio_hospi = anos59_hospi.groupby('Doenca Cardiovascular').count()\n",
    "doencaCardio_hospi = doencaCardio_hospi.drop(doencaCardio_hospi.columns[[0,1,2,3,4,5,6,7]],axis=1)\n",
    "diabetesmellitus_hospi = anos59_hospi.groupby('Diabetes mellitus').count()\n",
    "diabetesmellitus_hospi = diabetesmellitus_hospi.drop(diabetesmellitus_hospi.columns[[0,1,2,3,4,5,6,7]],axis=1)\n",
    "obesidade_hospi = anos59_hospi.groupby('Obesidade').count()\n",
    "obesidade_hospi = obesidade_hospi.drop(obesidade_hospi.columns[[0,1,2,3,4,5,6,7]],axis=1)\n",
    "imunodeficiencia_hospi = anos59_hospi.groupby('Imunodeficiencia').count()\n",
    "imunodeficiencia_hospi = imunodeficiencia_hospi.drop(imunodeficiencia_hospi.columns[[0,1,2,3,4,5,6,7]],axis=1)\n",
    "renalCronica_hospi = anos59_hospi.groupby('Doenca Renal Cronica').count()\n",
    "renalCronica_hospi = renalCronica_hospi.drop(renalCronica_hospi.columns[[0,1,2,3,4,5,6,7]],axis=1)\n",
    "renalCronica_hospi"
   ]
  },
  {
   "cell_type": "code",
   "execution_count": 15,
   "metadata": {},
   "outputs": [
    {
     "data": {
      "text/plain": [
       "0    57700\n",
       "Name: Evolucao, dtype: int64"
      ]
     },
     "execution_count": 15,
     "metadata": {},
     "output_type": "execute_result"
    }
   ],
   "source": [
    "totalHospi_anos59 = filtrado.loc[filtrado['Faixa Etaria']=='20-59 anos']\n",
    "totalHospi_anos59 = totalHospi_anos59.loc[totalHospi_anos59['Houve internacao']=='Sim']\n",
    "totalHospi_anos59 = totalHospi_anos59.loc[totalHospi_anos59['Classificacao final']=='COVID-19']\n",
    "totalHospi_anos59 = totalHospi_anos59.groupby('Houve internacao').count()\n",
    "totalHospi_anos59 = totalHospi_anos59.drop(totalHospi_anos59.columns[[0,1,2,3,4,5,6,7]],axis=1)\n",
    "totalHospi_anos59 = totalHospi_anos59.reset_index()\n",
    "totalHospi_anos59 = totalHospi_anos59['Evolucao']\n",
    "totalHospi_anos59"
   ]
  },
  {
   "cell_type": "code",
   "execution_count": 16,
   "metadata": {},
   "outputs": [
    {
     "data": {
      "text/html": [
       "<div>\n",
       "<style scoped>\n",
       "    .dataframe tbody tr th:only-of-type {\n",
       "        vertical-align: middle;\n",
       "    }\n",
       "\n",
       "    .dataframe tbody tr th {\n",
       "        vertical-align: top;\n",
       "    }\n",
       "\n",
       "    .dataframe thead th {\n",
       "        text-align: right;\n",
       "    }\n",
       "</style>\n",
       "<table border=\"1\" class=\"dataframe\">\n",
       "  <thead>\n",
       "    <tr style=\"text-align: right;\">\n",
       "      <th></th>\n",
       "      <th>index</th>\n",
       "      <th>Evolucao</th>\n",
       "    </tr>\n",
       "  </thead>\n",
       "  <tbody>\n",
       "    <tr>\n",
       "      <th>0</th>\n",
       "      <td>Alguma comorbidade</td>\n",
       "      <td>32613</td>\n",
       "    </tr>\n",
       "    <tr>\n",
       "      <th>1</th>\n",
       "      <td>Doença cardiovascular</td>\n",
       "      <td>12106</td>\n",
       "    </tr>\n",
       "    <tr>\n",
       "      <th>2</th>\n",
       "      <td>Diabetes mellitus</td>\n",
       "      <td>8783</td>\n",
       "    </tr>\n",
       "    <tr>\n",
       "      <th>3</th>\n",
       "      <td>Obesidade</td>\n",
       "      <td>10383</td>\n",
       "    </tr>\n",
       "    <tr>\n",
       "      <th>4</th>\n",
       "      <td>Imunodeficiência</td>\n",
       "      <td>1762</td>\n",
       "    </tr>\n",
       "    <tr>\n",
       "      <th>5</th>\n",
       "      <td>Doença renal crônica</td>\n",
       "      <td>1322</td>\n",
       "    </tr>\n",
       "  </tbody>\n",
       "</table>\n",
       "</div>"
      ],
      "text/plain": [
       "                   index  Evolucao\n",
       "0     Alguma comorbidade     32613\n",
       "1  Doença cardiovascular     12106\n",
       "2      Diabetes mellitus      8783\n",
       "3              Obesidade     10383\n",
       "4       Imunodeficiência      1762\n",
       "5   Doença renal crônica      1322"
      ]
     },
     "execution_count": 16,
     "metadata": {},
     "output_type": "execute_result"
    }
   ],
   "source": [
    "juntaAnos59_hospi = temComorbidade_hospi.append(doencaCardio_hospi)\n",
    "juntaAnos59_hospi = juntaAnos59_hospi.append(diabetesmellitus_hospi)\n",
    "juntaAnos59_hospi = juntaAnos59_hospi.append(obesidade_hospi)\n",
    "juntaAnos59_hospi = juntaAnos59_hospi.append(imunodeficiencia_hospi)\n",
    "juntaAnos59_hospi = juntaAnos59_hospi.append(renalCronica_hospi)\n",
    "juntaAnos59_hospi = juntaAnos59_hospi.rename({'Sim':'Alguma comorbidade'})\n",
    "juntaAnos59_hospi = juntaAnos59_hospi.reset_index()\n",
    "juntaAnos59_hospi"
   ]
  },
  {
   "cell_type": "code",
   "execution_count": 17,
   "metadata": {},
   "outputs": [
    {
     "data": {
      "text/html": [
       "<div>\n",
       "<style scoped>\n",
       "    .dataframe tbody tr th:only-of-type {\n",
       "        vertical-align: middle;\n",
       "    }\n",
       "\n",
       "    .dataframe tbody tr th {\n",
       "        vertical-align: top;\n",
       "    }\n",
       "\n",
       "    .dataframe thead th {\n",
       "        text-align: right;\n",
       "    }\n",
       "</style>\n",
       "<table border=\"1\" class=\"dataframe\">\n",
       "  <thead>\n",
       "    <tr style=\"text-align: right;\">\n",
       "      <th></th>\n",
       "      <th>index</th>\n",
       "      <th>Evolucao</th>\n",
       "    </tr>\n",
       "  </thead>\n",
       "  <tbody>\n",
       "    <tr>\n",
       "      <th>0</th>\n",
       "      <td>Doença renal crônica</td>\n",
       "      <td>1322</td>\n",
       "    </tr>\n",
       "    <tr>\n",
       "      <th>1</th>\n",
       "      <td>Imunodeficiência</td>\n",
       "      <td>1762</td>\n",
       "    </tr>\n",
       "    <tr>\n",
       "      <th>2</th>\n",
       "      <td>Diabetes mellitus</td>\n",
       "      <td>8783</td>\n",
       "    </tr>\n",
       "    <tr>\n",
       "      <th>3</th>\n",
       "      <td>Obesidade</td>\n",
       "      <td>10383</td>\n",
       "    </tr>\n",
       "    <tr>\n",
       "      <th>4</th>\n",
       "      <td>Doença cardiovascular</td>\n",
       "      <td>12106</td>\n",
       "    </tr>\n",
       "    <tr>\n",
       "      <th>5</th>\n",
       "      <td>Alguma comorbidade</td>\n",
       "      <td>32613</td>\n",
       "    </tr>\n",
       "  </tbody>\n",
       "</table>\n",
       "</div>"
      ],
      "text/plain": [
       "                   index  Evolucao\n",
       "0   Doença renal crônica      1322\n",
       "1       Imunodeficiência      1762\n",
       "2      Diabetes mellitus      8783\n",
       "3              Obesidade     10383\n",
       "4  Doença cardiovascular     12106\n",
       "5     Alguma comorbidade     32613"
      ]
     },
     "execution_count": 17,
     "metadata": {},
     "output_type": "execute_result"
    }
   ],
   "source": [
    "ordenaAnos59_hospi = juntaAnos59_hospi.copy()\n",
    "ordenaAnos59_hospi.loc[0] = juntaAnos59_hospi.loc[5]\n",
    "ordenaAnos59_hospi.loc[1] = juntaAnos59_hospi.loc[4]\n",
    "ordenaAnos59_hospi.loc[2] = juntaAnos59_hospi.loc[2]\n",
    "ordenaAnos59_hospi.loc[3] = juntaAnos59_hospi.loc[3]\n",
    "ordenaAnos59_hospi.loc[4] = juntaAnos59_hospi.loc[1]\n",
    "ordenaAnos59_hospi.loc[5] = juntaAnos59_hospi.loc[0]\n",
    "ordenaAnos59_hospi"
   ]
  },
  {
   "cell_type": "code",
   "execution_count": 18,
   "metadata": {},
   "outputs": [],
   "source": [
    "divisao = pd.DataFrame(columns={'Valores'})\n",
    "for i in np.arange(0,len(ordenaAnos59_hospi),1):\n",
    "    divisao.loc[i] = totalHospi_anos59.loc[0]\n",
    "divisao = divisao.fillna(ordenaAnos59_hospi)"
   ]
  },
  {
   "cell_type": "code",
   "execution_count": 19,
   "metadata": {},
   "outputs": [
    {
     "data": {
      "text/plain": [
       "0     2.291161\n",
       "1     3.053726\n",
       "2    15.221837\n",
       "3    17.994801\n",
       "4    20.980936\n",
       "5    56.521664\n",
       "Name: Evolucao, dtype: object"
      ]
     },
     "execution_count": 19,
     "metadata": {},
     "output_type": "execute_result"
    }
   ],
   "source": [
    "calcula_anos59_hospi = ordenaAnos59_hospi['Evolucao']/divisao['Valores']*100\n",
    "calcula_anos59_hospi = calcula_anos59_hospi.to_frame()\n",
    "calcula_anos59_hospi = calcula_anos59_hospi.rename(columns={0:'Evolucao'})\n",
    "calcula_anos59_hospi = calcula_anos59_hospi['Evolucao']\n",
    "calcula_anos59_hospi"
   ]
  },
  {
   "cell_type": "code",
   "execution_count": 20,
   "metadata": {},
   "outputs": [],
   "source": [
    "comorbidade = ordenaAnos59_obito['index']"
   ]
  },
  {
   "cell_type": "code",
   "execution_count": 21,
   "metadata": {},
   "outputs": [],
   "source": [
    "legenda = pd.DataFrame(columns=['Óbito','Hospitalização'])"
   ]
  },
  {
   "cell_type": "code",
   "execution_count": 22,
   "metadata": {},
   "outputs": [
    {
     "data": {
      "text/plain": [
       "'Gráficos 18_2_2022'"
      ]
     },
     "execution_count": 22,
     "metadata": {},
     "output_type": "execute_result"
    }
   ],
   "source": [
    "pasta = r'Z:\\Graficos Boletim_Python'\n",
    "lista_arquivos = os.listdir(pasta)\n",
    "lista_datas = []\n",
    "\n",
    "for arquivo in lista_arquivos:\n",
    "    #Descobrir a data desse arquivo\n",
    "    data = os.path.getmtime(f'{pasta}/{arquivo}')\n",
    "    lista_datas.append((data,arquivo))\n",
    "\n",
    "lista_datas.sort(reverse=True) #Vai ordenar a lista em ordem decrescente com reverse=True Obs: Ele ordena sempre com o primeiro valor, por isso colocamos data antes de arquivo\n",
    "ultima_pasta = lista_datas[0][1] #Pega o ultimo arquivo\n",
    "ultima_pasta"
   ]
  },
  {
   "cell_type": "code",
   "execution_count": 23,
   "metadata": {},
   "outputs": [
    {
     "data": {
      "image/png": "[encoded data removed]",
      "text/plain": [
       "<Figure size 2160x720 with 1 Axes>"
      ]
     },
     "metadata": {
      "needs_background": "light"
     },
     "output_type": "display_data"
    }
   ],
   "source": [
    "plt.figure(figsize=(30,10))\n",
    "width=0.4\n",
    "plt.barh(comorbidade,calcula_anos59_obito,width,color='#8a3e4b')\n",
    "plt.barh(np.arange(0,np.size(comorbidade),1)-0.43,calcula_anos59_hospi,width,color='#b58d94')\n",
    "sns.despine()\n",
    "plt.xticks(np.arange(0,110,10),fontsize=25)\n",
    "plt.yticks(fontsize=25)\n",
    "plt.gca().set_xticklabels(['{:.0f}%'.format(x*1) for x in plt.gca().get_xticks()])\n",
    "plt.savefig(f'Z:/Graficos Boletim_Python/{ultima_pasta}/Slide14_20-59 anos.png',dpi=720,bbox_inches='tight')"
   ]
  },
  {
   "cell_type": "code",
   "execution_count": null,
   "metadata": {},
   "outputs": [],
   "source": []
  }
 ],
 "metadata": {
  "interpreter": {
   "hash": "1de187e5902025e922368a2d9f95ab7dc4a859d9f86e50683b5a6b0b3bf7ba31"
  },
  "kernelspec": {
   "display_name": "Python 3.9.7 64-bit ('base': conda)",
   "language": "python",
   "name": "python3"
  },
  "language_info": {
   "codemirror_mode": {
    "name": "ipython",
    "version": 3
   },
   "file_extension": ".py",
   "mimetype": "text/x-python",
   "name": "python",
   "nbconvert_exporter": "python",
   "pygments_lexer": "ipython3",
   "version": "3.9.7"
  },
  "orig_nbformat": 4
 },
 "nbformat": 4,
 "nbformat_minor": 2
}
